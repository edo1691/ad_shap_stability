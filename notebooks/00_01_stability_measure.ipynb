{
 "cells": [
  {
   "cell_type": "markdown",
   "id": "123c1709-aadd-4c93-a80a-0a0c44290983",
   "metadata": {},
   "source": [
    "# iForest"
   ]
  },
  {
   "cell_type": "code",
   "execution_count": 1,
   "id": "2520ef24",
   "metadata": {},
   "outputs": [],
   "source": [
    "import warnings\n",
    "warnings.filterwarnings('ignore')"
   ]
  },
  {
   "cell_type": "markdown",
   "id": "de633751",
   "metadata": {},
   "source": [
    "### Load enviroment variables"
   ]
  },
  {
   "cell_type": "code",
   "execution_count": 2,
   "id": "64a57d38",
   "metadata": {},
   "outputs": [],
   "source": [
    "import os\n",
    "import sys\n",
    "from dotenv import load_dotenv\n",
    "\n",
    "load_dotenv('../.env')\n",
    "\n",
    "code_root = os.environ['CODE_ROOT']\n",
    "cfg_path = os.environ['CFG_PATH']\n",
    "data_root = os.environ['DATA_ROOT']\n",
    "\n",
    "sys.path.insert(0, code_root)"
   ]
  },
  {
   "cell_type": "markdown",
   "id": "11e4854b-87bd-490e-88e4-9a64631dc5bb",
   "metadata": {
    "tags": []
   },
   "source": [
    "## General libraries"
   ]
  },
  {
   "cell_type": "code",
   "execution_count": 3,
   "id": "feba20a1-5d20-4127-888b-b0e4c72f4757",
   "metadata": {},
   "outputs": [],
   "source": [
    "import pandas as pd\n",
    "import numpy as np\n",
    "from os.path import join\n",
    "import json\n",
    "import datetime\n",
    "import shap\n",
    "\n",
    "from sklearn.ensemble import IsolationForest\n",
    "from sklearn.metrics import confusion_matrix\n",
    "\n",
    "import time"
   ]
  },
  {
   "cell_type": "markdown",
   "id": "b05d95f1-f731-426b-8b90-aebae7cf9c3d",
   "metadata": {},
   "source": [
    "## Specific libraries"
   ]
  },
  {
   "cell_type": "code",
   "execution_count": 4,
   "id": "4e7e6d2e-3ee6-4226-a54c-fdd013a40d39",
   "metadata": {},
   "outputs": [],
   "source": [
    "from src.stability.functions import local_stability_measure"
   ]
  },
  {
   "cell_type": "code",
   "execution_count": 27,
   "id": "f88f9f37",
   "metadata": {},
   "outputs": [],
   "source": [
    "# Set a seed for reproducibility\n",
    "seed = 123\n",
    "np.random.seed(seed)\n",
    "\n",
    "# Simulated data and settings\n",
    "ntr, nte, ft_col, iterations = 100, 3, 5, 10\n",
    "\n",
    "Xtr = np.random.randn(ntr, ft_col)  # Training data\n",
    "Xte = np.random.randn(nte, ft_col)  # Test data\n",
    "gamma = 0.146  # Just random criteria\n",
    "iterations=5\n",
    "\n",
    "# Initialize and train the IsolationForest model\n",
    "model = IsolationForest(random_state=seed)\n",
    "\n",
    "# Call your stability measure function\n",
    "local_scores, local_scores_list = local_stability_measure(\n",
    "    Xtr,\n",
    "    Xte,\n",
    "    model,\n",
    "    gamma,\n",
    "    iterations=iterations,\n",
    "    psi=0.8,\n",
    "    beta_flavor=2,  # pick from: 1, 2\n",
    "    subset_low=0.25,\n",
    "    subset_high=0.75,\n",
    ")"
   ]
  },
  {
   "cell_type": "code",
   "execution_count": 28,
   "id": "525529e5-6360-43ba-86ec-fb940cfdce70",
   "metadata": {},
   "outputs": [
    {
     "data": {
      "text/plain": [
       "array([0.93791819, 0.95478392, 0.99977198])"
      ]
     },
     "execution_count": 28,
     "metadata": {},
     "output_type": "execute_result"
    }
   ],
   "source": [
    "local_scores"
   ]
  },
  {
   "cell_type": "code",
   "execution_count": 29,
   "id": "25a3fbf7-5baf-4d36-977f-5a08f66661cc",
   "metadata": {},
   "outputs": [
    {
     "data": {
      "text/plain": [
       "array([[1.        , 0.99942995, 0.99942995, 0.84536552, 0.84536552],\n",
       "       [0.88752986, 0.88752986, 0.99942995, 1.        , 0.99942995],\n",
       "       [1.        , 0.99942995, 1.        , 0.99942995, 1.        ]])"
      ]
     },
     "execution_count": 29,
     "metadata": {},
     "output_type": "execute_result"
    }
   ],
   "source": [
    "local_scores_list"
   ]
  },
  {
   "cell_type": "code",
   "execution_count": null,
   "id": "2b4e426b-2a7f-49b0-9ac6-f9753d5f1bd2",
   "metadata": {},
   "outputs": [],
   "source": []
  }
 ],
 "metadata": {
  "environment": {
   "name": "common-cpu.m80",
   "type": "gcloud",
   "uri": "gcr.io/deeplearning-platform-release/base-cpu:m80"
  },
  "kernelspec": {
   "display_name": "Python 3 (ipykernel)",
   "language": "python",
   "name": "python3"
  },
  "language_info": {
   "codemirror_mode": {
    "name": "ipython",
    "version": 3
   },
   "file_extension": ".py",
   "mimetype": "text/x-python",
   "name": "python",
   "nbconvert_exporter": "python",
   "pygments_lexer": "ipython3",
   "version": "3.9.12"
  },
  "vscode": {
   "interpreter": {
    "hash": "c7bb90c4ec68b2a8968b0075ab0b1cb7a78770acf7a7acf2e36e903fa05bac64"
   }
  }
 },
 "nbformat": 4,
 "nbformat_minor": 5
}

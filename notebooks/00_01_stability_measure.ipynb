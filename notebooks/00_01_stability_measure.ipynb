{
 "cells": [
  {
   "cell_type": "markdown",
   "id": "123c1709-aadd-4c93-a80a-0a0c44290983",
   "metadata": {},
   "source": [
    "# iForest"
   ]
  },
  {
   "cell_type": "code",
   "execution_count": 1,
   "id": "2520ef24",
   "metadata": {},
   "outputs": [],
   "source": [
    "import warnings\n",
    "warnings.filterwarnings('ignore')"
   ]
  },
  {
   "cell_type": "markdown",
   "id": "de633751",
   "metadata": {},
   "source": [
    "### Load enviroment variables"
   ]
  },
  {
   "cell_type": "code",
   "execution_count": 2,
   "id": "64a57d38",
   "metadata": {},
   "outputs": [],
   "source": [
    "import os\n",
    "import sys\n",
    "from dotenv import load_dotenv\n",
    "\n",
    "load_dotenv('../.env')\n",
    "\n",
    "code_root = os.environ['CODE_ROOT']\n",
    "cfg_path = os.environ['CFG_PATH']\n",
    "data_root = os.environ['DATA_ROOT']\n",
    "\n",
    "sys.path.insert(0, code_root)"
   ]
  },
  {
   "cell_type": "markdown",
   "id": "11e4854b-87bd-490e-88e4-9a64631dc5bb",
   "metadata": {
    "tags": []
   },
   "source": [
    "## General libraries"
   ]
  },
  {
   "cell_type": "code",
   "execution_count": 3,
   "id": "feba20a1-5d20-4127-888b-b0e4c72f4757",
   "metadata": {},
   "outputs": [],
   "source": [
    "import pandas as pd\n",
    "import numpy as np\n",
    "from os.path import join\n",
    "import json\n",
    "import datetime\n",
    "import shap\n",
    "\n",
    "from sklearn.ensemble import IsolationForest\n",
    "from sklearn.metrics import classification_report, roc_auc_score\n",
    "from sklearn.model_selection import train_test_split\n",
    "\n",
    "import time"
   ]
  },
  {
   "cell_type": "markdown",
   "id": "b05d95f1-f731-426b-8b90-aebae7cf9c3d",
   "metadata": {},
   "source": [
    "## Specific libraries"
   ]
  },
  {
   "cell_type": "code",
   "execution_count": 4,
   "id": "4e7e6d2e-3ee6-4226-a54c-fdd013a40d39",
   "metadata": {},
   "outputs": [],
   "source": [
    "from src.load.functions import get_fs_dataset, fs_datasets_hyperparams\n",
    "\n",
    "from src.stability.functions import local_stability_measure"
   ]
  },
  {
   "cell_type": "markdown",
   "id": "7cb0044d-0efe-4e5e-be4d-4308c5368c7b",
   "metadata": {},
   "source": [
    "## Example local stability measure"
   ]
  },
  {
   "cell_type": "markdown",
   "id": "c61ee99b-a82b-49fa-842e-f9841d72a981",
   "metadata": {},
   "source": [
    "### Parameters"
   ]
  },
  {
   "cell_type": "code",
   "execution_count": 5,
   "id": "a5528651-f499-4157-91e2-594b9a6bde19",
   "metadata": {},
   "outputs": [],
   "source": [
    "# Set a seed for reproducibility\n",
    "seed = 123\n",
    "np.random.seed(seed)\n",
    "\n",
    "dataset_id = 'example'\n",
    "df = get_fs_dataset(dataset_id, data_root)\n",
    "hyper = fs_datasets_hyperparams(dataset_id)"
   ]
  },
  {
   "cell_type": "code",
   "execution_count": 6,
   "id": "320c7dbb-7cbd-4b0c-b760-e68fa02c740b",
   "metadata": {},
   "outputs": [
    {
     "data": {
      "text/plain": [
       "{'contamination': 0.1, 'max_samples': 'auto', 'n_estimators': 100}"
      ]
     },
     "execution_count": 6,
     "metadata": {},
     "output_type": "execute_result"
    }
   ],
   "source": [
    "hyper"
   ]
  },
  {
   "cell_type": "code",
   "execution_count": 7,
   "id": "b8a423b6-c985-432c-a223-911470182c84",
   "metadata": {},
   "outputs": [
    {
     "data": {
      "text/html": [
       "<div>\n",
       "<style scoped>\n",
       "    .dataframe tbody tr th:only-of-type {\n",
       "        vertical-align: middle;\n",
       "    }\n",
       "\n",
       "    .dataframe tbody tr th {\n",
       "        vertical-align: top;\n",
       "    }\n",
       "\n",
       "    .dataframe thead th {\n",
       "        text-align: right;\n",
       "    }\n",
       "</style>\n",
       "<table border=\"1\" class=\"dataframe\">\n",
       "  <thead>\n",
       "    <tr style=\"text-align: right;\">\n",
       "      <th></th>\n",
       "      <th>feature_1</th>\n",
       "      <th>feature_2</th>\n",
       "      <th>feature_3</th>\n",
       "      <th>feature_4</th>\n",
       "      <th>feature_5</th>\n",
       "      <th>y</th>\n",
       "    </tr>\n",
       "  </thead>\n",
       "  <tbody>\n",
       "    <tr>\n",
       "      <th>0</th>\n",
       "      <td>-1.085631</td>\n",
       "      <td>0.997345</td>\n",
       "      <td>0.282978</td>\n",
       "      <td>-1.506295</td>\n",
       "      <td>-0.578600</td>\n",
       "      <td>1</td>\n",
       "    </tr>\n",
       "    <tr>\n",
       "      <th>1</th>\n",
       "      <td>1.651437</td>\n",
       "      <td>-2.426679</td>\n",
       "      <td>-0.428913</td>\n",
       "      <td>1.265936</td>\n",
       "      <td>-0.866740</td>\n",
       "      <td>1</td>\n",
       "    </tr>\n",
       "    <tr>\n",
       "      <th>2</th>\n",
       "      <td>-0.678886</td>\n",
       "      <td>-0.094709</td>\n",
       "      <td>1.491390</td>\n",
       "      <td>-0.638902</td>\n",
       "      <td>-0.443982</td>\n",
       "      <td>0</td>\n",
       "    </tr>\n",
       "    <tr>\n",
       "      <th>3</th>\n",
       "      <td>-0.434351</td>\n",
       "      <td>2.205930</td>\n",
       "      <td>2.186786</td>\n",
       "      <td>1.004054</td>\n",
       "      <td>0.386186</td>\n",
       "      <td>1</td>\n",
       "    </tr>\n",
       "    <tr>\n",
       "      <th>4</th>\n",
       "      <td>0.737369</td>\n",
       "      <td>1.490732</td>\n",
       "      <td>-0.935834</td>\n",
       "      <td>1.175829</td>\n",
       "      <td>-1.253881</td>\n",
       "      <td>0</td>\n",
       "    </tr>\n",
       "  </tbody>\n",
       "</table>\n",
       "</div>"
      ],
      "text/plain": [
       "   feature_1  feature_2  feature_3  feature_4  feature_5  y\n",
       "0  -1.085631   0.997345   0.282978  -1.506295  -0.578600  1\n",
       "1   1.651437  -2.426679  -0.428913   1.265936  -0.866740  1\n",
       "2  -0.678886  -0.094709   1.491390  -0.638902  -0.443982  0\n",
       "3  -0.434351   2.205930   2.186786   1.004054   0.386186  1\n",
       "4   0.737369   1.490732  -0.935834   1.175829  -1.253881  0"
      ]
     },
     "execution_count": 7,
     "metadata": {},
     "output_type": "execute_result"
    }
   ],
   "source": [
    "df.head()"
   ]
  },
  {
   "cell_type": "markdown",
   "id": "07ed4905-26ce-4c34-b6d3-bcbcc066c002",
   "metadata": {},
   "source": [
    "### Generate data"
   ]
  },
  {
   "cell_type": "code",
   "execution_count": 8,
   "id": "98743549-51f8-44ba-8d8e-f64142536aa7",
   "metadata": {},
   "outputs": [],
   "source": [
    "# Simulated data and settings\n",
    "gamma, iterations = 0.146, 10\n",
    "\n",
    "# Split the DataFrame into features (X) and target (y)\n",
    "X = df.drop('y', axis=1)  # Features (all columns except 'y')\n",
    "y = df['y']  # Target (the 'y' column)\n",
    "\n",
    "# Split into training and testing sets\n",
    "xtr, xte , ytr, yte = train_test_split(X, y, test_size=0.1, random_state=seed)"
   ]
  },
  {
   "cell_type": "markdown",
   "id": "784b8e9c-ee9a-402a-9bd7-baa90937fed1",
   "metadata": {},
   "source": [
    "### Generate Model"
   ]
  },
  {
   "cell_type": "code",
   "execution_count": 9,
   "id": "349eb94c-e0ed-429e-884a-3e945899c014",
   "metadata": {},
   "outputs": [
    {
     "data": {
      "text/html": [
       "<style>#sk-container-id-1 {color: black;}#sk-container-id-1 pre{padding: 0;}#sk-container-id-1 div.sk-toggleable {background-color: white;}#sk-container-id-1 label.sk-toggleable__label {cursor: pointer;display: block;width: 100%;margin-bottom: 0;padding: 0.3em;box-sizing: border-box;text-align: center;}#sk-container-id-1 label.sk-toggleable__label-arrow:before {content: \"▸\";float: left;margin-right: 0.25em;color: #696969;}#sk-container-id-1 label.sk-toggleable__label-arrow:hover:before {color: black;}#sk-container-id-1 div.sk-estimator:hover label.sk-toggleable__label-arrow:before {color: black;}#sk-container-id-1 div.sk-toggleable__content {max-height: 0;max-width: 0;overflow: hidden;text-align: left;background-color: #f0f8ff;}#sk-container-id-1 div.sk-toggleable__content pre {margin: 0.2em;color: black;border-radius: 0.25em;background-color: #f0f8ff;}#sk-container-id-1 input.sk-toggleable__control:checked~div.sk-toggleable__content {max-height: 200px;max-width: 100%;overflow: auto;}#sk-container-id-1 input.sk-toggleable__control:checked~label.sk-toggleable__label-arrow:before {content: \"▾\";}#sk-container-id-1 div.sk-estimator input.sk-toggleable__control:checked~label.sk-toggleable__label {background-color: #d4ebff;}#sk-container-id-1 div.sk-label input.sk-toggleable__control:checked~label.sk-toggleable__label {background-color: #d4ebff;}#sk-container-id-1 input.sk-hidden--visually {border: 0;clip: rect(1px 1px 1px 1px);clip: rect(1px, 1px, 1px, 1px);height: 1px;margin: -1px;overflow: hidden;padding: 0;position: absolute;width: 1px;}#sk-container-id-1 div.sk-estimator {font-family: monospace;background-color: #f0f8ff;border: 1px dotted black;border-radius: 0.25em;box-sizing: border-box;margin-bottom: 0.5em;}#sk-container-id-1 div.sk-estimator:hover {background-color: #d4ebff;}#sk-container-id-1 div.sk-parallel-item::after {content: \"\";width: 100%;border-bottom: 1px solid gray;flex-grow: 1;}#sk-container-id-1 div.sk-label:hover label.sk-toggleable__label {background-color: #d4ebff;}#sk-container-id-1 div.sk-serial::before {content: \"\";position: absolute;border-left: 1px solid gray;box-sizing: border-box;top: 0;bottom: 0;left: 50%;z-index: 0;}#sk-container-id-1 div.sk-serial {display: flex;flex-direction: column;align-items: center;background-color: white;padding-right: 0.2em;padding-left: 0.2em;position: relative;}#sk-container-id-1 div.sk-item {position: relative;z-index: 1;}#sk-container-id-1 div.sk-parallel {display: flex;align-items: stretch;justify-content: center;background-color: white;position: relative;}#sk-container-id-1 div.sk-item::before, #sk-container-id-1 div.sk-parallel-item::before {content: \"\";position: absolute;border-left: 1px solid gray;box-sizing: border-box;top: 0;bottom: 0;left: 50%;z-index: -1;}#sk-container-id-1 div.sk-parallel-item {display: flex;flex-direction: column;z-index: 1;position: relative;background-color: white;}#sk-container-id-1 div.sk-parallel-item:first-child::after {align-self: flex-end;width: 50%;}#sk-container-id-1 div.sk-parallel-item:last-child::after {align-self: flex-start;width: 50%;}#sk-container-id-1 div.sk-parallel-item:only-child::after {width: 0;}#sk-container-id-1 div.sk-dashed-wrapped {border: 1px dashed gray;margin: 0 0.4em 0.5em 0.4em;box-sizing: border-box;padding-bottom: 0.4em;background-color: white;}#sk-container-id-1 div.sk-label label {font-family: monospace;font-weight: bold;display: inline-block;line-height: 1.2em;}#sk-container-id-1 div.sk-label-container {text-align: center;}#sk-container-id-1 div.sk-container {/* jupyter's `normalize.less` sets `[hidden] { display: none; }` but bootstrap.min.css set `[hidden] { display: none !important; }` so we also need the `!important` here to be able to override the default hidden behavior on the sphinx rendered scikit-learn.org. See: https://github.com/scikit-learn/scikit-learn/issues/21755 */display: inline-block !important;position: relative;}#sk-container-id-1 div.sk-text-repr-fallback {display: none;}</style><div id=\"sk-container-id-1\" class=\"sk-top-container\"><div class=\"sk-text-repr-fallback\"><pre>IsolationForest(contamination=0.1, random_state=123)</pre><b>In a Jupyter environment, please rerun this cell to show the HTML representation or trust the notebook. <br />On GitHub, the HTML representation is unable to render, please try loading this page with nbviewer.org.</b></div><div class=\"sk-container\" hidden><div class=\"sk-item\"><div class=\"sk-estimator sk-toggleable\"><input class=\"sk-toggleable__control sk-hidden--visually\" id=\"sk-estimator-id-1\" type=\"checkbox\" checked><label for=\"sk-estimator-id-1\" class=\"sk-toggleable__label sk-toggleable__label-arrow\">IsolationForest</label><div class=\"sk-toggleable__content\"><pre>IsolationForest(contamination=0.1, random_state=123)</pre></div></div></div></div></div>"
      ],
      "text/plain": [
       "IsolationForest(contamination=0.1, random_state=123)"
      ]
     },
     "execution_count": 9,
     "metadata": {},
     "output_type": "execute_result"
    }
   ],
   "source": [
    "# Initialize and train the IsolationForest model\n",
    "model = IsolationForest(**hyper, random_state=seed)\n",
    "model.fit(xtr)"
   ]
  },
  {
   "cell_type": "markdown",
   "id": "9a4ae763-8d72-406e-9329-dcd3b70fb666",
   "metadata": {},
   "source": [
    "### Traditional Metrics"
   ]
  },
  {
   "cell_type": "code",
   "execution_count": 10,
   "id": "35829d29-f4db-4249-bf84-33b834fd3e77",
   "metadata": {},
   "outputs": [],
   "source": [
    "# Prediction\n",
    "y_pred = model.predict(xtr)\n",
    "y_scores = -model.score_samples(xtr)\n",
    "y_decision = -model.decision_function(xtr)\n",
    "\n",
    "# Create a new DataFrame with the same index as xtr\n",
    "df_predictions = pd.DataFrame({\n",
    "    'y_pred': y_pred,\n",
    "    'y_scores': y_scores,\n",
    "    'y_decision': y_decision,\n",
    "    'y_real': ytr\n",
    "}, index=xtr.index)\n",
    "\n",
    "df_predictions['y_pred'] = df_predictions['y_pred'].apply(lambda x: 1 if x == -1 else 0)"
   ]
  },
  {
   "cell_type": "code",
   "execution_count": 11,
   "id": "6a17e8a4-a73d-4035-8276-417a09b03450",
   "metadata": {},
   "outputs": [
    {
     "data": {
      "text/html": [
       "<div>\n",
       "<style scoped>\n",
       "    .dataframe tbody tr th:only-of-type {\n",
       "        vertical-align: middle;\n",
       "    }\n",
       "\n",
       "    .dataframe tbody tr th {\n",
       "        vertical-align: top;\n",
       "    }\n",
       "\n",
       "    .dataframe thead th {\n",
       "        text-align: right;\n",
       "    }\n",
       "</style>\n",
       "<table border=\"1\" class=\"dataframe\">\n",
       "  <thead>\n",
       "    <tr style=\"text-align: right;\">\n",
       "      <th></th>\n",
       "      <th>y_pred</th>\n",
       "      <th>y_scores</th>\n",
       "      <th>y_decision</th>\n",
       "      <th>y_real</th>\n",
       "    </tr>\n",
       "  </thead>\n",
       "  <tbody>\n",
       "    <tr>\n",
       "      <th>23</th>\n",
       "      <td>1</td>\n",
       "      <td>0.529899</td>\n",
       "      <td>0.007683</td>\n",
       "      <td>0</td>\n",
       "    </tr>\n",
       "    <tr>\n",
       "      <th>65</th>\n",
       "      <td>0</td>\n",
       "      <td>0.446381</td>\n",
       "      <td>-0.075835</td>\n",
       "      <td>1</td>\n",
       "    </tr>\n",
       "    <tr>\n",
       "      <th>76</th>\n",
       "      <td>0</td>\n",
       "      <td>0.428388</td>\n",
       "      <td>-0.093828</td>\n",
       "      <td>0</td>\n",
       "    </tr>\n",
       "    <tr>\n",
       "      <th>60</th>\n",
       "      <td>0</td>\n",
       "      <td>0.400126</td>\n",
       "      <td>-0.122089</td>\n",
       "      <td>1</td>\n",
       "    </tr>\n",
       "    <tr>\n",
       "      <th>24</th>\n",
       "      <td>0</td>\n",
       "      <td>0.447465</td>\n",
       "      <td>-0.074751</td>\n",
       "      <td>1</td>\n",
       "    </tr>\n",
       "  </tbody>\n",
       "</table>\n",
       "</div>"
      ],
      "text/plain": [
       "    y_pred  y_scores  y_decision  y_real\n",
       "23       1  0.529899    0.007683       0\n",
       "65       0  0.446381   -0.075835       1\n",
       "76       0  0.428388   -0.093828       0\n",
       "60       0  0.400126   -0.122089       1\n",
       "24       0  0.447465   -0.074751       1"
      ]
     },
     "execution_count": 11,
     "metadata": {},
     "output_type": "execute_result"
    }
   ],
   "source": [
    "df_predictions.head()"
   ]
  },
  {
   "cell_type": "code",
   "execution_count": 12,
   "id": "039d9df1-062f-45d7-93d5-70aa49850f6d",
   "metadata": {},
   "outputs": [],
   "source": [
    "roc_auc = roc_auc_score(df_predictions.y_real, df_predictions.y_decision)"
   ]
  },
  {
   "cell_type": "code",
   "execution_count": 13,
   "id": "b7b75d6d-e566-454b-9e1c-0acdf63ee70d",
   "metadata": {},
   "outputs": [],
   "source": [
    "report = classification_report(df_predictions.y_real, df_predictions.y_pred, target_names=['Normal', 'Anomaly'], output_dict=True)"
   ]
  },
  {
   "cell_type": "markdown",
   "id": "232ff6ac-6b7a-4df7-a8dc-cda514ea421c",
   "metadata": {},
   "source": [
    "### Local stability index"
   ]
  },
  {
   "cell_type": "code",
   "execution_count": 14,
   "id": "89eef73a-083e-4485-8943-34f367ba1a3d",
   "metadata": {},
   "outputs": [],
   "source": [
    "# Call your stability measure function\n",
    "local_scores, local_scores_list, ranking = local_stability_measure(\n",
    "    xtr,\n",
    "    xte,\n",
    "    model,\n",
    "    gamma,\n",
    "    iterations=iterations,\n",
    "    psi=0.8,\n",
    "    beta_flavor=2,  # pick from: 1, 2\n",
    "    subset_low=0.25,\n",
    "    subset_high=0.75,\n",
    "    rank_method=True\n",
    ")"
   ]
  },
  {
   "cell_type": "code",
   "execution_count": 15,
   "id": "49c135e3-e933-4527-9c1a-5623d5e89b56",
   "metadata": {},
   "outputs": [
    {
     "data": {
      "text/plain": [
       "array([0.89814815, 0.90481481, 0.83333333, 0.80703704, 0.69259259,\n",
       "       0.89296296, 0.85037037, 0.70407407, 0.78518519, 0.67888889])"
      ]
     },
     "execution_count": 15,
     "metadata": {},
     "output_type": "execute_result"
    }
   ],
   "source": [
    "local_scores"
   ]
  },
  {
   "cell_type": "code",
   "execution_count": 16,
   "id": "75c8f23a-351d-4c57-baa9-795d958bdc13",
   "metadata": {},
   "outputs": [
    {
     "data": {
      "text/plain": [
       "array([[0.85185185, 1.        , 0.83333333, 0.86111111, 0.94444444],\n",
       "       [0.88888889, 0.94444444, 0.82962963, 0.88888889, 0.97222222],\n",
       "       [0.83333333, 0.68518519, 0.72222222, 0.92592593, 1.        ],\n",
       "       [0.92592593, 0.88888889, 0.83333333, 0.80555556, 0.58148148],\n",
       "       [0.74074074, 0.7962963 , 0.65740741, 0.37222222, 0.8962963 ],\n",
       "       [0.81481481, 0.78888889, 1.        , 0.97222222, 0.88888889],\n",
       "       [0.77777778, 0.75      , 0.89814815, 0.94444444, 0.88148148],\n",
       "       [0.94444444, 0.81481481, 0.69444444, 0.84444444, 0.22222222],\n",
       "       [0.83333333, 1.        , 0.61111111, 0.77777778, 0.7037037 ],\n",
       "       [0.55555556, 0.87407407, 0.64814815, 0.56111111, 0.75555556]])"
      ]
     },
     "execution_count": 16,
     "metadata": {},
     "output_type": "execute_result"
    }
   ],
   "source": [
    "local_scores_list"
   ]
  },
  {
   "cell_type": "code",
   "execution_count": 17,
   "id": "2b4e426b-2a7f-49b0-9ac6-f9753d5f1bd2",
   "metadata": {},
   "outputs": [],
   "source": [
    "metrics_dict = {\n",
    "    'f1-score': report['Anomaly']['f1-score'],\n",
    "    'recall': report['Anomaly']['recall'],\n",
    "    'precision': report['Anomaly']['precision'],\n",
    "    'roc_auc': roc_auc,\n",
    "    'smli': local_scores.mean(),\n",
    "}"
   ]
  },
  {
   "cell_type": "code",
   "execution_count": 18,
   "id": "87ec9118-d787-44fa-9dc5-c880de981f31",
   "metadata": {},
   "outputs": [
    {
     "data": {
      "text/plain": [
       "{'f1-score': 0.24,\n",
       " 'recall': 0.14634146341463414,\n",
       " 'precision': 0.6666666666666666,\n",
       " 'roc_auc': 0.5156794425087108,\n",
       " 'smli': 0.8047407407407408}"
      ]
     },
     "execution_count": 18,
     "metadata": {},
     "output_type": "execute_result"
    }
   ],
   "source": [
    "metrics_dict"
   ]
  }
 ],
 "metadata": {
  "environment": {
   "name": "common-cpu.m80",
   "type": "gcloud",
   "uri": "gcr.io/deeplearning-platform-release/base-cpu:m80"
  },
  "kernelspec": {
   "display_name": "Python 3 (ipykernel)",
   "language": "python",
   "name": "python3"
  },
  "language_info": {
   "codemirror_mode": {
    "name": "ipython",
    "version": 3
   },
   "file_extension": ".py",
   "mimetype": "text/x-python",
   "name": "python",
   "nbconvert_exporter": "python",
   "pygments_lexer": "ipython3",
   "version": "3.9.12"
  },
  "vscode": {
   "interpreter": {
    "hash": "c7bb90c4ec68b2a8968b0075ab0b1cb7a78770acf7a7acf2e36e903fa05bac64"
   }
  }
 },
 "nbformat": 4,
 "nbformat_minor": 5
}

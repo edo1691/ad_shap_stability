{
 "cells": [
  {
   "cell_type": "markdown",
   "id": "123c1709-aadd-4c93-a80a-0a0c44290983",
   "metadata": {},
   "source": [
    "# iForest"
   ]
  },
  {
   "cell_type": "code",
   "execution_count": 1,
   "id": "2520ef24",
   "metadata": {},
   "outputs": [],
   "source": [
    "import warnings\n",
    "warnings.filterwarnings('ignore')"
   ]
  },
  {
   "cell_type": "markdown",
   "id": "11e4854b-87bd-490e-88e4-9a64631dc5bb",
   "metadata": {
    "tags": []
   },
   "source": [
    "## General libraries"
   ]
  },
  {
   "cell_type": "code",
   "execution_count": 2,
   "id": "feba20a1-5d20-4127-888b-b0e4c72f4757",
   "metadata": {},
   "outputs": [],
   "source": [
    "import os\n",
    "import sys\n",
    "\n",
    "import pandas as pd\n",
    "import numpy as np\n",
    "\n",
    "from os.path import join\n",
    "import json\n",
    "import datetime\n",
    "\n",
    "import shap\n",
    "from shap_selection import feature_selection\n",
    "\n",
    "import time"
   ]
  },
  {
   "cell_type": "markdown",
   "id": "de633751",
   "metadata": {},
   "source": [
    "### Load enviroment variables"
   ]
  },
  {
   "cell_type": "code",
   "execution_count": 3,
   "id": "64a57d38",
   "metadata": {},
   "outputs": [],
   "source": [
    "from dotenv import load_dotenv\n",
    "load_dotenv('../.env')\n",
    "\n",
    "code_root = os.environ['CODE_ROOT']\n",
    "cfg_path = os.environ['CFG_PATH']\n",
    "data_root = os.environ['DATA_ROOT']\n",
    "\n",
    "sys.path.insert(0, code_root)"
   ]
  },
  {
   "cell_type": "markdown",
   "id": "6d1ee99b-97d7-4059-b242-380656087497",
   "metadata": {},
   "source": [
    "### Specific libraries"
   ]
  },
  {
   "cell_type": "code",
   "execution_count": 4,
   "id": "b670745e",
   "metadata": {},
   "outputs": [],
   "source": [
    "from src.load.functions import get_fs_dataset, fs_datasets_hyperparams\n",
    "from src.feature_selection.functions import fs_iforest_with_shap, shap_ranks, process_fi"
   ]
  },
  {
   "cell_type": "markdown",
   "id": "5c360966",
   "metadata": {},
   "source": [
    "## General parameters"
   ]
  },
  {
   "cell_type": "code",
   "execution_count": 5,
   "id": "27ef64e3",
   "metadata": {},
   "outputs": [],
   "source": [
    "n_iter_fs = 1\n",
    "n_iter = 1\n",
    "contamination_percentage = [0.8] \n",
    "trees = [25, 50, 100]\n",
    "group = 0\n",
    "\n",
    "# Function to calculate median of a list\n",
    "def calculate_median(numbers_list):\n",
    "    return np.median(numbers_list)\n",
    "\n",
    "# Function to calculate mean of a list\n",
    "def calculate_mean(numbers_list):\n",
    "    return np.mean(numbers_list)\n",
    "\n",
    "# Define aggregation criteria for each variable\n",
    "aggregation_rules = {\n",
    "    'n_iter': 'max',\n",
    "    'n_iter_fs': 'max',\n",
    "    'f1_median': 'mean',\n",
    "    'recall_median': 'mean',\n",
    "    'precision_median': 'mean',\n",
    "    'roc_auc': 'mean',\n",
    "    'iforest_stab_unif_median': 'median',\n",
    "    'shap_stab_median': 'median',\n",
    "    'shap_stab_mean': 'mean',\n",
    "}"
   ]
  },
  {
   "cell_type": "markdown",
   "id": "b7db27ee-405e-4faa-a7e9-6b8cdf41d437",
   "metadata": {
    "tags": []
   },
   "source": [
    "## Arrhythmia"
   ]
  },
  {
   "cell_type": "markdown",
   "id": "70f383d5",
   "metadata": {},
   "source": [
    "**Dataset source**: http://odds.cs.stonybrook.edu/arrhythmia-dataset/ (data is transformed from .mat to .csv format)\n",
    "\n",
    "Shebuti Rayana (2016). ODDS Library [http://odds.cs.stonybrook.edu]. Stony Brook, NY: Stony Brook University, Department of Computer Science.\n",
    "\n",
    "**Additional sources**:\n",
    "\n",
    "Liu, Fei Tony, Kai Ming Ting, and Zhi-Hua Zhou. “Isolation forest.” 2008 Eighth IEEE International Conference on Data Mining. IEEE, 2008.\n",
    "\n",
    "K. M. Ting, J. T. S. Chuan, and F. T. Liu. “Mass: A New Ranking Measure for Anomaly Detection.“, IEEE Transactions on Knowledge and Data Engineering, 2009.\n",
    "\n",
    "F. Keller, E. Muller, K. Bohm.“HiCS: High-contrast subspaces for density-based outlier ranking.” ICDE, 2012."
   ]
  },
  {
   "cell_type": "code",
   "execution_count": 6,
   "id": "4a527899-7fe8-4aea-80f8-2e0447fde772",
   "metadata": {},
   "outputs": [],
   "source": [
    "dataset_id = 'arrhythmia'"
   ]
  },
  {
   "cell_type": "code",
   "execution_count": 7,
   "id": "97f1d076",
   "metadata": {},
   "outputs": [],
   "source": [
    "data = get_fs_dataset(dataset_id, data_root)"
   ]
  },
  {
   "cell_type": "code",
   "execution_count": 8,
   "id": "76666a27-50e4-4926-aec3-bc7d0303f482",
   "metadata": {},
   "outputs": [],
   "source": [
    "hyper = fs_datasets_hyperparams(dataset_id)"
   ]
  },
  {
   "cell_type": "code",
   "execution_count": 9,
   "id": "7a470d6c-c28d-4798-aec0-2361530d8bf8",
   "metadata": {},
   "outputs": [
    {
     "data": {
      "text/plain": [
       "(452, 275)"
      ]
     },
     "execution_count": 9,
     "metadata": {},
     "output_type": "execute_result"
    }
   ],
   "source": [
    "data.shape"
   ]
  },
  {
   "cell_type": "code",
   "execution_count": 10,
   "id": "937686a7-6d97-4ed0-890a-4575bd4403f9",
   "metadata": {},
   "outputs": [
    {
     "data": {
      "text/html": [
       "<div>\n",
       "<style scoped>\n",
       "    .dataframe tbody tr th:only-of-type {\n",
       "        vertical-align: middle;\n",
       "    }\n",
       "\n",
       "    .dataframe tbody tr th {\n",
       "        vertical-align: top;\n",
       "    }\n",
       "\n",
       "    .dataframe thead th {\n",
       "        text-align: right;\n",
       "    }\n",
       "</style>\n",
       "<table border=\"1\" class=\"dataframe\">\n",
       "  <thead>\n",
       "    <tr style=\"text-align: right;\">\n",
       "      <th></th>\n",
       "      <th>Col1</th>\n",
       "    </tr>\n",
       "    <tr>\n",
       "      <th>y</th>\n",
       "      <th></th>\n",
       "    </tr>\n",
       "  </thead>\n",
       "  <tbody>\n",
       "    <tr>\n",
       "      <th>0</th>\n",
       "      <td>386</td>\n",
       "    </tr>\n",
       "    <tr>\n",
       "      <th>1</th>\n",
       "      <td>66</td>\n",
       "    </tr>\n",
       "  </tbody>\n",
       "</table>\n",
       "</div>"
      ],
      "text/plain": [
       "   Col1\n",
       "y      \n",
       "0   386\n",
       "1    66"
      ]
     },
     "execution_count": 10,
     "metadata": {},
     "output_type": "execute_result"
    }
   ],
   "source": [
    "pd.pivot_table(data,\n",
    "             values = 'Col1',\n",
    "               index = 'y', \n",
    "              aggfunc = 'count')"
   ]
  },
  {
   "cell_type": "code",
   "execution_count": 11,
   "id": "6a540a60-dc06-477f-acda-ac0d564fb5ee",
   "metadata": {},
   "outputs": [],
   "source": [
    "excluded_cols = ['Col15', 'Col63', 'Col65', 'Col79', 'Col127', 'Col128','Col135', 'Col137', 'Col139','Col141','Col147', 'Col152', 'Col153', 'Col160', 'Col200', 'Col260', 'Col270']"
   ]
  },
  {
   "cell_type": "markdown",
   "id": "72d0f5e9-900d-4121-9d91-3b201911e14f",
   "metadata": {
    "jp-MarkdownHeadingCollapsed": true,
    "tags": []
   },
   "source": [
    "### iForest"
   ]
  },
  {
   "cell_type": "markdown",
   "id": "f6a16e2a",
   "metadata": {},
   "source": [
    "## Parameters"
   ]
  },
  {
   "cell_type": "code",
   "execution_count": 12,
   "id": "761a8dd4",
   "metadata": {},
   "outputs": [],
   "source": [
    "path_fi_shap = os.path.join(data_root, \"outputs\", f\"{dataset_id}_fi_shap\")"
   ]
  },
  {
   "cell_type": "markdown",
   "id": "ae171188",
   "metadata": {},
   "source": [
    "## Feature selection by SHAP"
   ]
  },
  {
   "cell_type": "code",
   "execution_count": 13,
   "id": "68267356",
   "metadata": {},
   "outputs": [],
   "source": [
    "fs_shap, fi_shap, _ = fs_iforest_with_shap(data, contamination_percentage=contamination_percentage, excluded_cols=excluded_cols, n_iter_fs=n_iter_fs)"
   ]
  },
  {
   "cell_type": "code",
   "execution_count": 14,
   "id": "51916fb6",
   "metadata": {},
   "outputs": [],
   "source": [
    "fi_shap_all = process_fi(fi_shap, 10)"
   ]
  },
  {
   "cell_type": "code",
   "execution_count": 15,
   "id": "cefd91ff-8a59-49bd-8c53-19dac027d7c6",
   "metadata": {},
   "outputs": [
    {
     "data": {
      "text/html": [
       "<div>\n",
       "<style scoped>\n",
       "    .dataframe tbody tr th:only-of-type {\n",
       "        vertical-align: middle;\n",
       "    }\n",
       "\n",
       "    .dataframe tbody tr th {\n",
       "        vertical-align: top;\n",
       "    }\n",
       "\n",
       "    .dataframe thead th {\n",
       "        text-align: right;\n",
       "    }\n",
       "</style>\n",
       "<table border=\"1\" class=\"dataframe\">\n",
       "  <thead>\n",
       "    <tr style=\"text-align: right;\">\n",
       "      <th></th>\n",
       "      <th>n_feats</th>\n",
       "      <th>cum_value</th>\n",
       "      <th>cum_value_percentage</th>\n",
       "      <th>n_feats_percentage</th>\n",
       "      <th>feat_selected</th>\n",
       "    </tr>\n",
       "  </thead>\n",
       "  <tbody>\n",
       "    <tr>\n",
       "      <th>0</th>\n",
       "      <td>8</td>\n",
       "      <td>0.290400</td>\n",
       "      <td>9.930181</td>\n",
       "      <td>3.404255</td>\n",
       "      <td>[Col88, Col216, Col197, Col177, Col106, Col40,...</td>\n",
       "    </tr>\n",
       "    <tr>\n",
       "      <th>1</th>\n",
       "      <td>18</td>\n",
       "      <td>0.592406</td>\n",
       "      <td>20.257248</td>\n",
       "      <td>7.659574</td>\n",
       "      <td>[Col88, Col216, Col197, Col177, Col106, Col40,...</td>\n",
       "    </tr>\n",
       "    <tr>\n",
       "      <th>2</th>\n",
       "      <td>29</td>\n",
       "      <td>0.888173</td>\n",
       "      <td>30.370954</td>\n",
       "      <td>12.340426</td>\n",
       "      <td>[Col88, Col216, Col197, Col177, Col106, Col40,...</td>\n",
       "    </tr>\n",
       "    <tr>\n",
       "      <th>3</th>\n",
       "      <td>42</td>\n",
       "      <td>1.179028</td>\n",
       "      <td>40.316713</td>\n",
       "      <td>17.872340</td>\n",
       "      <td>[Col88, Col216, Col197, Col177, Col106, Col40,...</td>\n",
       "    </tr>\n",
       "    <tr>\n",
       "      <th>4</th>\n",
       "      <td>57</td>\n",
       "      <td>1.471199</td>\n",
       "      <td>50.307466</td>\n",
       "      <td>24.255319</td>\n",
       "      <td>[Col88, Col216, Col197, Col177, Col106, Col40,...</td>\n",
       "    </tr>\n",
       "    <tr>\n",
       "      <th>5</th>\n",
       "      <td>73</td>\n",
       "      <td>1.746819</td>\n",
       "      <td>59.732258</td>\n",
       "      <td>31.063830</td>\n",
       "      <td>[Col88, Col216, Col197, Col177, Col106, Col40,...</td>\n",
       "    </tr>\n",
       "    <tr>\n",
       "      <th>6</th>\n",
       "      <td>94</td>\n",
       "      <td>2.052020</td>\n",
       "      <td>70.168542</td>\n",
       "      <td>40.000000</td>\n",
       "      <td>[Col88, Col216, Col197, Col177, Col106, Col40,...</td>\n",
       "    </tr>\n",
       "    <tr>\n",
       "      <th>7</th>\n",
       "      <td>119</td>\n",
       "      <td>2.335640</td>\n",
       "      <td>79.866889</td>\n",
       "      <td>50.638298</td>\n",
       "      <td>[Col88, Col216, Col197, Col177, Col106, Col40,...</td>\n",
       "    </tr>\n",
       "    <tr>\n",
       "      <th>8</th>\n",
       "      <td>152</td>\n",
       "      <td>2.628842</td>\n",
       "      <td>89.892909</td>\n",
       "      <td>64.680851</td>\n",
       "      <td>[Col88, Col216, Col197, Col177, Col106, Col40,...</td>\n",
       "    </tr>\n",
       "    <tr>\n",
       "      <th>9</th>\n",
       "      <td>235</td>\n",
       "      <td>2.924416</td>\n",
       "      <td>100.000000</td>\n",
       "      <td>100.000000</td>\n",
       "      <td>[Col88, Col216, Col197, Col177, Col106, Col40,...</td>\n",
       "    </tr>\n",
       "    <tr>\n",
       "      <th>10</th>\n",
       "      <td>257</td>\n",
       "      <td>2.924416</td>\n",
       "      <td>100.000000</td>\n",
       "      <td>100.000000</td>\n",
       "      <td>[Col88, Col216, Col197, Col177, Col106, Col40,...</td>\n",
       "    </tr>\n",
       "  </tbody>\n",
       "</table>\n",
       "</div>"
      ],
      "text/plain": [
       "    n_feats  cum_value  cum_value_percentage  n_feats_percentage  \\\n",
       "0         8   0.290400              9.930181            3.404255   \n",
       "1        18   0.592406             20.257248            7.659574   \n",
       "2        29   0.888173             30.370954           12.340426   \n",
       "3        42   1.179028             40.316713           17.872340   \n",
       "4        57   1.471199             50.307466           24.255319   \n",
       "5        73   1.746819             59.732258           31.063830   \n",
       "6        94   2.052020             70.168542           40.000000   \n",
       "7       119   2.335640             79.866889           50.638298   \n",
       "8       152   2.628842             89.892909           64.680851   \n",
       "9       235   2.924416            100.000000          100.000000   \n",
       "10      257   2.924416            100.000000          100.000000   \n",
       "\n",
       "                                        feat_selected  \n",
       "0   [Col88, Col216, Col197, Col177, Col106, Col40,...  \n",
       "1   [Col88, Col216, Col197, Col177, Col106, Col40,...  \n",
       "2   [Col88, Col216, Col197, Col177, Col106, Col40,...  \n",
       "3   [Col88, Col216, Col197, Col177, Col106, Col40,...  \n",
       "4   [Col88, Col216, Col197, Col177, Col106, Col40,...  \n",
       "5   [Col88, Col216, Col197, Col177, Col106, Col40,...  \n",
       "6   [Col88, Col216, Col197, Col177, Col106, Col40,...  \n",
       "7   [Col88, Col216, Col197, Col177, Col106, Col40,...  \n",
       "8   [Col88, Col216, Col197, Col177, Col106, Col40,...  \n",
       "9   [Col88, Col216, Col197, Col177, Col106, Col40,...  \n",
       "10  [Col88, Col216, Col197, Col177, Col106, Col40,...  "
      ]
     },
     "execution_count": 15,
     "metadata": {},
     "output_type": "execute_result"
    }
   ],
   "source": [
    "fi_shap_all"
   ]
  },
  {
   "cell_type": "code",
   "execution_count": 16,
   "id": "4c3a23e5",
   "metadata": {},
   "outputs": [],
   "source": [
    "fi_shap_all.to_parquet(path_fi_shap)"
   ]
  }
 ],
 "metadata": {
  "environment": {
   "name": "common-cpu.m80",
   "type": "gcloud",
   "uri": "gcr.io/deeplearning-platform-release/base-cpu:m80"
  },
  "kernelspec": {
   "display_name": "Python 3 (ipykernel)",
   "language": "python",
   "name": "python3"
  },
  "language_info": {
   "codemirror_mode": {
    "name": "ipython",
    "version": 3
   },
   "file_extension": ".py",
   "mimetype": "text/x-python",
   "name": "python",
   "nbconvert_exporter": "python",
   "pygments_lexer": "ipython3",
   "version": "3.9.12"
  },
  "vscode": {
   "interpreter": {
    "hash": "c7bb90c4ec68b2a8968b0075ab0b1cb7a78770acf7a7acf2e36e903fa05bac64"
   }
  }
 },
 "nbformat": 4,
 "nbformat_minor": 5
}

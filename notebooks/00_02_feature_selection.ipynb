{
 "cells": [
  {
   "cell_type": "markdown",
   "id": "123c1709-aadd-4c93-a80a-0a0c44290983",
   "metadata": {},
   "source": [
    "# iForest"
   ]
  },
  {
   "cell_type": "code",
   "execution_count": 1,
   "id": "2520ef24",
   "metadata": {},
   "outputs": [],
   "source": [
    "import warnings\n",
    "warnings.filterwarnings('ignore')"
   ]
  },
  {
   "cell_type": "markdown",
   "id": "11e4854b-87bd-490e-88e4-9a64631dc5bb",
   "metadata": {
    "tags": []
   },
   "source": [
    "## General libraries"
   ]
  },
  {
   "cell_type": "code",
   "execution_count": 9,
   "id": "feba20a1-5d20-4127-888b-b0e4c72f4757",
   "metadata": {},
   "outputs": [],
   "source": [
    "import os\n",
    "import sys\n",
    "\n",
    "import pandas as pd\n",
    "import numpy as np\n",
    "\n",
    "from os.path import join\n",
    "import json\n",
    "import datetime\n",
    "\n",
    "from sklearn.ensemble import IsolationForest\n",
    "from sklearn.model_selection import train_test_split\n",
    "\n",
    "import shap\n",
    "from shap_selection import feature_selection\n",
    "\n",
    "import time"
   ]
  },
  {
   "cell_type": "markdown",
   "id": "de633751",
   "metadata": {},
   "source": [
    "### Load enviroment variables"
   ]
  },
  {
   "cell_type": "code",
   "execution_count": 10,
   "id": "64a57d38",
   "metadata": {},
   "outputs": [],
   "source": [
    "from dotenv import load_dotenv\n",
    "load_dotenv('../.env')\n",
    "\n",
    "code_root = os.environ['CODE_ROOT']\n",
    "cfg_path = os.environ['CFG_PATH']\n",
    "data_root = os.environ['DATA_ROOT']\n",
    "\n",
    "sys.path.insert(0, code_root)"
   ]
  },
  {
   "cell_type": "markdown",
   "id": "6d1ee99b-97d7-4059-b242-380656087497",
   "metadata": {},
   "source": [
    "### Specific libraries"
   ]
  },
  {
   "cell_type": "code",
   "execution_count": 11,
   "id": "b670745e",
   "metadata": {},
   "outputs": [],
   "source": [
    "from src.load.functions import get_fs_dataset, fs_datasets_hyperparams\n",
    "\n",
    "from src.feature_selection.functions import fs_iforest_with_shap, process_fi"
   ]
  },
  {
   "cell_type": "markdown",
   "id": "5c360966",
   "metadata": {},
   "source": [
    "## General parameters"
   ]
  },
  {
   "cell_type": "code",
   "execution_count": 12,
   "id": "27ef64e3",
   "metadata": {},
   "outputs": [],
   "source": [
    "n_iter_fs = 1\n",
    "n_iter = 1\n",
    "contamination_percentage = [0.8] \n",
    "trees = [25, 50, 100]\n",
    "group = 0"
   ]
  },
  {
   "cell_type": "markdown",
   "id": "1b0fdfd7-d992-4fa0-a79c-adb2d448fa8b",
   "metadata": {
    "tags": []
   },
   "source": [
    "## Parameters"
   ]
  },
  {
   "cell_type": "code",
   "execution_count": 13,
   "id": "c0856c8c-959b-4342-8c91-4fd1c64f4c0b",
   "metadata": {},
   "outputs": [],
   "source": [
    "seed = 123\n",
    "np.random.seed(seed)\n",
    "\n",
    "dataset_id = 'example'\n",
    "df = get_fs_dataset(dataset_id, data_root)\n",
    "hyper = fs_datasets_hyperparams(dataset_id)"
   ]
  },
  {
   "cell_type": "markdown",
   "id": "f6a16e2a",
   "metadata": {},
   "source": [
    "## Paths"
   ]
  },
  {
   "cell_type": "code",
   "execution_count": 14,
   "id": "761a8dd4",
   "metadata": {},
   "outputs": [],
   "source": [
    "path_fi_shap = os.path.join(data_root, \"outputs\", f\"{dataset_id}_fi_shap\")"
   ]
  },
  {
   "cell_type": "markdown",
   "id": "8085a29d-b768-405e-bf15-2e1e8d8d1170",
   "metadata": {},
   "source": [
    "## Generate/Load data"
   ]
  },
  {
   "cell_type": "code",
   "execution_count": 15,
   "id": "a2da1b51-60f7-42d1-a81a-f594fc918369",
   "metadata": {},
   "outputs": [],
   "source": [
    "# Simulated data and settings\n",
    "gamma, iterations = 0.146, 10\n",
    "\n",
    "# Split the DataFrame into features (X) and target (y)\n",
    "X = df.drop('y', axis=1)  # Features (all columns except 'y')\n",
    "y = df['y']  # Target (the 'y' column)\n",
    "\n",
    "# Split into training and testing sets\n",
    "xtr, xte , ytr, yte = train_test_split(X, y, test_size=0.1, random_state=seed)"
   ]
  },
  {
   "cell_type": "markdown",
   "id": "97b23226-ba94-4eef-b9d3-a0c73102bef5",
   "metadata": {},
   "source": [
    "## Generate the model"
   ]
  },
  {
   "cell_type": "code",
   "execution_count": 16,
   "id": "40c217de-f0b1-477b-945e-a78645bb0903",
   "metadata": {},
   "outputs": [
    {
     "data": {
      "text/html": [
       "<style>#sk-container-id-1 {color: black;}#sk-container-id-1 pre{padding: 0;}#sk-container-id-1 div.sk-toggleable {background-color: white;}#sk-container-id-1 label.sk-toggleable__label {cursor: pointer;display: block;width: 100%;margin-bottom: 0;padding: 0.3em;box-sizing: border-box;text-align: center;}#sk-container-id-1 label.sk-toggleable__label-arrow:before {content: \"▸\";float: left;margin-right: 0.25em;color: #696969;}#sk-container-id-1 label.sk-toggleable__label-arrow:hover:before {color: black;}#sk-container-id-1 div.sk-estimator:hover label.sk-toggleable__label-arrow:before {color: black;}#sk-container-id-1 div.sk-toggleable__content {max-height: 0;max-width: 0;overflow: hidden;text-align: left;background-color: #f0f8ff;}#sk-container-id-1 div.sk-toggleable__content pre {margin: 0.2em;color: black;border-radius: 0.25em;background-color: #f0f8ff;}#sk-container-id-1 input.sk-toggleable__control:checked~div.sk-toggleable__content {max-height: 200px;max-width: 100%;overflow: auto;}#sk-container-id-1 input.sk-toggleable__control:checked~label.sk-toggleable__label-arrow:before {content: \"▾\";}#sk-container-id-1 div.sk-estimator input.sk-toggleable__control:checked~label.sk-toggleable__label {background-color: #d4ebff;}#sk-container-id-1 div.sk-label input.sk-toggleable__control:checked~label.sk-toggleable__label {background-color: #d4ebff;}#sk-container-id-1 input.sk-hidden--visually {border: 0;clip: rect(1px 1px 1px 1px);clip: rect(1px, 1px, 1px, 1px);height: 1px;margin: -1px;overflow: hidden;padding: 0;position: absolute;width: 1px;}#sk-container-id-1 div.sk-estimator {font-family: monospace;background-color: #f0f8ff;border: 1px dotted black;border-radius: 0.25em;box-sizing: border-box;margin-bottom: 0.5em;}#sk-container-id-1 div.sk-estimator:hover {background-color: #d4ebff;}#sk-container-id-1 div.sk-parallel-item::after {content: \"\";width: 100%;border-bottom: 1px solid gray;flex-grow: 1;}#sk-container-id-1 div.sk-label:hover label.sk-toggleable__label {background-color: #d4ebff;}#sk-container-id-1 div.sk-serial::before {content: \"\";position: absolute;border-left: 1px solid gray;box-sizing: border-box;top: 0;bottom: 0;left: 50%;z-index: 0;}#sk-container-id-1 div.sk-serial {display: flex;flex-direction: column;align-items: center;background-color: white;padding-right: 0.2em;padding-left: 0.2em;position: relative;}#sk-container-id-1 div.sk-item {position: relative;z-index: 1;}#sk-container-id-1 div.sk-parallel {display: flex;align-items: stretch;justify-content: center;background-color: white;position: relative;}#sk-container-id-1 div.sk-item::before, #sk-container-id-1 div.sk-parallel-item::before {content: \"\";position: absolute;border-left: 1px solid gray;box-sizing: border-box;top: 0;bottom: 0;left: 50%;z-index: -1;}#sk-container-id-1 div.sk-parallel-item {display: flex;flex-direction: column;z-index: 1;position: relative;background-color: white;}#sk-container-id-1 div.sk-parallel-item:first-child::after {align-self: flex-end;width: 50%;}#sk-container-id-1 div.sk-parallel-item:last-child::after {align-self: flex-start;width: 50%;}#sk-container-id-1 div.sk-parallel-item:only-child::after {width: 0;}#sk-container-id-1 div.sk-dashed-wrapped {border: 1px dashed gray;margin: 0 0.4em 0.5em 0.4em;box-sizing: border-box;padding-bottom: 0.4em;background-color: white;}#sk-container-id-1 div.sk-label label {font-family: monospace;font-weight: bold;display: inline-block;line-height: 1.2em;}#sk-container-id-1 div.sk-label-container {text-align: center;}#sk-container-id-1 div.sk-container {/* jupyter's `normalize.less` sets `[hidden] { display: none; }` but bootstrap.min.css set `[hidden] { display: none !important; }` so we also need the `!important` here to be able to override the default hidden behavior on the sphinx rendered scikit-learn.org. See: https://github.com/scikit-learn/scikit-learn/issues/21755 */display: inline-block !important;position: relative;}#sk-container-id-1 div.sk-text-repr-fallback {display: none;}</style><div id=\"sk-container-id-1\" class=\"sk-top-container\"><div class=\"sk-text-repr-fallback\"><pre>IsolationForest(contamination=0.1, random_state=123)</pre><b>In a Jupyter environment, please rerun this cell to show the HTML representation or trust the notebook. <br />On GitHub, the HTML representation is unable to render, please try loading this page with nbviewer.org.</b></div><div class=\"sk-container\" hidden><div class=\"sk-item\"><div class=\"sk-estimator sk-toggleable\"><input class=\"sk-toggleable__control sk-hidden--visually\" id=\"sk-estimator-id-1\" type=\"checkbox\" checked><label for=\"sk-estimator-id-1\" class=\"sk-toggleable__label sk-toggleable__label-arrow\">IsolationForest</label><div class=\"sk-toggleable__content\"><pre>IsolationForest(contamination=0.1, random_state=123)</pre></div></div></div></div></div>"
      ],
      "text/plain": [
       "IsolationForest(contamination=0.1, random_state=123)"
      ]
     },
     "execution_count": 16,
     "metadata": {},
     "output_type": "execute_result"
    }
   ],
   "source": [
    "# Initialize and train the IsolationForest model\n",
    "model = IsolationForest(**hyper, random_state=seed)\n",
    "model.fit(xtr)"
   ]
  },
  {
   "cell_type": "markdown",
   "id": "04c1e457-0855-4649-bcb2-331450e3778b",
   "metadata": {},
   "source": [
    "## Features names"
   ]
  },
  {
   "cell_type": "code",
   "execution_count": 17,
   "id": "1531b1f9-a32e-4266-8a9d-de640749f69a",
   "metadata": {},
   "outputs": [
    {
     "data": {
      "text/plain": [
       "array(['feature_1', 'feature_2', 'feature_3', 'feature_4', 'feature_5'],\n",
       "      dtype='<U9')"
      ]
     },
     "execution_count": 17,
     "metadata": {},
     "output_type": "execute_result"
    }
   ],
   "source": [
    "feature_names = np.array(X.columns.tolist())\n",
    "feature_names"
   ]
  },
  {
   "cell_type": "markdown",
   "id": "ae171188",
   "metadata": {},
   "source": [
    "## Feature selection by SHAP"
   ]
  },
  {
   "cell_type": "code",
   "execution_count": 18,
   "id": "2d51ce25-d50b-42af-afc2-be8ca4fb489e",
   "metadata": {},
   "outputs": [],
   "source": [
    "def shap_feature_selection(model, X_train, X_test, feature_names, agnostic=False):\n",
    "    \"\"\"\n",
    "    Perform feature selection using SHAP values and return a DataFrame with selected features\n",
    "    and their corresponding SHAP values, percentages, and cumulative values.\n",
    "    \n",
    "    Parameters:\n",
    "    - model: Trained model (e.g., RandomForest, XGBoost).\n",
    "    - X_train: Training dataset.\n",
    "    - X_test: Testing dataset.\n",
    "    - feature_names: List of feature names.\n",
    "    - agnostic: Whether to use model-agnostic SHAP (e.g., KernelExplainer).\n",
    "    \n",
    "    Returns:\n",
    "    - df: DataFrame with selected features, SHAP values, and calculated statistics.\n",
    "    \"\"\"\n",
    "    \n",
    "    # Calculate SHAP values\n",
    "    if agnostic:\n",
    "        explainer = shap.KernelExplainer(model.predict, X_train)\n",
    "    else:\n",
    "        explainer = shap.TreeExplainer(model)\n",
    "    \n",
    "    shap_values = explainer.shap_values(X_test)[1]  # Assuming binary classification; use [0] for negative class\n",
    "    \n",
    "    # Compute mean absolute SHAP values for each feature\n",
    "    mean_shap_values = np.mean(np.abs(shap_values), axis=0)\n",
    "    \n",
    "    # Create a DataFrame\n",
    "    df = pd.DataFrame({\n",
    "        'feature': feature_names,\n",
    "        'value': mean_shap_values\n",
    "    })\n",
    "    \n",
    "    # Calculate per_value (percentage of each value in the total)\n",
    "    total_value = df['value'].sum()\n",
    "    df['per_value'] = df['value'] / total_value * 100\n",
    "    \n",
    "    # Calculate cumulative values and cumulative percentages\n",
    "    df['cum_value'] = df['value'].cumsum()\n",
    "    df['cum_value_percentage'] = df['per_value'].cumsum()\n",
    "    \n",
    "    # Sorting by value in descending order\n",
    "    df = df.sort_values(by='value', ascending=False).reset_index(drop=True)\n",
    "    \n",
    "    return df"
   ]
  },
  {
   "cell_type": "code",
   "execution_count": 20,
   "id": "b12a23e1-e5cd-42cf-b0a0-09e26d8faa06",
   "metadata": {},
   "outputs": [],
   "source": [
    "# Example usage:\n",
    "selected_features_df = shap_feature_selection(model, xtr, xte, feature_names, agnostic=False)"
   ]
  },
  {
   "cell_type": "code",
   "execution_count": 21,
   "id": "26cae48d-0138-4388-8f10-0e406385448c",
   "metadata": {},
   "outputs": [
    {
     "data": {
      "text/html": [
       "<div>\n",
       "<style scoped>\n",
       "    .dataframe tbody tr th:only-of-type {\n",
       "        vertical-align: middle;\n",
       "    }\n",
       "\n",
       "    .dataframe tbody tr th {\n",
       "        vertical-align: top;\n",
       "    }\n",
       "\n",
       "    .dataframe thead th {\n",
       "        text-align: right;\n",
       "    }\n",
       "</style>\n",
       "<table border=\"1\" class=\"dataframe\">\n",
       "  <thead>\n",
       "    <tr style=\"text-align: right;\">\n",
       "      <th></th>\n",
       "      <th>feature</th>\n",
       "      <th>value</th>\n",
       "      <th>per_value</th>\n",
       "      <th>cum_value</th>\n",
       "      <th>cum_value_percentage</th>\n",
       "    </tr>\n",
       "  </thead>\n",
       "  <tbody>\n",
       "    <tr>\n",
       "      <th>0</th>\n",
       "      <td>feature_1</td>\n",
       "      <td>0.270965</td>\n",
       "      <td>20.0</td>\n",
       "      <td>0.270965</td>\n",
       "      <td>20.0</td>\n",
       "    </tr>\n",
       "    <tr>\n",
       "      <th>1</th>\n",
       "      <td>feature_2</td>\n",
       "      <td>0.270965</td>\n",
       "      <td>20.0</td>\n",
       "      <td>0.541930</td>\n",
       "      <td>40.0</td>\n",
       "    </tr>\n",
       "    <tr>\n",
       "      <th>2</th>\n",
       "      <td>feature_3</td>\n",
       "      <td>0.270965</td>\n",
       "      <td>20.0</td>\n",
       "      <td>0.812895</td>\n",
       "      <td>60.0</td>\n",
       "    </tr>\n",
       "    <tr>\n",
       "      <th>3</th>\n",
       "      <td>feature_4</td>\n",
       "      <td>0.270965</td>\n",
       "      <td>20.0</td>\n",
       "      <td>1.083861</td>\n",
       "      <td>80.0</td>\n",
       "    </tr>\n",
       "    <tr>\n",
       "      <th>4</th>\n",
       "      <td>feature_5</td>\n",
       "      <td>0.270965</td>\n",
       "      <td>20.0</td>\n",
       "      <td>1.354826</td>\n",
       "      <td>100.0</td>\n",
       "    </tr>\n",
       "  </tbody>\n",
       "</table>\n",
       "</div>"
      ],
      "text/plain": [
       "     feature     value  per_value  cum_value  cum_value_percentage\n",
       "0  feature_1  0.270965       20.0   0.270965                  20.0\n",
       "1  feature_2  0.270965       20.0   0.541930                  40.0\n",
       "2  feature_3  0.270965       20.0   0.812895                  60.0\n",
       "3  feature_4  0.270965       20.0   1.083861                  80.0\n",
       "4  feature_5  0.270965       20.0   1.354826                 100.0"
      ]
     },
     "execution_count": 21,
     "metadata": {},
     "output_type": "execute_result"
    }
   ],
   "source": [
    "selected_features_df"
   ]
  },
  {
   "cell_type": "code",
   "execution_count": 22,
   "id": "d31cb018-87f8-4ed4-9ecc-ddeaf04d66c4",
   "metadata": {},
   "outputs": [],
   "source": [
    "fi_shap_all = process_fi(selected_features_df, 10)"
   ]
  },
  {
   "cell_type": "code",
   "execution_count": 23,
   "id": "e8f3b859-7672-400f-be1a-56709380e1d2",
   "metadata": {},
   "outputs": [
    {
     "data": {
      "text/html": [
       "<div>\n",
       "<style scoped>\n",
       "    .dataframe tbody tr th:only-of-type {\n",
       "        vertical-align: middle;\n",
       "    }\n",
       "\n",
       "    .dataframe tbody tr th {\n",
       "        vertical-align: top;\n",
       "    }\n",
       "\n",
       "    .dataframe thead th {\n",
       "        text-align: right;\n",
       "    }\n",
       "</style>\n",
       "<table border=\"1\" class=\"dataframe\">\n",
       "  <thead>\n",
       "    <tr style=\"text-align: right;\">\n",
       "      <th></th>\n",
       "      <th>n_feats</th>\n",
       "      <th>cum_value</th>\n",
       "      <th>cum_value_percentage</th>\n",
       "      <th>n_feats_percentage</th>\n",
       "      <th>feat_selected</th>\n",
       "    </tr>\n",
       "  </thead>\n",
       "  <tbody>\n",
       "    <tr>\n",
       "      <th>0</th>\n",
       "      <td>1</td>\n",
       "      <td>0.270965</td>\n",
       "      <td>20.0</td>\n",
       "      <td>20.0</td>\n",
       "      <td>[feature_1]</td>\n",
       "    </tr>\n",
       "    <tr>\n",
       "      <th>1</th>\n",
       "      <td>2</td>\n",
       "      <td>0.541930</td>\n",
       "      <td>40.0</td>\n",
       "      <td>40.0</td>\n",
       "      <td>[feature_1, feature_2]</td>\n",
       "    </tr>\n",
       "    <tr>\n",
       "      <th>2</th>\n",
       "      <td>3</td>\n",
       "      <td>0.812895</td>\n",
       "      <td>60.0</td>\n",
       "      <td>60.0</td>\n",
       "      <td>[feature_1, feature_2, feature_3]</td>\n",
       "    </tr>\n",
       "    <tr>\n",
       "      <th>3</th>\n",
       "      <td>4</td>\n",
       "      <td>1.083861</td>\n",
       "      <td>80.0</td>\n",
       "      <td>80.0</td>\n",
       "      <td>[feature_1, feature_2, feature_3, feature_4]</td>\n",
       "    </tr>\n",
       "    <tr>\n",
       "      <th>4</th>\n",
       "      <td>5</td>\n",
       "      <td>1.354826</td>\n",
       "      <td>100.0</td>\n",
       "      <td>100.0</td>\n",
       "      <td>[feature_1, feature_2, feature_3, feature_4, f...</td>\n",
       "    </tr>\n",
       "    <tr>\n",
       "      <th>5</th>\n",
       "      <td>5</td>\n",
       "      <td>1.354826</td>\n",
       "      <td>100.0</td>\n",
       "      <td>100.0</td>\n",
       "      <td>[feature_1, feature_2, feature_3, feature_4, f...</td>\n",
       "    </tr>\n",
       "  </tbody>\n",
       "</table>\n",
       "</div>"
      ],
      "text/plain": [
       "   n_feats  cum_value  cum_value_percentage  n_feats_percentage  \\\n",
       "0        1   0.270965                  20.0                20.0   \n",
       "1        2   0.541930                  40.0                40.0   \n",
       "2        3   0.812895                  60.0                60.0   \n",
       "3        4   1.083861                  80.0                80.0   \n",
       "4        5   1.354826                 100.0               100.0   \n",
       "5        5   1.354826                 100.0               100.0   \n",
       "\n",
       "                                       feat_selected  \n",
       "0                                        [feature_1]  \n",
       "1                             [feature_1, feature_2]  \n",
       "2                  [feature_1, feature_2, feature_3]  \n",
       "3       [feature_1, feature_2, feature_3, feature_4]  \n",
       "4  [feature_1, feature_2, feature_3, feature_4, f...  \n",
       "5  [feature_1, feature_2, feature_3, feature_4, f...  "
      ]
     },
     "execution_count": 23,
     "metadata": {},
     "output_type": "execute_result"
    }
   ],
   "source": [
    "fi_shap_all"
   ]
  }
 ],
 "metadata": {
  "environment": {
   "name": "common-cpu.m80",
   "type": "gcloud",
   "uri": "gcr.io/deeplearning-platform-release/base-cpu:m80"
  },
  "kernelspec": {
   "display_name": "Python 3 (ipykernel)",
   "language": "python",
   "name": "python3"
  },
  "language_info": {
   "codemirror_mode": {
    "name": "ipython",
    "version": 3
   },
   "file_extension": ".py",
   "mimetype": "text/x-python",
   "name": "python",
   "nbconvert_exporter": "python",
   "pygments_lexer": "ipython3",
   "version": "3.9.12"
  },
  "vscode": {
   "interpreter": {
    "hash": "c7bb90c4ec68b2a8968b0075ab0b1cb7a78770acf7a7acf2e36e903fa05bac64"
   }
  }
 },
 "nbformat": 4,
 "nbformat_minor": 5
}

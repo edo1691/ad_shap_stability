{
 "cells": [
  {
   "cell_type": "markdown",
   "id": "123c1709-aadd-4c93-a80a-0a0c44290983",
   "metadata": {},
   "source": [
    "# iForest"
   ]
  },
  {
   "cell_type": "code",
   "execution_count": 1,
   "id": "2520ef24",
   "metadata": {},
   "outputs": [],
   "source": [
    "import warnings\n",
    "warnings.filterwarnings('ignore')"
   ]
  },
  {
   "cell_type": "markdown",
   "id": "11e4854b-87bd-490e-88e4-9a64631dc5bb",
   "metadata": {
    "tags": []
   },
   "source": [
    "## General libraries"
   ]
  },
  {
   "cell_type": "code",
   "execution_count": 2,
   "id": "feba20a1-5d20-4127-888b-b0e4c72f4757",
   "metadata": {},
   "outputs": [],
   "source": [
    "import os\n",
    "import sys\n",
    "\n",
    "import pandas as pd\n",
    "import numpy as np\n",
    "\n",
    "from os.path import join\n",
    "import json\n",
    "import datetime\n",
    "\n",
    "import time\n",
    "\n",
    "from sklearn.ensemble import IsolationForest\n",
    "from sklearn.metrics import classification_report, roc_auc_score\n",
    "from sklearn.model_selection import train_test_split"
   ]
  },
  {
   "cell_type": "markdown",
   "id": "de633751",
   "metadata": {},
   "source": [
    "### Load enviroment variables"
   ]
  },
  {
   "cell_type": "code",
   "execution_count": 3,
   "id": "64a57d38",
   "metadata": {},
   "outputs": [],
   "source": [
    "from dotenv import load_dotenv\n",
    "load_dotenv('../.env')\n",
    "\n",
    "code_root = os.environ['CODE_ROOT']\n",
    "cfg_path = os.environ['CFG_PATH']\n",
    "data_root = os.environ['DATA_ROOT']\n",
    "\n",
    "sys.path.insert(0, code_root)"
   ]
  },
  {
   "cell_type": "markdown",
   "id": "6d1ee99b-97d7-4059-b242-380656087497",
   "metadata": {},
   "source": [
    "## Specific libraries"
   ]
  },
  {
   "cell_type": "code",
   "execution_count": 4,
   "id": "b670745e",
   "metadata": {},
   "outputs": [],
   "source": [
    "from src.load.functions import get_fs_dataset, fs_datasets_hyperparams\n",
    "\n",
    "from src.utils.functions import adjust_fi\n",
    "\n",
    "from src.model.functions import run_model_experiment"
   ]
  },
  {
   "cell_type": "markdown",
   "id": "b7db27ee-405e-4faa-a7e9-6b8cdf41d437",
   "metadata": {
    "tags": []
   },
   "source": [
    "## Parameters"
   ]
  },
  {
   "cell_type": "code",
   "execution_count": 5,
   "id": "4a527899-7fe8-4aea-80f8-2e0447fde772",
   "metadata": {},
   "outputs": [],
   "source": [
    "seed = 123\n",
    "iterations = 10\n",
    "gamma = 0.146\n",
    "n_estimators_list = [1, 5, 25, 50, 75, 100, 125, 150, 175, 200]\n",
    "np.random.seed(seed)\n",
    "\n",
    "dataset_id = 'example'\n",
    "df = get_fs_dataset(dataset_id, data_root)\n",
    "hyper = fs_datasets_hyperparams(dataset_id)"
   ]
  },
  {
   "cell_type": "markdown",
   "id": "f6a16e2a",
   "metadata": {},
   "source": [
    "### Paths"
   ]
  },
  {
   "cell_type": "code",
   "execution_count": 6,
   "id": "761a8dd4",
   "metadata": {},
   "outputs": [],
   "source": [
    "path_fi_shap = os.path.join(data_root, \"outputs\", f\"{dataset_id}_fi_shap\")\n",
    "path_shap = os.path.join(data_root, \"outputs\", f\"{dataset_id}_shap.parquet\")"
   ]
  },
  {
   "cell_type": "markdown",
   "id": "80af490a-afeb-4e7d-9382-0c9f0449b043",
   "metadata": {},
   "source": [
    "### Features selected"
   ]
  },
  {
   "cell_type": "code",
   "execution_count": 7,
   "id": "f15fda19-fe97-4b71-850c-9c11e4946c98",
   "metadata": {},
   "outputs": [
    {
     "data": {
      "text/html": [
       "<div>\n",
       "<style scoped>\n",
       "    .dataframe tbody tr th:only-of-type {\n",
       "        vertical-align: middle;\n",
       "    }\n",
       "\n",
       "    .dataframe tbody tr th {\n",
       "        vertical-align: top;\n",
       "    }\n",
       "\n",
       "    .dataframe thead th {\n",
       "        text-align: right;\n",
       "    }\n",
       "</style>\n",
       "<table border=\"1\" class=\"dataframe\">\n",
       "  <thead>\n",
       "    <tr style=\"text-align: right;\">\n",
       "      <th></th>\n",
       "      <th>n_feats</th>\n",
       "      <th>cum_value</th>\n",
       "      <th>cum_value_percentage</th>\n",
       "      <th>n_feats_percentage</th>\n",
       "      <th>feat_selected</th>\n",
       "    </tr>\n",
       "  </thead>\n",
       "  <tbody>\n",
       "    <tr>\n",
       "      <th>0</th>\n",
       "      <td>2</td>\n",
       "      <td>0.817763</td>\n",
       "      <td>49.580866</td>\n",
       "      <td>40.0</td>\n",
       "      <td>[feature_2, feature_4]</td>\n",
       "    </tr>\n",
       "    <tr>\n",
       "      <th>2</th>\n",
       "      <td>3</td>\n",
       "      <td>1.151545</td>\n",
       "      <td>69.817997</td>\n",
       "      <td>60.0</td>\n",
       "      <td>[feature_2, feature_4, feature_3]</td>\n",
       "    </tr>\n",
       "    <tr>\n",
       "      <th>3</th>\n",
       "      <td>4</td>\n",
       "      <td>1.438979</td>\n",
       "      <td>87.245099</td>\n",
       "      <td>80.0</td>\n",
       "      <td>[feature_2, feature_4, feature_3, feature_1]</td>\n",
       "    </tr>\n",
       "    <tr>\n",
       "      <th>4</th>\n",
       "      <td>5</td>\n",
       "      <td>1.649352</td>\n",
       "      <td>100.000000</td>\n",
       "      <td>100.0</td>\n",
       "      <td>[feature_2, feature_4, feature_3, feature_1, f...</td>\n",
       "    </tr>\n",
       "  </tbody>\n",
       "</table>\n",
       "</div>"
      ],
      "text/plain": [
       "   n_feats  cum_value  cum_value_percentage  n_feats_percentage  \\\n",
       "0        2   0.817763             49.580866                40.0   \n",
       "2        3   1.151545             69.817997                60.0   \n",
       "3        4   1.438979             87.245099                80.0   \n",
       "4        5   1.649352            100.000000               100.0   \n",
       "\n",
       "                                       feat_selected  \n",
       "0                             [feature_2, feature_4]  \n",
       "2                  [feature_2, feature_4, feature_3]  \n",
       "3       [feature_2, feature_4, feature_3, feature_1]  \n",
       "4  [feature_2, feature_4, feature_3, feature_1, f...  "
      ]
     },
     "execution_count": 7,
     "metadata": {},
     "output_type": "execute_result"
    }
   ],
   "source": [
    "fi_shap_all = pd.read_parquet(path_fi_shap)\n",
    "fi_shap_all = adjust_fi(fi_shap_all)\n",
    "fi_shap_all"
   ]
  },
  {
   "cell_type": "markdown",
   "id": "1e2862e7-e5f1-4565-a1cb-f089bcfde5ef",
   "metadata": {},
   "source": [
    "### Generate data"
   ]
  },
  {
   "cell_type": "code",
   "execution_count": 8,
   "id": "0a96e4f1-084d-41bf-a985-f3f4683bc810",
   "metadata": {},
   "outputs": [
    {
     "name": "stdout",
     "output_type": "stream",
     "text": [
      "Duration: 0:01:10.791910\n"
     ]
    }
   ],
   "source": [
    "# Capture the start time\n",
    "start_time = datetime.datetime.now()\n",
    "\n",
    "results = run_model_experiment(fi_shap_all, df, hyper, \n",
    "                     gamma=gamma, iterations=iterations, \n",
    "                     n_estimators_list=n_estimators_list, seed=seed, \n",
    "                     dataset_id=dataset_id)\n",
    "\n",
    "# Capture the finish time\n",
    "finish_time = datetime.datetime.now()\n",
    "\n",
    "# Calculate the duration\n",
    "duration = finish_time - start_time\n",
    "\n",
    "print(f\"Duration: {duration}\")"
   ]
  },
  {
   "cell_type": "code",
   "execution_count": 9,
   "id": "88f1de71-b299-4aa4-ba15-f97d25199f2c",
   "metadata": {},
   "outputs": [],
   "source": [
    "results.to_parquet(path_shap)"
   ]
  },
  {
   "cell_type": "code",
   "execution_count": 10,
   "id": "91dbf246-dd55-4ca5-8710-a58b8f970cc6",
   "metadata": {},
   "outputs": [
    {
     "data": {
      "text/html": [
       "<div>\n",
       "<style scoped>\n",
       "    .dataframe tbody tr th:only-of-type {\n",
       "        vertical-align: middle;\n",
       "    }\n",
       "\n",
       "    .dataframe tbody tr th {\n",
       "        vertical-align: top;\n",
       "    }\n",
       "\n",
       "    .dataframe thead th {\n",
       "        text-align: right;\n",
       "    }\n",
       "</style>\n",
       "<table border=\"1\" class=\"dataframe\">\n",
       "  <thead>\n",
       "    <tr style=\"text-align: right;\">\n",
       "      <th></th>\n",
       "      <th>dataset_id</th>\n",
       "      <th>n_feat</th>\n",
       "      <th>n_features_cum_shap_percentage</th>\n",
       "      <th>n_estimators</th>\n",
       "      <th>f1-score</th>\n",
       "      <th>recall</th>\n",
       "      <th>precision</th>\n",
       "      <th>roc_auc</th>\n",
       "      <th>smli</th>\n",
       "      <th>smli_all</th>\n",
       "    </tr>\n",
       "  </thead>\n",
       "  <tbody>\n",
       "    <tr>\n",
       "      <th>0</th>\n",
       "      <td>example</td>\n",
       "      <td>2</td>\n",
       "      <td>49.580866</td>\n",
       "      <td>1</td>\n",
       "      <td>0.170213</td>\n",
       "      <td>0.097561</td>\n",
       "      <td>0.666667</td>\n",
       "      <td>0.589597</td>\n",
       "      <td>0.819444</td>\n",
       "      <td>[1.0, 0.8333333333333333, 0.7222222222222222, ...</td>\n",
       "    </tr>\n",
       "    <tr>\n",
       "      <th>19</th>\n",
       "      <td>example</td>\n",
       "      <td>3</td>\n",
       "      <td>69.817997</td>\n",
       "      <td>200</td>\n",
       "      <td>0.160000</td>\n",
       "      <td>0.097561</td>\n",
       "      <td>0.444444</td>\n",
       "      <td>0.522150</td>\n",
       "      <td>0.861111</td>\n",
       "      <td>[0.9444444444444443, 0.7716049382716049, 0.722...</td>\n",
       "    </tr>\n",
       "    <tr>\n",
       "      <th>32</th>\n",
       "      <td>example</td>\n",
       "      <td>5</td>\n",
       "      <td>100.000000</td>\n",
       "      <td>25</td>\n",
       "      <td>0.240000</td>\n",
       "      <td>0.146341</td>\n",
       "      <td>0.666667</td>\n",
       "      <td>0.481334</td>\n",
       "      <td>0.719741</td>\n",
       "      <td>[0.6759259259259259, 0.515925925925926, 0.8407...</td>\n",
       "    </tr>\n",
       "  </tbody>\n",
       "</table>\n",
       "</div>"
      ],
      "text/plain": [
       "   dataset_id  n_feat  n_features_cum_shap_percentage  n_estimators  f1-score  \\\n",
       "0     example       2                       49.580866             1  0.170213   \n",
       "19    example       3                       69.817997           200  0.160000   \n",
       "32    example       5                      100.000000            25  0.240000   \n",
       "\n",
       "      recall  precision   roc_auc      smli  \\\n",
       "0   0.097561   0.666667  0.589597  0.819444   \n",
       "19  0.097561   0.444444  0.522150  0.861111   \n",
       "32  0.146341   0.666667  0.481334  0.719741   \n",
       "\n",
       "                                             smli_all  \n",
       "0   [1.0, 0.8333333333333333, 0.7222222222222222, ...  \n",
       "19  [0.9444444444444443, 0.7716049382716049, 0.722...  \n",
       "32  [0.6759259259259259, 0.515925925925926, 0.8407...  "
      ]
     },
     "execution_count": 10,
     "metadata": {},
     "output_type": "execute_result"
    }
   ],
   "source": [
    "results.sample(3)"
   ]
  },
  {
   "cell_type": "code",
   "execution_count": null,
   "id": "6460692d-2911-40a0-ba10-f7ae0cc74648",
   "metadata": {},
   "outputs": [],
   "source": []
  }
 ],
 "metadata": {
  "environment": {
   "name": "common-cpu.m80",
   "type": "gcloud",
   "uri": "gcr.io/deeplearning-platform-release/base-cpu:m80"
  },
  "kernelspec": {
   "display_name": "Python 3 (ipykernel)",
   "language": "python",
   "name": "python3"
  },
  "language_info": {
   "codemirror_mode": {
    "name": "ipython",
    "version": 3
   },
   "file_extension": ".py",
   "mimetype": "text/x-python",
   "name": "python",
   "nbconvert_exporter": "python",
   "pygments_lexer": "ipython3",
   "version": "3.9.12"
  },
  "vscode": {
   "interpreter": {
    "hash": "c7bb90c4ec68b2a8968b0075ab0b1cb7a78770acf7a7acf2e36e903fa05bac64"
   }
  }
 },
 "nbformat": 4,
 "nbformat_minor": 5
}

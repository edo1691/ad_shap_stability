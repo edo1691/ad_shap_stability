{
 "cells": [
  {
   "cell_type": "markdown",
   "id": "123c1709-aadd-4c93-a80a-0a0c44290983",
   "metadata": {},
   "source": [
    "# iForest"
   ]
  },
  {
   "cell_type": "code",
   "execution_count": 1,
   "id": "2520ef24",
   "metadata": {},
   "outputs": [],
   "source": [
    "import warnings\n",
    "warnings.filterwarnings('ignore')"
   ]
  },
  {
   "cell_type": "markdown",
   "id": "11e4854b-87bd-490e-88e4-9a64631dc5bb",
   "metadata": {
    "tags": []
   },
   "source": [
    "## General libraries"
   ]
  },
  {
   "cell_type": "code",
   "execution_count": 2,
   "id": "feba20a1-5d20-4127-888b-b0e4c72f4757",
   "metadata": {},
   "outputs": [],
   "source": [
    "import os\n",
    "import sys\n",
    "\n",
    "import pandas as pd\n",
    "import numpy as np\n",
    "\n",
    "from os.path import join\n",
    "import json\n",
    "import datetime\n",
    "\n",
    "import time\n",
    "\n",
    "from sklearn.ensemble import IsolationForest\n",
    "from sklearn.metrics import classification_report, roc_auc_score\n",
    "from sklearn.model_selection import train_test_split"
   ]
  },
  {
   "cell_type": "markdown",
   "id": "de633751",
   "metadata": {},
   "source": [
    "### Load enviroment variables"
   ]
  },
  {
   "cell_type": "code",
   "execution_count": 3,
   "id": "64a57d38",
   "metadata": {},
   "outputs": [],
   "source": [
    "from dotenv import load_dotenv\n",
    "load_dotenv('../.env')\n",
    "\n",
    "code_root = os.environ['CODE_ROOT']\n",
    "cfg_path = os.environ['CFG_PATH']\n",
    "data_root = os.environ['DATA_ROOT']\n",
    "\n",
    "sys.path.insert(0, code_root)"
   ]
  },
  {
   "cell_type": "markdown",
   "id": "6d1ee99b-97d7-4059-b242-380656087497",
   "metadata": {},
   "source": [
    "## Specific libraries"
   ]
  },
  {
   "cell_type": "code",
   "execution_count": 4,
   "id": "b670745e",
   "metadata": {},
   "outputs": [],
   "source": [
    "from src.load.functions import get_fs_dataset, fs_datasets_hyperparams\n",
    "\n",
    "from src.feature_selection.functions import shap_feature_selection, process_fi\n",
    "\n",
    "from src.utils.functions import adjust_fi\n",
    "\n",
    "from src.model.functions import run_model_experiment\n",
    "\n",
    "from src.plots.functions import plots_metrics"
   ]
  },
  {
   "cell_type": "markdown",
   "id": "b7db27ee-405e-4faa-a7e9-6b8cdf41d437",
   "metadata": {
    "tags": []
   },
   "source": [
    "## Parameters"
   ]
  },
  {
   "cell_type": "code",
   "execution_count": 5,
   "id": "4a527899-7fe8-4aea-80f8-2e0447fde772",
   "metadata": {},
   "outputs": [],
   "source": [
    "seed = 123\n",
    "iterations = 10\n",
    "gamma = 0.146\n",
    "n_estimators_list = [25, 50, 75, 100, 125, 150, 175, 200]\n",
    "np.random.seed(seed)\n",
    "\n",
    "dataset_id = 'arrhythmia'\n",
    "df = get_fs_dataset(dataset_id, data_root)\n",
    "hyper = fs_datasets_hyperparams(dataset_id)"
   ]
  },
  {
   "cell_type": "code",
   "execution_count": 6,
   "id": "79d387b6-9a74-498c-be22-80846ed0fab2",
   "metadata": {},
   "outputs": [
    {
     "data": {
      "text/html": [
       "<div>\n",
       "<style scoped>\n",
       "    .dataframe tbody tr th:only-of-type {\n",
       "        vertical-align: middle;\n",
       "    }\n",
       "\n",
       "    .dataframe tbody tr th {\n",
       "        vertical-align: top;\n",
       "    }\n",
       "\n",
       "    .dataframe thead th {\n",
       "        text-align: right;\n",
       "    }\n",
       "</style>\n",
       "<table border=\"1\" class=\"dataframe\">\n",
       "  <thead>\n",
       "    <tr style=\"text-align: right;\">\n",
       "      <th></th>\n",
       "      <th>Col1</th>\n",
       "      <th>Col2</th>\n",
       "      <th>Col3</th>\n",
       "      <th>Col4</th>\n",
       "      <th>Col5</th>\n",
       "      <th>Col6</th>\n",
       "      <th>Col7</th>\n",
       "      <th>Col8</th>\n",
       "      <th>Col9</th>\n",
       "      <th>Col10</th>\n",
       "      <th>...</th>\n",
       "      <th>Col266</th>\n",
       "      <th>Col267</th>\n",
       "      <th>Col268</th>\n",
       "      <th>Col269</th>\n",
       "      <th>Col270</th>\n",
       "      <th>Col271</th>\n",
       "      <th>Col272</th>\n",
       "      <th>Col273</th>\n",
       "      <th>Col274</th>\n",
       "      <th>y</th>\n",
       "    </tr>\n",
       "  </thead>\n",
       "  <tbody>\n",
       "    <tr>\n",
       "      <th>0</th>\n",
       "      <td>75.0</td>\n",
       "      <td>0.0</td>\n",
       "      <td>190.0</td>\n",
       "      <td>80.0</td>\n",
       "      <td>91.0</td>\n",
       "      <td>193.0</td>\n",
       "      <td>371.0</td>\n",
       "      <td>174.0</td>\n",
       "      <td>121.0</td>\n",
       "      <td>-16.0</td>\n",
       "      <td>...</td>\n",
       "      <td>0.0</td>\n",
       "      <td>9.0</td>\n",
       "      <td>-0.9</td>\n",
       "      <td>0.0</td>\n",
       "      <td>0.0</td>\n",
       "      <td>0.9</td>\n",
       "      <td>2.9</td>\n",
       "      <td>23.3</td>\n",
       "      <td>49.4</td>\n",
       "      <td>1</td>\n",
       "    </tr>\n",
       "    <tr>\n",
       "      <th>1</th>\n",
       "      <td>56.0</td>\n",
       "      <td>1.0</td>\n",
       "      <td>165.0</td>\n",
       "      <td>64.0</td>\n",
       "      <td>81.0</td>\n",
       "      <td>174.0</td>\n",
       "      <td>401.0</td>\n",
       "      <td>149.0</td>\n",
       "      <td>39.0</td>\n",
       "      <td>25.0</td>\n",
       "      <td>...</td>\n",
       "      <td>0.0</td>\n",
       "      <td>8.5</td>\n",
       "      <td>0.0</td>\n",
       "      <td>0.0</td>\n",
       "      <td>0.0</td>\n",
       "      <td>0.2</td>\n",
       "      <td>2.1</td>\n",
       "      <td>20.4</td>\n",
       "      <td>38.8</td>\n",
       "      <td>0</td>\n",
       "    </tr>\n",
       "    <tr>\n",
       "      <th>2</th>\n",
       "      <td>54.0</td>\n",
       "      <td>0.0</td>\n",
       "      <td>172.0</td>\n",
       "      <td>95.0</td>\n",
       "      <td>138.0</td>\n",
       "      <td>163.0</td>\n",
       "      <td>386.0</td>\n",
       "      <td>185.0</td>\n",
       "      <td>102.0</td>\n",
       "      <td>96.0</td>\n",
       "      <td>...</td>\n",
       "      <td>0.0</td>\n",
       "      <td>9.5</td>\n",
       "      <td>-2.4</td>\n",
       "      <td>0.0</td>\n",
       "      <td>0.0</td>\n",
       "      <td>0.3</td>\n",
       "      <td>3.4</td>\n",
       "      <td>12.3</td>\n",
       "      <td>49.0</td>\n",
       "      <td>0</td>\n",
       "    </tr>\n",
       "    <tr>\n",
       "      <th>3</th>\n",
       "      <td>55.0</td>\n",
       "      <td>0.0</td>\n",
       "      <td>175.0</td>\n",
       "      <td>94.0</td>\n",
       "      <td>100.0</td>\n",
       "      <td>202.0</td>\n",
       "      <td>380.0</td>\n",
       "      <td>179.0</td>\n",
       "      <td>143.0</td>\n",
       "      <td>28.0</td>\n",
       "      <td>...</td>\n",
       "      <td>0.0</td>\n",
       "      <td>12.2</td>\n",
       "      <td>-2.2</td>\n",
       "      <td>0.0</td>\n",
       "      <td>0.0</td>\n",
       "      <td>0.4</td>\n",
       "      <td>2.6</td>\n",
       "      <td>34.6</td>\n",
       "      <td>61.6</td>\n",
       "      <td>0</td>\n",
       "    </tr>\n",
       "    <tr>\n",
       "      <th>4</th>\n",
       "      <td>75.0</td>\n",
       "      <td>0.0</td>\n",
       "      <td>190.0</td>\n",
       "      <td>80.0</td>\n",
       "      <td>88.0</td>\n",
       "      <td>181.0</td>\n",
       "      <td>360.0</td>\n",
       "      <td>177.0</td>\n",
       "      <td>103.0</td>\n",
       "      <td>-16.0</td>\n",
       "      <td>...</td>\n",
       "      <td>0.0</td>\n",
       "      <td>13.1</td>\n",
       "      <td>-3.6</td>\n",
       "      <td>0.0</td>\n",
       "      <td>0.0</td>\n",
       "      <td>-0.1</td>\n",
       "      <td>3.9</td>\n",
       "      <td>25.4</td>\n",
       "      <td>62.8</td>\n",
       "      <td>1</td>\n",
       "    </tr>\n",
       "  </tbody>\n",
       "</table>\n",
       "<p>5 rows × 275 columns</p>\n",
       "</div>"
      ],
      "text/plain": [
       "   Col1  Col2   Col3  Col4   Col5   Col6   Col7   Col8   Col9  Col10  ...  \\\n",
       "0  75.0   0.0  190.0  80.0   91.0  193.0  371.0  174.0  121.0  -16.0  ...   \n",
       "1  56.0   1.0  165.0  64.0   81.0  174.0  401.0  149.0   39.0   25.0  ...   \n",
       "2  54.0   0.0  172.0  95.0  138.0  163.0  386.0  185.0  102.0   96.0  ...   \n",
       "3  55.0   0.0  175.0  94.0  100.0  202.0  380.0  179.0  143.0   28.0  ...   \n",
       "4  75.0   0.0  190.0  80.0   88.0  181.0  360.0  177.0  103.0  -16.0  ...   \n",
       "\n",
       "   Col266  Col267  Col268  Col269  Col270  Col271  Col272  Col273  Col274  y  \n",
       "0     0.0     9.0    -0.9     0.0     0.0     0.9     2.9    23.3    49.4  1  \n",
       "1     0.0     8.5     0.0     0.0     0.0     0.2     2.1    20.4    38.8  0  \n",
       "2     0.0     9.5    -2.4     0.0     0.0     0.3     3.4    12.3    49.0  0  \n",
       "3     0.0    12.2    -2.2     0.0     0.0     0.4     2.6    34.6    61.6  0  \n",
       "4     0.0    13.1    -3.6     0.0     0.0    -0.1     3.9    25.4    62.8  1  \n",
       "\n",
       "[5 rows x 275 columns]"
      ]
     },
     "execution_count": 6,
     "metadata": {},
     "output_type": "execute_result"
    }
   ],
   "source": [
    "df.head()"
   ]
  },
  {
   "cell_type": "markdown",
   "id": "f6a16e2a",
   "metadata": {},
   "source": [
    "### Paths"
   ]
  },
  {
   "cell_type": "code",
   "execution_count": 7,
   "id": "761a8dd4",
   "metadata": {},
   "outputs": [],
   "source": [
    "path_fi_shap = os.path.join(data_root, \"outputs\", f\"{dataset_id}_fi_shap\")\n",
    "path_shap = os.path.join(data_root, \"outputs\", f\"{dataset_id}_shap.parquet\")"
   ]
  },
  {
   "cell_type": "markdown",
   "id": "80af490a-afeb-4e7d-9382-0c9f0449b043",
   "metadata": {},
   "source": [
    "## Features selected"
   ]
  },
  {
   "cell_type": "markdown",
   "id": "b24e97f0-e4f9-40d1-86ed-3ec4a8d566ab",
   "metadata": {},
   "source": [
    "### Generate/Load data"
   ]
  },
  {
   "cell_type": "code",
   "execution_count": 8,
   "id": "0002cc06-0389-4425-a19a-e6ac15a00abb",
   "metadata": {},
   "outputs": [],
   "source": [
    "# Simulated data and settings\n",
    "gamma, iterations = 0.146, 10\n",
    "\n",
    "# Split the DataFrame into features (X) and target (y)\n",
    "X = df.drop('y', axis=1)  # Features (all columns except 'y')\n",
    "y = df['y']  # Target (the 'y' column)\n",
    "\n",
    "# Split into training and testing sets\n",
    "xtr, xte , ytr, yte = train_test_split(X, y, test_size=0.1, random_state=seed)"
   ]
  },
  {
   "cell_type": "markdown",
   "id": "dac8b412-1268-4e62-84a9-fd93bcbeb205",
   "metadata": {},
   "source": [
    "### Generate the model"
   ]
  },
  {
   "cell_type": "code",
   "execution_count": 9,
   "id": "4b2ef065-1e29-424f-86e2-cf448f0224a2",
   "metadata": {},
   "outputs": [
    {
     "data": {
      "text/html": [
       "<style>#sk-container-id-1 {color: black;}#sk-container-id-1 pre{padding: 0;}#sk-container-id-1 div.sk-toggleable {background-color: white;}#sk-container-id-1 label.sk-toggleable__label {cursor: pointer;display: block;width: 100%;margin-bottom: 0;padding: 0.3em;box-sizing: border-box;text-align: center;}#sk-container-id-1 label.sk-toggleable__label-arrow:before {content: \"▸\";float: left;margin-right: 0.25em;color: #696969;}#sk-container-id-1 label.sk-toggleable__label-arrow:hover:before {color: black;}#sk-container-id-1 div.sk-estimator:hover label.sk-toggleable__label-arrow:before {color: black;}#sk-container-id-1 div.sk-toggleable__content {max-height: 0;max-width: 0;overflow: hidden;text-align: left;background-color: #f0f8ff;}#sk-container-id-1 div.sk-toggleable__content pre {margin: 0.2em;color: black;border-radius: 0.25em;background-color: #f0f8ff;}#sk-container-id-1 input.sk-toggleable__control:checked~div.sk-toggleable__content {max-height: 200px;max-width: 100%;overflow: auto;}#sk-container-id-1 input.sk-toggleable__control:checked~label.sk-toggleable__label-arrow:before {content: \"▾\";}#sk-container-id-1 div.sk-estimator input.sk-toggleable__control:checked~label.sk-toggleable__label {background-color: #d4ebff;}#sk-container-id-1 div.sk-label input.sk-toggleable__control:checked~label.sk-toggleable__label {background-color: #d4ebff;}#sk-container-id-1 input.sk-hidden--visually {border: 0;clip: rect(1px 1px 1px 1px);clip: rect(1px, 1px, 1px, 1px);height: 1px;margin: -1px;overflow: hidden;padding: 0;position: absolute;width: 1px;}#sk-container-id-1 div.sk-estimator {font-family: monospace;background-color: #f0f8ff;border: 1px dotted black;border-radius: 0.25em;box-sizing: border-box;margin-bottom: 0.5em;}#sk-container-id-1 div.sk-estimator:hover {background-color: #d4ebff;}#sk-container-id-1 div.sk-parallel-item::after {content: \"\";width: 100%;border-bottom: 1px solid gray;flex-grow: 1;}#sk-container-id-1 div.sk-label:hover label.sk-toggleable__label {background-color: #d4ebff;}#sk-container-id-1 div.sk-serial::before {content: \"\";position: absolute;border-left: 1px solid gray;box-sizing: border-box;top: 0;bottom: 0;left: 50%;z-index: 0;}#sk-container-id-1 div.sk-serial {display: flex;flex-direction: column;align-items: center;background-color: white;padding-right: 0.2em;padding-left: 0.2em;position: relative;}#sk-container-id-1 div.sk-item {position: relative;z-index: 1;}#sk-container-id-1 div.sk-parallel {display: flex;align-items: stretch;justify-content: center;background-color: white;position: relative;}#sk-container-id-1 div.sk-item::before, #sk-container-id-1 div.sk-parallel-item::before {content: \"\";position: absolute;border-left: 1px solid gray;box-sizing: border-box;top: 0;bottom: 0;left: 50%;z-index: -1;}#sk-container-id-1 div.sk-parallel-item {display: flex;flex-direction: column;z-index: 1;position: relative;background-color: white;}#sk-container-id-1 div.sk-parallel-item:first-child::after {align-self: flex-end;width: 50%;}#sk-container-id-1 div.sk-parallel-item:last-child::after {align-self: flex-start;width: 50%;}#sk-container-id-1 div.sk-parallel-item:only-child::after {width: 0;}#sk-container-id-1 div.sk-dashed-wrapped {border: 1px dashed gray;margin: 0 0.4em 0.5em 0.4em;box-sizing: border-box;padding-bottom: 0.4em;background-color: white;}#sk-container-id-1 div.sk-label label {font-family: monospace;font-weight: bold;display: inline-block;line-height: 1.2em;}#sk-container-id-1 div.sk-label-container {text-align: center;}#sk-container-id-1 div.sk-container {/* jupyter's `normalize.less` sets `[hidden] { display: none; }` but bootstrap.min.css set `[hidden] { display: none !important; }` so we also need the `!important` here to be able to override the default hidden behavior on the sphinx rendered scikit-learn.org. See: https://github.com/scikit-learn/scikit-learn/issues/21755 */display: inline-block !important;position: relative;}#sk-container-id-1 div.sk-text-repr-fallback {display: none;}</style><div id=\"sk-container-id-1\" class=\"sk-top-container\"><div class=\"sk-text-repr-fallback\"><pre>IsolationForest(contamination=0.1, random_state=123)</pre><b>In a Jupyter environment, please rerun this cell to show the HTML representation or trust the notebook. <br />On GitHub, the HTML representation is unable to render, please try loading this page with nbviewer.org.</b></div><div class=\"sk-container\" hidden><div class=\"sk-item\"><div class=\"sk-estimator sk-toggleable\"><input class=\"sk-toggleable__control sk-hidden--visually\" id=\"sk-estimator-id-1\" type=\"checkbox\" checked><label for=\"sk-estimator-id-1\" class=\"sk-toggleable__label sk-toggleable__label-arrow\">IsolationForest</label><div class=\"sk-toggleable__content\"><pre>IsolationForest(contamination=0.1, random_state=123)</pre></div></div></div></div></div>"
      ],
      "text/plain": [
       "IsolationForest(contamination=0.1, random_state=123)"
      ]
     },
     "execution_count": 9,
     "metadata": {},
     "output_type": "execute_result"
    }
   ],
   "source": [
    "# Initialize and train the IsolationForest model\n",
    "model = IsolationForest(**hyper, random_state=seed)\n",
    "model.fit(xtr)"
   ]
  },
  {
   "cell_type": "markdown",
   "id": "04dbe03d-f948-4726-aa3d-adedbf2233a7",
   "metadata": {},
   "source": [
    "### Features names"
   ]
  },
  {
   "cell_type": "code",
   "execution_count": 10,
   "id": "c5a4da8e-1c12-4d1b-98d1-d796dfb7dbac",
   "metadata": {},
   "outputs": [],
   "source": [
    "feature_names = np.array(X.columns.tolist())"
   ]
  },
  {
   "cell_type": "markdown",
   "id": "3560f4b1-1b0d-4df4-a223-a4a0d4f4da8f",
   "metadata": {},
   "source": [
    "### Selection process"
   ]
  },
  {
   "cell_type": "code",
   "execution_count": 11,
   "id": "b7ae741c-37b8-4ed1-bb9b-ab9255ba26f4",
   "metadata": {},
   "outputs": [],
   "source": [
    "# Example usage:\n",
    "selected_features_df = shap_feature_selection(model, xtr, xte, feature_names, agnostic=False)\n",
    "fi_shap_all = process_fi(selected_features_df, 10)\n",
    "fi_shap_all.to_parquet(path_fi_shap)"
   ]
  },
  {
   "cell_type": "code",
   "execution_count": 12,
   "id": "f15fda19-fe97-4b71-850c-9c11e4946c98",
   "metadata": {},
   "outputs": [
    {
     "data": {
      "text/html": [
       "<div>\n",
       "<style scoped>\n",
       "    .dataframe tbody tr th:only-of-type {\n",
       "        vertical-align: middle;\n",
       "    }\n",
       "\n",
       "    .dataframe tbody tr th {\n",
       "        vertical-align: top;\n",
       "    }\n",
       "\n",
       "    .dataframe thead th {\n",
       "        text-align: right;\n",
       "    }\n",
       "</style>\n",
       "<table border=\"1\" class=\"dataframe\">\n",
       "  <thead>\n",
       "    <tr style=\"text-align: right;\">\n",
       "      <th></th>\n",
       "      <th>n_feats</th>\n",
       "      <th>cum_value</th>\n",
       "      <th>cum_value_percentage</th>\n",
       "      <th>n_feats_percentage</th>\n",
       "      <th>feat_selected</th>\n",
       "    </tr>\n",
       "  </thead>\n",
       "  <tbody>\n",
       "    <tr>\n",
       "      <th>0</th>\n",
       "      <td>7</td>\n",
       "      <td>0.329801</td>\n",
       "      <td>10.581778</td>\n",
       "      <td>2.8</td>\n",
       "      <td>[Col241, Col64, Col1, Col24, Col238, Col258, C...</td>\n",
       "    </tr>\n",
       "    <tr>\n",
       "      <th>1</th>\n",
       "      <td>15</td>\n",
       "      <td>0.611906</td>\n",
       "      <td>19.633257</td>\n",
       "      <td>6.0</td>\n",
       "      <td>[Col241, Col64, Col1, Col24, Col238, Col258, C...</td>\n",
       "    </tr>\n",
       "    <tr>\n",
       "      <th>2</th>\n",
       "      <td>27</td>\n",
       "      <td>0.936890</td>\n",
       "      <td>30.060486</td>\n",
       "      <td>10.8</td>\n",
       "      <td>[Col241, Col64, Col1, Col24, Col238, Col258, C...</td>\n",
       "    </tr>\n",
       "    <tr>\n",
       "      <th>3</th>\n",
       "      <td>40</td>\n",
       "      <td>1.245272</td>\n",
       "      <td>39.955028</td>\n",
       "      <td>16.0</td>\n",
       "      <td>[Col241, Col64, Col1, Col24, Col238, Col258, C...</td>\n",
       "    </tr>\n",
       "    <tr>\n",
       "      <th>4</th>\n",
       "      <td>55</td>\n",
       "      <td>1.558140</td>\n",
       "      <td>49.993532</td>\n",
       "      <td>22.0</td>\n",
       "      <td>[Col241, Col64, Col1, Col24, Col238, Col258, C...</td>\n",
       "    </tr>\n",
       "    <tr>\n",
       "      <th>5</th>\n",
       "      <td>72</td>\n",
       "      <td>1.872638</td>\n",
       "      <td>60.084302</td>\n",
       "      <td>28.8</td>\n",
       "      <td>[Col241, Col64, Col1, Col24, Col238, Col258, C...</td>\n",
       "    </tr>\n",
       "    <tr>\n",
       "      <th>6</th>\n",
       "      <td>91</td>\n",
       "      <td>2.175131</td>\n",
       "      <td>69.789932</td>\n",
       "      <td>36.4</td>\n",
       "      <td>[Col241, Col64, Col1, Col24, Col238, Col258, C...</td>\n",
       "    </tr>\n",
       "    <tr>\n",
       "      <th>7</th>\n",
       "      <td>115</td>\n",
       "      <td>2.491822</td>\n",
       "      <td>79.951065</td>\n",
       "      <td>46.0</td>\n",
       "      <td>[Col241, Col64, Col1, Col24, Col238, Col258, C...</td>\n",
       "    </tr>\n",
       "    <tr>\n",
       "      <th>8</th>\n",
       "      <td>147</td>\n",
       "      <td>2.804326</td>\n",
       "      <td>89.977901</td>\n",
       "      <td>58.8</td>\n",
       "      <td>[Col241, Col64, Col1, Col24, Col238, Col258, C...</td>\n",
       "    </tr>\n",
       "    <tr>\n",
       "      <th>9</th>\n",
       "      <td>250</td>\n",
       "      <td>3.116684</td>\n",
       "      <td>100.000000</td>\n",
       "      <td>100.0</td>\n",
       "      <td>[Col241, Col64, Col1, Col24, Col238, Col258, C...</td>\n",
       "    </tr>\n",
       "    <tr>\n",
       "      <th>10</th>\n",
       "      <td>274</td>\n",
       "      <td>3.116684</td>\n",
       "      <td>100.000000</td>\n",
       "      <td>100.0</td>\n",
       "      <td>[Col241, Col64, Col1, Col24, Col238, Col258, C...</td>\n",
       "    </tr>\n",
       "  </tbody>\n",
       "</table>\n",
       "</div>"
      ],
      "text/plain": [
       "    n_feats  cum_value  cum_value_percentage  n_feats_percentage  \\\n",
       "0         7   0.329801             10.581778                 2.8   \n",
       "1        15   0.611906             19.633257                 6.0   \n",
       "2        27   0.936890             30.060486                10.8   \n",
       "3        40   1.245272             39.955028                16.0   \n",
       "4        55   1.558140             49.993532                22.0   \n",
       "5        72   1.872638             60.084302                28.8   \n",
       "6        91   2.175131             69.789932                36.4   \n",
       "7       115   2.491822             79.951065                46.0   \n",
       "8       147   2.804326             89.977901                58.8   \n",
       "9       250   3.116684            100.000000               100.0   \n",
       "10      274   3.116684            100.000000               100.0   \n",
       "\n",
       "                                        feat_selected  \n",
       "0   [Col241, Col64, Col1, Col24, Col238, Col258, C...  \n",
       "1   [Col241, Col64, Col1, Col24, Col238, Col258, C...  \n",
       "2   [Col241, Col64, Col1, Col24, Col238, Col258, C...  \n",
       "3   [Col241, Col64, Col1, Col24, Col238, Col258, C...  \n",
       "4   [Col241, Col64, Col1, Col24, Col238, Col258, C...  \n",
       "5   [Col241, Col64, Col1, Col24, Col238, Col258, C...  \n",
       "6   [Col241, Col64, Col1, Col24, Col238, Col258, C...  \n",
       "7   [Col241, Col64, Col1, Col24, Col238, Col258, C...  \n",
       "8   [Col241, Col64, Col1, Col24, Col238, Col258, C...  \n",
       "9   [Col241, Col64, Col1, Col24, Col238, Col258, C...  \n",
       "10  [Col241, Col64, Col1, Col24, Col238, Col258, C...  "
      ]
     },
     "execution_count": 12,
     "metadata": {},
     "output_type": "execute_result"
    }
   ],
   "source": [
    "fi_shap_all = pd.read_parquet(path_fi_shap)\n",
    "fi_shap_all = adjust_fi(fi_shap_all)\n",
    "fi_shap_all"
   ]
  },
  {
   "cell_type": "markdown",
   "id": "1e2862e7-e5f1-4565-a1cb-f089bcfde5ef",
   "metadata": {},
   "source": [
    "### Generate data"
   ]
  },
  {
   "cell_type": "code",
   "execution_count": 13,
   "id": "0a96e4f1-084d-41bf-a985-f3f4683bc810",
   "metadata": {},
   "outputs": [
    {
     "name": "stderr",
     "output_type": "stream",
     "text": [
      "2024-08-29 16:15:41,277 - INFO - Starting experiment with 7 features.\n",
      "2024-08-29 16:15:41,281 - INFO - Starting model training with 7 features and 25 estimators.\n",
      "2024-08-29 16:15:47,257 - INFO - Starting model training with 7 features and 50 estimators.\n",
      "2024-08-29 16:15:48,841 - INFO - Starting model training with 7 features and 75 estimators.\n",
      "2024-08-29 16:15:50,947 - INFO - Starting model training with 7 features and 100 estimators.\n",
      "2024-08-29 16:15:54,122 - INFO - Starting model training with 7 features and 125 estimators.\n",
      "2024-08-29 16:15:57,857 - INFO - Starting model training with 7 features and 150 estimators.\n",
      "2024-08-29 16:16:01,735 - INFO - Starting model training with 7 features and 175 estimators.\n",
      "2024-08-29 16:16:06,136 - INFO - Starting model training with 7 features and 200 estimators.\n",
      "2024-08-29 16:16:11,025 - INFO - Starting experiment with 15 features.\n",
      "2024-08-29 16:16:11,027 - INFO - Starting model training with 15 features and 25 estimators.\n",
      "2024-08-29 16:16:11,888 - INFO - Starting model training with 15 features and 50 estimators.\n",
      "2024-08-29 16:16:13,771 - INFO - Starting model training with 15 features and 75 estimators.\n",
      "2024-08-29 16:16:16,122 - INFO - Starting model training with 15 features and 100 estimators.\n",
      "2024-08-29 16:16:19,153 - INFO - Starting model training with 15 features and 125 estimators.\n",
      "2024-08-29 16:16:23,609 - INFO - Starting model training with 15 features and 150 estimators.\n",
      "2024-08-29 16:16:28,006 - INFO - Starting model training with 15 features and 175 estimators.\n",
      "2024-08-29 16:16:32,976 - INFO - Starting model training with 15 features and 200 estimators.\n",
      "2024-08-29 16:16:38,549 - INFO - Starting experiment with 27 features.\n",
      "2024-08-29 16:16:38,555 - INFO - Starting model training with 27 features and 25 estimators.\n",
      "2024-08-29 16:16:39,486 - INFO - Starting model training with 27 features and 50 estimators.\n",
      "2024-08-29 16:16:40,803 - INFO - Starting model training with 27 features and 75 estimators.\n",
      "2024-08-29 16:16:42,743 - INFO - Starting model training with 27 features and 100 estimators.\n",
      "2024-08-29 16:16:46,265 - INFO - Starting model training with 27 features and 125 estimators.\n",
      "2024-08-29 16:16:49,304 - INFO - Starting model training with 27 features and 150 estimators.\n",
      "2024-08-29 16:16:53,295 - INFO - Starting model training with 27 features and 175 estimators.\n",
      "2024-08-29 16:16:57,726 - INFO - Starting model training with 27 features and 200 estimators.\n",
      "2024-08-29 16:17:02,983 - INFO - Starting experiment with 40 features.\n",
      "2024-08-29 16:17:02,985 - INFO - Starting model training with 40 features and 25 estimators.\n",
      "2024-08-29 16:17:03,911 - INFO - Starting model training with 40 features and 50 estimators.\n",
      "2024-08-29 16:17:06,255 - INFO - Starting model training with 40 features and 75 estimators.\n",
      "2024-08-29 16:17:09,039 - INFO - Starting model training with 40 features and 100 estimators.\n",
      "2024-08-29 16:17:13,627 - INFO - Starting model training with 40 features and 125 estimators.\n",
      "2024-08-29 16:17:17,300 - INFO - Starting model training with 40 features and 150 estimators.\n",
      "2024-08-29 16:17:22,126 - INFO - Starting model training with 40 features and 175 estimators.\n",
      "2024-08-29 16:17:28,043 - INFO - Starting model training with 40 features and 200 estimators.\n",
      "2024-08-29 16:17:35,618 - INFO - Starting experiment with 55 features.\n",
      "2024-08-29 16:17:35,626 - INFO - Starting model training with 55 features and 25 estimators.\n",
      "2024-08-29 16:17:36,494 - INFO - Starting model training with 55 features and 50 estimators.\n",
      "2024-08-29 16:17:38,301 - INFO - Starting model training with 55 features and 75 estimators.\n",
      "2024-08-29 16:17:41,883 - INFO - Starting model training with 55 features and 100 estimators.\n",
      "2024-08-29 16:17:45,328 - INFO - Starting model training with 55 features and 125 estimators.\n",
      "2024-08-29 16:17:48,556 - INFO - Starting model training with 55 features and 150 estimators.\n",
      "2024-08-29 16:17:52,773 - INFO - Starting model training with 55 features and 175 estimators.\n",
      "2024-08-29 16:17:57,866 - INFO - Starting model training with 55 features and 200 estimators.\n",
      "2024-08-29 16:18:03,901 - INFO - Starting experiment with 72 features.\n",
      "2024-08-29 16:18:03,903 - INFO - Starting model training with 72 features and 25 estimators.\n",
      "2024-08-29 16:18:05,031 - INFO - Starting model training with 72 features and 50 estimators.\n",
      "2024-08-29 16:18:07,021 - INFO - Starting model training with 72 features and 75 estimators.\n",
      "2024-08-29 16:18:09,391 - INFO - Starting model training with 72 features and 100 estimators.\n",
      "2024-08-29 16:18:11,976 - INFO - Starting model training with 72 features and 125 estimators.\n",
      "2024-08-29 16:18:15,086 - INFO - Starting model training with 72 features and 150 estimators.\n",
      "2024-08-29 16:18:19,094 - INFO - Starting model training with 72 features and 175 estimators.\n",
      "2024-08-29 16:18:25,514 - INFO - Starting model training with 72 features and 200 estimators.\n",
      "2024-08-29 16:18:32,247 - INFO - Starting experiment with 91 features.\n",
      "2024-08-29 16:18:32,249 - INFO - Starting model training with 91 features and 25 estimators.\n",
      "2024-08-29 16:18:33,272 - INFO - Starting model training with 91 features and 50 estimators.\n",
      "2024-08-29 16:18:34,773 - INFO - Starting model training with 91 features and 75 estimators.\n",
      "2024-08-29 16:18:37,010 - INFO - Starting model training with 91 features and 100 estimators.\n",
      "2024-08-29 16:18:40,467 - INFO - Starting model training with 91 features and 125 estimators.\n",
      "2024-08-29 16:18:45,171 - INFO - Starting model training with 91 features and 150 estimators.\n",
      "2024-08-29 16:18:50,287 - INFO - Starting model training with 91 features and 175 estimators.\n",
      "2024-08-29 16:18:58,086 - INFO - Starting model training with 91 features and 200 estimators.\n",
      "2024-08-29 16:19:05,907 - INFO - Starting experiment with 115 features.\n",
      "2024-08-29 16:19:05,909 - INFO - Starting model training with 115 features and 25 estimators.\n",
      "2024-08-29 16:19:06,891 - INFO - Starting model training with 115 features and 50 estimators.\n",
      "2024-08-29 16:19:08,773 - INFO - Starting model training with 115 features and 75 estimators.\n",
      "2024-08-29 16:19:11,268 - INFO - Starting model training with 115 features and 100 estimators.\n",
      "2024-08-29 16:19:13,973 - INFO - Starting model training with 115 features and 125 estimators.\n",
      "2024-08-29 16:19:17,376 - INFO - Starting model training with 115 features and 150 estimators.\n",
      "2024-08-29 16:19:21,190 - INFO - Starting model training with 115 features and 175 estimators.\n",
      "2024-08-29 16:19:26,545 - INFO - Starting model training with 115 features and 200 estimators.\n",
      "2024-08-29 16:19:32,940 - INFO - Starting experiment with 147 features.\n",
      "2024-08-29 16:19:32,942 - INFO - Starting model training with 147 features and 25 estimators.\n",
      "2024-08-29 16:19:33,938 - INFO - Starting model training with 147 features and 50 estimators.\n",
      "2024-08-29 16:19:35,591 - INFO - Starting model training with 147 features and 75 estimators.\n",
      "2024-08-29 16:19:38,007 - INFO - Starting model training with 147 features and 100 estimators.\n",
      "2024-08-29 16:19:41,198 - INFO - Starting model training with 147 features and 125 estimators.\n",
      "2024-08-29 16:19:45,207 - INFO - Starting model training with 147 features and 150 estimators.\n",
      "2024-08-29 16:19:49,576 - INFO - Starting model training with 147 features and 175 estimators.\n",
      "2024-08-29 16:19:54,842 - INFO - Starting model training with 147 features and 200 estimators.\n",
      "2024-08-29 16:20:01,016 - INFO - Starting experiment with 250 features.\n",
      "2024-08-29 16:20:01,019 - INFO - Starting model training with 250 features and 25 estimators.\n",
      "2024-08-29 16:20:02,357 - INFO - Starting model training with 250 features and 50 estimators.\n",
      "2024-08-29 16:20:05,179 - INFO - Starting model training with 250 features and 75 estimators.\n",
      "2024-08-29 16:20:09,305 - INFO - Starting model training with 250 features and 100 estimators.\n",
      "2024-08-29 16:20:14,318 - INFO - Starting model training with 250 features and 125 estimators.\n",
      "2024-08-29 16:20:19,133 - INFO - Starting model training with 250 features and 150 estimators.\n",
      "2024-08-29 16:20:23,694 - INFO - Starting model training with 250 features and 175 estimators.\n",
      "2024-08-29 16:20:28,275 - INFO - Starting model training with 250 features and 200 estimators.\n",
      "2024-08-29 16:20:33,434 - INFO - Starting experiment with 274 features.\n",
      "2024-08-29 16:20:33,439 - INFO - Starting model training with 274 features and 25 estimators.\n",
      "2024-08-29 16:20:34,660 - INFO - Starting model training with 274 features and 50 estimators.\n",
      "2024-08-29 16:20:36,339 - INFO - Starting model training with 274 features and 75 estimators.\n",
      "2024-08-29 16:20:38,577 - INFO - Starting model training with 274 features and 100 estimators.\n",
      "2024-08-29 16:20:41,317 - INFO - Starting model training with 274 features and 125 estimators.\n",
      "2024-08-29 16:20:44,730 - INFO - Starting model training with 274 features and 150 estimators.\n",
      "2024-08-29 16:20:49,019 - INFO - Starting model training with 274 features and 175 estimators.\n",
      "2024-08-29 16:20:53,535 - INFO - Starting model training with 274 features and 200 estimators.\n"
     ]
    },
    {
     "name": "stdout",
     "output_type": "stream",
     "text": [
      "Duration: 0:05:17.226855\n"
     ]
    }
   ],
   "source": [
    "# Capture the start time\n",
    "start_time = datetime.datetime.now()\n",
    "\n",
    "results = run_model_experiment(fi_shap_all, df, hyper, \n",
    "                     gamma=gamma, iterations=iterations, \n",
    "                     n_estimators_list=n_estimators_list, seed=seed, \n",
    "                     dataset_id=dataset_id)\n",
    "\n",
    "# Capture the finish time\n",
    "finish_time = datetime.datetime.now()\n",
    "\n",
    "# Calculate the duration\n",
    "duration = finish_time - start_time\n",
    "\n",
    "print(f\"Duration: {duration}\")"
   ]
  },
  {
   "cell_type": "code",
   "execution_count": 14,
   "id": "88f1de71-b299-4aa4-ba15-f97d25199f2c",
   "metadata": {},
   "outputs": [],
   "source": [
    "results.to_parquet(path_shap)"
   ]
  },
  {
   "cell_type": "code",
   "execution_count": 15,
   "id": "293d0ba9-58cc-49d6-be72-aa4e36cb45b3",
   "metadata": {},
   "outputs": [],
   "source": [
    "df = pd.read_parquet(path_shap)"
   ]
  },
  {
   "cell_type": "code",
   "execution_count": 26,
   "id": "6460692d-2911-40a0-ba10-f7ae0cc74648",
   "metadata": {},
   "outputs": [
    {
     "name": "stderr",
     "output_type": "stream",
     "text": [
      "2024-08-29 16:26:29,031 - INFO - Using categorical units to plot a list of strings that are all parsable as floats or dates. If these strings should be plotted as numbers, cast to the appropriate data type before plotting.\n",
      "2024-08-29 16:26:29,040 - INFO - Using categorical units to plot a list of strings that are all parsable as floats or dates. If these strings should be plotted as numbers, cast to the appropriate data type before plotting.\n",
      "2024-08-29 16:26:29,159 - INFO - Using categorical units to plot a list of strings that are all parsable as floats or dates. If these strings should be plotted as numbers, cast to the appropriate data type before plotting.\n",
      "2024-08-29 16:26:29,172 - INFO - Using categorical units to plot a list of strings that are all parsable as floats or dates. If these strings should be plotted as numbers, cast to the appropriate data type before plotting.\n",
      "2024-08-29 16:26:29,281 - INFO - Using categorical units to plot a list of strings that are all parsable as floats or dates. If these strings should be plotted as numbers, cast to the appropriate data type before plotting.\n",
      "2024-08-29 16:26:29,290 - INFO - Using categorical units to plot a list of strings that are all parsable as floats or dates. If these strings should be plotted as numbers, cast to the appropriate data type before plotting.\n"
     ]
    },
    {
     "data": {
      "image/png": "[encoded data removed]",
      "text/plain": [
       "<Figure size 1200x1000 with 6 Axes>"
      ]
     },
     "metadata": {},
     "output_type": "display_data"
    }
   ],
   "source": [
    "plots_metrics(\n",
    "    metrics_df=df,\n",
    "    feat_imp=[100, 80, 60],\n",
    "    metrics_list=['f1-score', 'recall', 'precision', 'roc_auc', 'smli', 'smli_all'],\n",
    "    metrics_merge_list=['f1-score', 'precision', 'recall', 'roc_auc', 'smli']\n",
    ")"
   ]
  },
  {
   "cell_type": "code",
   "execution_count": null,
   "id": "5ea6a507-d2d7-4f34-97b3-8253c749204d",
   "metadata": {},
   "outputs": [],
   "source": []
  }
 ],
 "metadata": {
  "environment": {
   "name": "common-cpu.m80",
   "type": "gcloud",
   "uri": "gcr.io/deeplearning-platform-release/base-cpu:m80"
  },
  "kernelspec": {
   "display_name": "Python 3 (ipykernel)",
   "language": "python",
   "name": "python3"
  },
  "language_info": {
   "codemirror_mode": {
    "name": "ipython",
    "version": 3
   },
   "file_extension": ".py",
   "mimetype": "text/x-python",
   "name": "python",
   "nbconvert_exporter": "python",
   "pygments_lexer": "ipython3",
   "version": "3.9.12"
  },
  "vscode": {
   "interpreter": {
    "hash": "c7bb90c4ec68b2a8968b0075ab0b1cb7a78770acf7a7acf2e36e903fa05bac64"
   }
  }
 },
 "nbformat": 4,
 "nbformat_minor": 5
}

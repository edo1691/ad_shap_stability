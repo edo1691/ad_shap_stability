{
 "cells": [
  {
   "cell_type": "markdown",
   "id": "123c1709-aadd-4c93-a80a-0a0c44290983",
   "metadata": {},
   "source": [
    "# iForest"
   ]
  },
  {
   "cell_type": "code",
   "execution_count": 1,
   "id": "2520ef24",
   "metadata": {},
   "outputs": [],
   "source": [
    "import warnings\n",
    "warnings.filterwarnings('ignore')"
   ]
  },
  {
   "cell_type": "markdown",
   "id": "11e4854b-87bd-490e-88e4-9a64631dc5bb",
   "metadata": {
    "tags": []
   },
   "source": [
    "## General libraries"
   ]
  },
  {
   "cell_type": "code",
   "execution_count": 2,
   "id": "feba20a1-5d20-4127-888b-b0e4c72f4757",
   "metadata": {},
   "outputs": [],
   "source": [
    "import os\n",
    "import sys\n",
    "\n",
    "import pandas as pd\n",
    "import numpy as np\n",
    "\n",
    "from os.path import join\n",
    "import json\n",
    "import datetime\n",
    "\n",
    "import time"
   ]
  },
  {
   "cell_type": "markdown",
   "id": "de633751",
   "metadata": {},
   "source": [
    "### Load enviroment variables"
   ]
  },
  {
   "cell_type": "code",
   "execution_count": 3,
   "id": "64a57d38",
   "metadata": {},
   "outputs": [],
   "source": [
    "from dotenv import load_dotenv\n",
    "load_dotenv('../.env')\n",
    "\n",
    "code_root = os.environ['CODE_ROOT']\n",
    "cfg_path = os.environ['CFG_PATH']\n",
    "data_root = os.environ['DATA_ROOT']\n",
    "\n",
    "sys.path.insert(0, code_root)"
   ]
  },
  {
   "cell_type": "markdown",
   "id": "6d1ee99b-97d7-4059-b242-380656087497",
   "metadata": {},
   "source": [
    "### Specific libraries"
   ]
  },
  {
   "cell_type": "code",
   "execution_count": 4,
   "id": "b670745e",
   "metadata": {},
   "outputs": [],
   "source": [
    "from src.load.functions import get_fs_dataset, fs_datasets_hyperparams\n",
    "\n",
    "from src.model.functions import train_and_evaluate_iforest\n",
    "#from src.stability.functions import stability_measure_model, stability_measure_shap"
   ]
  },
  {
   "cell_type": "markdown",
   "id": "5c360966",
   "metadata": {},
   "source": [
    "## General parameters"
   ]
  },
  {
   "cell_type": "code",
   "execution_count": 5,
   "id": "27ef64e3",
   "metadata": {},
   "outputs": [],
   "source": [
    "n_iter_fs = 1\n",
    "n_iter = 1\n",
    "contamination_percentage = [0.8] \n",
    "trees = [25, 50, 100, 125, 150, 175, 200, 225, 250, 300]\n",
    "\n",
    "# Function to calculate median of a list\n",
    "def calculate_median(numbers_list):\n",
    "    return np.median(numbers_list)\n",
    "\n",
    "# Function to calculate mean of a list\n",
    "def calculate_mean(numbers_list):\n",
    "    return np.mean(numbers_list)\n",
    "\n",
    "# Define aggregation criteria for each variable\n",
    "aggregation_rules = {\n",
    "    'n_iter': 'max',\n",
    "    'n_iter_fs': 'max',\n",
    "    'f1_median': 'mean',\n",
    "    'recall_median': 'mean',\n",
    "    'precision_median': 'mean',\n",
    "    'roc_auc': 'mean',\n",
    "    'iforest_stab_unif_median': 'median',\n",
    "    'shap_stab_median': 'median',\n",
    "    'shap_stab_mean': 'mean',\n",
    "}"
   ]
  },
  {
   "cell_type": "markdown",
   "id": "b7db27ee-405e-4faa-a7e9-6b8cdf41d437",
   "metadata": {
    "tags": []
   },
   "source": [
    "## Arrhythmia"
   ]
  },
  {
   "cell_type": "markdown",
   "id": "70f383d5",
   "metadata": {},
   "source": [
    "**Dataset source**: http://odds.cs.stonybrook.edu/arrhythmia-dataset/ (data is transformed from .mat to .csv format)\n",
    "\n",
    "Shebuti Rayana (2016). ODDS Library [http://odds.cs.stonybrook.edu]. Stony Brook, NY: Stony Brook University, Department of Computer Science.\n",
    "\n",
    "**Additional sources**:\n",
    "\n",
    "Liu, Fei Tony, Kai Ming Ting, and Zhi-Hua Zhou. “Isolation forest.” 2008 Eighth IEEE International Conference on Data Mining. IEEE, 2008.\n",
    "\n",
    "K. M. Ting, J. T. S. Chuan, and F. T. Liu. “Mass: A New Ranking Measure for Anomaly Detection.“, IEEE Transactions on Knowledge and Data Engineering, 2009.\n",
    "\n",
    "F. Keller, E. Muller, K. Bohm.“HiCS: High-contrast subspaces for density-based outlier ranking.” ICDE, 2012."
   ]
  },
  {
   "cell_type": "code",
   "execution_count": 6,
   "id": "4a527899-7fe8-4aea-80f8-2e0447fde772",
   "metadata": {},
   "outputs": [],
   "source": [
    "dataset_id = 'arrhythmia'"
   ]
  },
  {
   "cell_type": "code",
   "execution_count": 7,
   "id": "97f1d076",
   "metadata": {},
   "outputs": [],
   "source": [
    "data = get_fs_dataset(dataset_id, data_root)"
   ]
  },
  {
   "cell_type": "code",
   "execution_count": 8,
   "id": "76666a27-50e4-4926-aec3-bc7d0303f482",
   "metadata": {},
   "outputs": [],
   "source": [
    "hyper = fs_datasets_hyperparams(dataset_id)"
   ]
  },
  {
   "cell_type": "code",
   "execution_count": 9,
   "id": "7a470d6c-c28d-4798-aec0-2361530d8bf8",
   "metadata": {},
   "outputs": [
    {
     "data": {
      "text/plain": [
       "(452, 275)"
      ]
     },
     "execution_count": 9,
     "metadata": {},
     "output_type": "execute_result"
    }
   ],
   "source": [
    "data.shape"
   ]
  },
  {
   "cell_type": "code",
   "execution_count": 10,
   "id": "937686a7-6d97-4ed0-890a-4575bd4403f9",
   "metadata": {},
   "outputs": [
    {
     "data": {
      "text/html": [
       "<div>\n",
       "<style scoped>\n",
       "    .dataframe tbody tr th:only-of-type {\n",
       "        vertical-align: middle;\n",
       "    }\n",
       "\n",
       "    .dataframe tbody tr th {\n",
       "        vertical-align: top;\n",
       "    }\n",
       "\n",
       "    .dataframe thead th {\n",
       "        text-align: right;\n",
       "    }\n",
       "</style>\n",
       "<table border=\"1\" class=\"dataframe\">\n",
       "  <thead>\n",
       "    <tr style=\"text-align: right;\">\n",
       "      <th></th>\n",
       "      <th>Col1</th>\n",
       "    </tr>\n",
       "    <tr>\n",
       "      <th>y</th>\n",
       "      <th></th>\n",
       "    </tr>\n",
       "  </thead>\n",
       "  <tbody>\n",
       "    <tr>\n",
       "      <th>0</th>\n",
       "      <td>386</td>\n",
       "    </tr>\n",
       "    <tr>\n",
       "      <th>1</th>\n",
       "      <td>66</td>\n",
       "    </tr>\n",
       "  </tbody>\n",
       "</table>\n",
       "</div>"
      ],
      "text/plain": [
       "   Col1\n",
       "y      \n",
       "0   386\n",
       "1    66"
      ]
     },
     "execution_count": 10,
     "metadata": {},
     "output_type": "execute_result"
    }
   ],
   "source": [
    "pd.pivot_table(data,\n",
    "             values = 'Col1',\n",
    "               index = 'y', \n",
    "              aggfunc = 'count')"
   ]
  },
  {
   "cell_type": "code",
   "execution_count": 11,
   "id": "6a540a60-dc06-477f-acda-ac0d564fb5ee",
   "metadata": {},
   "outputs": [],
   "source": [
    "excluded_cols = ['Col15', 'Col63', 'Col65', 'Col79', 'Col127', 'Col128','Col135', 'Col137', 'Col139','Col141','Col147', 'Col152', 'Col153', 'Col160', 'Col200', 'Col260', 'Col270']"
   ]
  },
  {
   "cell_type": "markdown",
   "id": "72d0f5e9-900d-4121-9d91-3b201911e14f",
   "metadata": {
    "jp-MarkdownHeadingCollapsed": true,
    "tags": []
   },
   "source": [
    "### iForest"
   ]
  },
  {
   "cell_type": "markdown",
   "id": "f6a16e2a",
   "metadata": {},
   "source": [
    "## Parameters"
   ]
  },
  {
   "cell_type": "code",
   "execution_count": 12,
   "id": "761a8dd4",
   "metadata": {},
   "outputs": [
    {
     "data": {
      "text/plain": [
       "'/Users/allianz/workspace_github_pers/ad_shap_stability/test/data/outputs/arrhythmia_results_if.parquet'"
      ]
     },
     "execution_count": 12,
     "metadata": {},
     "output_type": "execute_result"
    }
   ],
   "source": [
    "# path\n",
    "path = os.path.join(data_root, \"outputs\", f\"{dataset_id}_results_if.parquet\")\n",
    "path"
   ]
  },
  {
   "cell_type": "code",
   "execution_count": 13,
   "id": "5bb22a04",
   "metadata": {},
   "outputs": [
    {
     "data": {
      "text/plain": [
       "{'contamination': 0.146, 'max_samples': 256, 'n_estimators': 100}"
      ]
     },
     "execution_count": 13,
     "metadata": {},
     "output_type": "execute_result"
    }
   ],
   "source": [
    "hyper = fs_datasets_hyperparams(dataset_id)\n",
    "hyper"
   ]
  },
  {
   "cell_type": "markdown",
   "id": "67bd69a7",
   "metadata": {},
   "source": [
    "### Iforest full features"
   ]
  },
  {
   "cell_type": "code",
   "execution_count": 14,
   "id": "e2789843",
   "metadata": {},
   "outputs": [
    {
     "name": "stdout",
     "output_type": "stream",
     "text": [
      "Iteration by tree number: 25\n",
      "  Iteration by contamination: 0.117\n",
      "    Number of featured: 257\n",
      "Iteration by tree number: 50\n",
      "  Iteration by contamination: 0.117\n",
      "    Number of featured: 257\n",
      "Iteration by tree number: 100\n",
      "  Iteration by contamination: 0.117\n",
      "    Number of featured: 257\n",
      "Iteration by tree number: 125\n",
      "  Iteration by contamination: 0.117\n",
      "    Number of featured: 257\n",
      "Iteration by tree number: 150\n",
      "  Iteration by contamination: 0.117\n",
      "    Number of featured: 257\n",
      "Iteration by tree number: 175\n",
      "  Iteration by contamination: 0.117\n",
      "    Number of featured: 257\n",
      "Iteration by tree number: 200\n",
      "  Iteration by contamination: 0.117\n",
      "    Number of featured: 257\n",
      "Iteration by tree number: 225\n",
      "  Iteration by contamination: 0.117\n",
      "    Number of featured: 257\n",
      "Iteration by tree number: 250\n",
      "  Iteration by contamination: 0.117\n",
      "    Number of featured: 257\n",
      "Iteration by tree number: 300\n",
      "  Iteration by contamination: 0.117\n",
      "    Number of featured: 257\n",
      "Duration: 0:01:07.763185\n"
     ]
    }
   ],
   "source": [
    "# Capture the start time\n",
    "start_time = datetime.datetime.now()\n",
    "\n",
    "df = train_and_evaluate_iforest(data, dataset_id=dataset_id, hyper=hyper, n_tree_estimators=trees, contamination_percentage=contamination_percentage, excluded_cols=excluded_cols, n_iter_fs=n_iter_fs, n_iter=n_iter)\n",
    "\n",
    "# Capture the finish time\n",
    "finish_time = datetime.datetime.now()\n",
    "\n",
    "# Calculate the duration\n",
    "duration = finish_time - start_time\n",
    "\n",
    "print(f\"Duration: {duration}\")\n"
   ]
  },
  {
   "cell_type": "code",
   "execution_count": 15,
   "id": "cf7871ad-99cf-4d5e-8753-1c6e0a163b3a",
   "metadata": {},
   "outputs": [],
   "source": [
    "df['shap_median'] = df['shap_iforest_stab_unif_median'].apply(lambda x: np.median(x))"
   ]
  },
  {
   "cell_type": "code",
   "execution_count": 16,
   "id": "294d89d4-4c42-481d-ae2b-7bbfa815412a",
   "metadata": {},
   "outputs": [
    {
     "data": {
      "text/html": [
       "<div>\n",
       "<style scoped>\n",
       "    .dataframe tbody tr th:only-of-type {\n",
       "        vertical-align: middle;\n",
       "    }\n",
       "\n",
       "    .dataframe tbody tr th {\n",
       "        vertical-align: top;\n",
       "    }\n",
       "\n",
       "    .dataframe thead th {\n",
       "        text-align: right;\n",
       "    }\n",
       "</style>\n",
       "<table border=\"1\" class=\"dataframe\">\n",
       "  <thead>\n",
       "    <tr style=\"text-align: right;\">\n",
       "      <th></th>\n",
       "      <th>n_estimators</th>\n",
       "      <th>contamination</th>\n",
       "      <th>n_feats</th>\n",
       "      <th>n_iter</th>\n",
       "      <th>n_iter_fs</th>\n",
       "      <th>roc_auc</th>\n",
       "      <th>iforest_stab_unif_median</th>\n",
       "      <th>shap_iforest_stab_unif_median</th>\n",
       "      <th>f1_median</th>\n",
       "      <th>recall_median</th>\n",
       "      <th>precision_median</th>\n",
       "      <th>confusion_matrix</th>\n",
       "      <th>shap_median</th>\n",
       "    </tr>\n",
       "  </thead>\n",
       "  <tbody>\n",
       "    <tr>\n",
       "      <th>0</th>\n",
       "      <td>25</td>\n",
       "      <td>0.117</td>\n",
       "      <td>257</td>\n",
       "      <td>1</td>\n",
       "      <td>1</td>\n",
       "      <td>0.767938</td>\n",
       "      <td>0.847883</td>\n",
       "      <td>[0.202967246597208, 0.23245559446958364, 0.168...</td>\n",
       "      <td>0.436975</td>\n",
       "      <td>0.393939</td>\n",
       "      <td>0.490566</td>\n",
       "      <td>1</td>\n",
       "      <td>0.181780</td>\n",
       "    </tr>\n",
       "    <tr>\n",
       "      <th>1</th>\n",
       "      <td>50</td>\n",
       "      <td>0.117</td>\n",
       "      <td>257</td>\n",
       "      <td>1</td>\n",
       "      <td>1</td>\n",
       "      <td>0.791490</td>\n",
       "      <td>0.877007</td>\n",
       "      <td>[0.22640850100601062, 0.29579802453699255, 0.2...</td>\n",
       "      <td>0.436975</td>\n",
       "      <td>0.393939</td>\n",
       "      <td>0.490566</td>\n",
       "      <td>1</td>\n",
       "      <td>0.250309</td>\n",
       "    </tr>\n",
       "    <tr>\n",
       "      <th>2</th>\n",
       "      <td>100</td>\n",
       "      <td>0.117</td>\n",
       "      <td>257</td>\n",
       "      <td>1</td>\n",
       "      <td>1</td>\n",
       "      <td>0.805582</td>\n",
       "      <td>0.933956</td>\n",
       "      <td>[0.3365284417527524, 0.33454972441637554, 0.31...</td>\n",
       "      <td>0.470588</td>\n",
       "      <td>0.424242</td>\n",
       "      <td>0.528302</td>\n",
       "      <td>1</td>\n",
       "      <td>0.314594</td>\n",
       "    </tr>\n",
       "    <tr>\n",
       "      <th>3</th>\n",
       "      <td>125</td>\n",
       "      <td>0.117</td>\n",
       "      <td>257</td>\n",
       "      <td>1</td>\n",
       "      <td>1</td>\n",
       "      <td>0.808447</td>\n",
       "      <td>0.948970</td>\n",
       "      <td>[0.35533709871293284, 0.3592619933826803, 0.34...</td>\n",
       "      <td>0.487395</td>\n",
       "      <td>0.439394</td>\n",
       "      <td>0.547170</td>\n",
       "      <td>1</td>\n",
       "      <td>0.338345</td>\n",
       "    </tr>\n",
       "    <tr>\n",
       "      <th>4</th>\n",
       "      <td>150</td>\n",
       "      <td>0.117</td>\n",
       "      <td>257</td>\n",
       "      <td>1</td>\n",
       "      <td>1</td>\n",
       "      <td>0.808840</td>\n",
       "      <td>0.958729</td>\n",
       "      <td>[0.39213625359785154, 0.38499474663402944, 0.3...</td>\n",
       "      <td>0.487395</td>\n",
       "      <td>0.439394</td>\n",
       "      <td>0.547170</td>\n",
       "      <td>1</td>\n",
       "      <td>0.373810</td>\n",
       "    </tr>\n",
       "    <tr>\n",
       "      <th>5</th>\n",
       "      <td>175</td>\n",
       "      <td>0.117</td>\n",
       "      <td>257</td>\n",
       "      <td>1</td>\n",
       "      <td>1</td>\n",
       "      <td>0.805268</td>\n",
       "      <td>0.960405</td>\n",
       "      <td>[0.41002892990069595, 0.38374046480961255, 0.4...</td>\n",
       "      <td>0.470588</td>\n",
       "      <td>0.424242</td>\n",
       "      <td>0.528302</td>\n",
       "      <td>1</td>\n",
       "      <td>0.395583</td>\n",
       "    </tr>\n",
       "    <tr>\n",
       "      <th>6</th>\n",
       "      <td>200</td>\n",
       "      <td>0.117</td>\n",
       "      <td>257</td>\n",
       "      <td>1</td>\n",
       "      <td>1</td>\n",
       "      <td>0.808329</td>\n",
       "      <td>0.964480</td>\n",
       "      <td>[0.418695584491495, 0.3828349674154655, 0.4250...</td>\n",
       "      <td>0.470588</td>\n",
       "      <td>0.424242</td>\n",
       "      <td>0.528302</td>\n",
       "      <td>1</td>\n",
       "      <td>0.404887</td>\n",
       "    </tr>\n",
       "    <tr>\n",
       "      <th>7</th>\n",
       "      <td>225</td>\n",
       "      <td>0.117</td>\n",
       "      <td>257</td>\n",
       "      <td>1</td>\n",
       "      <td>1</td>\n",
       "      <td>0.805660</td>\n",
       "      <td>0.968097</td>\n",
       "      <td>[0.4324118740629921, 0.3804085243882145, 0.448...</td>\n",
       "      <td>0.470588</td>\n",
       "      <td>0.424242</td>\n",
       "      <td>0.528302</td>\n",
       "      <td>1</td>\n",
       "      <td>0.422682</td>\n",
       "    </tr>\n",
       "    <tr>\n",
       "      <th>8</th>\n",
       "      <td>250</td>\n",
       "      <td>0.117</td>\n",
       "      <td>257</td>\n",
       "      <td>1</td>\n",
       "      <td>1</td>\n",
       "      <td>0.807034</td>\n",
       "      <td>0.970412</td>\n",
       "      <td>[0.42559503709064217, 0.37790601533619816, 0.4...</td>\n",
       "      <td>0.470588</td>\n",
       "      <td>0.424242</td>\n",
       "      <td>0.528302</td>\n",
       "      <td>1</td>\n",
       "      <td>0.426065</td>\n",
       "    </tr>\n",
       "    <tr>\n",
       "      <th>9</th>\n",
       "      <td>300</td>\n",
       "      <td>0.117</td>\n",
       "      <td>257</td>\n",
       "      <td>1</td>\n",
       "      <td>1</td>\n",
       "      <td>0.803344</td>\n",
       "      <td>0.973474</td>\n",
       "      <td>[0.4429364007451204, 0.3998225815711791, 0.465...</td>\n",
       "      <td>0.487395</td>\n",
       "      <td>0.439394</td>\n",
       "      <td>0.547170</td>\n",
       "      <td>1</td>\n",
       "      <td>0.447828</td>\n",
       "    </tr>\n",
       "  </tbody>\n",
       "</table>\n",
       "</div>"
      ],
      "text/plain": [
       "   n_estimators  contamination  n_feats  n_iter  n_iter_fs   roc_auc  \\\n",
       "0            25          0.117      257       1          1  0.767938   \n",
       "1            50          0.117      257       1          1  0.791490   \n",
       "2           100          0.117      257       1          1  0.805582   \n",
       "3           125          0.117      257       1          1  0.808447   \n",
       "4           150          0.117      257       1          1  0.808840   \n",
       "5           175          0.117      257       1          1  0.805268   \n",
       "6           200          0.117      257       1          1  0.808329   \n",
       "7           225          0.117      257       1          1  0.805660   \n",
       "8           250          0.117      257       1          1  0.807034   \n",
       "9           300          0.117      257       1          1  0.803344   \n",
       "\n",
       "   iforest_stab_unif_median  \\\n",
       "0                  0.847883   \n",
       "1                  0.877007   \n",
       "2                  0.933956   \n",
       "3                  0.948970   \n",
       "4                  0.958729   \n",
       "5                  0.960405   \n",
       "6                  0.964480   \n",
       "7                  0.968097   \n",
       "8                  0.970412   \n",
       "9                  0.973474   \n",
       "\n",
       "                       shap_iforest_stab_unif_median  f1_median  \\\n",
       "0  [0.202967246597208, 0.23245559446958364, 0.168...   0.436975   \n",
       "1  [0.22640850100601062, 0.29579802453699255, 0.2...   0.436975   \n",
       "2  [0.3365284417527524, 0.33454972441637554, 0.31...   0.470588   \n",
       "3  [0.35533709871293284, 0.3592619933826803, 0.34...   0.487395   \n",
       "4  [0.39213625359785154, 0.38499474663402944, 0.3...   0.487395   \n",
       "5  [0.41002892990069595, 0.38374046480961255, 0.4...   0.470588   \n",
       "6  [0.418695584491495, 0.3828349674154655, 0.4250...   0.470588   \n",
       "7  [0.4324118740629921, 0.3804085243882145, 0.448...   0.470588   \n",
       "8  [0.42559503709064217, 0.37790601533619816, 0.4...   0.470588   \n",
       "9  [0.4429364007451204, 0.3998225815711791, 0.465...   0.487395   \n",
       "\n",
       "   recall_median  precision_median  confusion_matrix  shap_median  \n",
       "0       0.393939          0.490566                 1     0.181780  \n",
       "1       0.393939          0.490566                 1     0.250309  \n",
       "2       0.424242          0.528302                 1     0.314594  \n",
       "3       0.439394          0.547170                 1     0.338345  \n",
       "4       0.439394          0.547170                 1     0.373810  \n",
       "5       0.424242          0.528302                 1     0.395583  \n",
       "6       0.424242          0.528302                 1     0.404887  \n",
       "7       0.424242          0.528302                 1     0.422682  \n",
       "8       0.424242          0.528302                 1     0.426065  \n",
       "9       0.439394          0.547170                 1     0.447828  "
      ]
     },
     "execution_count": 16,
     "metadata": {},
     "output_type": "execute_result"
    }
   ],
   "source": [
    "df"
   ]
  }
 ],
 "metadata": {
  "environment": {
   "name": "common-cpu.m80",
   "type": "gcloud",
   "uri": "gcr.io/deeplearning-platform-release/base-cpu:m80"
  },
  "kernelspec": {
   "display_name": "Python 3 (ipykernel)",
   "language": "python",
   "name": "python3"
  },
  "language_info": {
   "codemirror_mode": {
    "name": "ipython",
    "version": 3
   },
   "file_extension": ".py",
   "mimetype": "text/x-python",
   "name": "python",
   "nbconvert_exporter": "python",
   "pygments_lexer": "ipython3",
   "version": "3.9.12"
  },
  "vscode": {
   "interpreter": {
    "hash": "c7bb90c4ec68b2a8968b0075ab0b1cb7a78770acf7a7acf2e36e903fa05bac64"
   }
  }
 },
 "nbformat": 4,
 "nbformat_minor": 5
}

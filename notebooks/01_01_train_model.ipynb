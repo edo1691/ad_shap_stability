{
 "cells": [
  {
   "cell_type": "markdown",
   "id": "123c1709-aadd-4c93-a80a-0a0c44290983",
   "metadata": {},
   "source": [
    "# iForest"
   ]
  },
  {
   "cell_type": "code",
   "execution_count": 1,
   "id": "2520ef24",
   "metadata": {},
   "outputs": [],
   "source": [
    "import warnings\n",
    "warnings.filterwarnings('ignore')"
   ]
  },
  {
   "cell_type": "markdown",
   "id": "11e4854b-87bd-490e-88e4-9a64631dc5bb",
   "metadata": {
    "tags": []
   },
   "source": [
    "## General libraries"
   ]
  },
  {
   "cell_type": "code",
   "execution_count": 2,
   "id": "feba20a1-5d20-4127-888b-b0e4c72f4757",
   "metadata": {},
   "outputs": [],
   "source": [
    "import os\n",
    "import sys\n",
    "\n",
    "import pandas as pd\n",
    "import numpy as np\n",
    "\n",
    "from os.path import join\n",
    "import json\n",
    "import datetime\n",
    "\n",
    "import time"
   ]
  },
  {
   "cell_type": "markdown",
   "id": "de633751",
   "metadata": {},
   "source": [
    "### Load enviroment variables"
   ]
  },
  {
   "cell_type": "code",
   "execution_count": 3,
   "id": "64a57d38",
   "metadata": {},
   "outputs": [],
   "source": [
    "from dotenv import load_dotenv\n",
    "load_dotenv('../.env')\n",
    "\n",
    "code_root = os.environ['CODE_ROOT']\n",
    "cfg_path = os.environ['CFG_PATH']\n",
    "data_root = os.environ['DATA_ROOT']\n",
    "\n",
    "sys.path.insert(0, code_root)"
   ]
  },
  {
   "cell_type": "markdown",
   "id": "6d1ee99b-97d7-4059-b242-380656087497",
   "metadata": {},
   "source": [
    "### Specific libraries"
   ]
  },
  {
   "cell_type": "code",
   "execution_count": 4,
   "id": "b670745e",
   "metadata": {},
   "outputs": [],
   "source": [
    "from src.load.functions import get_fs_dataset, fs_datasets_hyperparams\n",
    "\n",
    "from src.model.functions import train_and_evaluate_iforest"
   ]
  },
  {
   "cell_type": "markdown",
   "id": "5c360966",
   "metadata": {},
   "source": [
    "## General parameters"
   ]
  },
  {
   "cell_type": "code",
   "execution_count": 5,
   "id": "27ef64e3",
   "metadata": {},
   "outputs": [],
   "source": [
    "n_iter_fs = 1\n",
    "n_iter = 1\n",
    "contamination_percentage = [1] \n",
    "trees = [2]"
   ]
  },
  {
   "cell_type": "markdown",
   "id": "b7db27ee-405e-4faa-a7e9-6b8cdf41d437",
   "metadata": {
    "tags": []
   },
   "source": [
    "## Data-set"
   ]
  },
  {
   "cell_type": "code",
   "execution_count": 6,
   "id": "4a527899-7fe8-4aea-80f8-2e0447fde772",
   "metadata": {},
   "outputs": [
    {
     "data": {
      "text/plain": [
       "(11183, 7)"
      ]
     },
     "execution_count": 6,
     "metadata": {},
     "output_type": "execute_result"
    }
   ],
   "source": [
    "dataset_id = 'mammography'\n",
    "\n",
    "data = get_fs_dataset(dataset_id, data_root)\n",
    "hyper = fs_datasets_hyperparams(dataset_id)\n",
    "data.shape"
   ]
  },
  {
   "cell_type": "code",
   "execution_count": 7,
   "id": "6a540a60-dc06-477f-acda-ac0d564fb5ee",
   "metadata": {},
   "outputs": [],
   "source": [
    "excluded_cols = []"
   ]
  },
  {
   "cell_type": "markdown",
   "id": "72d0f5e9-900d-4121-9d91-3b201911e14f",
   "metadata": {
    "jp-MarkdownHeadingCollapsed": true,
    "tags": []
   },
   "source": [
    "### iForest"
   ]
  },
  {
   "cell_type": "markdown",
   "id": "f6a16e2a",
   "metadata": {},
   "source": [
    "## Parameters"
   ]
  },
  {
   "cell_type": "code",
   "execution_count": 8,
   "id": "761a8dd4",
   "metadata": {},
   "outputs": [
    {
     "data": {
      "text/plain": [
       "'/Users/allianz/workspace_github_pers/ad_shap_stability/test/data/outputs/mammography_results_if.parquet'"
      ]
     },
     "execution_count": 8,
     "metadata": {},
     "output_type": "execute_result"
    }
   ],
   "source": [
    "# path\n",
    "path = os.path.join(data_root, \"outputs\", f\"{dataset_id}_results_if.parquet\")\n",
    "path"
   ]
  },
  {
   "cell_type": "code",
   "execution_count": 9,
   "id": "5bb22a04",
   "metadata": {},
   "outputs": [
    {
     "data": {
      "text/plain": [
       "{'contamination': 0.1, 'max_samples': 256, 'n_estimators': 100}"
      ]
     },
     "execution_count": 9,
     "metadata": {},
     "output_type": "execute_result"
    }
   ],
   "source": [
    "hyper = fs_datasets_hyperparams(dataset_id)\n",
    "hyper"
   ]
  },
  {
   "cell_type": "markdown",
   "id": "67bd69a7",
   "metadata": {},
   "source": [
    "### Iforest full features"
   ]
  },
  {
   "cell_type": "code",
   "execution_count": 10,
   "id": "e2789843",
   "metadata": {},
   "outputs": [
    {
     "name": "stdout",
     "output_type": "stream",
     "text": [
      "Iteration by tree number: 2\n",
      "  Iteration by contamination: 0.1\n",
      "    Number of featured: 6\n",
      "     Iteration by feat number: 2\n",
      "     Iteration by feat number: 2\n",
      "     Iteration by feat number: 3\n",
      "     Iteration by feat number: 4\n",
      "     Iteration by feat number: 6\n",
      "Duration: 0:00:15.162657\n"
     ]
    }
   ],
   "source": [
    "# Capture the start time\n",
    "start_time = datetime.datetime.now()\n",
    "\n",
    "df = train_and_evaluate_iforest(data, dataset_id=dataset_id, hyper=hyper, n_tree_estimators=trees, contamination_percentage=contamination_percentage, excluded_cols=excluded_cols, n_iter_fs=n_iter_fs, n_iter=n_iter)\n",
    "\n",
    "# Capture the finish time\n",
    "finish_time = datetime.datetime.now()\n",
    "\n",
    "# Calculate the duration\n",
    "duration = finish_time - start_time\n",
    "\n",
    "print(f\"Duration: {duration}\")\n"
   ]
  },
  {
   "cell_type": "code",
   "execution_count": 11,
   "id": "98dab893-d86d-49d4-b661-c69314047c69",
   "metadata": {},
   "outputs": [
    {
     "data": {
      "text/html": [
       "<div>\n",
       "<style scoped>\n",
       "    .dataframe tbody tr th:only-of-type {\n",
       "        vertical-align: middle;\n",
       "    }\n",
       "\n",
       "    .dataframe tbody tr th {\n",
       "        vertical-align: top;\n",
       "    }\n",
       "\n",
       "    .dataframe thead th {\n",
       "        text-align: right;\n",
       "    }\n",
       "</style>\n",
       "<table border=\"1\" class=\"dataframe\">\n",
       "  <thead>\n",
       "    <tr style=\"text-align: right;\">\n",
       "      <th></th>\n",
       "      <th>n_estimators</th>\n",
       "      <th>max_feats</th>\n",
       "      <th>contamination</th>\n",
       "      <th>n_feats</th>\n",
       "      <th>n_iter</th>\n",
       "      <th>n_iter_fs</th>\n",
       "      <th>roc_auc</th>\n",
       "      <th>model_stab</th>\n",
       "      <th>model_stab_list</th>\n",
       "      <th>shap_stab</th>\n",
       "      <th>shap_stab_list</th>\n",
       "      <th>shap_stab_ad</th>\n",
       "      <th>f1_median</th>\n",
       "      <th>recall</th>\n",
       "      <th>precision</th>\n",
       "      <th>confusion_matrix</th>\n",
       "    </tr>\n",
       "  </thead>\n",
       "  <tbody>\n",
       "    <tr>\n",
       "      <th>0</th>\n",
       "      <td>2</td>\n",
       "      <td>2</td>\n",
       "      <td>0.1</td>\n",
       "      <td>6</td>\n",
       "      <td>1</td>\n",
       "      <td>1</td>\n",
       "      <td>0.542041</td>\n",
       "      <td>0.783423</td>\n",
       "      <td>[[0.41665069047636594, 0.9999981572087159, 0.9...</td>\n",
       "      <td>[0.7064855270511379, 0.5226255226067678, 0.740...</td>\n",
       "      <td>[[0.9687649310161635, 0.25922523929356334, 0.9...</td>\n",
       "      <td>[0.7183212650591904, 0.8444472436932103, 0.793...</td>\n",
       "      <td>0.021622</td>\n",
       "      <td>0.057692</td>\n",
       "      <td>0.013304</td>\n",
       "      <td>1</td>\n",
       "    </tr>\n",
       "    <tr>\n",
       "      <th>1</th>\n",
       "      <td>2</td>\n",
       "      <td>2</td>\n",
       "      <td>0.1</td>\n",
       "      <td>6</td>\n",
       "      <td>1</td>\n",
       "      <td>1</td>\n",
       "      <td>0.614146</td>\n",
       "      <td>0.783423</td>\n",
       "      <td>[[0.41665069047636594, 0.9999981572087159, 0.9...</td>\n",
       "      <td>[0.7064855270511379, 0.5226255226067678, 0.740...</td>\n",
       "      <td>[[0.9687649310161635, 0.25922523929356334, 0.9...</td>\n",
       "      <td>[0.7183212650591904, 0.8444472436932103, 0.793...</td>\n",
       "      <td>0.014363</td>\n",
       "      <td>0.038462</td>\n",
       "      <td>0.008830</td>\n",
       "      <td>1</td>\n",
       "    </tr>\n",
       "    <tr>\n",
       "      <th>2</th>\n",
       "      <td>2</td>\n",
       "      <td>3</td>\n",
       "      <td>0.1</td>\n",
       "      <td>6</td>\n",
       "      <td>1</td>\n",
       "      <td>1</td>\n",
       "      <td>0.353826</td>\n",
       "      <td>0.959472</td>\n",
       "      <td>[[0.9982164074406185, 0.9999967039377208, 0.98...</td>\n",
       "      <td>[0.6790749943472227, 0.6614808338268137, 0.879...</td>\n",
       "      <td>[[0.1265628168721663, 0.888522880757245, 0.820...</td>\n",
       "      <td>[0.6847649790501005, 0.7300845895114966, 0.592...</td>\n",
       "      <td>0.029575</td>\n",
       "      <td>0.076923</td>\n",
       "      <td>0.018307</td>\n",
       "      <td>1</td>\n",
       "    </tr>\n",
       "    <tr>\n",
       "      <th>3</th>\n",
       "      <td>2</td>\n",
       "      <td>4</td>\n",
       "      <td>0.1</td>\n",
       "      <td>6</td>\n",
       "      <td>1</td>\n",
       "      <td>1</td>\n",
       "      <td>0.768057</td>\n",
       "      <td>0.953279</td>\n",
       "      <td>[[0.2642539386128546, 0.9998371980842022, 0.98...</td>\n",
       "      <td>[0.7389820524636337, 0.6031472716209529, 0.872...</td>\n",
       "      <td>[[0.9481014349890828, 0.8493273579374245, 0.06...</td>\n",
       "      <td>[0.7543480015876185, 0.7201213730042106, 0.505...</td>\n",
       "      <td>0.050485</td>\n",
       "      <td>0.125000</td>\n",
       "      <td>0.031630</td>\n",
       "      <td>1</td>\n",
       "    </tr>\n",
       "    <tr>\n",
       "      <th>4</th>\n",
       "      <td>2</td>\n",
       "      <td>6</td>\n",
       "      <td>0.1</td>\n",
       "      <td>6</td>\n",
       "      <td>1</td>\n",
       "      <td>1</td>\n",
       "      <td>0.757598</td>\n",
       "      <td>0.925441</td>\n",
       "      <td>[[0.9933816815527049, 0.9971191157813869, 0.97...</td>\n",
       "      <td>[0.6796379561959494, 0.8239033114834768, 0.849...</td>\n",
       "      <td>[[0.7316718427000253, 0.6761488575332645, 0.20...</td>\n",
       "      <td>[0.6969984174220597, 0.6478174341194247, 0.717...</td>\n",
       "      <td>0.103387</td>\n",
       "      <td>0.278846</td>\n",
       "      <td>0.063457</td>\n",
       "      <td>1</td>\n",
       "    </tr>\n",
       "  </tbody>\n",
       "</table>\n",
       "</div>"
      ],
      "text/plain": [
       "   n_estimators  max_feats  contamination  n_feats  n_iter  n_iter_fs  \\\n",
       "0             2          2            0.1        6       1          1   \n",
       "1             2          2            0.1        6       1          1   \n",
       "2             2          3            0.1        6       1          1   \n",
       "3             2          4            0.1        6       1          1   \n",
       "4             2          6            0.1        6       1          1   \n",
       "\n",
       "    roc_auc  model_stab                                    model_stab_list  \\\n",
       "0  0.542041    0.783423  [[0.41665069047636594, 0.9999981572087159, 0.9...   \n",
       "1  0.614146    0.783423  [[0.41665069047636594, 0.9999981572087159, 0.9...   \n",
       "2  0.353826    0.959472  [[0.9982164074406185, 0.9999967039377208, 0.98...   \n",
       "3  0.768057    0.953279  [[0.2642539386128546, 0.9998371980842022, 0.98...   \n",
       "4  0.757598    0.925441  [[0.9933816815527049, 0.9971191157813869, 0.97...   \n",
       "\n",
       "                                           shap_stab  \\\n",
       "0  [0.7064855270511379, 0.5226255226067678, 0.740...   \n",
       "1  [0.7064855270511379, 0.5226255226067678, 0.740...   \n",
       "2  [0.6790749943472227, 0.6614808338268137, 0.879...   \n",
       "3  [0.7389820524636337, 0.6031472716209529, 0.872...   \n",
       "4  [0.6796379561959494, 0.8239033114834768, 0.849...   \n",
       "\n",
       "                                      shap_stab_list  \\\n",
       "0  [[0.9687649310161635, 0.25922523929356334, 0.9...   \n",
       "1  [[0.9687649310161635, 0.25922523929356334, 0.9...   \n",
       "2  [[0.1265628168721663, 0.888522880757245, 0.820...   \n",
       "3  [[0.9481014349890828, 0.8493273579374245, 0.06...   \n",
       "4  [[0.7316718427000253, 0.6761488575332645, 0.20...   \n",
       "\n",
       "                                        shap_stab_ad  f1_median    recall  \\\n",
       "0  [0.7183212650591904, 0.8444472436932103, 0.793...   0.021622  0.057692   \n",
       "1  [0.7183212650591904, 0.8444472436932103, 0.793...   0.014363  0.038462   \n",
       "2  [0.6847649790501005, 0.7300845895114966, 0.592...   0.029575  0.076923   \n",
       "3  [0.7543480015876185, 0.7201213730042106, 0.505...   0.050485  0.125000   \n",
       "4  [0.6969984174220597, 0.6478174341194247, 0.717...   0.103387  0.278846   \n",
       "\n",
       "   precision  confusion_matrix  \n",
       "0   0.013304                 1  \n",
       "1   0.008830                 1  \n",
       "2   0.018307                 1  \n",
       "3   0.031630                 1  \n",
       "4   0.063457                 1  "
      ]
     },
     "execution_count": 11,
     "metadata": {},
     "output_type": "execute_result"
    }
   ],
   "source": [
    "df.head()"
   ]
  },
  {
   "cell_type": "code",
   "execution_count": null,
   "id": "555c1aa9-c94b-48de-853b-c7df91756411",
   "metadata": {},
   "outputs": [],
   "source": []
  }
 ],
 "metadata": {
  "environment": {
   "name": "common-cpu.m80",
   "type": "gcloud",
   "uri": "gcr.io/deeplearning-platform-release/base-cpu:m80"
  },
  "kernelspec": {
   "display_name": "Python 3 (ipykernel)",
   "language": "python",
   "name": "python3"
  },
  "language_info": {
   "codemirror_mode": {
    "name": "ipython",
    "version": 3
   },
   "file_extension": ".py",
   "mimetype": "text/x-python",
   "name": "python",
   "nbconvert_exporter": "python",
   "pygments_lexer": "ipython3",
   "version": "3.9.18"
  },
  "vscode": {
   "interpreter": {
    "hash": "c7bb90c4ec68b2a8968b0075ab0b1cb7a78770acf7a7acf2e36e903fa05bac64"
   }
  }
 },
 "nbformat": 4,
 "nbformat_minor": 5
}

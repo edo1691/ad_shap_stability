{
 "cells": [
  {
   "cell_type": "markdown",
   "id": "123c1709-aadd-4c93-a80a-0a0c44290983",
   "metadata": {},
   "source": [
    "# iForest"
   ]
  },
  {
   "cell_type": "code",
   "execution_count": 1,
   "id": "2520ef24",
   "metadata": {},
   "outputs": [],
   "source": [
    "import warnings\n",
    "warnings.filterwarnings('ignore')"
   ]
  },
  {
   "cell_type": "markdown",
   "id": "11e4854b-87bd-490e-88e4-9a64631dc5bb",
   "metadata": {
    "tags": []
   },
   "source": [
    "## General libraries"
   ]
  },
  {
   "cell_type": "code",
   "execution_count": 2,
   "id": "feba20a1-5d20-4127-888b-b0e4c72f4757",
   "metadata": {},
   "outputs": [],
   "source": [
    "import os\n",
    "import sys\n",
    "\n",
    "import pandas as pd\n",
    "import numpy as np\n",
    "\n",
    "from os.path import join\n",
    "import json\n",
    "import datetime\n",
    "\n",
    "import time"
   ]
  },
  {
   "cell_type": "markdown",
   "id": "de633751",
   "metadata": {},
   "source": [
    "### Load enviroment variables"
   ]
  },
  {
   "cell_type": "code",
   "execution_count": 3,
   "id": "64a57d38",
   "metadata": {},
   "outputs": [],
   "source": [
    "from dotenv import load_dotenv\n",
    "load_dotenv('../.env')\n",
    "\n",
    "code_root = os.environ['CODE_ROOT']\n",
    "cfg_path = os.environ['CFG_PATH']\n",
    "data_root = os.environ['DATA_ROOT']\n",
    "\n",
    "sys.path.insert(0, code_root)"
   ]
  },
  {
   "cell_type": "markdown",
   "id": "6d1ee99b-97d7-4059-b242-380656087497",
   "metadata": {},
   "source": [
    "### Specific libraries"
   ]
  },
  {
   "cell_type": "code",
   "execution_count": 4,
   "id": "b670745e",
   "metadata": {},
   "outputs": [],
   "source": [
    "from src.load.functions import get_fs_dataset, fs_datasets_hyperparams\n",
    "\n",
    "from src.model.functions import train_and_evaluate_iforest"
   ]
  },
  {
   "cell_type": "markdown",
   "id": "5c360966",
   "metadata": {},
   "source": [
    "## General parameters"
   ]
  },
  {
   "cell_type": "code",
   "execution_count": 5,
   "id": "27ef64e3",
   "metadata": {},
   "outputs": [],
   "source": [
    "n_iter_fs = 1\n",
    "n_iter = 1\n",
    "contamination_percentage = [1] \n",
    "trees = [2, 3, 4]"
   ]
  },
  {
   "cell_type": "markdown",
   "id": "b7db27ee-405e-4faa-a7e9-6b8cdf41d437",
   "metadata": {
    "tags": []
   },
   "source": [
    "## Credit card"
   ]
  },
  {
   "cell_type": "markdown",
   "id": "70f383d5",
   "metadata": {},
   "source": [
    "**Dataset source**: http://odds.cs.stonybrook.edu/arrhythmia-dataset/ (data is transformed from .mat to .csv format)\n",
    "\n",
    "Shebuti Rayana (2016). ODDS Library [http://odds.cs.stonybrook.edu]. Stony Brook, NY: Stony Brook University, Department of Computer Science.\n",
    "\n",
    "**Additional sources**:\n",
    "\n",
    "Liu, Fei Tony, Kai Ming Ting, and Zhi-Hua Zhou. “Isolation forest.” 2008 Eighth IEEE International Conference on Data Mining. IEEE, 2008.\n",
    "\n",
    "K. M. Ting, J. T. S. Chuan, and F. T. Liu. “Mass: A New Ranking Measure for Anomaly Detection.“, IEEE Transactions on Knowledge and Data Engineering, 2009.\n",
    "\n",
    "F. Keller, E. Muller, K. Bohm.“HiCS: High-contrast subspaces for density-based outlier ranking.” ICDE, 2012."
   ]
  },
  {
   "cell_type": "code",
   "execution_count": 6,
   "id": "4a527899-7fe8-4aea-80f8-2e0447fde772",
   "metadata": {},
   "outputs": [
    {
     "data": {
      "text/plain": [
       "(1831, 22)"
      ]
     },
     "execution_count": 6,
     "metadata": {},
     "output_type": "execute_result"
    }
   ],
   "source": [
    "dataset_id = 'cardio'\n",
    "\n",
    "data = get_fs_dataset(dataset_id, data_root)\n",
    "hyper = fs_datasets_hyperparams(dataset_id)\n",
    "data.shape"
   ]
  },
  {
   "cell_type": "code",
   "execution_count": 7,
   "id": "937686a7-6d97-4ed0-890a-4575bd4403f9",
   "metadata": {},
   "outputs": [
    {
     "data": {
      "text/html": [
       "<div>\n",
       "<style scoped>\n",
       "    .dataframe tbody tr th:only-of-type {\n",
       "        vertical-align: middle;\n",
       "    }\n",
       "\n",
       "    .dataframe tbody tr th {\n",
       "        vertical-align: top;\n",
       "    }\n",
       "\n",
       "    .dataframe thead th {\n",
       "        text-align: right;\n",
       "    }\n",
       "</style>\n",
       "<table border=\"1\" class=\"dataframe\">\n",
       "  <thead>\n",
       "    <tr style=\"text-align: right;\">\n",
       "      <th></th>\n",
       "      <th>Col1</th>\n",
       "    </tr>\n",
       "    <tr>\n",
       "      <th>y</th>\n",
       "      <th></th>\n",
       "    </tr>\n",
       "  </thead>\n",
       "  <tbody>\n",
       "    <tr>\n",
       "      <th>0.0</th>\n",
       "      <td>1655</td>\n",
       "    </tr>\n",
       "    <tr>\n",
       "      <th>1.0</th>\n",
       "      <td>176</td>\n",
       "    </tr>\n",
       "  </tbody>\n",
       "</table>\n",
       "</div>"
      ],
      "text/plain": [
       "     Col1\n",
       "y        \n",
       "0.0  1655\n",
       "1.0   176"
      ]
     },
     "execution_count": 7,
     "metadata": {},
     "output_type": "execute_result"
    }
   ],
   "source": [
    "pd.pivot_table(data,\n",
    "             values = 'Col1',\n",
    "               index = 'y', \n",
    "              aggfunc = 'count')"
   ]
  },
  {
   "cell_type": "code",
   "execution_count": 8,
   "id": "6a540a60-dc06-477f-acda-ac0d564fb5ee",
   "metadata": {},
   "outputs": [],
   "source": [
    "excluded_cols = []"
   ]
  },
  {
   "cell_type": "markdown",
   "id": "72d0f5e9-900d-4121-9d91-3b201911e14f",
   "metadata": {
    "jp-MarkdownHeadingCollapsed": true,
    "tags": []
   },
   "source": [
    "### iForest"
   ]
  },
  {
   "cell_type": "markdown",
   "id": "f6a16e2a",
   "metadata": {},
   "source": [
    "## Parameters"
   ]
  },
  {
   "cell_type": "code",
   "execution_count": 9,
   "id": "761a8dd4",
   "metadata": {},
   "outputs": [
    {
     "data": {
      "text/plain": [
       "'/Users/allianz/workspace_github_pers/ad_shap_stability/test/data/outputs/cardio_results_if.parquet'"
      ]
     },
     "execution_count": 9,
     "metadata": {},
     "output_type": "execute_result"
    }
   ],
   "source": [
    "# path\n",
    "path = os.path.join(data_root, \"outputs\", f\"{dataset_id}_results_if.parquet\")\n",
    "path"
   ]
  },
  {
   "cell_type": "code",
   "execution_count": 10,
   "id": "5bb22a04",
   "metadata": {},
   "outputs": [
    {
     "data": {
      "text/plain": [
       "{'contamination': 0.1, 'max_samples': 256, 'n_estimators': 100}"
      ]
     },
     "execution_count": 10,
     "metadata": {},
     "output_type": "execute_result"
    }
   ],
   "source": [
    "hyper = fs_datasets_hyperparams(dataset_id)\n",
    "hyper"
   ]
  },
  {
   "cell_type": "markdown",
   "id": "67bd69a7",
   "metadata": {},
   "source": [
    "### Iforest full features"
   ]
  },
  {
   "cell_type": "code",
   "execution_count": 12,
   "id": "e2789843",
   "metadata": {},
   "outputs": [
    {
     "name": "stdout",
     "output_type": "stream",
     "text": [
      "Iteration by tree number: 2\n",
      "  Iteration by contamination: 0.1\n",
      "    Number of featured: 4\n",
      "     Iteration by feat number: 2\n",
      "     Iteration by feat number: 2\n",
      "     Iteration by feat number: 2\n",
      "     Iteration by feat number: 3\n",
      "     Iteration by feat number: 4\n",
      "Iteration by tree number: 3\n",
      "  Iteration by contamination: 0.1\n",
      "    Number of featured: 4\n",
      "     Iteration by feat number: 2\n",
      "     Iteration by feat number: 2\n",
      "     Iteration by feat number: 2\n",
      "     Iteration by feat number: 3\n",
      "     Iteration by feat number: 4\n",
      "Iteration by tree number: 4\n",
      "  Iteration by contamination: 0.1\n",
      "    Number of featured: 4\n",
      "     Iteration by feat number: 2\n",
      "     Iteration by feat number: 2\n",
      "     Iteration by feat number: 2\n",
      "     Iteration by feat number: 3\n",
      "     Iteration by feat number: 4\n",
      "Duration: 0:00:08.543103\n"
     ]
    }
   ],
   "source": [
    "# Capture the start time\n",
    "start_time = datetime.datetime.now()\n",
    "\n",
    "df = train_and_evaluate_iforest(data, dataset_id=dataset_id, hyper=hyper, n_tree_estimators=trees, contamination_percentage=contamination_percentage, excluded_cols=excluded_cols, n_iter_fs=n_iter_fs, n_iter=n_iter)\n",
    "\n",
    "# Capture the finish time\n",
    "finish_time = datetime.datetime.now()\n",
    "\n",
    "# Calculate the duration\n",
    "duration = finish_time - start_time\n",
    "\n",
    "print(f\"Duration: {duration}\")\n"
   ]
  },
  {
   "cell_type": "code",
   "execution_count": 13,
   "id": "98dab893-d86d-49d4-b661-c69314047c69",
   "metadata": {},
   "outputs": [
    {
     "data": {
      "text/html": [
       "<div>\n",
       "<style scoped>\n",
       "    .dataframe tbody tr th:only-of-type {\n",
       "        vertical-align: middle;\n",
       "    }\n",
       "\n",
       "    .dataframe tbody tr th {\n",
       "        vertical-align: top;\n",
       "    }\n",
       "\n",
       "    .dataframe thead th {\n",
       "        text-align: right;\n",
       "    }\n",
       "</style>\n",
       "<table border=\"1\" class=\"dataframe\">\n",
       "  <thead>\n",
       "    <tr style=\"text-align: right;\">\n",
       "      <th></th>\n",
       "      <th>n_estimators</th>\n",
       "      <th>max_feats</th>\n",
       "      <th>contamination</th>\n",
       "      <th>n_feats</th>\n",
       "      <th>n_iter</th>\n",
       "      <th>n_iter_fs</th>\n",
       "      <th>roc_auc</th>\n",
       "      <th>model_stab</th>\n",
       "      <th>model_stab_list</th>\n",
       "      <th>shap_stab</th>\n",
       "      <th>shap_stab_list</th>\n",
       "      <th>shap_stab_ad</th>\n",
       "      <th>f1_median</th>\n",
       "      <th>recall</th>\n",
       "      <th>precision</th>\n",
       "      <th>confusion_matrix</th>\n",
       "    </tr>\n",
       "  </thead>\n",
       "  <tbody>\n",
       "    <tr>\n",
       "      <th>0</th>\n",
       "      <td>2</td>\n",
       "      <td>2</td>\n",
       "      <td>0.1</td>\n",
       "      <td>4</td>\n",
       "      <td>1</td>\n",
       "      <td>1</td>\n",
       "      <td>0.667098</td>\n",
       "      <td>0.713119</td>\n",
       "      <td>[[0.16956872405415568, 0.9994306632244201, 0.5...</td>\n",
       "      <td>[0.36866120744841635, 0.6327583460291016, 0.22...</td>\n",
       "      <td>[[0.3580241583334105, 0.1681488332420652, 0.66...</td>\n",
       "      <td>[0.6327583460291016, 0.6918957487954589, 0.710...</td>\n",
       "      <td>0.167832</td>\n",
       "      <td>0.171429</td>\n",
       "      <td>0.164384</td>\n",
       "      <td>1</td>\n",
       "    </tr>\n",
       "    <tr>\n",
       "      <th>1</th>\n",
       "      <td>2</td>\n",
       "      <td>2</td>\n",
       "      <td>0.1</td>\n",
       "      <td>4</td>\n",
       "      <td>1</td>\n",
       "      <td>1</td>\n",
       "      <td>0.639086</td>\n",
       "      <td>0.713119</td>\n",
       "      <td>[[0.16956872405415568, 0.9994306632244201, 0.5...</td>\n",
       "      <td>[0.36866120744841635, 0.6327583460291016, 0.22...</td>\n",
       "      <td>[[0.3580241583334105, 0.1681488332420652, 0.66...</td>\n",
       "      <td>[0.6327583460291016, 0.6918957487954589, 0.710...</td>\n",
       "      <td>0.111888</td>\n",
       "      <td>0.114286</td>\n",
       "      <td>0.109589</td>\n",
       "      <td>1</td>\n",
       "    </tr>\n",
       "    <tr>\n",
       "      <th>2</th>\n",
       "      <td>2</td>\n",
       "      <td>2</td>\n",
       "      <td>0.1</td>\n",
       "      <td>4</td>\n",
       "      <td>1</td>\n",
       "      <td>1</td>\n",
       "      <td>0.628744</td>\n",
       "      <td>0.713119</td>\n",
       "      <td>[[0.16956872405415568, 0.9994306632244201, 0.5...</td>\n",
       "      <td>[0.36866120744841635, 0.6327583460291016, 0.22...</td>\n",
       "      <td>[[0.3580241583334105, 0.1681488332420652, 0.66...</td>\n",
       "      <td>[0.6327583460291016, 0.6918957487954589, 0.710...</td>\n",
       "      <td>0.106061</td>\n",
       "      <td>0.100000</td>\n",
       "      <td>0.112903</td>\n",
       "      <td>1</td>\n",
       "    </tr>\n",
       "    <tr>\n",
       "      <th>3</th>\n",
       "      <td>2</td>\n",
       "      <td>3</td>\n",
       "      <td>0.1</td>\n",
       "      <td>4</td>\n",
       "      <td>1</td>\n",
       "      <td>1</td>\n",
       "      <td>0.471644</td>\n",
       "      <td>0.762555</td>\n",
       "      <td>[[0.08882670781340307, 0.9999768225585975, 0.7...</td>\n",
       "      <td>[0.5692286953617829, 0.4407270445443692, 0.496...</td>\n",
       "      <td>[[0.9170000681138529, 0.053692003875251526, 0....</td>\n",
       "      <td>[0.4407270445443692, 0.30537526832666595, 0.69...</td>\n",
       "      <td>0.190476</td>\n",
       "      <td>0.171429</td>\n",
       "      <td>0.214286</td>\n",
       "      <td>1</td>\n",
       "    </tr>\n",
       "    <tr>\n",
       "      <th>4</th>\n",
       "      <td>2</td>\n",
       "      <td>4</td>\n",
       "      <td>0.1</td>\n",
       "      <td>4</td>\n",
       "      <td>1</td>\n",
       "      <td>1</td>\n",
       "      <td>0.605613</td>\n",
       "      <td>0.783385</td>\n",
       "      <td>[[0.3004919494302173, 0.9999734845227269, 0.85...</td>\n",
       "      <td>[0.47185201402526966, 0.5650255427296373, 0.38...</td>\n",
       "      <td>[[0.30110522698804054, 0.32706800249791523, 0....</td>\n",
       "      <td>[0.5650255427296373, 0.7193382925508174, 0.799...</td>\n",
       "      <td>0.142857</td>\n",
       "      <td>0.142857</td>\n",
       "      <td>0.142857</td>\n",
       "      <td>1</td>\n",
       "    </tr>\n",
       "  </tbody>\n",
       "</table>\n",
       "</div>"
      ],
      "text/plain": [
       "   n_estimators  max_feats  contamination  n_feats  n_iter  n_iter_fs  \\\n",
       "0             2          2            0.1        4       1          1   \n",
       "1             2          2            0.1        4       1          1   \n",
       "2             2          2            0.1        4       1          1   \n",
       "3             2          3            0.1        4       1          1   \n",
       "4             2          4            0.1        4       1          1   \n",
       "\n",
       "    roc_auc  model_stab                                    model_stab_list  \\\n",
       "0  0.667098    0.713119  [[0.16956872405415568, 0.9994306632244201, 0.5...   \n",
       "1  0.639086    0.713119  [[0.16956872405415568, 0.9994306632244201, 0.5...   \n",
       "2  0.628744    0.713119  [[0.16956872405415568, 0.9994306632244201, 0.5...   \n",
       "3  0.471644    0.762555  [[0.08882670781340307, 0.9999768225585975, 0.7...   \n",
       "4  0.605613    0.783385  [[0.3004919494302173, 0.9999734845227269, 0.85...   \n",
       "\n",
       "                                           shap_stab  \\\n",
       "0  [0.36866120744841635, 0.6327583460291016, 0.22...   \n",
       "1  [0.36866120744841635, 0.6327583460291016, 0.22...   \n",
       "2  [0.36866120744841635, 0.6327583460291016, 0.22...   \n",
       "3  [0.5692286953617829, 0.4407270445443692, 0.496...   \n",
       "4  [0.47185201402526966, 0.5650255427296373, 0.38...   \n",
       "\n",
       "                                      shap_stab_list  \\\n",
       "0  [[0.3580241583334105, 0.1681488332420652, 0.66...   \n",
       "1  [[0.3580241583334105, 0.1681488332420652, 0.66...   \n",
       "2  [[0.3580241583334105, 0.1681488332420652, 0.66...   \n",
       "3  [[0.9170000681138529, 0.053692003875251526, 0....   \n",
       "4  [[0.30110522698804054, 0.32706800249791523, 0....   \n",
       "\n",
       "                                        shap_stab_ad  f1_median    recall  \\\n",
       "0  [0.6327583460291016, 0.6918957487954589, 0.710...   0.167832  0.171429   \n",
       "1  [0.6327583460291016, 0.6918957487954589, 0.710...   0.111888  0.114286   \n",
       "2  [0.6327583460291016, 0.6918957487954589, 0.710...   0.106061  0.100000   \n",
       "3  [0.4407270445443692, 0.30537526832666595, 0.69...   0.190476  0.171429   \n",
       "4  [0.5650255427296373, 0.7193382925508174, 0.799...   0.142857  0.142857   \n",
       "\n",
       "   precision  confusion_matrix  \n",
       "0   0.164384                 1  \n",
       "1   0.109589                 1  \n",
       "2   0.112903                 1  \n",
       "3   0.214286                 1  \n",
       "4   0.142857                 1  "
      ]
     },
     "execution_count": 13,
     "metadata": {},
     "output_type": "execute_result"
    }
   ],
   "source": [
    "df.head()"
   ]
  },
  {
   "cell_type": "code",
   "execution_count": null,
   "id": "555c1aa9-c94b-48de-853b-c7df91756411",
   "metadata": {},
   "outputs": [],
   "source": []
  }
 ],
 "metadata": {
  "environment": {
   "name": "common-cpu.m80",
   "type": "gcloud",
   "uri": "gcr.io/deeplearning-platform-release/base-cpu:m80"
  },
  "kernelspec": {
   "display_name": "Python 3 (ipykernel)",
   "language": "python",
   "name": "python3"
  },
  "language_info": {
   "codemirror_mode": {
    "name": "ipython",
    "version": 3
   },
   "file_extension": ".py",
   "mimetype": "text/x-python",
   "name": "python",
   "nbconvert_exporter": "python",
   "pygments_lexer": "ipython3",
   "version": "3.9.18"
  },
  "vscode": {
   "interpreter": {
    "hash": "c7bb90c4ec68b2a8968b0075ab0b1cb7a78770acf7a7acf2e36e903fa05bac64"
   }
  }
 },
 "nbformat": 4,
 "nbformat_minor": 5
}

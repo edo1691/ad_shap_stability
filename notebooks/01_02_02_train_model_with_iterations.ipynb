{
 "cells": [
  {
   "cell_type": "markdown",
   "id": "123c1709-aadd-4c93-a80a-0a0c44290983",
   "metadata": {},
   "source": [
    "# iForest"
   ]
  },
  {
   "cell_type": "code",
   "execution_count": 1,
   "id": "2520ef24",
   "metadata": {},
   "outputs": [],
   "source": [
    "import warnings\n",
    "warnings.filterwarnings('ignore')"
   ]
  },
  {
   "cell_type": "markdown",
   "id": "11e4854b-87bd-490e-88e4-9a64631dc5bb",
   "metadata": {
    "tags": []
   },
   "source": [
    "## General libraries"
   ]
  },
  {
   "cell_type": "code",
   "execution_count": 2,
   "id": "feba20a1-5d20-4127-888b-b0e4c72f4757",
   "metadata": {},
   "outputs": [],
   "source": [
    "import os\n",
    "import sys\n",
    "\n",
    "import pandas as pd\n",
    "import numpy as np\n",
    "\n",
    "from os.path import join\n",
    "import json\n",
    "import datetime\n",
    "\n",
    "import shap\n",
    "from shap_selection import feature_selection\n",
    "\n",
    "from sklearn.preprocessing import OneHotEncoder\n",
    "import time"
   ]
  },
  {
   "cell_type": "markdown",
   "id": "de633751",
   "metadata": {},
   "source": [
    "### Load enviroment variables"
   ]
  },
  {
   "cell_type": "code",
   "execution_count": 3,
   "id": "64a57d38",
   "metadata": {},
   "outputs": [],
   "source": [
    "from dotenv import load_dotenv\n",
    "load_dotenv('../.env')\n",
    "\n",
    "code_root = os.environ['CODE_ROOT']\n",
    "cfg_path = os.environ['CFG_PATH']\n",
    "data_root = os.environ['DATA_ROOT']\n",
    "\n",
    "sys.path.insert(0, code_root)"
   ]
  },
  {
   "cell_type": "markdown",
   "id": "6d1ee99b-97d7-4059-b242-380656087497",
   "metadata": {},
   "source": [
    "### Specific libraries"
   ]
  },
  {
   "cell_type": "code",
   "execution_count": 4,
   "id": "b670745e",
   "metadata": {},
   "outputs": [],
   "source": [
    "from src.load.functions import get_fs_dataset, fs_datasets_hyperparams\n",
    "from src.model.functions import train_and_evaluate_iforest"
   ]
  },
  {
   "cell_type": "markdown",
   "id": "5c360966",
   "metadata": {},
   "source": [
    "## General parameters"
   ]
  },
  {
   "cell_type": "code",
   "execution_count": 5,
   "id": "27ef64e3",
   "metadata": {},
   "outputs": [],
   "source": [
    "n_iter_fs = 1\n",
    "n_iter = 1\n",
    "contamination_percentage = [0.8]\n",
    "trees = [1, 5, 25, 50, 75, 100]"
   ]
  },
  {
   "cell_type": "markdown",
   "id": "b7db27ee-405e-4faa-a7e9-6b8cdf41d437",
   "metadata": {
    "tags": []
   },
   "source": [
    "## Credit Card"
   ]
  },
  {
   "cell_type": "markdown",
   "id": "70f383d5",
   "metadata": {},
   "source": [
    "**Dataset source**: https://www.kaggle.com/mlg-ulb/creditcardfraud\n",
    "\n",
    "**Additional sources:**\n",
    "\n",
    "Andrea Dal Pozzolo, Olivier Caelen, Reid A. Johnson and Gianluca Bontempi. Calibrating Probability with Undersampling for Unbalanced Classification. In Symposium on Computational Intelligence and Data Mining (CIDM), IEEE, 2015\n",
    "\n",
    "Dal Pozzolo, Andrea; Caelen, Olivier; Le Borgne, Yann-Ael; Waterschoot, Serge; Bontempi, Gianluca. Learned lessons in credit card fraud detection from a practitioner perspective, Expert systems with applications,41,10,4915-4928,2014, Pergamon\n",
    "\n",
    "Dal Pozzolo, Andrea; Boracchi, Giacomo; Caelen, Olivier; Alippi, Cesare; Bontempi, Gianluca. Credit card fraud detection: a realistic modeling and a novel learning strategy, IEEE transactions on neural networks and learning systems,29,8,3784-3797,2018,IEEE\n",
    "\n",
    "Dal Pozzolo, Andrea Adaptive Machine learning for credit card fraud detection ULB MLG PhD thesis (supervised by G. Bontempi)\n",
    "\n",
    "Carcillo, Fabrizio; Dal Pozzolo, Andrea; Le Borgne, Yann-Aël; Caelen, Olivier; Mazzer, Yannis; Bontempi, Gianluca. Scarff: a scalable framework for streaming credit card fraud detection with Spark, Information fusion,41, 182-194,2018,Elsevier\n",
    "\n",
    "Carcillo, Fabrizio; Le Borgne, Yann-Aël; Caelen, Olivier; Bontempi, Gianluca. Streaming active learning strategies for real-life credit card fraud detection: assessment and visualization, International Journal of Data Science and Analytics, 5,4,285-300,2018,Springer International Publishing\n",
    "\n",
    "Bertrand Lebichot, Yann-Aël Le Borgne, Liyun He, Frederic Oblé, Gianluca Bontempi Deep-Learning Domain Adaptation Techniques for Credit Cards Fraud Detection, INNSBDDL 2019: Recent Advances in Big Data and Deep Learning, pp 78-88, 2019\n",
    "\n",
    "Fabrizio Carcillo, Yann-Aël Le Borgne, Olivier Caelen, Frederic Oblé, Gianluca Bontempi Combining Unsupervised and Supervised Learning in Credit Card Fraud Detection Information Sciences, 2019\n",
    "\n",
    "Yann-Aël Le Borgne, Gianluca Bontempi Machine Learning for Credit Card Fraud Detection - Practical Handbook"
   ]
  },
  {
   "cell_type": "code",
   "execution_count": 6,
   "id": "4a527899-7fe8-4aea-80f8-2e0447fde772",
   "metadata": {},
   "outputs": [
    {
     "data": {
      "text/plain": [
       "(284807, 29)"
      ]
     },
     "execution_count": 6,
     "metadata": {},
     "output_type": "execute_result"
    }
   ],
   "source": [
    "dataset_id = 'creditcard'\n",
    "data = get_fs_dataset(dataset_id, data_root)\n",
    "hyper = fs_datasets_hyperparams(dataset_id)\n",
    "data.shape"
   ]
  },
  {
   "cell_type": "code",
   "execution_count": 7,
   "id": "937686a7-6d97-4ed0-890a-4575bd4403f9",
   "metadata": {},
   "outputs": [
    {
     "data": {
      "text/html": [
       "<div>\n",
       "<style scoped>\n",
       "    .dataframe tbody tr th:only-of-type {\n",
       "        vertical-align: middle;\n",
       "    }\n",
       "\n",
       "    .dataframe tbody tr th {\n",
       "        vertical-align: top;\n",
       "    }\n",
       "\n",
       "    .dataframe thead th {\n",
       "        text-align: right;\n",
       "    }\n",
       "</style>\n",
       "<table border=\"1\" class=\"dataframe\">\n",
       "  <thead>\n",
       "    <tr style=\"text-align: right;\">\n",
       "      <th></th>\n",
       "      <th>V1</th>\n",
       "    </tr>\n",
       "    <tr>\n",
       "      <th>y</th>\n",
       "      <th></th>\n",
       "    </tr>\n",
       "  </thead>\n",
       "  <tbody>\n",
       "    <tr>\n",
       "      <th>0</th>\n",
       "      <td>284315</td>\n",
       "    </tr>\n",
       "    <tr>\n",
       "      <th>1</th>\n",
       "      <td>492</td>\n",
       "    </tr>\n",
       "  </tbody>\n",
       "</table>\n",
       "</div>"
      ],
      "text/plain": [
       "       V1\n",
       "y        \n",
       "0  284315\n",
       "1     492"
      ]
     },
     "execution_count": 7,
     "metadata": {},
     "output_type": "execute_result"
    }
   ],
   "source": [
    "pd.pivot_table(data,\n",
    "             values = 'V1',\n",
    "               index = 'y', \n",
    "              aggfunc = 'count')"
   ]
  },
  {
   "cell_type": "code",
   "execution_count": 8,
   "id": "6a540a60-dc06-477f-acda-ac0d564fb5ee",
   "metadata": {},
   "outputs": [],
   "source": [
    "excluded_cols = []"
   ]
  },
  {
   "cell_type": "markdown",
   "id": "72d0f5e9-900d-4121-9d91-3b201911e14f",
   "metadata": {
    "jp-MarkdownHeadingCollapsed": true,
    "tags": []
   },
   "source": [
    "### iForest"
   ]
  },
  {
   "cell_type": "markdown",
   "id": "f6a16e2a",
   "metadata": {},
   "source": [
    "## Parameters"
   ]
  },
  {
   "cell_type": "code",
   "execution_count": 9,
   "id": "761a8dd4",
   "metadata": {},
   "outputs": [],
   "source": [
    "path_fi_shap = os.path.join(data_root, \"outputs\", f\"{dataset_id}_fi_shap\")\n",
    "path_shap = os.path.join(data_root, \"outputs\", f\"{dataset_id}_shap.parquet\")\n",
    "\n",
    "fi_shap_all = pd.read_parquet(path_fi_shap)"
   ]
  },
  {
   "cell_type": "markdown",
   "id": "ae171188",
   "metadata": {},
   "source": [
    "## Model training with iterations HPO and FS"
   ]
  },
  {
   "cell_type": "code",
   "execution_count": null,
   "id": "9de21c3e",
   "metadata": {},
   "outputs": [
    {
     "name": "stdout",
     "output_type": "stream",
     "text": [
      "Iteration by tree number: 1\n",
      "  Iteration by contamination: 0.04\n",
      "    Number of featured: 2\n",
      "     Iteration by feat number: 2\n",
      "    Number of featured: 4\n",
      "     Iteration by feat number: 4\n",
      "    Number of featured: 6\n",
      "     Iteration by feat number: 6\n",
      "    Number of featured: 9\n",
      "     Iteration by feat number: 9\n",
      "    Number of featured: 11\n",
      "     Iteration by feat number: 11\n",
      "    Number of featured: 14\n",
      "     Iteration by feat number: 14\n",
      "    Number of featured: 17\n",
      "     Iteration by feat number: 17\n",
      "    Number of featured: 20\n",
      "     Iteration by feat number: 20\n",
      "    Number of featured: 24\n",
      "     Iteration by feat number: 24\n",
      "    Number of featured: 28\n",
      "     Iteration by feat number: 28\n",
      "    Number of featured: 28\n",
      "     Iteration by feat number: 28\n",
      "Iteration by tree number: 5\n",
      "  Iteration by contamination: 0.04\n",
      "    Number of featured: 2\n",
      "     Iteration by feat number: 2\n",
      "    Number of featured: 4\n",
      "     Iteration by feat number: 4\n",
      "    Number of featured: 6\n",
      "     Iteration by feat number: 6\n",
      "    Number of featured: 9\n",
      "     Iteration by feat number: 9\n",
      "    Number of featured: 11\n",
      "     Iteration by feat number: 11\n",
      "    Number of featured: 14\n",
      "     Iteration by feat number: 14\n",
      "    Number of featured: 17\n",
      "     Iteration by feat number: 17\n",
      "    Number of featured: 20\n",
      "     Iteration by feat number: 20\n",
      "    Number of featured: 24\n",
      "     Iteration by feat number: 24\n",
      "    Number of featured: 28\n",
      "     Iteration by feat number: 28\n",
      "    Number of featured: 28\n",
      "     Iteration by feat number: 28\n",
      "Iteration by tree number: 25\n",
      "  Iteration by contamination: 0.04\n",
      "    Number of featured: 2\n",
      "     Iteration by feat number: 2\n",
      "    Number of featured: 4\n",
      "     Iteration by feat number: 4\n",
      "    Number of featured: 6\n",
      "     Iteration by feat number: 6\n",
      "    Number of featured: 9\n",
      "     Iteration by feat number: 9\n",
      "    Number of featured: 11\n",
      "     Iteration by feat number: 11\n",
      "    Number of featured: 14\n",
      "     Iteration by feat number: 14\n",
      "    Number of featured: 17\n",
      "     Iteration by feat number: 17\n",
      "    Number of featured: 20\n",
      "     Iteration by feat number: 20\n",
      "    Number of featured: 24\n",
      "     Iteration by feat number: 24\n",
      "    Number of featured: 28\n",
      "     Iteration by feat number: 28\n",
      "    Number of featured: 28\n",
      "     Iteration by feat number: 28\n",
      "Iteration by tree number: 50\n",
      "  Iteration by contamination: 0.04\n",
      "    Number of featured: 2\n",
      "     Iteration by feat number: 2\n",
      "    Number of featured: 4\n",
      "     Iteration by feat number: 4\n",
      "    Number of featured: 6\n",
      "     Iteration by feat number: 6\n",
      "    Number of featured: 9\n",
      "     Iteration by feat number: 9\n",
      "    Number of featured: 11\n",
      "     Iteration by feat number: 11\n",
      "    Number of featured: 14\n",
      "     Iteration by feat number: 14\n",
      "    Number of featured: 17\n",
      "     Iteration by feat number: 17\n",
      "    Number of featured: 20\n",
      "     Iteration by feat number: 20\n",
      "    Number of featured: 24\n",
      "     Iteration by feat number: 24\n",
      "    Number of featured: 28\n",
      "     Iteration by feat number: 28\n",
      "    Number of featured: 28\n",
      "     Iteration by feat number: 28\n",
      "Iteration by tree number: 75\n",
      "  Iteration by contamination: 0.04\n",
      "    Number of featured: 2\n",
      "     Iteration by feat number: 2\n",
      "    Number of featured: 4\n",
      "     Iteration by feat number: 4\n",
      "    Number of featured: 6\n",
      "     Iteration by feat number: 6\n",
      "    Number of featured: 9\n",
      "     Iteration by feat number: 9\n",
      "    Number of featured: 11\n",
      "     Iteration by feat number: 11\n",
      "    Number of featured: 14\n",
      "     Iteration by feat number: 14\n",
      "    Number of featured: 17\n",
      "     Iteration by feat number: 17\n",
      "    Number of featured: 20\n",
      "     Iteration by feat number: 20\n",
      "    Number of featured: 24\n",
      "     Iteration by feat number: 24\n",
      "    Number of featured: 28\n",
      "     Iteration by feat number: 28\n",
      "    Number of featured: 28\n",
      "     Iteration by feat number: 28\n"
     ]
    }
   ],
   "source": [
    "# Capture the start time\n",
    "start_time = datetime.datetime.now()\n",
    "\n",
    "df = train_and_evaluate_iforest(data, dataset_id=dataset_id, hyper=hyper, fi_df=fi_shap_all, n_tree_estimators=trees, contamination_percentage=contamination_percentage, excluded_cols=excluded_cols, n_iter_fs=n_iter_fs, n_iter=n_iter)\n",
    "df['shap_q1'] = df['shap_stab'].apply(lambda x: np.percentile(x, 75))\n",
    "df['shap_q2'] = df['shap_stab'].apply(lambda x: np.percentile(x, 50))\n",
    "df['shap_q3'] = df['shap_stab'].apply(lambda x: np.percentile(x, 25))\n",
    "\n",
    "df['shap_ad_q1'] = df['shap_stab_ad'].apply(lambda x: np.percentile(x, 75))\n",
    "df['shap_ad_q2'] = df['shap_stab_ad'].apply(lambda x: np.percentile(x, 50))\n",
    "df['shap_ad_q3'] = df['shap_stab_ad'].apply(lambda x: np.percentile(x, 25))\n",
    "\n",
    "# Capture the finish time\n",
    "finish_time = datetime.datetime.now()\n",
    "\n",
    "# Calculate the duration\n",
    "duration = finish_time - start_time\n",
    "\n",
    "print(f\"Duration: {duration}\")"
   ]
  },
  {
   "cell_type": "code",
   "execution_count": null,
   "id": "2a4575ac",
   "metadata": {},
   "outputs": [],
   "source": [
    "df"
   ]
  },
  {
   "cell_type": "code",
   "execution_count": null,
   "id": "18df311d",
   "metadata": {},
   "outputs": [],
   "source": [
    "df.to_parquet(path_shap)"
   ]
  }
 ],
 "metadata": {
  "environment": {
   "name": "common-cpu.m80",
   "type": "gcloud",
   "uri": "gcr.io/deeplearning-platform-release/base-cpu:m80"
  },
  "kernelspec": {
   "display_name": "Python 3 (ipykernel)",
   "language": "python",
   "name": "python3"
  },
  "language_info": {
   "codemirror_mode": {
    "name": "ipython",
    "version": 3
   },
   "file_extension": ".py",
   "mimetype": "text/x-python",
   "name": "python",
   "nbconvert_exporter": "python",
   "pygments_lexer": "ipython3",
   "version": "3.9.18"
  },
  "vscode": {
   "interpreter": {
    "hash": "c7bb90c4ec68b2a8968b0075ab0b1cb7a78770acf7a7acf2e36e903fa05bac64"
   }
  }
 },
 "nbformat": 4,
 "nbformat_minor": 5
}

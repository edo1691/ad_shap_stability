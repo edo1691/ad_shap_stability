{
 "cells": [
  {
   "cell_type": "markdown",
   "id": "123c1709-aadd-4c93-a80a-0a0c44290983",
   "metadata": {},
   "source": [
    "# iForest"
   ]
  },
  {
   "cell_type": "code",
   "execution_count": 1,
   "id": "2520ef24",
   "metadata": {},
   "outputs": [],
   "source": [
    "import warnings\n",
    "warnings.filterwarnings('ignore')"
   ]
  },
  {
   "cell_type": "markdown",
   "id": "11e4854b-87bd-490e-88e4-9a64631dc5bb",
   "metadata": {
    "tags": []
   },
   "source": [
    "## General libraries"
   ]
  },
  {
   "cell_type": "code",
   "execution_count": 2,
   "id": "feba20a1-5d20-4127-888b-b0e4c72f4757",
   "metadata": {},
   "outputs": [],
   "source": [
    "import os\n",
    "import sys\n",
    "\n",
    "import pandas as pd\n",
    "import numpy as np\n",
    "\n",
    "from os.path import join\n",
    "import json\n",
    "import datetime\n",
    "\n",
    "import shap\n",
    "from shap_selection import feature_selection\n",
    "\n",
    "from sklearn.preprocessing import OneHotEncoder\n",
    "import time"
   ]
  },
  {
   "cell_type": "markdown",
   "id": "de633751",
   "metadata": {},
   "source": [
    "### Load enviroment variables"
   ]
  },
  {
   "cell_type": "code",
   "execution_count": 3,
   "id": "64a57d38",
   "metadata": {},
   "outputs": [],
   "source": [
    "from dotenv import load_dotenv\n",
    "load_dotenv('../.env')\n",
    "\n",
    "code_root = os.environ['CODE_ROOT']\n",
    "cfg_path = os.environ['CFG_PATH']\n",
    "data_root = os.environ['DATA_ROOT']\n",
    "\n",
    "sys.path.insert(0, code_root)"
   ]
  },
  {
   "cell_type": "markdown",
   "id": "6d1ee99b-97d7-4059-b242-380656087497",
   "metadata": {},
   "source": [
    "### Specific libraries"
   ]
  },
  {
   "cell_type": "code",
   "execution_count": 4,
   "id": "b670745e",
   "metadata": {},
   "outputs": [],
   "source": [
    "from src.load.functions import get_fs_dataset, fs_datasets_hyperparams\n",
    "from src.model.functions import train_and_evaluate_iforest\n",
    "from src.utils.functions import adjust_fi"
   ]
  },
  {
   "cell_type": "markdown",
   "id": "5c360966",
   "metadata": {},
   "source": [
    "## General parameters"
   ]
  },
  {
   "cell_type": "code",
   "execution_count": 5,
   "id": "27ef64e3",
   "metadata": {},
   "outputs": [],
   "source": [
    "n_iter_fs = 1\n",
    "n_iter = 1\n",
    "contamination_percentage = [1]\n",
    "#trees = [1, 5, 25, 50, 75, 100, 125, 150, 175, 200]\n",
    "\n",
    "trees = [100]"
   ]
  },
  {
   "cell_type": "markdown",
   "id": "b7db27ee-405e-4faa-a7e9-6b8cdf41d437",
   "metadata": {
    "tags": []
   },
   "source": [
    "## Data-set"
   ]
  },
  {
   "cell_type": "code",
   "execution_count": 6,
   "id": "4a527899-7fe8-4aea-80f8-2e0447fde772",
   "metadata": {},
   "outputs": [
    {
     "data": {
      "text/plain": [
       "(11183, 7)"
      ]
     },
     "execution_count": 6,
     "metadata": {},
     "output_type": "execute_result"
    }
   ],
   "source": [
    "dataset_id = 'mammography'\n",
    "data = get_fs_dataset(dataset_id, data_root)\n",
    "hyper = fs_datasets_hyperparams(dataset_id)\n",
    "data.shape"
   ]
  },
  {
   "cell_type": "code",
   "execution_count": 7,
   "id": "6a540a60-dc06-477f-acda-ac0d564fb5ee",
   "metadata": {},
   "outputs": [],
   "source": [
    "excluded_cols = []"
   ]
  },
  {
   "cell_type": "markdown",
   "id": "72d0f5e9-900d-4121-9d91-3b201911e14f",
   "metadata": {
    "jp-MarkdownHeadingCollapsed": true,
    "tags": []
   },
   "source": [
    "### iForest"
   ]
  },
  {
   "cell_type": "markdown",
   "id": "f6a16e2a",
   "metadata": {},
   "source": [
    "## Parameters"
   ]
  },
  {
   "cell_type": "code",
   "execution_count": 8,
   "id": "761a8dd4",
   "metadata": {},
   "outputs": [],
   "source": [
    "path_fi_shap = os.path.join(data_root, \"outputs\", f\"{dataset_id}_fi_shap\")\n",
    "path_shap = os.path.join(data_root, \"outputs\", f\"{dataset_id}_shap.parquet\")\n",
    "\n",
    "fi_shap_all = pd.read_parquet(path_fi_shap)\n",
    "fi_shap_all = adjust_fi(fi_shap_all)"
   ]
  },
  {
   "cell_type": "markdown",
   "id": "ae171188",
   "metadata": {},
   "source": [
    "## Model training with iterations HPO and FS"
   ]
  },
  {
   "cell_type": "code",
   "execution_count": 9,
   "id": "9de21c3e",
   "metadata": {},
   "outputs": [
    {
     "name": "stdout",
     "output_type": "stream",
     "text": [
      "Iteration by tree number: 100\n",
      "  Iteration by contamination: 0.1\n",
      "    Number of featured: 2\n",
      "     Iteration by feat number: 2\n",
      "    Number of featured: 3\n",
      "     Iteration by feat number: 2\n",
      "     Iteration by feat number: 3\n",
      "    Number of featured: 4\n",
      "     Iteration by feat number: 2\n",
      "     Iteration by feat number: 3\n",
      "     Iteration by feat number: 4\n",
      "    Number of featured: 5\n",
      "     Iteration by feat number: 2\n",
      "     Iteration by feat number: 3\n",
      "     Iteration by feat number: 4\n",
      "     Iteration by feat number: 5\n",
      "    Number of featured: 6\n",
      "     Iteration by feat number: 2\n",
      "     Iteration by feat number: 3\n",
      "     Iteration by feat number: 4\n",
      "     Iteration by feat number: 6\n",
      "Duration: 0:02:04.391138\n"
     ]
    }
   ],
   "source": [
    "# Capture the start time\n",
    "start_time = datetime.datetime.now()\n",
    "\n",
    "df = train_and_evaluate_iforest(data, dataset_id=dataset_id, hyper=hyper, fi_df=fi_shap_all, excluded_cols=excluded_cols, n_iter_fs=n_iter_fs, n_iter=n_iter)\n",
    "\n",
    "# Capture the finish time\n",
    "finish_time = datetime.datetime.now()\n",
    "\n",
    "# Calculate the duration\n",
    "duration = finish_time - start_time\n",
    "\n",
    "print(f\"Duration: {duration}\")"
   ]
  },
  {
   "cell_type": "code",
   "execution_count": 10,
   "id": "9b4cdbc8-192a-4073-a836-46b7cda0f6b1",
   "metadata": {},
   "outputs": [],
   "source": [
    "df_save = df.copy()"
   ]
  },
  {
   "cell_type": "code",
   "execution_count": 11,
   "id": "c7e10adf-ca0e-40c2-b4d7-67fab53e6f6b",
   "metadata": {},
   "outputs": [],
   "source": [
    "df = df_save.copy()"
   ]
  },
  {
   "cell_type": "code",
   "execution_count": 12,
   "id": "1aae6805-bce2-417e-a66c-8495328695b6",
   "metadata": {},
   "outputs": [],
   "source": [
    "df = df.drop(columns=['stab_model_list', 'stab_shap_list'])"
   ]
  },
  {
   "cell_type": "code",
   "execution_count": 13,
   "id": "18df311d",
   "metadata": {},
   "outputs": [],
   "source": [
    "df.to_parquet(path_shap)"
   ]
  },
  {
   "cell_type": "code",
   "execution_count": 14,
   "id": "90f344fb-f758-4e1a-b2a8-befa23126e42",
   "metadata": {},
   "outputs": [],
   "source": [
    "def process_data(df):\n",
    "    \"\"\"\n",
    "    Processes SHAP data files by reading them, filtering, and calculating additional metrics.\n",
    "    \n",
    "    Parameters:\n",
    "    - dataset_id: The unique identifier for the dataset.\n",
    "    - data_root: The root directory where the data files are located.\n",
    "    \n",
    "    Returns:\n",
    "    - df: The processed pandas DataFrame containing selected variables and calculated metrics.\n",
    "    \"\"\"\n",
    "    # Calculate percentiles and stability index\n",
    "    df['shap_q1'] = df['stab_shap'].apply(lambda x: np.percentile(x, 75))\n",
    "    df['shap_q2'] = df['stab_shap'].apply(lambda x: np.percentile(x, 50))\n",
    "    df['shap_q3'] = df['stab_shap'].apply(lambda x: np.percentile(x, 25))\n",
    "    df['stability index'] = df['stab_shap'].apply(lambda x: np.mean(x))\n",
    "\n",
    "    return df"
   ]
  },
  {
   "cell_type": "code",
   "execution_count": 15,
   "id": "c46eae08-3b1c-4f2f-bbdc-bba11e5aa034",
   "metadata": {},
   "outputs": [
    {
     "data": {
      "text/html": [
       "<div>\n",
       "<style scoped>\n",
       "    .dataframe tbody tr th:only-of-type {\n",
       "        vertical-align: middle;\n",
       "    }\n",
       "\n",
       "    .dataframe tbody tr th {\n",
       "        vertical-align: top;\n",
       "    }\n",
       "\n",
       "    .dataframe thead th {\n",
       "        text-align: right;\n",
       "    }\n",
       "</style>\n",
       "<table border=\"1\" class=\"dataframe\">\n",
       "  <thead>\n",
       "    <tr style=\"text-align: right;\">\n",
       "      <th></th>\n",
       "      <th>f1-score</th>\n",
       "      <th>recall</th>\n",
       "      <th>precision</th>\n",
       "      <th>roc_auc</th>\n",
       "      <th>stab_model</th>\n",
       "      <th>stab_shap</th>\n",
       "      <th>n_estimators</th>\n",
       "      <th>max_feats</th>\n",
       "      <th>contamination</th>\n",
       "      <th>n_feats</th>\n",
       "      <th>n_iter</th>\n",
       "      <th>n_iter_fs</th>\n",
       "      <th>shap_q1</th>\n",
       "      <th>shap_q2</th>\n",
       "      <th>shap_q3</th>\n",
       "      <th>stability index</th>\n",
       "    </tr>\n",
       "  </thead>\n",
       "  <tbody>\n",
       "    <tr>\n",
       "      <th>13</th>\n",
       "      <td>0.227523</td>\n",
       "      <td>0.596154</td>\n",
       "      <td>0.14059</td>\n",
       "      <td>0.870685</td>\n",
       "      <td>1.0</td>\n",
       "      <td>[0.26441537372380547, 0.2988022157911061, 0.07...</td>\n",
       "      <td>100</td>\n",
       "      <td>6</td>\n",
       "      <td>0.1</td>\n",
       "      <td>6</td>\n",
       "      <td>1</td>\n",
       "      <td>1</td>\n",
       "      <td>0.180644</td>\n",
       "      <td>0.09175</td>\n",
       "      <td>0.07958</td>\n",
       "      <td>0.138931</td>\n",
       "    </tr>\n",
       "  </tbody>\n",
       "</table>\n",
       "</div>"
      ],
      "text/plain": [
       "    f1-score    recall  precision   roc_auc  stab_model  \\\n",
       "13  0.227523  0.596154    0.14059  0.870685         1.0   \n",
       "\n",
       "                                            stab_shap  n_estimators  \\\n",
       "13  [0.26441537372380547, 0.2988022157911061, 0.07...           100   \n",
       "\n",
       "    max_feats  contamination  n_feats  n_iter  n_iter_fs   shap_q1  shap_q2  \\\n",
       "13          6            0.1        6       1          1  0.180644  0.09175   \n",
       "\n",
       "    shap_q3  stability index  \n",
       "13  0.07958         0.138931  "
      ]
     },
     "execution_count": 15,
     "metadata": {},
     "output_type": "execute_result"
    }
   ],
   "source": [
    "test = process_data(df)\n",
    "test = test[(test.n_estimators==100) & (test.n_feats==test.n_feats.max()) & (test.max_feats==test.max_feats.max())]\n",
    "test"
   ]
  },
  {
   "cell_type": "code",
   "execution_count": 16,
   "id": "3008da1b-f94b-4df6-b816-3643f1c51c8e",
   "metadata": {},
   "outputs": [
    {
     "data": {
      "image/png": "[encoded data removed]",
      "text/plain": [
       "<Figure size 1000x600 with 1 Axes>"
      ]
     },
     "metadata": {},
     "output_type": "display_data"
    }
   ],
   "source": [
    "import matplotlib.pyplot as plt\n",
    "\n",
    "# Assuming `final_stability_score` is your array of stability scores from the modified function\n",
    "stability_scores = np.array(test.stab_shap)[0]\n",
    "stability_scores = np.sort(stability_scores)\n",
    "\n",
    "# Plotting\n",
    "plt.figure(figsize=(10, 6))\n",
    "plt.plot(stability_scores, marker='o', linestyle='-', color='blue')\n",
    "plt.title('Local Stability Scores per Test Instance')\n",
    "plt.xlabel('Test Instance Index')\n",
    "plt.ylabel('Stability Score')\n",
    "plt.grid(True)\n",
    "plt.show()"
   ]
  },
  {
   "cell_type": "code",
   "execution_count": null,
   "id": "2b16b0e1-4b8f-4b9c-a44a-c4e49fa967f9",
   "metadata": {},
   "outputs": [],
   "source": []
  }
 ],
 "metadata": {
  "environment": {
   "name": "common-cpu.m80",
   "type": "gcloud",
   "uri": "gcr.io/deeplearning-platform-release/base-cpu:m80"
  },
  "kernelspec": {
   "display_name": "Python 3 (ipykernel)",
   "language": "python",
   "name": "python3"
  },
  "language_info": {
   "codemirror_mode": {
    "name": "ipython",
    "version": 3
   },
   "file_extension": ".py",
   "mimetype": "text/x-python",
   "name": "python",
   "nbconvert_exporter": "python",
   "pygments_lexer": "ipython3",
   "version": "3.9.18"
  },
  "vscode": {
   "interpreter": {
    "hash": "c7bb90c4ec68b2a8968b0075ab0b1cb7a78770acf7a7acf2e36e903fa05bac64"
   }
  }
 },
 "nbformat": 4,
 "nbformat_minor": 5
}

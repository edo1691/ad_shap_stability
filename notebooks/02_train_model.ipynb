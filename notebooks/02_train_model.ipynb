{
 "cells": [
  {
   "cell_type": "markdown",
   "id": "123c1709-aadd-4c93-a80a-0a0c44290983",
   "metadata": {},
   "source": [
    "# iForest"
   ]
  },
  {
   "cell_type": "code",
   "execution_count": 1,
   "id": "2520ef24",
   "metadata": {},
   "outputs": [],
   "source": [
    "import warnings\n",
    "warnings.filterwarnings('ignore')"
   ]
  },
  {
   "cell_type": "markdown",
   "id": "11e4854b-87bd-490e-88e4-9a64631dc5bb",
   "metadata": {
    "tags": []
   },
   "source": [
    "## General libraries"
   ]
  },
  {
   "cell_type": "code",
   "execution_count": 2,
   "id": "feba20a1-5d20-4127-888b-b0e4c72f4757",
   "metadata": {},
   "outputs": [],
   "source": [
    "import os\n",
    "import sys\n",
    "\n",
    "import pandas as pd\n",
    "import numpy as np\n",
    "\n",
    "from os.path import join\n",
    "import json\n",
    "import datetime\n",
    "\n",
    "import time"
   ]
  },
  {
   "cell_type": "markdown",
   "id": "de633751",
   "metadata": {},
   "source": [
    "### Load enviroment variables"
   ]
  },
  {
   "cell_type": "code",
   "execution_count": 3,
   "id": "64a57d38",
   "metadata": {},
   "outputs": [],
   "source": [
    "from dotenv import load_dotenv\n",
    "load_dotenv('../.env')\n",
    "\n",
    "code_root = os.environ['CODE_ROOT']\n",
    "cfg_path = os.environ['CFG_PATH']\n",
    "data_root = os.environ['DATA_ROOT']\n",
    "\n",
    "sys.path.insert(0, code_root)"
   ]
  },
  {
   "cell_type": "markdown",
   "id": "6d1ee99b-97d7-4059-b242-380656087497",
   "metadata": {},
   "source": [
    "### Specific libraries"
   ]
  },
  {
   "cell_type": "code",
   "execution_count": 4,
   "id": "b670745e",
   "metadata": {},
   "outputs": [],
   "source": [
    "from src.load.functions import get_fs_dataset, fs_datasets_hyperparams\n",
    "\n",
    "from src.model.functions import train_and_evaluate_iforest\n",
    "#from src.stability.functions import stability_measure_model, stability_measure_shap"
   ]
  },
  {
   "cell_type": "markdown",
   "id": "5c360966",
   "metadata": {},
   "source": [
    "## General parameters"
   ]
  },
  {
   "cell_type": "code",
   "execution_count": 5,
   "id": "27ef64e3",
   "metadata": {},
   "outputs": [],
   "source": [
    "n_iter_fs = 1\n",
    "n_iter = 1\n",
    "contamination_percentage = [0.8] \n",
    "trees = [25, 50, 100, 125, 150, 175]\n",
    "\n",
    "# Function to calculate median of a list\n",
    "def calculate_median(numbers_list):\n",
    "    return np.median(numbers_list)\n",
    "\n",
    "# Function to calculate mean of a list\n",
    "def calculate_mean(numbers_list):\n",
    "    return np.mean(numbers_list)\n",
    "\n",
    "# Define aggregation criteria for each variable\n",
    "aggregation_rules = {\n",
    "    'n_iter': 'max',\n",
    "    'n_iter_fs': 'max',\n",
    "    'f1_median': 'mean',\n",
    "    'recall_median': 'mean',\n",
    "    'precision_median': 'mean',\n",
    "    'roc_auc': 'mean',\n",
    "    'iforest_stab_unif_median': 'median',\n",
    "    'shap_stab_median': 'median',\n",
    "    'shap_stab_mean': 'mean',\n",
    "}"
   ]
  },
  {
   "cell_type": "markdown",
   "id": "b7db27ee-405e-4faa-a7e9-6b8cdf41d437",
   "metadata": {
    "tags": []
   },
   "source": [
    "## Arrhythmia"
   ]
  },
  {
   "cell_type": "markdown",
   "id": "70f383d5",
   "metadata": {},
   "source": [
    "**Dataset source**: http://odds.cs.stonybrook.edu/arrhythmia-dataset/ (data is transformed from .mat to .csv format)\n",
    "\n",
    "Shebuti Rayana (2016). ODDS Library [http://odds.cs.stonybrook.edu]. Stony Brook, NY: Stony Brook University, Department of Computer Science.\n",
    "\n",
    "**Additional sources**:\n",
    "\n",
    "Liu, Fei Tony, Kai Ming Ting, and Zhi-Hua Zhou. “Isolation forest.” 2008 Eighth IEEE International Conference on Data Mining. IEEE, 2008.\n",
    "\n",
    "K. M. Ting, J. T. S. Chuan, and F. T. Liu. “Mass: A New Ranking Measure for Anomaly Detection.“, IEEE Transactions on Knowledge and Data Engineering, 2009.\n",
    "\n",
    "F. Keller, E. Muller, K. Bohm.“HiCS: High-contrast subspaces for density-based outlier ranking.” ICDE, 2012."
   ]
  },
  {
   "cell_type": "code",
   "execution_count": 6,
   "id": "4a527899-7fe8-4aea-80f8-2e0447fde772",
   "metadata": {},
   "outputs": [],
   "source": [
    "dataset_id = 'arrhythmia'"
   ]
  },
  {
   "cell_type": "code",
   "execution_count": 7,
   "id": "97f1d076",
   "metadata": {},
   "outputs": [],
   "source": [
    "data = get_fs_dataset(dataset_id, data_root)"
   ]
  },
  {
   "cell_type": "code",
   "execution_count": 8,
   "id": "76666a27-50e4-4926-aec3-bc7d0303f482",
   "metadata": {},
   "outputs": [],
   "source": [
    "hyper = fs_datasets_hyperparams(dataset_id)"
   ]
  },
  {
   "cell_type": "code",
   "execution_count": 9,
   "id": "7a470d6c-c28d-4798-aec0-2361530d8bf8",
   "metadata": {},
   "outputs": [
    {
     "data": {
      "text/plain": [
       "(452, 275)"
      ]
     },
     "execution_count": 9,
     "metadata": {},
     "output_type": "execute_result"
    }
   ],
   "source": [
    "data.shape"
   ]
  },
  {
   "cell_type": "code",
   "execution_count": 10,
   "id": "937686a7-6d97-4ed0-890a-4575bd4403f9",
   "metadata": {},
   "outputs": [
    {
     "data": {
      "text/html": [
       "<div>\n",
       "<style scoped>\n",
       "    .dataframe tbody tr th:only-of-type {\n",
       "        vertical-align: middle;\n",
       "    }\n",
       "\n",
       "    .dataframe tbody tr th {\n",
       "        vertical-align: top;\n",
       "    }\n",
       "\n",
       "    .dataframe thead th {\n",
       "        text-align: right;\n",
       "    }\n",
       "</style>\n",
       "<table border=\"1\" class=\"dataframe\">\n",
       "  <thead>\n",
       "    <tr style=\"text-align: right;\">\n",
       "      <th></th>\n",
       "      <th>Col1</th>\n",
       "    </tr>\n",
       "    <tr>\n",
       "      <th>y</th>\n",
       "      <th></th>\n",
       "    </tr>\n",
       "  </thead>\n",
       "  <tbody>\n",
       "    <tr>\n",
       "      <th>0</th>\n",
       "      <td>386</td>\n",
       "    </tr>\n",
       "    <tr>\n",
       "      <th>1</th>\n",
       "      <td>66</td>\n",
       "    </tr>\n",
       "  </tbody>\n",
       "</table>\n",
       "</div>"
      ],
      "text/plain": [
       "   Col1\n",
       "y      \n",
       "0   386\n",
       "1    66"
      ]
     },
     "execution_count": 10,
     "metadata": {},
     "output_type": "execute_result"
    }
   ],
   "source": [
    "pd.pivot_table(data,\n",
    "             values = 'Col1',\n",
    "               index = 'y', \n",
    "              aggfunc = 'count')"
   ]
  },
  {
   "cell_type": "code",
   "execution_count": 11,
   "id": "6a540a60-dc06-477f-acda-ac0d564fb5ee",
   "metadata": {},
   "outputs": [],
   "source": [
    "excluded_cols = ['Col15', 'Col63', 'Col65', 'Col79', 'Col127', 'Col128','Col135', 'Col137', 'Col139','Col141','Col147', 'Col152', 'Col153', 'Col160', 'Col200', 'Col260', 'Col270']"
   ]
  },
  {
   "cell_type": "markdown",
   "id": "72d0f5e9-900d-4121-9d91-3b201911e14f",
   "metadata": {
    "jp-MarkdownHeadingCollapsed": true,
    "tags": []
   },
   "source": [
    "### iForest"
   ]
  },
  {
   "cell_type": "markdown",
   "id": "f6a16e2a",
   "metadata": {},
   "source": [
    "## Parameters"
   ]
  },
  {
   "cell_type": "code",
   "execution_count": 12,
   "id": "761a8dd4",
   "metadata": {},
   "outputs": [
    {
     "data": {
      "text/plain": [
       "'/Users/allianz/workspace_github_pers/ad_shap_stability/test/data/outputs/arrhythmia_results_if.parquet'"
      ]
     },
     "execution_count": 12,
     "metadata": {},
     "output_type": "execute_result"
    }
   ],
   "source": [
    "# path\n",
    "path = os.path.join(data_root, \"outputs\", f\"{dataset_id}_results_if.parquet\")\n",
    "path"
   ]
  },
  {
   "cell_type": "code",
   "execution_count": 13,
   "id": "5bb22a04",
   "metadata": {},
   "outputs": [
    {
     "data": {
      "text/plain": [
       "{'contamination': 0.146, 'max_samples': 256, 'n_estimators': 100}"
      ]
     },
     "execution_count": 13,
     "metadata": {},
     "output_type": "execute_result"
    }
   ],
   "source": [
    "hyper = fs_datasets_hyperparams(dataset_id)\n",
    "hyper"
   ]
  },
  {
   "cell_type": "markdown",
   "id": "67bd69a7",
   "metadata": {},
   "source": [
    "### Iforest full features"
   ]
  },
  {
   "cell_type": "code",
   "execution_count": 14,
   "id": "e2789843",
   "metadata": {},
   "outputs": [
    {
     "name": "stdout",
     "output_type": "stream",
     "text": [
      "Iteration by tree number: 25\n",
      "  Iteration by contamination: 0.117\n",
      "    Number of featured: 257\n",
      "Iteration by tree number: 50\n",
      "  Iteration by contamination: 0.117\n",
      "    Number of featured: 257\n",
      "Iteration by tree number: 100\n",
      "  Iteration by contamination: 0.117\n",
      "    Number of featured: 257\n",
      "Iteration by tree number: 125\n",
      "  Iteration by contamination: 0.117\n",
      "    Number of featured: 257\n",
      "Iteration by tree number: 150\n",
      "  Iteration by contamination: 0.117\n",
      "    Number of featured: 257\n",
      "Iteration by tree number: 175\n",
      "  Iteration by contamination: 0.117\n",
      "    Number of featured: 257\n",
      "Duration: 0:00:30.340978\n"
     ]
    }
   ],
   "source": [
    "# Capture the start time\n",
    "start_time = datetime.datetime.now()\n",
    "\n",
    "results_if = train_and_evaluate_iforest(data, dataset_id=dataset_id, hyper=hyper, n_tree_estimators=trees, contamination_percentage=contamination_percentage, excluded_cols=excluded_cols, n_iter_fs=n_iter_fs, n_iter=n_iter)\n",
    "\n",
    "# Capture the finish time\n",
    "finish_time = datetime.datetime.now()\n",
    "\n",
    "# Calculate the duration\n",
    "duration = finish_time - start_time\n",
    "\n",
    "print(f\"Duration: {duration}\")\n"
   ]
  },
  {
   "cell_type": "code",
   "execution_count": 15,
   "id": "cf7871ad-99cf-4d5e-8753-1c6e0a163b3a",
   "metadata": {},
   "outputs": [
    {
     "data": {
      "text/html": [
       "<div>\n",
       "<style scoped>\n",
       "    .dataframe tbody tr th:only-of-type {\n",
       "        vertical-align: middle;\n",
       "    }\n",
       "\n",
       "    .dataframe tbody tr th {\n",
       "        vertical-align: top;\n",
       "    }\n",
       "\n",
       "    .dataframe thead th {\n",
       "        text-align: right;\n",
       "    }\n",
       "</style>\n",
       "<table border=\"1\" class=\"dataframe\">\n",
       "  <thead>\n",
       "    <tr style=\"text-align: right;\">\n",
       "      <th></th>\n",
       "      <th>n_estimators</th>\n",
       "      <th>contamination</th>\n",
       "      <th>n_feats</th>\n",
       "      <th>n_iter</th>\n",
       "      <th>n_iter_fs</th>\n",
       "      <th>roc_auc</th>\n",
       "      <th>iforest_stab_unif_median</th>\n",
       "      <th>shap_iforest_stab_unif_median</th>\n",
       "      <th>f1_median</th>\n",
       "      <th>recall_median</th>\n",
       "      <th>precision_median</th>\n",
       "      <th>confusion_matrix</th>\n",
       "    </tr>\n",
       "  </thead>\n",
       "  <tbody>\n",
       "    <tr>\n",
       "      <th>0</th>\n",
       "      <td>25</td>\n",
       "      <td>0.117</td>\n",
       "      <td>257</td>\n",
       "      <td>1</td>\n",
       "      <td>1</td>\n",
       "      <td>0.767938</td>\n",
       "      <td>0.847883</td>\n",
       "      <td>[0.202967246597208, 0.23245559446958364, 0.168...</td>\n",
       "      <td>0.436975</td>\n",
       "      <td>0.393939</td>\n",
       "      <td>0.490566</td>\n",
       "      <td>1</td>\n",
       "    </tr>\n",
       "    <tr>\n",
       "      <th>1</th>\n",
       "      <td>50</td>\n",
       "      <td>0.117</td>\n",
       "      <td>257</td>\n",
       "      <td>1</td>\n",
       "      <td>1</td>\n",
       "      <td>0.791490</td>\n",
       "      <td>0.877007</td>\n",
       "      <td>[0.22640850100601062, 0.29579802453699255, 0.2...</td>\n",
       "      <td>0.436975</td>\n",
       "      <td>0.393939</td>\n",
       "      <td>0.490566</td>\n",
       "      <td>1</td>\n",
       "    </tr>\n",
       "    <tr>\n",
       "      <th>2</th>\n",
       "      <td>100</td>\n",
       "      <td>0.117</td>\n",
       "      <td>257</td>\n",
       "      <td>1</td>\n",
       "      <td>1</td>\n",
       "      <td>0.805582</td>\n",
       "      <td>0.933956</td>\n",
       "      <td>[0.3365284417527524, 0.33454972441637554, 0.31...</td>\n",
       "      <td>0.470588</td>\n",
       "      <td>0.424242</td>\n",
       "      <td>0.528302</td>\n",
       "      <td>1</td>\n",
       "    </tr>\n",
       "    <tr>\n",
       "      <th>3</th>\n",
       "      <td>125</td>\n",
       "      <td>0.117</td>\n",
       "      <td>257</td>\n",
       "      <td>1</td>\n",
       "      <td>1</td>\n",
       "      <td>0.808447</td>\n",
       "      <td>0.948970</td>\n",
       "      <td>[0.35533709871293284, 0.3592619933826803, 0.34...</td>\n",
       "      <td>0.487395</td>\n",
       "      <td>0.439394</td>\n",
       "      <td>0.547170</td>\n",
       "      <td>1</td>\n",
       "    </tr>\n",
       "    <tr>\n",
       "      <th>4</th>\n",
       "      <td>150</td>\n",
       "      <td>0.117</td>\n",
       "      <td>257</td>\n",
       "      <td>1</td>\n",
       "      <td>1</td>\n",
       "      <td>0.808840</td>\n",
       "      <td>0.958729</td>\n",
       "      <td>[0.39213625359785154, 0.38499474663402944, 0.3...</td>\n",
       "      <td>0.487395</td>\n",
       "      <td>0.439394</td>\n",
       "      <td>0.547170</td>\n",
       "      <td>1</td>\n",
       "    </tr>\n",
       "    <tr>\n",
       "      <th>5</th>\n",
       "      <td>175</td>\n",
       "      <td>0.117</td>\n",
       "      <td>257</td>\n",
       "      <td>1</td>\n",
       "      <td>1</td>\n",
       "      <td>0.805268</td>\n",
       "      <td>0.960405</td>\n",
       "      <td>[0.41002892990069595, 0.38374046480961255, 0.4...</td>\n",
       "      <td>0.470588</td>\n",
       "      <td>0.424242</td>\n",
       "      <td>0.528302</td>\n",
       "      <td>1</td>\n",
       "    </tr>\n",
       "  </tbody>\n",
       "</table>\n",
       "</div>"
      ],
      "text/plain": [
       "   n_estimators  contamination  n_feats  n_iter  n_iter_fs   roc_auc  \\\n",
       "0            25          0.117      257       1          1  0.767938   \n",
       "1            50          0.117      257       1          1  0.791490   \n",
       "2           100          0.117      257       1          1  0.805582   \n",
       "3           125          0.117      257       1          1  0.808447   \n",
       "4           150          0.117      257       1          1  0.808840   \n",
       "5           175          0.117      257       1          1  0.805268   \n",
       "\n",
       "   iforest_stab_unif_median  \\\n",
       "0                  0.847883   \n",
       "1                  0.877007   \n",
       "2                  0.933956   \n",
       "3                  0.948970   \n",
       "4                  0.958729   \n",
       "5                  0.960405   \n",
       "\n",
       "                       shap_iforest_stab_unif_median  f1_median  \\\n",
       "0  [0.202967246597208, 0.23245559446958364, 0.168...   0.436975   \n",
       "1  [0.22640850100601062, 0.29579802453699255, 0.2...   0.436975   \n",
       "2  [0.3365284417527524, 0.33454972441637554, 0.31...   0.470588   \n",
       "3  [0.35533709871293284, 0.3592619933826803, 0.34...   0.487395   \n",
       "4  [0.39213625359785154, 0.38499474663402944, 0.3...   0.487395   \n",
       "5  [0.41002892990069595, 0.38374046480961255, 0.4...   0.470588   \n",
       "\n",
       "   recall_median  precision_median  confusion_matrix  \n",
       "0       0.393939          0.490566                 1  \n",
       "1       0.393939          0.490566                 1  \n",
       "2       0.424242          0.528302                 1  \n",
       "3       0.439394          0.547170                 1  \n",
       "4       0.439394          0.547170                 1  \n",
       "5       0.424242          0.528302                 1  "
      ]
     },
     "execution_count": 15,
     "metadata": {},
     "output_type": "execute_result"
    }
   ],
   "source": [
    "results_if"
   ]
  },
  {
   "cell_type": "code",
   "execution_count": null,
   "id": "3fc7666b-86d0-4e82-a1b8-88ed43b80667",
   "metadata": {},
   "outputs": [],
   "source": []
  },
  {
   "cell_type": "code",
   "execution_count": 16,
   "id": "4975319b-8081-4b77-b31e-e469381b1fcc",
   "metadata": {},
   "outputs": [
    {
     "ename": "NameError",
     "evalue": "name 'IsolationForest' is not defined",
     "output_type": "error",
     "traceback": [
      "\u001b[0;31m---------------------------------------------------------------------------\u001b[0m",
      "\u001b[0;31mNameError\u001b[0m                                 Traceback (most recent call last)",
      "Cell \u001b[0;32mIn[16], line 3\u001b[0m\n\u001b[1;32m      1\u001b[0m start \u001b[38;5;241m=\u001b[39m time\u001b[38;5;241m.\u001b[39mprocess_time()\n\u001b[0;32m----> 3\u001b[0m clf \u001b[38;5;241m=\u001b[39m \u001b[43mIsolationForest\u001b[49m(max_samples\u001b[38;5;241m=\u001b[39m\u001b[38;5;241m256\u001b[39m, n_estimators\u001b[38;5;241m=\u001b[39m\u001b[38;5;241m100\u001b[39m)\n\u001b[1;32m      4\u001b[0m clf\u001b[38;5;241m.\u001b[39mfit(train_data\u001b[38;5;241m.\u001b[39mloc[:, train_data\u001b[38;5;241m.\u001b[39mcolumns \u001b[38;5;241m!=\u001b[39m \u001b[38;5;124m'\u001b[39m\u001b[38;5;124mClass\u001b[39m\u001b[38;5;124m'\u001b[39m])\n\u001b[1;32m      6\u001b[0m end \u001b[38;5;241m=\u001b[39m time\u001b[38;5;241m.\u001b[39mprocess_time()\n",
      "\u001b[0;31mNameError\u001b[0m: name 'IsolationForest' is not defined"
     ]
    }
   ],
   "source": [
    "start = time.process_time()\n",
    "\n",
    "clf = IsolationForest(max_samples=256, n_estimators=100)\n",
    "clf.fit(train_data.loc[:, train_data.columns != 'Class'])\n",
    "\n",
    "end = time.process_time()\n",
    "creditcard_iforest_train_time = end - start\n",
    "print(end - start)\n",
    "\n",
    "start = time.process_time()\n",
    "\n",
    "y_pred = clf.predict(train_data.loc[:, train_data.columns != 'Class'])\n",
    "y_scores = clf.score_samples(train_data.loc[:, train_data.columns != 'Class'])\n",
    "\n",
    "end = time.process_time()\n",
    "creditcard_iforest_test_time = end - start\n",
    "print(end - start)"
   ]
  },
  {
   "cell_type": "code",
   "execution_count": null,
   "id": "3386ac14-a5be-42aa-9da2-4257cdb684d2",
   "metadata": {},
   "outputs": [],
   "source": [
    "train_data['y_pred'] = y_pred\n",
    "train_data['prediction'] = train_data.apply(def_outlier, axis = 1)\n",
    "train_data['y_scores'] = -y_scores"
   ]
  },
  {
   "cell_type": "code",
   "execution_count": null,
   "id": "c3bbe549-7336-47bf-ad6a-0a582f8dce94",
   "metadata": {},
   "outputs": [],
   "source": [
    "confusion_matrix(train_data['Class'], train_data['prediction'])"
   ]
  },
  {
   "cell_type": "code",
   "execution_count": null,
   "id": "4da6e334",
   "metadata": {},
   "outputs": [],
   "source": [
    "fpr, tpr, _ = metrics.roc_curve(train_data['Class'], train_data['y_scores'])\n",
    "creditcard_iforest_auc = metrics.auc(fpr, tpr)\n",
    "metrics.auc(fpr, tpr)"
   ]
  },
  {
   "cell_type": "code",
   "execution_count": null,
   "id": "13cbb789-5108-40d7-a569-7754a04ae2d1",
   "metadata": {},
   "outputs": [],
   "source": [
    "creditcard_iforest_report = classification_report(train_data['Class'], train_data['prediction'], target_names = ['0','1'], output_dict = True)\n",
    "print(classification_report(train_data['Class'], train_data['prediction'], target_names = ['0','1']))"
   ]
  },
  {
   "cell_type": "code",
   "execution_count": null,
   "id": "f630fd4d",
   "metadata": {},
   "outputs": [],
   "source": [
    "print(creditcard_iforest_report['1']['precision'])\n",
    "print(creditcard_iforest_report['1']['recall'])\n",
    "print(creditcard_iforest_report['1']['f1-score'])"
   ]
  },
  {
   "cell_type": "code",
   "execution_count": null,
   "id": "e1996778",
   "metadata": {},
   "outputs": [],
   "source": [
    "precision, recall, thresholds = precision_recall_curve(train_data['Class'], train_data['y_scores'])\n",
    "creditcard_iforest_auc_precision_recall = metrics.auc(recall, precision)\n",
    "print(creditcard_iforest_auc_precision_recall)"
   ]
  },
  {
   "cell_type": "code",
   "execution_count": null,
   "id": "45331943-15fa-4768-a7b0-de9de07366ca",
   "metadata": {},
   "outputs": [],
   "source": [
    "data = pd.read_csv('./bank.csv')"
   ]
  },
  {
   "cell_type": "code",
   "execution_count": null,
   "id": "3d466cef-6b84-4710-bf4b-4f83fcfa54d7",
   "metadata": {
    "tags": []
   },
   "outputs": [],
   "source": [
    "data.head()"
   ]
  },
  {
   "cell_type": "code",
   "execution_count": null,
   "id": "199d3f42-c83b-405f-ad36-39998fd67eef",
   "metadata": {},
   "outputs": [],
   "source": [
    "pd.pivot_table(data,\n",
    "             values = 'age',\n",
    "               index = 'class', \n",
    "              aggfunc = 'count')"
   ]
  },
  {
   "cell_type": "markdown",
   "id": "d5467df1-72aa-43e1-8797-e831037a25c8",
   "metadata": {
    "jp-MarkdownHeadingCollapsed": true,
    "tags": []
   },
   "source": [
    "### iForest"
   ]
  },
  {
   "cell_type": "code",
   "execution_count": null,
   "id": "c7e1b196-7c52-4926-b82a-30179b1ba304",
   "metadata": {},
   "outputs": [],
   "source": [
    "train_data = data.copy()"
   ]
  },
  {
   "cell_type": "code",
   "execution_count": null,
   "id": "036775dd-38a8-44f3-9efa-f8c9eac677f7",
   "metadata": {},
   "outputs": [],
   "source": [
    "start = time.process_time()\n",
    "\n",
    "clf = IsolationForest(max_samples = 256, n_estimators = 100)\n",
    "clf.fit(train_data.loc[:, train_data.columns != 'class'])\n",
    "\n",
    "end = time.process_time()\n",
    "bank_iforest_train_time = end - start\n",
    "print(end - start)\n",
    "\n",
    "start = time.process_time()\n",
    "\n",
    "y_pred = clf.predict(train_data.loc[:, train_data.columns != 'class'])\n",
    "y_scores = clf.score_samples(train_data.loc[:, train_data.columns != 'class'])\n",
    "end = time.process_time()\n",
    "bank_iforest_test_time = end - start\n",
    "print(end - start)"
   ]
  },
  {
   "cell_type": "code",
   "execution_count": null,
   "id": "5015ce03-ceae-43cc-94ef-0e5035378a88",
   "metadata": {},
   "outputs": [],
   "source": [
    "train_data['y_pred'] = y_pred\n",
    "train_data['prediction'] = train_data.apply(def_outlier, axis = 1)\n",
    "train_data['y_scores'] = -y_scores"
   ]
  },
  {
   "cell_type": "code",
   "execution_count": null,
   "id": "94fe90fc-98ab-4d4c-8010-1f46add0841a",
   "metadata": {},
   "outputs": [],
   "source": [
    "confusion_matrix(train_data['class'], train_data['prediction'])"
   ]
  },
  {
   "cell_type": "code",
   "execution_count": null,
   "id": "19b83ed3",
   "metadata": {},
   "outputs": [],
   "source": [
    "fpr, tpr, _ = metrics.roc_curve(train_data['class'], train_data['y_scores'])\n",
    "bank_iforest_auc = metrics.auc(fpr, tpr)\n",
    "metrics.auc(fpr, tpr)"
   ]
  },
  {
   "cell_type": "code",
   "execution_count": null,
   "id": "c3e59324-e3e3-41ff-89e5-723169429098",
   "metadata": {},
   "outputs": [],
   "source": [
    "bank_iforest_report = classification_report(train_data['class'], train_data['prediction'], target_names = ['0','1'], output_dict=True)\n",
    "print(classification_report(train_data['class'], train_data['prediction'], target_names = ['0','1']))"
   ]
  },
  {
   "cell_type": "code",
   "execution_count": null,
   "id": "e5b5877e",
   "metadata": {},
   "outputs": [],
   "source": [
    "print(bank_iforest_report['1']['precision'])\n",
    "print(bank_iforest_report['1']['recall'])\n",
    "print(bank_iforest_report['1']['f1-score'])"
   ]
  },
  {
   "cell_type": "code",
   "execution_count": null,
   "id": "8ce4674d",
   "metadata": {},
   "outputs": [],
   "source": [
    "precision, recall, thresholds = precision_recall_curve(train_data['class'], train_data['y_scores'])\n",
    "bank_iforest_auc_precision_recall = metrics.auc(recall, precision)\n",
    "print(bank_iforest_auc_precision_recall)"
   ]
  }
 ],
 "metadata": {
  "environment": {
   "name": "common-cpu.m80",
   "type": "gcloud",
   "uri": "gcr.io/deeplearning-platform-release/base-cpu:m80"
  },
  "kernelspec": {
   "display_name": "Python 3 (ipykernel)",
   "language": "python",
   "name": "python3"
  },
  "language_info": {
   "codemirror_mode": {
    "name": "ipython",
    "version": 3
   },
   "file_extension": ".py",
   "mimetype": "text/x-python",
   "name": "python",
   "nbconvert_exporter": "python",
   "pygments_lexer": "ipython3",
   "version": "3.9.12"
  },
  "vscode": {
   "interpreter": {
    "hash": "c7bb90c4ec68b2a8968b0075ab0b1cb7a78770acf7a7acf2e36e903fa05bac64"
   }
  }
 },
 "nbformat": 4,
 "nbformat_minor": 5
}

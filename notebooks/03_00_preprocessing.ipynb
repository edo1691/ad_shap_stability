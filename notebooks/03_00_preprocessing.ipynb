{
 "cells": [
  {
   "cell_type": "markdown",
   "id": "123c1709-aadd-4c93-a80a-0a0c44290983",
   "metadata": {},
   "source": [
    "# iForest"
   ]
  },
  {
   "cell_type": "code",
   "execution_count": 1,
   "id": "2520ef24",
   "metadata": {},
   "outputs": [],
   "source": [
    "import warnings\n",
    "warnings.filterwarnings('ignore')"
   ]
  },
  {
   "cell_type": "markdown",
   "id": "11e4854b-87bd-490e-88e4-9a64631dc5bb",
   "metadata": {
    "tags": []
   },
   "source": [
    "## General libraries"
   ]
  },
  {
   "cell_type": "code",
   "execution_count": 2,
   "id": "feba20a1-5d20-4127-888b-b0e4c72f4757",
   "metadata": {},
   "outputs": [],
   "source": [
    "import os\n",
    "import sys\n",
    "\n",
    "import pandas as pd\n",
    "import numpy as np\n",
    "\n",
    "from os.path import join\n",
    "import json\n",
    "import datetime\n",
    "\n",
    "import time\n",
    "\n",
    "pd.set_option(\"display.max_columns\", None)\n",
    "pd.options.display.float_format = '{:,.2f}'.format### General libraries"
   ]
  },
  {
   "cell_type": "markdown",
   "id": "de633751",
   "metadata": {},
   "source": [
    "### Load enviroment variables"
   ]
  },
  {
   "cell_type": "code",
   "execution_count": 3,
   "id": "64a57d38",
   "metadata": {},
   "outputs": [],
   "source": [
    "from dotenv import load_dotenv\n",
    "load_dotenv('../.env')\n",
    "\n",
    "code_root = os.environ['CODE_ROOT']\n",
    "cfg_path = os.environ['CFG_PATH']\n",
    "data_root = os.environ['DATA_ROOT']\n",
    "\n",
    "sys.path.insert(0, code_root)"
   ]
  },
  {
   "cell_type": "markdown",
   "id": "6d1ee99b-97d7-4059-b242-380656087497",
   "metadata": {},
   "source": [
    "### Specific libraries"
   ]
  },
  {
   "cell_type": "code",
   "execution_count": 4,
   "id": "b670745e",
   "metadata": {},
   "outputs": [],
   "source": [
    "from src.load.functions import get_fs_dataset, fs_datasets_hyperparams\n",
    "\n",
    "from src.auxiliar.execute import LoadProcessData"
   ]
  },
  {
   "cell_type": "markdown",
   "id": "5c360966",
   "metadata": {},
   "source": [
    "## General parameters"
   ]
  },
  {
   "cell_type": "code",
   "execution_count": 5,
   "id": "27ef64e3",
   "metadata": {},
   "outputs": [],
   "source": [
    "n_iter_fs = 1\n",
    "n_iter = 1\n",
    "contamination_percentage = [1] \n",
    "trees = [2, 3, 4]"
   ]
  },
  {
   "cell_type": "markdown",
   "id": "b7db27ee-405e-4faa-a7e9-6b8cdf41d437",
   "metadata": {
    "tags": []
   },
   "source": [
    "## Allianz Claims Data"
   ]
  },
  {
   "cell_type": "markdown",
   "id": "70f383d5",
   "metadata": {},
   "source": [
    "----\n",
    "**Dataset source**: Private dataset from Allianz Benelux, which contain the claims data from clients during 201801-202312\n",
    "\n",
    "**Additional sources**:\n",
    "\n",
    "----"
   ]
  },
  {
   "cell_type": "code",
   "execution_count": 6,
   "id": "4a527899-7fe8-4aea-80f8-2e0447fde772",
   "metadata": {},
   "outputs": [],
   "source": [
    "dataset_id = 'allianz'\n",
    "run_date = '20230917'\n",
    "clean_input_path = join(data_root, f'inputs/{dataset_id}.parquet')"
   ]
  },
  {
   "cell_type": "code",
   "execution_count": 7,
   "id": "fe77cf66-871a-4612-9f75-de05ddd6b6b5",
   "metadata": {},
   "outputs": [],
   "source": [
    "is_azure = False\n",
    "conn_id = ''"
   ]
  },
  {
   "cell_type": "code",
   "execution_count": 8,
   "id": "133093dc-a146-422b-97c2-42fa724a82dc",
   "metadata": {
    "scrolled": true
   },
   "outputs": [
    {
     "name": "stdout",
     "output_type": "stream",
     "text": [
      "Setting new type for column NB_EXPE as type int8\n",
      "Setting new type for column NB_HIST as type int8\n",
      "Setting new type for column NB_GAR as type int8\n",
      "Setting new type for column NO_RSK as type Int8\n",
      "Setting new type for column C_PERS_CLI as type int32\n",
      "Setting new type for column NB_EXPE as type int8\n",
      "Setting new type for column NB_HIST as type int8\n",
      "Setting new type for column NB_GAR as type int8\n",
      "Setting new type for column NO_RSK as type int8\n",
      "Setting new type for column C_PERS_CLI as type int32\n",
      "Setting new type for column NB_EXPE as type int8\n",
      "Setting new type for column NB_HIST as type int8\n",
      "Setting new type for column NB_GAR as type int8\n",
      "Setting new type for column NO_RSK as type int8\n",
      "Setting new type for column C_PERS_CLI as type int32\n",
      "Setting new type for column NB_EXPE as type int8\n",
      "Setting new type for column NB_HIST as type int8\n",
      "Setting new type for column NB_GAR as type int8\n",
      "Setting new type for column NO_RSK as type int8\n",
      "Setting new type for column C_PERS_CLI as type int32\n",
      "Setting new type for column NB_EXPE as type int8\n",
      "Setting new type for column NB_HIST as type int8\n",
      "Setting new type for column NB_GAR as type int8\n",
      "Setting new type for column NO_RSK as type int8\n",
      "Setting new type for column C_PERS_CLI as type int32\n",
      "Setting new type for column NB_EXPE as type int8\n",
      "Setting new type for column NB_HIST as type int8\n",
      "Setting new type for column NB_GAR as type int8\n",
      "Setting new type for column NO_RSK as type int8\n",
      "Setting new type for column C_PERS_CLI as type int32\n",
      "Setting new type for column NB_EXPE as type int8\n",
      "Setting new type for column NB_HIST as type int8\n",
      "Setting new type for column NB_GAR as type int8\n",
      "Setting new type for column NO_RSK as type int8\n",
      "Setting new type for column C_PERS_CLI as type int32\n",
      "Setting new type for column NB_EXPE as type int8\n",
      "Setting new type for column NB_HIST as type int8\n",
      "Setting new type for column NB_GAR as type int8\n",
      "Setting new type for column NO_RSK as type int8\n",
      "Setting new type for column C_PERS_CLI as type int32\n",
      "Setting new type for column NB_EXPE as type int8\n",
      "Setting new type for column NB_HIST as type int8\n",
      "Setting new type for column NB_GAR as type int8\n",
      "Setting new type for column NO_RSK as type int8\n",
      "Setting new type for column C_PERS_CLI as type int32\n",
      "Setting new type for column NB_EXPE as type int8\n",
      "Setting new type for column NB_HIST as type int8\n",
      "Setting new type for column NB_GAR as type int8\n",
      "Setting new type for column NO_RSK as type int8\n",
      "Setting new type for column C_PERS_CLI as type int32\n",
      "Setting new type for column NB_EXPE as type int8\n",
      "Setting new type for column NB_HIST as type int8\n",
      "Setting new type for column NB_GAR as type int8\n",
      "Setting new type for column NO_RSK as type int8\n",
      "Setting new type for column C_PERS_CLI as type int32\n",
      "Setting new type for column NB_EXPE as type int8\n",
      "Setting new type for column NB_HIST as type int8\n",
      "Setting new type for column NB_GAR as type int8\n",
      "Setting new type for column NO_RSK as type int8\n",
      "Setting new type for column C_PERS_CLI as type int32\n",
      "Setting new type for column NB_EXPE as type int8\n",
      "Setting new type for column NB_HIST as type int8\n",
      "Setting new type for column NB_GAR as type int8\n",
      "Setting new type for column NO_RSK as type int8\n",
      "Setting new type for column C_PERS_CLI as type int32\n",
      "Setting new type for column NB_EXPE as type int8\n",
      "Setting new type for column NB_HIST as type int8\n",
      "Setting new type for column NB_GAR as type int8\n",
      "Setting new type for column NO_RSK as type int8\n",
      "Setting new type for column C_PERS_CLI as type int32\n",
      "Setting new type for column NB_EXPE as type int8\n",
      "Setting new type for column NB_HIST as type int8\n",
      "Setting new type for column NB_GAR as type int8\n",
      "Setting new type for column NO_RSK as type int8\n",
      "Setting new type for column C_PERS_CLI as type int32\n",
      "Setting new type for column NB_EXPE as type int8\n",
      "Setting new type for column NB_HIST as type int8\n",
      "Setting new type for column NB_GAR as type int8\n",
      "Setting new type for column NO_RSK as type int8\n",
      "Setting new type for column C_PERS_CLI as type int32\n",
      "Setting new type for column NB_EXPE as type int8\n",
      "Setting new type for column NB_HIST as type int8\n",
      "Setting new type for column NB_GAR as type int8\n",
      "Setting new type for column NO_RSK as type int8\n",
      "Setting new type for column C_PERS_CLI as type int32\n",
      "Setting new type for column NB_EXPE as type int8\n",
      "Setting new type for column NB_HIST as type int8\n",
      "Setting new type for column NB_GAR as type int8\n",
      "Setting new type for column NO_RSK as type int8\n",
      "Setting new type for column C_PERS_CLI as type int32\n",
      "Setting new type for column NB_EXPE as type int8\n",
      "Setting new type for column NB_HIST as type int8\n",
      "Setting new type for column NB_GAR as type int8\n",
      "Setting new type for column NO_RSK as type int8\n",
      "Setting new type for column C_PERS_CLI as type int32\n",
      "Setting new type for column NB_EXPE as type int8\n",
      "Setting new type for column NB_HIST as type int8\n",
      "Setting new type for column NB_GAR as type int8\n",
      "Setting new type for column NO_RSK as type int8\n",
      "Setting new type for column C_PERS_CLI as type int32\n",
      "Setting new type for column NB_EXPE as type int8\n",
      "Setting new type for column NB_HIST as type int8\n",
      "Setting new type for column NB_GAR as type int8\n",
      "Setting new type for column NO_RSK as type int8\n",
      "Setting new type for column C_PERS_CLI as type int32\n",
      "Setting new type for column NB_EXPE as type int8\n",
      "Setting new type for column NB_HIST as type int8\n",
      "Setting new type for column NB_GAR as type int8\n",
      "Setting new type for column NO_RSK as type int8\n",
      "Setting new type for column C_PERS_CLI as type int32\n",
      "Setting new type for column NB_EXPE as type int8\n",
      "Setting new type for column NB_HIST as type int8\n",
      "Setting new type for column NB_GAR as type int8\n",
      "Setting new type for column NO_RSK as type Int8\n",
      "Setting new type for column C_PERS_CLI as type int32\n",
      "Setting new type for column NB_EXPE as type int8\n",
      "Setting new type for column NB_HIST as type int8\n",
      "Setting new type for column NB_GAR as type Int8\n",
      "Setting new type for column NO_RSK as type int8\n",
      "Setting new type for column C_PERS_CLI as type int32\n",
      "Setting new type for column NB_EXPE as type int8\n",
      "Setting new type for column NB_HIST as type int8\n",
      "Setting new type for column NB_GAR as type int8\n",
      "Setting new type for column NO_RSK as type int8\n",
      "Setting new type for column C_PERS_CLI as type int32\n",
      "Setting new type for column NB_EXPE as type int8\n",
      "Setting new type for column NB_HIST as type int8\n",
      "Setting new type for column NB_GAR as type Int8\n",
      "Setting new type for column NO_RSK as type Int8\n",
      "Setting new type for column C_PERS_CLI as type int32\n",
      "Setting new type for column NB_EXPE as type int8\n",
      "Setting new type for column NB_HIST as type int8\n",
      "Setting new type for column NB_GAR as type Int8\n",
      "Setting new type for column NO_RSK as type Int8\n",
      "Setting new type for column C_PERS_CLI as type int32\n",
      "Setting new type for column NB_EXPE as type int8\n",
      "Setting new type for column NB_HIST as type int8\n",
      "Setting new type for column NB_GAR as type Int8\n",
      "Setting new type for column NO_RSK as type int8\n",
      "Setting new type for column C_PERS_CLI as type int32\n",
      "Setting new type for column NB_EXPE as type int8\n",
      "Setting new type for column NB_HIST as type int8\n",
      "Setting new type for column NB_GAR as type Int8\n",
      "Setting new type for column NO_RSK as type int8\n",
      "Setting new type for column C_PERS_CLI as type int32\n",
      "Setting new type for column NB_EXPE as type int8\n",
      "Setting new type for column NB_HIST as type int8\n",
      "Setting new type for column NB_GAR as type Int8\n",
      "Setting new type for column NO_RSK as type int8\n",
      "Setting new type for column C_PERS_CLI as type int32\n",
      "Setting new type for column NB_EXPE as type int8\n",
      "Setting new type for column NB_HIST as type int8\n",
      "Setting new type for column NB_GAR as type Int8\n",
      "Setting new type for column NO_RSK as type int8\n",
      "Setting new type for column C_PERS_CLI as type int32\n",
      "Setting new type for column NB_EXPE as type int8\n",
      "Setting new type for column NB_HIST as type int8\n",
      "Setting new type for column NB_GAR as type Int8\n",
      "Setting new type for column NO_RSK as type int8\n",
      "Setting new type for column C_PERS_CLI as type int32\n",
      "Setting new type for column NB_EXPE as type int8\n",
      "Setting new type for column NB_HIST as type int8\n",
      "Setting new type for column NB_GAR as type Int8\n",
      "Setting new type for column NO_RSK as type int8\n",
      "Setting new type for column C_PERS_CLI as type int32\n",
      "Setting new type for column NB_EXPE as type int8\n",
      "Setting new type for column NB_HIST as type int8\n",
      "Setting new type for column NB_GAR as type int8\n",
      "Setting new type for column NO_RSK as type int8\n",
      "Setting new type for column C_PERS_CLI as type int32\n",
      "Setting new type for column NB_EXPE as type int8\n",
      "Setting new type for column NB_HIST as type int8\n",
      "Setting new type for column NB_GAR as type Int8\n",
      "Setting new type for column NO_RSK as type int8\n",
      "Setting new type for column C_PERS_CLI as type int32\n",
      "Setting new type for column NB_EXPE as type int8\n",
      "Setting new type for column NB_HIST as type int8\n",
      "Setting new type for column NB_GAR as type int8\n",
      "Setting new type for column NO_RSK as type int8\n",
      "Setting new type for column C_PERS_CLI as type int32\n",
      "Setting new type for column NB_EXPE as type int8\n",
      "Setting new type for column NB_HIST as type int8\n",
      "Setting new type for column NB_GAR as type int8\n",
      "Setting new type for column NO_RSK as type int8\n",
      "Setting new type for column C_PERS_CLI as type int32\n",
      "Setting new type for column NB_EXPE as type int8\n",
      "Setting new type for column NB_HIST as type int8\n",
      "Setting new type for column NB_GAR as type int8\n",
      "Setting new type for column NO_RSK as type int8\n",
      "Setting new type for column C_PERS_CLI as type int32\n",
      "Setting new type for column NB_EXPE as type int8\n",
      "Setting new type for column NB_HIST as type int8\n",
      "Setting new type for column NB_GAR as type int8\n",
      "Setting new type for column NO_RSK as type int8\n",
      "Setting new type for column C_PERS_CLI as type int32\n",
      "Setting new type for column NB_EXPE as type int8\n",
      "Setting new type for column NB_HIST as type int8\n",
      "Setting new type for column NB_GAR as type int8\n",
      "Setting new type for column NO_RSK as type int8\n",
      "Setting new type for column C_PERS_CLI as type int32\n",
      "Setting new type for column NB_EXPE as type int8\n",
      "Setting new type for column NB_HIST as type int8\n",
      "Setting new type for column NB_GAR as type int8\n",
      "Setting new type for column NO_RSK as type int8\n",
      "Setting new type for column C_PERS_CLI as type int32\n",
      "Setting new type for column NB_EXPE as type int8\n",
      "Setting new type for column NB_HIST as type int8\n",
      "Setting new type for column NB_GAR as type int8\n",
      "Setting new type for column NO_RSK as type int8\n",
      "Setting new type for column C_PERS_CLI as type int32\n",
      "Setting new type for column NB_EXPE as type int8\n",
      "Setting new type for column NB_HIST as type int8\n",
      "Setting new type for column NB_GAR as type int8\n",
      "Setting new type for column NO_RSK as type int8\n",
      "Setting new type for column C_PERS_CLI as type int32\n",
      "Setting new type for column NB_EXPE as type int8\n",
      "Setting new type for column NB_HIST as type int8\n",
      "Setting new type for column NB_GAR as type int8\n",
      "Setting new type for column NO_RSK as type int8\n",
      "Setting new type for column C_PERS_CLI as type int32\n",
      "Setting new type for column NB_EXPE as type int8\n",
      "Setting new type for column NB_HIST as type int8\n",
      "Setting new type for column NB_GAR as type int8\n",
      "Setting new type for column NO_RSK as type int8\n",
      "Setting new type for column C_PERS_CLI as type int32\n",
      "Setting new type for column NB_EXPE as type int8\n",
      "Setting new type for column NB_HIST as type int8\n",
      "Setting new type for column NB_GAR as type int8\n",
      "Setting new type for column NO_RSK as type int8\n",
      "Setting new type for column C_PERS_CLI as type int32\n",
      "Setting new type for column NB_EXPE as type int8\n",
      "Setting new type for column NB_HIST as type int8\n",
      "Setting new type for column NB_GAR as type int8\n",
      "Setting new type for column NO_RSK as type int8\n",
      "Setting new type for column C_PERS_CLI as type int32\n",
      "Setting new type for column NB_EXPE as type int8\n",
      "Setting new type for column NB_HIST as type int8\n",
      "Setting new type for column NB_GAR as type int8\n",
      "Setting new type for column NO_RSK as type int8\n",
      "Setting new type for column C_PERS_CLI as type int32\n",
      "Setting new type for column NB_EXPE as type int8\n",
      "Setting new type for column NB_HIST as type int8\n",
      "Setting new type for column NB_GAR as type int8\n",
      "Setting new type for column NO_RSK as type int8\n",
      "Setting new type for column C_PERS_CLI as type int32\n"
     ]
    }
   ],
   "source": [
    "df_out = LoadProcessData(conn_id=conn_id, run_date=run_date, is_azure=is_azure)\n",
    "df_out.data.to_parquet(clean_input_path)"
   ]
  },
  {
   "cell_type": "code",
   "execution_count": 9,
   "id": "97f1d076",
   "metadata": {},
   "outputs": [],
   "source": [
    "data = get_fs_dataset(dataset_id, data_root)"
   ]
  },
  {
   "cell_type": "code",
   "execution_count": 10,
   "id": "76666a27-50e4-4926-aec3-bc7d0303f482",
   "metadata": {},
   "outputs": [],
   "source": [
    "hyper = fs_datasets_hyperparams(dataset_id)"
   ]
  }
 ],
 "metadata": {
  "environment": {
   "name": "common-cpu.m80",
   "type": "gcloud",
   "uri": "gcr.io/deeplearning-platform-release/base-cpu:m80"
  },
  "kernelspec": {
   "display_name": "Python 3 (ipykernel)",
   "language": "python",
   "name": "python3"
  },
  "language_info": {
   "codemirror_mode": {
    "name": "ipython",
    "version": 3
   },
   "file_extension": ".py",
   "mimetype": "text/x-python",
   "name": "python",
   "nbconvert_exporter": "python",
   "pygments_lexer": "ipython3",
   "version": "3.9.18"
  },
  "vscode": {
   "interpreter": {
    "hash": "c7bb90c4ec68b2a8968b0075ab0b1cb7a78770acf7a7acf2e36e903fa05bac64"
   }
  }
 },
 "nbformat": 4,
 "nbformat_minor": 5
}

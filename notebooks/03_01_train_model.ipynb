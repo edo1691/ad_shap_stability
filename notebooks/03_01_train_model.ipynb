{
 "cells": [
  {
   "cell_type": "markdown",
   "id": "123c1709-aadd-4c93-a80a-0a0c44290983",
   "metadata": {},
   "source": [
    "# iForest"
   ]
  },
  {
   "cell_type": "code",
   "execution_count": 1,
   "id": "2520ef24",
   "metadata": {},
   "outputs": [],
   "source": [
    "import warnings\n",
    "warnings.filterwarnings('ignore')"
   ]
  },
  {
   "cell_type": "markdown",
   "id": "11e4854b-87bd-490e-88e4-9a64631dc5bb",
   "metadata": {
    "tags": []
   },
   "source": [
    "## General libraries"
   ]
  },
  {
   "cell_type": "code",
   "execution_count": 2,
   "id": "feba20a1-5d20-4127-888b-b0e4c72f4757",
   "metadata": {},
   "outputs": [],
   "source": [
    "import os\n",
    "import sys\n",
    "\n",
    "import pandas as pd\n",
    "import numpy as np\n",
    "\n",
    "from os.path import join\n",
    "import json\n",
    "import datetime\n",
    "\n",
    "import time"
   ]
  },
  {
   "cell_type": "markdown",
   "id": "de633751",
   "metadata": {},
   "source": [
    "### Load enviroment variables"
   ]
  },
  {
   "cell_type": "code",
   "execution_count": 3,
   "id": "64a57d38",
   "metadata": {},
   "outputs": [],
   "source": [
    "from dotenv import load_dotenv\n",
    "load_dotenv('../.env')\n",
    "\n",
    "code_root = os.environ['CODE_ROOT']\n",
    "cfg_path = os.environ['CFG_PATH']\n",
    "data_root = os.environ['DATA_ROOT']\n",
    "\n",
    "sys.path.insert(0, code_root)"
   ]
  },
  {
   "cell_type": "markdown",
   "id": "6d1ee99b-97d7-4059-b242-380656087497",
   "metadata": {},
   "source": [
    "### Specific libraries"
   ]
  },
  {
   "cell_type": "code",
   "execution_count": 4,
   "id": "b670745e",
   "metadata": {},
   "outputs": [],
   "source": [
    "from src.load.functions import get_fs_dataset, fs_datasets_hyperparams\n",
    "\n",
    "from src.model.functions import train_and_evaluate_iforest"
   ]
  },
  {
   "cell_type": "markdown",
   "id": "5c360966",
   "metadata": {},
   "source": [
    "## General parameters"
   ]
  },
  {
   "cell_type": "code",
   "execution_count": 5,
   "id": "27ef64e3",
   "metadata": {},
   "outputs": [],
   "source": [
    "n_iter_fs = 1\n",
    "n_iter = 1\n",
    "contamination_percentage = [1] \n",
    "trees = [100]"
   ]
  },
  {
   "cell_type": "markdown",
   "id": "b7db27ee-405e-4faa-a7e9-6b8cdf41d437",
   "metadata": {
    "tags": []
   },
   "source": [
    "## Data-set"
   ]
  },
  {
   "cell_type": "code",
   "execution_count": 6,
   "id": "4a527899-7fe8-4aea-80f8-2e0447fde772",
   "metadata": {},
   "outputs": [
    {
     "data": {
      "text/plain": [
       "(42358, 26)"
      ]
     },
     "execution_count": 6,
     "metadata": {},
     "output_type": "execute_result"
    }
   ],
   "source": [
    "dataset_id = 'allianz'\n",
    "\n",
    "data = get_fs_dataset(dataset_id, data_root)\n",
    "hyper = fs_datasets_hyperparams(dataset_id)\n",
    "data.shape"
   ]
  },
  {
   "cell_type": "code",
   "execution_count": 7,
   "id": "6a540a60-dc06-477f-acda-ac0d564fb5ee",
   "metadata": {},
   "outputs": [],
   "source": [
    "excluded_cols = []"
   ]
  },
  {
   "cell_type": "markdown",
   "id": "72d0f5e9-900d-4121-9d91-3b201911e14f",
   "metadata": {
    "jp-MarkdownHeadingCollapsed": true,
    "tags": []
   },
   "source": [
    "### iForest"
   ]
  },
  {
   "cell_type": "markdown",
   "id": "f6a16e2a",
   "metadata": {},
   "source": [
    "## Parameters"
   ]
  },
  {
   "cell_type": "code",
   "execution_count": 8,
   "id": "761a8dd4",
   "metadata": {},
   "outputs": [
    {
     "data": {
      "text/plain": [
       "'/Users/allianz/workspace_github_pers/ad_shap_stability/test/data/outputs/allianz_results_if.parquet'"
      ]
     },
     "execution_count": 8,
     "metadata": {},
     "output_type": "execute_result"
    }
   ],
   "source": [
    "# path\n",
    "path = os.path.join(data_root, \"outputs\", f\"{dataset_id}_results_if.parquet\")\n",
    "path"
   ]
  },
  {
   "cell_type": "code",
   "execution_count": 9,
   "id": "5bb22a04",
   "metadata": {},
   "outputs": [
    {
     "data": {
      "text/plain": [
       "{'contamination': 0.1, 'max_samples': 256, 'n_estimators': 100}"
      ]
     },
     "execution_count": 9,
     "metadata": {},
     "output_type": "execute_result"
    }
   ],
   "source": [
    "hyper = fs_datasets_hyperparams(dataset_id)\n",
    "hyper"
   ]
  },
  {
   "cell_type": "markdown",
   "id": "67bd69a7",
   "metadata": {},
   "source": [
    "### Iforest full features"
   ]
  },
  {
   "cell_type": "code",
   "execution_count": 10,
   "id": "e2789843",
   "metadata": {},
   "outputs": [
    {
     "name": "stdout",
     "output_type": "stream",
     "text": [
      "Iteration by tree number: 100\n",
      "  Iteration by contamination: 0.1\n",
      "    Number of featured: 26\n",
      "     Iteration by feat number: 5\n",
      "     Iteration by feat number: 10\n",
      "     Iteration by feat number: 15\n",
      "     Iteration by feat number: 20\n",
      "     Iteration by feat number: 26\n",
      "Duration: 0:12:19.546243\n"
     ]
    }
   ],
   "source": [
    "# Capture the start time\n",
    "start_time = datetime.datetime.now()\n",
    "\n",
    "df = train_and_evaluate_iforest(data, dataset_id=dataset_id, hyper=hyper, n_tree_estimators=trees, contamination_percentage=contamination_percentage, excluded_cols=excluded_cols, n_iter_fs=n_iter_fs, n_iter=n_iter)\n",
    "\n",
    "# Capture the finish time\n",
    "finish_time = datetime.datetime.now()\n",
    "\n",
    "# Calculate the duration\n",
    "duration = finish_time - start_time\n",
    "\n",
    "print(f\"Duration: {duration}\")\n"
   ]
  },
  {
   "cell_type": "code",
   "execution_count": 11,
   "id": "c5b2115b-d929-4e5e-a1e4-18d2f44f8b7e",
   "metadata": {},
   "outputs": [
    {
     "data": {
      "text/html": [
       "<div>\n",
       "<style scoped>\n",
       "    .dataframe tbody tr th:only-of-type {\n",
       "        vertical-align: middle;\n",
       "    }\n",
       "\n",
       "    .dataframe tbody tr th {\n",
       "        vertical-align: top;\n",
       "    }\n",
       "\n",
       "    .dataframe thead th {\n",
       "        text-align: right;\n",
       "    }\n",
       "</style>\n",
       "<table border=\"1\" class=\"dataframe\">\n",
       "  <thead>\n",
       "    <tr style=\"text-align: right;\">\n",
       "      <th></th>\n",
       "      <th>f1-score</th>\n",
       "      <th>recall</th>\n",
       "      <th>precision</th>\n",
       "      <th>roc_auc</th>\n",
       "      <th>stab_model</th>\n",
       "      <th>stab_model_list</th>\n",
       "      <th>stab_shap</th>\n",
       "      <th>stab_shap_list</th>\n",
       "      <th>n_estimators</th>\n",
       "      <th>max_feats</th>\n",
       "      <th>contamination</th>\n",
       "      <th>n_feats</th>\n",
       "      <th>n_iter</th>\n",
       "      <th>n_iter_fs</th>\n",
       "    </tr>\n",
       "  </thead>\n",
       "  <tbody>\n",
       "    <tr>\n",
       "      <th>0</th>\n",
       "      <td>0.178317</td>\n",
       "      <td>0.107560</td>\n",
       "      <td>0.521143</td>\n",
       "      <td>0.497510</td>\n",
       "      <td>0.985811</td>\n",
       "      <td>[[0.9999999255368747, 0.9999999557421454, 0.99...</td>\n",
       "      <td>[0.9831567294240584, 0.9745837669395404, 0.972...</td>\n",
       "      <td>[[0.9955360952319826, 0.9905931939040292, 0.99...</td>\n",
       "      <td>100</td>\n",
       "      <td>5</td>\n",
       "      <td>0.1</td>\n",
       "      <td>26</td>\n",
       "      <td>1</td>\n",
       "      <td>1</td>\n",
       "    </tr>\n",
       "    <tr>\n",
       "      <th>1</th>\n",
       "      <td>0.175977</td>\n",
       "      <td>0.106263</td>\n",
       "      <td>0.511641</td>\n",
       "      <td>0.497582</td>\n",
       "      <td>0.989226</td>\n",
       "      <td>[[0.9999999237106482, 0.9999988185447325, 0.99...</td>\n",
       "      <td>[0.9654011275624347, 0.9783529478780991, 0.971...</td>\n",
       "      <td>[[0.9939200692367388, 0.9564315756880117, 0.99...</td>\n",
       "      <td>100</td>\n",
       "      <td>10</td>\n",
       "      <td>0.1</td>\n",
       "      <td>26</td>\n",
       "      <td>1</td>\n",
       "      <td>1</td>\n",
       "    </tr>\n",
       "    <tr>\n",
       "      <th>2</th>\n",
       "      <td>0.176275</td>\n",
       "      <td>0.106027</td>\n",
       "      <td>0.522371</td>\n",
       "      <td>0.499051</td>\n",
       "      <td>0.989061</td>\n",
       "      <td>[[0.9999997179557393, 0.9999999944646311, 0.99...</td>\n",
       "      <td>[0.9767896065449733, 0.9667771186813603, 0.968...</td>\n",
       "      <td>[[0.9961840291598203, 0.9741512913188628, 1.0,...</td>\n",
       "      <td>100</td>\n",
       "      <td>15</td>\n",
       "      <td>0.1</td>\n",
       "      <td>26</td>\n",
       "      <td>1</td>\n",
       "      <td>1</td>\n",
       "    </tr>\n",
       "    <tr>\n",
       "      <th>3</th>\n",
       "      <td>0.174907</td>\n",
       "      <td>0.105555</td>\n",
       "      <td>0.509972</td>\n",
       "      <td>0.499176</td>\n",
       "      <td>0.988425</td>\n",
       "      <td>[[0.9999999999411924, 0.9999999957749511, 0.99...</td>\n",
       "      <td>[0.9598832633462187, 0.9670063522079528, 0.955...</td>\n",
       "      <td>[[0.9884825658027689, 0.9505629087297339, 0.99...</td>\n",
       "      <td>100</td>\n",
       "      <td>20</td>\n",
       "      <td>0.1</td>\n",
       "      <td>26</td>\n",
       "      <td>1</td>\n",
       "      <td>1</td>\n",
       "    </tr>\n",
       "    <tr>\n",
       "      <th>4</th>\n",
       "      <td>0.177860</td>\n",
       "      <td>0.107442</td>\n",
       "      <td>0.516147</td>\n",
       "      <td>0.499736</td>\n",
       "      <td>0.983070</td>\n",
       "      <td>[[0.9999999910435119, 0.9999999703133772, 0.99...</td>\n",
       "      <td>[0.9592337715744246, 0.9617386572998943, 0.968...</td>\n",
       "      <td>[[0.9936935837354532, 0.9232682537643557, 1.0,...</td>\n",
       "      <td>100</td>\n",
       "      <td>26</td>\n",
       "      <td>0.1</td>\n",
       "      <td>26</td>\n",
       "      <td>1</td>\n",
       "      <td>1</td>\n",
       "    </tr>\n",
       "  </tbody>\n",
       "</table>\n",
       "</div>"
      ],
      "text/plain": [
       "   f1-score    recall  precision   roc_auc  stab_model  \\\n",
       "0  0.178317  0.107560   0.521143  0.497510    0.985811   \n",
       "1  0.175977  0.106263   0.511641  0.497582    0.989226   \n",
       "2  0.176275  0.106027   0.522371  0.499051    0.989061   \n",
       "3  0.174907  0.105555   0.509972  0.499176    0.988425   \n",
       "4  0.177860  0.107442   0.516147  0.499736    0.983070   \n",
       "\n",
       "                                     stab_model_list  \\\n",
       "0  [[0.9999999255368747, 0.9999999557421454, 0.99...   \n",
       "1  [[0.9999999237106482, 0.9999988185447325, 0.99...   \n",
       "2  [[0.9999997179557393, 0.9999999944646311, 0.99...   \n",
       "3  [[0.9999999999411924, 0.9999999957749511, 0.99...   \n",
       "4  [[0.9999999910435119, 0.9999999703133772, 0.99...   \n",
       "\n",
       "                                           stab_shap  \\\n",
       "0  [0.9831567294240584, 0.9745837669395404, 0.972...   \n",
       "1  [0.9654011275624347, 0.9783529478780991, 0.971...   \n",
       "2  [0.9767896065449733, 0.9667771186813603, 0.968...   \n",
       "3  [0.9598832633462187, 0.9670063522079528, 0.955...   \n",
       "4  [0.9592337715744246, 0.9617386572998943, 0.968...   \n",
       "\n",
       "                                      stab_shap_list  n_estimators  max_feats  \\\n",
       "0  [[0.9955360952319826, 0.9905931939040292, 0.99...           100          5   \n",
       "1  [[0.9939200692367388, 0.9564315756880117, 0.99...           100         10   \n",
       "2  [[0.9961840291598203, 0.9741512913188628, 1.0,...           100         15   \n",
       "3  [[0.9884825658027689, 0.9505629087297339, 0.99...           100         20   \n",
       "4  [[0.9936935837354532, 0.9232682537643557, 1.0,...           100         26   \n",
       "\n",
       "   contamination  n_feats  n_iter  n_iter_fs  \n",
       "0            0.1       26       1          1  \n",
       "1            0.1       26       1          1  \n",
       "2            0.1       26       1          1  \n",
       "3            0.1       26       1          1  \n",
       "4            0.1       26       1          1  "
      ]
     },
     "execution_count": 11,
     "metadata": {},
     "output_type": "execute_result"
    }
   ],
   "source": [
    "df.head()"
   ]
  },
  {
   "cell_type": "code",
   "execution_count": 12,
   "id": "98dab893-d86d-49d4-b661-c69314047c69",
   "metadata": {},
   "outputs": [],
   "source": [
    "def process_data(df):\n",
    "    \"\"\"\n",
    "    Processes SHAP data files by reading them, filtering, and calculating additional metrics.\n",
    "    \n",
    "    Parameters:\n",
    "    - dataset_id: The unique identifier for the dataset.\n",
    "    - data_root: The root directory where the data files are located.\n",
    "    \n",
    "    Returns:\n",
    "    - df: The processed pandas DataFrame containing selected variables and calculated metrics.\n",
    "    \"\"\"\n",
    "    # Filter dataframe\n",
    "    \n",
    "    # Calculate percentiles and stability index\n",
    "    df['shap_q1'] = df['stab_shap'].apply(lambda x: np.percentile(x, 75))\n",
    "    df['shap_q2'] = df['stab_shap'].apply(lambda x: np.percentile(x, 50))\n",
    "    df['shap_q3'] = df['stab_shap'].apply(lambda x: np.percentile(x, 25))\n",
    "    df['stability index'] = df['stab_shap'].apply(lambda x: np.mean(x))\n",
    "\n",
    "    return df"
   ]
  },
  {
   "cell_type": "code",
   "execution_count": 13,
   "id": "6bba7d75-c476-4bb3-b34c-62fe97dc44ac",
   "metadata": {},
   "outputs": [
    {
     "data": {
      "text/html": [
       "<div>\n",
       "<style scoped>\n",
       "    .dataframe tbody tr th:only-of-type {\n",
       "        vertical-align: middle;\n",
       "    }\n",
       "\n",
       "    .dataframe tbody tr th {\n",
       "        vertical-align: top;\n",
       "    }\n",
       "\n",
       "    .dataframe thead th {\n",
       "        text-align: right;\n",
       "    }\n",
       "</style>\n",
       "<table border=\"1\" class=\"dataframe\">\n",
       "  <thead>\n",
       "    <tr style=\"text-align: right;\">\n",
       "      <th></th>\n",
       "      <th>f1-score</th>\n",
       "      <th>recall</th>\n",
       "      <th>precision</th>\n",
       "      <th>roc_auc</th>\n",
       "      <th>stab_model</th>\n",
       "      <th>stab_model_list</th>\n",
       "      <th>stab_shap</th>\n",
       "      <th>stab_shap_list</th>\n",
       "      <th>n_estimators</th>\n",
       "      <th>max_feats</th>\n",
       "      <th>contamination</th>\n",
       "      <th>n_feats</th>\n",
       "      <th>n_iter</th>\n",
       "      <th>n_iter_fs</th>\n",
       "      <th>shap_q1</th>\n",
       "      <th>shap_q2</th>\n",
       "      <th>shap_q3</th>\n",
       "      <th>stability index</th>\n",
       "    </tr>\n",
       "  </thead>\n",
       "  <tbody>\n",
       "    <tr>\n",
       "      <th>4</th>\n",
       "      <td>0.17786</td>\n",
       "      <td>0.107442</td>\n",
       "      <td>0.516147</td>\n",
       "      <td>0.499736</td>\n",
       "      <td>0.98307</td>\n",
       "      <td>[[0.9999999910435119, 0.9999999703133772, 0.99...</td>\n",
       "      <td>[0.9592337715744246, 0.9617386572998943, 0.968...</td>\n",
       "      <td>[[0.9936935837354532, 0.9232682537643557, 1.0,...</td>\n",
       "      <td>100</td>\n",
       "      <td>26</td>\n",
       "      <td>0.1</td>\n",
       "      <td>26</td>\n",
       "      <td>1</td>\n",
       "      <td>1</td>\n",
       "      <td>0.958259</td>\n",
       "      <td>0.947256</td>\n",
       "      <td>0.936217</td>\n",
       "      <td>0.946755</td>\n",
       "    </tr>\n",
       "  </tbody>\n",
       "</table>\n",
       "</div>"
      ],
      "text/plain": [
       "   f1-score    recall  precision   roc_auc  stab_model  \\\n",
       "4   0.17786  0.107442   0.516147  0.499736     0.98307   \n",
       "\n",
       "                                     stab_model_list  \\\n",
       "4  [[0.9999999910435119, 0.9999999703133772, 0.99...   \n",
       "\n",
       "                                           stab_shap  \\\n",
       "4  [0.9592337715744246, 0.9617386572998943, 0.968...   \n",
       "\n",
       "                                      stab_shap_list  n_estimators  max_feats  \\\n",
       "4  [[0.9936935837354532, 0.9232682537643557, 1.0,...           100         26   \n",
       "\n",
       "   contamination  n_feats  n_iter  n_iter_fs   shap_q1   shap_q2   shap_q3  \\\n",
       "4            0.1       26       1          1  0.958259  0.947256  0.936217   \n",
       "\n",
       "   stability index  \n",
       "4         0.946755  "
      ]
     },
     "execution_count": 13,
     "metadata": {},
     "output_type": "execute_result"
    }
   ],
   "source": [
    "test = process_data(df)\n",
    "test = test[(test.n_estimators==100) & (test.n_feats==test.n_feats.max()) & (test.max_feats==test.max_feats.max())]\n",
    "test"
   ]
  },
  {
   "cell_type": "code",
   "execution_count": 14,
   "id": "44e6b7c0-513e-4b7d-b3e6-5b172503e546",
   "metadata": {},
   "outputs": [
    {
     "data": {
      "image/png": "[encoded data removed]",
      "text/plain": [
       "<Figure size 1000x600 with 1 Axes>"
      ]
     },
     "metadata": {},
     "output_type": "display_data"
    }
   ],
   "source": [
    "import matplotlib.pyplot as plt\n",
    "\n",
    "# Assuming `final_stability_score` is your array of stability scores from the modified function\n",
    "stability_scores = np.array(test.stab_shap)[0]\n",
    "stability_scores = np.sort(stability_scores)\n",
    "\n",
    "# Plotting\n",
    "plt.figure(figsize=(10, 6))\n",
    "plt.plot(stability_scores, marker='o', linestyle='-', color='blue')\n",
    "plt.title('Local Stability Scores per Test Instance')\n",
    "plt.xlabel('Test Instance Index')\n",
    "plt.ylabel('Stability Score')\n",
    "plt.grid(True)\n",
    "plt.show()"
   ]
  },
  {
   "cell_type": "code",
   "execution_count": 15,
   "id": "a0a5f37e-2f91-48b9-a165-3a56770bfaf8",
   "metadata": {},
   "outputs": [],
   "source": [
    "from src.plots.functions import plot_3d_surface, plot_2d_surface, boxplot_stability, lineplot_stability"
   ]
  },
  {
   "cell_type": "code",
   "execution_count": 16,
   "id": "6b182824-b9d0-4d6c-821d-abec7229c562",
   "metadata": {},
   "outputs": [
    {
     "data": {
      "text/html": [
       "<div>\n",
       "<style scoped>\n",
       "    .dataframe tbody tr th:only-of-type {\n",
       "        vertical-align: middle;\n",
       "    }\n",
       "\n",
       "    .dataframe tbody tr th {\n",
       "        vertical-align: top;\n",
       "    }\n",
       "\n",
       "    .dataframe thead th {\n",
       "        text-align: right;\n",
       "    }\n",
       "</style>\n",
       "<table border=\"1\" class=\"dataframe\">\n",
       "  <thead>\n",
       "    <tr style=\"text-align: right;\">\n",
       "      <th></th>\n",
       "      <th>f1-score</th>\n",
       "      <th>recall</th>\n",
       "      <th>precision</th>\n",
       "      <th>roc_auc</th>\n",
       "      <th>stab_model</th>\n",
       "      <th>stab_model_list</th>\n",
       "      <th>stab_shap</th>\n",
       "      <th>stab_shap_list</th>\n",
       "      <th>n_estimators</th>\n",
       "      <th>max_feats</th>\n",
       "      <th>contamination</th>\n",
       "      <th>n_feats</th>\n",
       "      <th>n_iter</th>\n",
       "      <th>n_iter_fs</th>\n",
       "      <th>shap_q1</th>\n",
       "      <th>shap_q2</th>\n",
       "      <th>shap_q3</th>\n",
       "      <th>stability index</th>\n",
       "    </tr>\n",
       "  </thead>\n",
       "  <tbody>\n",
       "    <tr>\n",
       "      <th>4</th>\n",
       "      <td>0.17786</td>\n",
       "      <td>0.107442</td>\n",
       "      <td>0.516147</td>\n",
       "      <td>0.499736</td>\n",
       "      <td>0.98307</td>\n",
       "      <td>[[0.9999999910435119, 0.9999999703133772, 0.99...</td>\n",
       "      <td>[0.9592337715744246, 0.9617386572998943, 0.968...</td>\n",
       "      <td>[[0.9936935837354532, 0.9232682537643557, 1.0,...</td>\n",
       "      <td>100</td>\n",
       "      <td>26</td>\n",
       "      <td>0.1</td>\n",
       "      <td>26</td>\n",
       "      <td>1</td>\n",
       "      <td>1</td>\n",
       "      <td>0.958259</td>\n",
       "      <td>0.947256</td>\n",
       "      <td>0.936217</td>\n",
       "      <td>0.946755</td>\n",
       "    </tr>\n",
       "  </tbody>\n",
       "</table>\n",
       "</div>"
      ],
      "text/plain": [
       "   f1-score    recall  precision   roc_auc  stab_model  \\\n",
       "4   0.17786  0.107442   0.516147  0.499736     0.98307   \n",
       "\n",
       "                                     stab_model_list  \\\n",
       "4  [[0.9999999910435119, 0.9999999703133772, 0.99...   \n",
       "\n",
       "                                           stab_shap  \\\n",
       "4  [0.9592337715744246, 0.9617386572998943, 0.968...   \n",
       "\n",
       "                                      stab_shap_list  n_estimators  max_feats  \\\n",
       "4  [[0.9936935837354532, 0.9232682537643557, 1.0,...           100         26   \n",
       "\n",
       "   contamination  n_feats  n_iter  n_iter_fs   shap_q1   shap_q2   shap_q3  \\\n",
       "4            0.1       26       1          1  0.958259  0.947256  0.936217   \n",
       "\n",
       "   stability index  \n",
       "4         0.946755  "
      ]
     },
     "execution_count": 16,
     "metadata": {},
     "output_type": "execute_result"
    }
   ],
   "source": [
    "test"
   ]
  },
  {
   "cell_type": "code",
   "execution_count": 17,
   "id": "8e9bde58-5cf9-42a8-8747-70507724897b",
   "metadata": {},
   "outputs": [
    {
     "data": {
      "text/plain": [
       "{'whiskers': [<matplotlib.lines.Line2D at 0x16c3517c0>,\n",
       "  <matplotlib.lines.Line2D at 0x16c351a60>],\n",
       " 'caps': [<matplotlib.lines.Line2D at 0x16c351d00>,\n",
       "  <matplotlib.lines.Line2D at 0x16c351fa0>],\n",
       " 'boxes': [<matplotlib.lines.Line2D at 0x16c351520>],\n",
       " 'medians': [<matplotlib.lines.Line2D at 0x16c361280>],\n",
       " 'fliers': [<matplotlib.lines.Line2D at 0x16c361520>],\n",
       " 'means': []}"
      ]
     },
     "execution_count": 17,
     "metadata": {},
     "output_type": "execute_result"
    },
    {
     "data": {
      "image/png": "[encoded data removed]",
      "text/plain": [
       "<Figure size 640x480 with 1 Axes>"
      ]
     },
     "metadata": {},
     "output_type": "display_data"
    }
   ],
   "source": [
    "plt.boxplot(test.stab_shap)"
   ]
  },
  {
   "cell_type": "code",
   "execution_count": null,
   "id": "703be548-ea9e-4012-b97a-b1737c5adb40",
   "metadata": {},
   "outputs": [],
   "source": []
  },
  {
   "cell_type": "code",
   "execution_count": null,
   "id": "b44edbb3-0776-4be7-8ede-3b9f255c44c0",
   "metadata": {},
   "outputs": [],
   "source": []
  }
 ],
 "metadata": {
  "environment": {
   "name": "common-cpu.m80",
   "type": "gcloud",
   "uri": "gcr.io/deeplearning-platform-release/base-cpu:m80"
  },
  "kernelspec": {
   "display_name": "Python 3 (ipykernel)",
   "language": "python",
   "name": "python3"
  },
  "language_info": {
   "codemirror_mode": {
    "name": "ipython",
    "version": 3
   },
   "file_extension": ".py",
   "mimetype": "text/x-python",
   "name": "python",
   "nbconvert_exporter": "python",
   "pygments_lexer": "ipython3",
   "version": "3.9.18"
  },
  "vscode": {
   "interpreter": {
    "hash": "c7bb90c4ec68b2a8968b0075ab0b1cb7a78770acf7a7acf2e36e903fa05bac64"
   }
  }
 },
 "nbformat": 4,
 "nbformat_minor": 5
}

{
 "cells": [
  {
   "cell_type": "markdown",
   "id": "123c1709-aadd-4c93-a80a-0a0c44290983",
   "metadata": {},
   "source": [
    "# iForest"
   ]
  },
  {
   "cell_type": "code",
   "execution_count": 1,
   "id": "2520ef24",
   "metadata": {},
   "outputs": [],
   "source": [
    "import warnings\n",
    "warnings.filterwarnings('ignore')"
   ]
  },
  {
   "cell_type": "markdown",
   "id": "11e4854b-87bd-490e-88e4-9a64631dc5bb",
   "metadata": {
    "tags": []
   },
   "source": [
    "## General libraries"
   ]
  },
  {
   "cell_type": "code",
   "execution_count": 2,
   "id": "feba20a1-5d20-4127-888b-b0e4c72f4757",
   "metadata": {},
   "outputs": [],
   "source": [
    "import os\n",
    "import sys\n",
    "\n",
    "import pandas as pd\n",
    "import numpy as np\n",
    "\n",
    "from os.path import join\n",
    "import json\n",
    "import datetime\n",
    "\n",
    "import time"
   ]
  },
  {
   "cell_type": "markdown",
   "id": "de633751",
   "metadata": {},
   "source": [
    "### Load enviroment variables"
   ]
  },
  {
   "cell_type": "code",
   "execution_count": 3,
   "id": "64a57d38",
   "metadata": {},
   "outputs": [],
   "source": [
    "from dotenv import load_dotenv\n",
    "load_dotenv('../.env')\n",
    "\n",
    "code_root = os.environ['CODE_ROOT']\n",
    "cfg_path = os.environ['CFG_PATH']\n",
    "data_root = os.environ['DATA_ROOT']\n",
    "\n",
    "sys.path.insert(0, code_root)"
   ]
  },
  {
   "cell_type": "markdown",
   "id": "6d1ee99b-97d7-4059-b242-380656087497",
   "metadata": {},
   "source": [
    "### Specific libraries"
   ]
  },
  {
   "cell_type": "code",
   "execution_count": 4,
   "id": "b670745e",
   "metadata": {},
   "outputs": [],
   "source": [
    "from src.load.functions import get_fs_dataset, fs_datasets_hyperparams\n",
    "\n",
    "from src.model.functions import train_and_evaluate_iforest"
   ]
  },
  {
   "cell_type": "markdown",
   "id": "5c360966",
   "metadata": {},
   "source": [
    "## General parameters"
   ]
  },
  {
   "cell_type": "code",
   "execution_count": 5,
   "id": "27ef64e3",
   "metadata": {},
   "outputs": [],
   "source": [
    "n_iter_fs = 1\n",
    "n_iter = 1\n",
    "contamination_percentage = [1] \n",
    "trees = [2]"
   ]
  },
  {
   "cell_type": "markdown",
   "id": "b7db27ee-405e-4faa-a7e9-6b8cdf41d437",
   "metadata": {
    "tags": []
   },
   "source": [
    "## Data-set"
   ]
  },
  {
   "cell_type": "code",
   "execution_count": 6,
   "id": "4a527899-7fe8-4aea-80f8-2e0447fde772",
   "metadata": {},
   "outputs": [
    {
     "data": {
      "text/plain": [
       "(41188, 11)"
      ]
     },
     "execution_count": 6,
     "metadata": {},
     "output_type": "execute_result"
    }
   ],
   "source": [
    "dataset_id = 'bank'\n",
    "\n",
    "data = get_fs_dataset(dataset_id, data_root)\n",
    "hyper = fs_datasets_hyperparams(dataset_id)\n",
    "data.shape"
   ]
  },
  {
   "cell_type": "code",
   "execution_count": 7,
   "id": "6a540a60-dc06-477f-acda-ac0d564fb5ee",
   "metadata": {},
   "outputs": [],
   "source": [
    "excluded_cols = []"
   ]
  },
  {
   "cell_type": "markdown",
   "id": "72d0f5e9-900d-4121-9d91-3b201911e14f",
   "metadata": {
    "jp-MarkdownHeadingCollapsed": true,
    "tags": []
   },
   "source": [
    "### iForest"
   ]
  },
  {
   "cell_type": "markdown",
   "id": "f6a16e2a",
   "metadata": {},
   "source": [
    "## Parameters"
   ]
  },
  {
   "cell_type": "code",
   "execution_count": 8,
   "id": "761a8dd4",
   "metadata": {},
   "outputs": [
    {
     "data": {
      "text/plain": [
       "'/Users/allianz/workspace_github_pers/ad_shap_stability/test/data/outputs/bank_results_if.parquet'"
      ]
     },
     "execution_count": 8,
     "metadata": {},
     "output_type": "execute_result"
    }
   ],
   "source": [
    "# path\n",
    "path = os.path.join(data_root, \"outputs\", f\"{dataset_id}_results_if.parquet\")\n",
    "path"
   ]
  },
  {
   "cell_type": "code",
   "execution_count": 9,
   "id": "5bb22a04",
   "metadata": {},
   "outputs": [
    {
     "data": {
      "text/plain": [
       "{'contamination': 0.1, 'max_samples': 256, 'n_estimators': 100}"
      ]
     },
     "execution_count": 9,
     "metadata": {},
     "output_type": "execute_result"
    }
   ],
   "source": [
    "hyper = fs_datasets_hyperparams(dataset_id)\n",
    "hyper"
   ]
  },
  {
   "cell_type": "markdown",
   "id": "67bd69a7",
   "metadata": {},
   "source": [
    "### Iforest full features"
   ]
  },
  {
   "cell_type": "code",
   "execution_count": 10,
   "id": "e2789843",
   "metadata": {},
   "outputs": [
    {
     "name": "stdout",
     "output_type": "stream",
     "text": [
      "Iteration by tree number: 2\n",
      "  Iteration by contamination: 0.1\n",
      "    Number of featured: 10\n",
      "     Iteration by feat number: 2\n",
      "     Iteration by feat number: 4\n",
      "     Iteration by feat number: 6\n",
      "     Iteration by feat number: 8\n",
      "     Iteration by feat number: 10\n",
      "Duration: 0:02:57.476933\n"
     ]
    }
   ],
   "source": [
    "# Capture the start time\n",
    "start_time = datetime.datetime.now()\n",
    "\n",
    "df = train_and_evaluate_iforest(data, dataset_id=dataset_id, hyper=hyper, n_tree_estimators=trees, contamination_percentage=contamination_percentage, excluded_cols=excluded_cols, n_iter_fs=n_iter_fs, n_iter=n_iter)\n",
    "\n",
    "# Capture the finish time\n",
    "finish_time = datetime.datetime.now()\n",
    "\n",
    "# Calculate the duration\n",
    "duration = finish_time - start_time\n",
    "\n",
    "print(f\"Duration: {duration}\")\n"
   ]
  },
  {
   "cell_type": "code",
   "execution_count": 11,
   "id": "98dab893-d86d-49d4-b661-c69314047c69",
   "metadata": {},
   "outputs": [],
   "source": [
    "def process_data(df):\n",
    "    \"\"\"\n",
    "    Processes SHAP data files by reading them, filtering, and calculating additional metrics.\n",
    "    \n",
    "    Parameters:\n",
    "    - dataset_id: The unique identifier for the dataset.\n",
    "    - data_root: The root directory where the data files are located.\n",
    "    \n",
    "    Returns:\n",
    "    - df: The processed pandas DataFrame containing selected variables and calculated metrics.\n",
    "    \"\"\"\n",
    "    # Filter dataframe\n",
    "    \n",
    "    # Calculate percentiles and stability index\n",
    "    df['shap_q1'] = df['shap_stab'].apply(lambda x: np.percentile(x, 75))\n",
    "    df['shap_q2'] = df['shap_stab'].apply(lambda x: np.percentile(x, 50))\n",
    "    df['shap_q3'] = df['shap_stab'].apply(lambda x: np.percentile(x, 25))\n",
    "    df['shap_ad_q2'] = df['shap_stab_ad'].apply(lambda x: np.percentile(x, 50))\n",
    "    df['stability index'] = df['shap_stab'].apply(lambda x: np.mean(x))\n",
    "\n",
    "    return df"
   ]
  },
  {
   "cell_type": "code",
   "execution_count": 12,
   "id": "555c1aa9-c94b-48de-853b-c7df91756411",
   "metadata": {},
   "outputs": [
    {
     "data": {
      "text/html": [
       "<div>\n",
       "<style scoped>\n",
       "    .dataframe tbody tr th:only-of-type {\n",
       "        vertical-align: middle;\n",
       "    }\n",
       "\n",
       "    .dataframe tbody tr th {\n",
       "        vertical-align: top;\n",
       "    }\n",
       "\n",
       "    .dataframe thead th {\n",
       "        text-align: right;\n",
       "    }\n",
       "</style>\n",
       "<table border=\"1\" class=\"dataframe\">\n",
       "  <thead>\n",
       "    <tr style=\"text-align: right;\">\n",
       "      <th></th>\n",
       "      <th>n_estimators</th>\n",
       "      <th>max_feats</th>\n",
       "      <th>contamination</th>\n",
       "      <th>n_feats</th>\n",
       "      <th>n_iter</th>\n",
       "      <th>n_iter_fs</th>\n",
       "      <th>roc_auc</th>\n",
       "      <th>model_stab</th>\n",
       "      <th>model_stab_list</th>\n",
       "      <th>shap_stab</th>\n",
       "      <th>...</th>\n",
       "      <th>shap_stab_ad</th>\n",
       "      <th>f1_median</th>\n",
       "      <th>recall</th>\n",
       "      <th>precision</th>\n",
       "      <th>confusion_matrix</th>\n",
       "      <th>shap_q1</th>\n",
       "      <th>shap_q2</th>\n",
       "      <th>shap_q3</th>\n",
       "      <th>shap_ad_q2</th>\n",
       "      <th>stability index</th>\n",
       "    </tr>\n",
       "  </thead>\n",
       "  <tbody>\n",
       "    <tr>\n",
       "      <th>0</th>\n",
       "      <td>2</td>\n",
       "      <td>2</td>\n",
       "      <td>0.1</td>\n",
       "      <td>10</td>\n",
       "      <td>1</td>\n",
       "      <td>1</td>\n",
       "      <td>0.553965</td>\n",
       "      <td>0.867608</td>\n",
       "      <td>[[0.9999282680061953, 0.9999999999999928, 0.71...</td>\n",
       "      <td>[0.07278852933396074, 0.14232595459664987, 0.0...</td>\n",
       "      <td>...</td>\n",
       "      <td>[0.19999999999999996, 0.09999999999999998, 0.1...</td>\n",
       "      <td>0.275108</td>\n",
       "      <td>0.223599</td>\n",
       "      <td>0.357450</td>\n",
       "      <td>1</td>\n",
       "      <td>0.124121</td>\n",
       "      <td>0.083391</td>\n",
       "      <td>0.048414</td>\n",
       "      <td>0.100000</td>\n",
       "      <td>0.104733</td>\n",
       "    </tr>\n",
       "    <tr>\n",
       "      <th>1</th>\n",
       "      <td>2</td>\n",
       "      <td>4</td>\n",
       "      <td>0.1</td>\n",
       "      <td>10</td>\n",
       "      <td>1</td>\n",
       "      <td>1</td>\n",
       "      <td>0.593474</td>\n",
       "      <td>0.827414</td>\n",
       "      <td>[[0.31199874755545154, 0.999999999999992, 0.45...</td>\n",
       "      <td>[0.23103177607093284, 0.09999999999999998, 0.1...</td>\n",
       "      <td>...</td>\n",
       "      <td>[0.1029182774491908, 0.09999999999999998, 0.10...</td>\n",
       "      <td>0.193999</td>\n",
       "      <td>0.179418</td>\n",
       "      <td>0.211160</td>\n",
       "      <td>1</td>\n",
       "      <td>0.183916</td>\n",
       "      <td>0.136344</td>\n",
       "      <td>0.098977</td>\n",
       "      <td>0.100000</td>\n",
       "      <td>0.144317</td>\n",
       "    </tr>\n",
       "    <tr>\n",
       "      <th>2</th>\n",
       "      <td>2</td>\n",
       "      <td>6</td>\n",
       "      <td>0.1</td>\n",
       "      <td>10</td>\n",
       "      <td>1</td>\n",
       "      <td>1</td>\n",
       "      <td>0.570810</td>\n",
       "      <td>0.802916</td>\n",
       "      <td>[[0.7903393839999806, 0.6968747807856792, 0.50...</td>\n",
       "      <td>[0.27265926483117, 0.08723892241638287, 0.1224...</td>\n",
       "      <td>...</td>\n",
       "      <td>[0.026188113286574555, 0.006155326160975916, 0...</td>\n",
       "      <td>0.158479</td>\n",
       "      <td>0.134698</td>\n",
       "      <td>0.192456</td>\n",
       "      <td>1</td>\n",
       "      <td>0.219160</td>\n",
       "      <td>0.182491</td>\n",
       "      <td>0.147490</td>\n",
       "      <td>0.011093</td>\n",
       "      <td>0.183998</td>\n",
       "    </tr>\n",
       "    <tr>\n",
       "      <th>3</th>\n",
       "      <td>2</td>\n",
       "      <td>8</td>\n",
       "      <td>0.1</td>\n",
       "      <td>10</td>\n",
       "      <td>1</td>\n",
       "      <td>1</td>\n",
       "      <td>0.529411</td>\n",
       "      <td>0.748561</td>\n",
       "      <td>[[0.5608340163197629, 0.9999988479795099, 0.99...</td>\n",
       "      <td>[0.19794988623972443, 0.13720241628757235, 0.1...</td>\n",
       "      <td>...</td>\n",
       "      <td>[0.027633474572207772, 0.0, 0.0163629983487917...</td>\n",
       "      <td>0.125296</td>\n",
       "      <td>0.114224</td>\n",
       "      <td>0.138743</td>\n",
       "      <td>1</td>\n",
       "      <td>0.196420</td>\n",
       "      <td>0.164459</td>\n",
       "      <td>0.135161</td>\n",
       "      <td>0.008685</td>\n",
       "      <td>0.165754</td>\n",
       "    </tr>\n",
       "    <tr>\n",
       "      <th>4</th>\n",
       "      <td>2</td>\n",
       "      <td>10</td>\n",
       "      <td>0.1</td>\n",
       "      <td>10</td>\n",
       "      <td>1</td>\n",
       "      <td>1</td>\n",
       "      <td>0.559986</td>\n",
       "      <td>0.760318</td>\n",
       "      <td>[[0.9531600531367082, 0.999950560681258, 0.965...</td>\n",
       "      <td>[0.12563546820952853, 0.1089580316237686, 0.17...</td>\n",
       "      <td>...</td>\n",
       "      <td>[0.010020334435981049, 0.008605189511843081, 0...</td>\n",
       "      <td>0.144471</td>\n",
       "      <td>0.130927</td>\n",
       "      <td>0.161141</td>\n",
       "      <td>1</td>\n",
       "      <td>0.178496</td>\n",
       "      <td>0.143974</td>\n",
       "      <td>0.107276</td>\n",
       "      <td>0.009011</td>\n",
       "      <td>0.144640</td>\n",
       "    </tr>\n",
       "  </tbody>\n",
       "</table>\n",
       "<p>5 rows × 21 columns</p>\n",
       "</div>"
      ],
      "text/plain": [
       "   n_estimators  max_feats  contamination  n_feats  n_iter  n_iter_fs  \\\n",
       "0             2          2            0.1       10       1          1   \n",
       "1             2          4            0.1       10       1          1   \n",
       "2             2          6            0.1       10       1          1   \n",
       "3             2          8            0.1       10       1          1   \n",
       "4             2         10            0.1       10       1          1   \n",
       "\n",
       "    roc_auc  model_stab                                    model_stab_list  \\\n",
       "0  0.553965    0.867608  [[0.9999282680061953, 0.9999999999999928, 0.71...   \n",
       "1  0.593474    0.827414  [[0.31199874755545154, 0.999999999999992, 0.45...   \n",
       "2  0.570810    0.802916  [[0.7903393839999806, 0.6968747807856792, 0.50...   \n",
       "3  0.529411    0.748561  [[0.5608340163197629, 0.9999988479795099, 0.99...   \n",
       "4  0.559986    0.760318  [[0.9531600531367082, 0.999950560681258, 0.965...   \n",
       "\n",
       "                                           shap_stab  ...  \\\n",
       "0  [0.07278852933396074, 0.14232595459664987, 0.0...  ...   \n",
       "1  [0.23103177607093284, 0.09999999999999998, 0.1...  ...   \n",
       "2  [0.27265926483117, 0.08723892241638287, 0.1224...  ...   \n",
       "3  [0.19794988623972443, 0.13720241628757235, 0.1...  ...   \n",
       "4  [0.12563546820952853, 0.1089580316237686, 0.17...  ...   \n",
       "\n",
       "                                        shap_stab_ad f1_median    recall  \\\n",
       "0  [0.19999999999999996, 0.09999999999999998, 0.1...  0.275108  0.223599   \n",
       "1  [0.1029182774491908, 0.09999999999999998, 0.10...  0.193999  0.179418   \n",
       "2  [0.026188113286574555, 0.006155326160975916, 0...  0.158479  0.134698   \n",
       "3  [0.027633474572207772, 0.0, 0.0163629983487917...  0.125296  0.114224   \n",
       "4  [0.010020334435981049, 0.008605189511843081, 0...  0.144471  0.130927   \n",
       "\n",
       "   precision  confusion_matrix   shap_q1   shap_q2   shap_q3  shap_ad_q2  \\\n",
       "0   0.357450                 1  0.124121  0.083391  0.048414    0.100000   \n",
       "1   0.211160                 1  0.183916  0.136344  0.098977    0.100000   \n",
       "2   0.192456                 1  0.219160  0.182491  0.147490    0.011093   \n",
       "3   0.138743                 1  0.196420  0.164459  0.135161    0.008685   \n",
       "4   0.161141                 1  0.178496  0.143974  0.107276    0.009011   \n",
       "\n",
       "   stability index  \n",
       "0         0.104733  \n",
       "1         0.144317  \n",
       "2         0.183998  \n",
       "3         0.165754  \n",
       "4         0.144640  \n",
       "\n",
       "[5 rows x 21 columns]"
      ]
     },
     "execution_count": 12,
     "metadata": {},
     "output_type": "execute_result"
    }
   ],
   "source": [
    "process_data(df)"
   ]
  },
  {
   "cell_type": "code",
   "execution_count": 13,
   "id": "47a4c806-d008-4ccd-8e2e-18e50332c90b",
   "metadata": {},
   "outputs": [
    {
     "data": {
      "text/html": [
       "<div>\n",
       "<style scoped>\n",
       "    .dataframe tbody tr th:only-of-type {\n",
       "        vertical-align: middle;\n",
       "    }\n",
       "\n",
       "    .dataframe tbody tr th {\n",
       "        vertical-align: top;\n",
       "    }\n",
       "\n",
       "    .dataframe thead th {\n",
       "        text-align: right;\n",
       "    }\n",
       "</style>\n",
       "<table border=\"1\" class=\"dataframe\">\n",
       "  <thead>\n",
       "    <tr style=\"text-align: right;\">\n",
       "      <th></th>\n",
       "      <th>n_estimators</th>\n",
       "      <th>max_feats</th>\n",
       "      <th>contamination</th>\n",
       "      <th>n_feats</th>\n",
       "      <th>n_iter</th>\n",
       "      <th>n_iter_fs</th>\n",
       "      <th>roc_auc</th>\n",
       "      <th>model_stab</th>\n",
       "      <th>model_stab_list</th>\n",
       "      <th>shap_stab</th>\n",
       "      <th>...</th>\n",
       "      <th>shap_stab_ad</th>\n",
       "      <th>f1_median</th>\n",
       "      <th>recall</th>\n",
       "      <th>precision</th>\n",
       "      <th>confusion_matrix</th>\n",
       "      <th>shap_q1</th>\n",
       "      <th>shap_q2</th>\n",
       "      <th>shap_q3</th>\n",
       "      <th>shap_ad_q2</th>\n",
       "      <th>stability index</th>\n",
       "    </tr>\n",
       "  </thead>\n",
       "  <tbody>\n",
       "    <tr>\n",
       "      <th>0</th>\n",
       "      <td>2</td>\n",
       "      <td>2</td>\n",
       "      <td>0.1</td>\n",
       "      <td>10</td>\n",
       "      <td>1</td>\n",
       "      <td>1</td>\n",
       "      <td>0.553965</td>\n",
       "      <td>0.867608</td>\n",
       "      <td>[[0.9999282680061953, 0.9999999999999928, 0.71...</td>\n",
       "      <td>[0.07278852933396074, 0.14232595459664987, 0.0...</td>\n",
       "      <td>...</td>\n",
       "      <td>[0.19999999999999996, 0.09999999999999998, 0.1...</td>\n",
       "      <td>0.275108</td>\n",
       "      <td>0.223599</td>\n",
       "      <td>0.357450</td>\n",
       "      <td>1</td>\n",
       "      <td>0.124121</td>\n",
       "      <td>0.083391</td>\n",
       "      <td>0.048414</td>\n",
       "      <td>0.100000</td>\n",
       "      <td>0.104733</td>\n",
       "    </tr>\n",
       "    <tr>\n",
       "      <th>1</th>\n",
       "      <td>2</td>\n",
       "      <td>4</td>\n",
       "      <td>0.1</td>\n",
       "      <td>10</td>\n",
       "      <td>1</td>\n",
       "      <td>1</td>\n",
       "      <td>0.593474</td>\n",
       "      <td>0.827414</td>\n",
       "      <td>[[0.31199874755545154, 0.999999999999992, 0.45...</td>\n",
       "      <td>[0.23103177607093284, 0.09999999999999998, 0.1...</td>\n",
       "      <td>...</td>\n",
       "      <td>[0.1029182774491908, 0.09999999999999998, 0.10...</td>\n",
       "      <td>0.193999</td>\n",
       "      <td>0.179418</td>\n",
       "      <td>0.211160</td>\n",
       "      <td>1</td>\n",
       "      <td>0.183916</td>\n",
       "      <td>0.136344</td>\n",
       "      <td>0.098977</td>\n",
       "      <td>0.100000</td>\n",
       "      <td>0.144317</td>\n",
       "    </tr>\n",
       "    <tr>\n",
       "      <th>2</th>\n",
       "      <td>2</td>\n",
       "      <td>6</td>\n",
       "      <td>0.1</td>\n",
       "      <td>10</td>\n",
       "      <td>1</td>\n",
       "      <td>1</td>\n",
       "      <td>0.570810</td>\n",
       "      <td>0.802916</td>\n",
       "      <td>[[0.7903393839999806, 0.6968747807856792, 0.50...</td>\n",
       "      <td>[0.27265926483117, 0.08723892241638287, 0.1224...</td>\n",
       "      <td>...</td>\n",
       "      <td>[0.026188113286574555, 0.006155326160975916, 0...</td>\n",
       "      <td>0.158479</td>\n",
       "      <td>0.134698</td>\n",
       "      <td>0.192456</td>\n",
       "      <td>1</td>\n",
       "      <td>0.219160</td>\n",
       "      <td>0.182491</td>\n",
       "      <td>0.147490</td>\n",
       "      <td>0.011093</td>\n",
       "      <td>0.183998</td>\n",
       "    </tr>\n",
       "    <tr>\n",
       "      <th>3</th>\n",
       "      <td>2</td>\n",
       "      <td>8</td>\n",
       "      <td>0.1</td>\n",
       "      <td>10</td>\n",
       "      <td>1</td>\n",
       "      <td>1</td>\n",
       "      <td>0.529411</td>\n",
       "      <td>0.748561</td>\n",
       "      <td>[[0.5608340163197629, 0.9999988479795099, 0.99...</td>\n",
       "      <td>[0.19794988623972443, 0.13720241628757235, 0.1...</td>\n",
       "      <td>...</td>\n",
       "      <td>[0.027633474572207772, 0.0, 0.0163629983487917...</td>\n",
       "      <td>0.125296</td>\n",
       "      <td>0.114224</td>\n",
       "      <td>0.138743</td>\n",
       "      <td>1</td>\n",
       "      <td>0.196420</td>\n",
       "      <td>0.164459</td>\n",
       "      <td>0.135161</td>\n",
       "      <td>0.008685</td>\n",
       "      <td>0.165754</td>\n",
       "    </tr>\n",
       "    <tr>\n",
       "      <th>4</th>\n",
       "      <td>2</td>\n",
       "      <td>10</td>\n",
       "      <td>0.1</td>\n",
       "      <td>10</td>\n",
       "      <td>1</td>\n",
       "      <td>1</td>\n",
       "      <td>0.559986</td>\n",
       "      <td>0.760318</td>\n",
       "      <td>[[0.9531600531367082, 0.999950560681258, 0.965...</td>\n",
       "      <td>[0.12563546820952853, 0.1089580316237686, 0.17...</td>\n",
       "      <td>...</td>\n",
       "      <td>[0.010020334435981049, 0.008605189511843081, 0...</td>\n",
       "      <td>0.144471</td>\n",
       "      <td>0.130927</td>\n",
       "      <td>0.161141</td>\n",
       "      <td>1</td>\n",
       "      <td>0.178496</td>\n",
       "      <td>0.143974</td>\n",
       "      <td>0.107276</td>\n",
       "      <td>0.009011</td>\n",
       "      <td>0.144640</td>\n",
       "    </tr>\n",
       "  </tbody>\n",
       "</table>\n",
       "<p>5 rows × 21 columns</p>\n",
       "</div>"
      ],
      "text/plain": [
       "   n_estimators  max_feats  contamination  n_feats  n_iter  n_iter_fs  \\\n",
       "0             2          2            0.1       10       1          1   \n",
       "1             2          4            0.1       10       1          1   \n",
       "2             2          6            0.1       10       1          1   \n",
       "3             2          8            0.1       10       1          1   \n",
       "4             2         10            0.1       10       1          1   \n",
       "\n",
       "    roc_auc  model_stab                                    model_stab_list  \\\n",
       "0  0.553965    0.867608  [[0.9999282680061953, 0.9999999999999928, 0.71...   \n",
       "1  0.593474    0.827414  [[0.31199874755545154, 0.999999999999992, 0.45...   \n",
       "2  0.570810    0.802916  [[0.7903393839999806, 0.6968747807856792, 0.50...   \n",
       "3  0.529411    0.748561  [[0.5608340163197629, 0.9999988479795099, 0.99...   \n",
       "4  0.559986    0.760318  [[0.9531600531367082, 0.999950560681258, 0.965...   \n",
       "\n",
       "                                           shap_stab  ...  \\\n",
       "0  [0.07278852933396074, 0.14232595459664987, 0.0...  ...   \n",
       "1  [0.23103177607093284, 0.09999999999999998, 0.1...  ...   \n",
       "2  [0.27265926483117, 0.08723892241638287, 0.1224...  ...   \n",
       "3  [0.19794988623972443, 0.13720241628757235, 0.1...  ...   \n",
       "4  [0.12563546820952853, 0.1089580316237686, 0.17...  ...   \n",
       "\n",
       "                                        shap_stab_ad f1_median    recall  \\\n",
       "0  [0.19999999999999996, 0.09999999999999998, 0.1...  0.275108  0.223599   \n",
       "1  [0.1029182774491908, 0.09999999999999998, 0.10...  0.193999  0.179418   \n",
       "2  [0.026188113286574555, 0.006155326160975916, 0...  0.158479  0.134698   \n",
       "3  [0.027633474572207772, 0.0, 0.0163629983487917...  0.125296  0.114224   \n",
       "4  [0.010020334435981049, 0.008605189511843081, 0...  0.144471  0.130927   \n",
       "\n",
       "   precision  confusion_matrix   shap_q1   shap_q2   shap_q3  shap_ad_q2  \\\n",
       "0   0.357450                 1  0.124121  0.083391  0.048414    0.100000   \n",
       "1   0.211160                 1  0.183916  0.136344  0.098977    0.100000   \n",
       "2   0.192456                 1  0.219160  0.182491  0.147490    0.011093   \n",
       "3   0.138743                 1  0.196420  0.164459  0.135161    0.008685   \n",
       "4   0.161141                 1  0.178496  0.143974  0.107276    0.009011   \n",
       "\n",
       "   stability index  \n",
       "0         0.104733  \n",
       "1         0.144317  \n",
       "2         0.183998  \n",
       "3         0.165754  \n",
       "4         0.144640  \n",
       "\n",
       "[5 rows x 21 columns]"
      ]
     },
     "execution_count": 13,
     "metadata": {},
     "output_type": "execute_result"
    }
   ],
   "source": [
    "df"
   ]
  },
  {
   "cell_type": "code",
   "execution_count": null,
   "id": "6bba7d75-c476-4bb3-b34c-62fe97dc44ac",
   "metadata": {},
   "outputs": [],
   "source": []
  }
 ],
 "metadata": {
  "environment": {
   "name": "common-cpu.m80",
   "type": "gcloud",
   "uri": "gcr.io/deeplearning-platform-release/base-cpu:m80"
  },
  "kernelspec": {
   "display_name": "Python 3 (ipykernel)",
   "language": "python",
   "name": "python3"
  },
  "language_info": {
   "codemirror_mode": {
    "name": "ipython",
    "version": 3
   },
   "file_extension": ".py",
   "mimetype": "text/x-python",
   "name": "python",
   "nbconvert_exporter": "python",
   "pygments_lexer": "ipython3",
   "version": "3.9.18"
  },
  "vscode": {
   "interpreter": {
    "hash": "c7bb90c4ec68b2a8968b0075ab0b1cb7a78770acf7a7acf2e36e903fa05bac64"
   }
  }
 },
 "nbformat": 4,
 "nbformat_minor": 5
}

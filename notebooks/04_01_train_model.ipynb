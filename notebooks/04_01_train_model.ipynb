{
 "cells": [
  {
   "cell_type": "markdown",
   "id": "123c1709-aadd-4c93-a80a-0a0c44290983",
   "metadata": {},
   "source": [
    "# iForest"
   ]
  },
  {
   "cell_type": "code",
   "execution_count": 1,
   "id": "2520ef24",
   "metadata": {},
   "outputs": [],
   "source": [
    "import warnings\n",
    "warnings.filterwarnings('ignore')"
   ]
  },
  {
   "cell_type": "markdown",
   "id": "11e4854b-87bd-490e-88e4-9a64631dc5bb",
   "metadata": {
    "tags": []
   },
   "source": [
    "## General libraries"
   ]
  },
  {
   "cell_type": "code",
   "execution_count": 2,
   "id": "feba20a1-5d20-4127-888b-b0e4c72f4757",
   "metadata": {},
   "outputs": [],
   "source": [
    "import os\n",
    "import sys\n",
    "\n",
    "import pandas as pd\n",
    "import numpy as np\n",
    "\n",
    "from os.path import join\n",
    "import json\n",
    "import datetime\n",
    "\n",
    "import time"
   ]
  },
  {
   "cell_type": "markdown",
   "id": "de633751",
   "metadata": {},
   "source": [
    "### Load enviroment variables"
   ]
  },
  {
   "cell_type": "code",
   "execution_count": 3,
   "id": "64a57d38",
   "metadata": {},
   "outputs": [],
   "source": [
    "from dotenv import load_dotenv\n",
    "load_dotenv('../.env')\n",
    "\n",
    "code_root = os.environ['CODE_ROOT']\n",
    "cfg_path = os.environ['CFG_PATH']\n",
    "data_root = os.environ['DATA_ROOT']\n",
    "\n",
    "sys.path.insert(0, code_root)"
   ]
  },
  {
   "cell_type": "markdown",
   "id": "6d1ee99b-97d7-4059-b242-380656087497",
   "metadata": {},
   "source": [
    "### Specific libraries"
   ]
  },
  {
   "cell_type": "code",
   "execution_count": 4,
   "id": "b670745e",
   "metadata": {},
   "outputs": [],
   "source": [
    "from src.load.functions import get_fs_dataset, fs_datasets_hyperparams\n",
    "\n",
    "from src.model.functions import train_and_evaluate_iforest"
   ]
  },
  {
   "cell_type": "markdown",
   "id": "5c360966",
   "metadata": {},
   "source": [
    "## General parameters"
   ]
  },
  {
   "cell_type": "code",
   "execution_count": 5,
   "id": "27ef64e3",
   "metadata": {},
   "outputs": [],
   "source": [
    "n_iter_fs = 1\n",
    "n_iter = 1\n",
    "contamination_percentage = [1] \n",
    "trees = [2, 3, 4]"
   ]
  },
  {
   "cell_type": "markdown",
   "id": "b7db27ee-405e-4faa-a7e9-6b8cdf41d437",
   "metadata": {
    "tags": []
   },
   "source": [
    "## ERP fraud data"
   ]
  },
  {
   "cell_type": "markdown",
   "id": "70f383d5",
   "metadata": {},
   "source": [
    "**Dataset source**: https://www.informatik.uni-wuerzburg.de/datascience/projects/machine-learning-for-network-security-fraud-detection/deepscan-concluded/erp-fraud-data/\n",
    "\n",
    "**Additional sources**:\n",
    "\n",
    "Open ERP System Data For Occupational Fraud Detection\n",
    "\n",
    "Occupational fraud is defined as abusing one's occupation through the deliberate abuse of an employing organization's assets, and it is estimated that companies lose 5% of their revenue to occupational fraud each year.\n",
    "\n",
    "In our research project DeepScan, we aim to develop approaches to automatically detect this type of fraud in data recorded by Enterprise Ressource Planning (ERP) systems, that track large amounts of information of company operation. Since ERP system data is guarded by companies due to privacy and trade secrecy concerns, publicly available ERP system data is an important step for enabling reproducible and incremental progress in this domain.\n",
    "\n",
    "In our work, we propose a data generation strategy that is able to generate synthetic ERP system data free of privacy and trade secret concerns through an existing serious game, ERPsim. We additionally describe different occupational fraud cases and commit them during data generation.\n",
    "\n",
    "Here, we provide the data generated in five different runs of the ERPsim simulation. We offer both raw data and aggregated datasets that are ready to use for fraud detection algorithms such as machine learning approaches.\n",
    "\n",
    "ERP fraud detection ERPsim dataset: Download (190MB)\n",
    "\n",
    "The paper can be found here: Link (arxiv)"
   ]
  },
  {
   "cell_type": "code",
   "execution_count": 6,
   "id": "4a527899-7fe8-4aea-80f8-2e0447fde772",
   "metadata": {},
   "outputs": [
    {
     "data": {
      "text/plain": [
       "(37407, 57)"
      ]
     },
     "execution_count": 6,
     "metadata": {},
     "output_type": "execute_result"
    }
   ],
   "source": [
    "dataset_id = 'erp_fraud'\n",
    "\n",
    "data = get_fs_dataset(dataset_id, data_root)\n",
    "#hyper = fs_datasets_hyperparams(dataset_id)\n",
    "data.shape"
   ]
  },
  {
   "cell_type": "code",
   "execution_count": 7,
   "id": "937686a7-6d97-4ed0-890a-4575bd4403f9",
   "metadata": {},
   "outputs": [
    {
     "data": {
      "text/html": [
       "<div>\n",
       "<style scoped>\n",
       "    .dataframe tbody tr th:only-of-type {\n",
       "        vertical-align: middle;\n",
       "    }\n",
       "\n",
       "    .dataframe tbody tr th {\n",
       "        vertical-align: top;\n",
       "    }\n",
       "\n",
       "    .dataframe thead th {\n",
       "        text-align: right;\n",
       "    }\n",
       "</style>\n",
       "<table border=\"1\" class=\"dataframe\">\n",
       "  <thead>\n",
       "    <tr style=\"text-align: right;\">\n",
       "      <th></th>\n",
       "      <th>Menge</th>\n",
       "    </tr>\n",
       "    <tr>\n",
       "      <th>y</th>\n",
       "      <th></th>\n",
       "    </tr>\n",
       "  </thead>\n",
       "  <tbody>\n",
       "    <tr>\n",
       "      <th>0</th>\n",
       "      <td>37321</td>\n",
       "    </tr>\n",
       "    <tr>\n",
       "      <th>1</th>\n",
       "      <td>86</td>\n",
       "    </tr>\n",
       "  </tbody>\n",
       "</table>\n",
       "</div>"
      ],
      "text/plain": [
       "   Menge\n",
       "y       \n",
       "0  37321\n",
       "1     86"
      ]
     },
     "execution_count": 7,
     "metadata": {},
     "output_type": "execute_result"
    }
   ],
   "source": [
    "pd.pivot_table(data,\n",
    "             values = 'Menge',\n",
    "               index = 'y', \n",
    "              aggfunc = 'count')"
   ]
  },
  {
   "cell_type": "code",
   "execution_count": 8,
   "id": "6a540a60-dc06-477f-acda-ac0d564fb5ee",
   "metadata": {},
   "outputs": [],
   "source": [
    "excluded_cols = []"
   ]
  },
  {
   "cell_type": "markdown",
   "id": "72d0f5e9-900d-4121-9d91-3b201911e14f",
   "metadata": {
    "jp-MarkdownHeadingCollapsed": true,
    "tags": []
   },
   "source": [
    "### iForest"
   ]
  },
  {
   "cell_type": "markdown",
   "id": "f6a16e2a",
   "metadata": {},
   "source": [
    "## Parameters"
   ]
  },
  {
   "cell_type": "code",
   "execution_count": 9,
   "id": "761a8dd4",
   "metadata": {},
   "outputs": [
    {
     "data": {
      "text/plain": [
       "'/Users/allianz/workspace_github_pers/ad_shap_stability/test/data/outputs/erp_fraud_results_if.parquet'"
      ]
     },
     "execution_count": 9,
     "metadata": {},
     "output_type": "execute_result"
    }
   ],
   "source": [
    "# path\n",
    "path = os.path.join(data_root, \"outputs\", f\"{dataset_id}_results_if.parquet\")\n",
    "path"
   ]
  },
  {
   "cell_type": "code",
   "execution_count": 10,
   "id": "5bb22a04",
   "metadata": {},
   "outputs": [
    {
     "data": {
      "text/plain": [
       "{'contamination': 0.1, 'max_samples': 256, 'n_estimators': 100}"
      ]
     },
     "execution_count": 10,
     "metadata": {},
     "output_type": "execute_result"
    }
   ],
   "source": [
    "hyper = fs_datasets_hyperparams(dataset_id)\n",
    "hyper"
   ]
  },
  {
   "cell_type": "code",
   "execution_count": 11,
   "id": "8e305784-4abb-4d30-be7f-dcadbaf59343",
   "metadata": {},
   "outputs": [
    {
     "name": "stdout",
     "output_type": "stream",
     "text": [
      "<class 'pandas.core.frame.DataFrame'>\n",
      "RangeIndex: 37407 entries, 0 to 37406\n",
      "Data columns (total 57 columns):\n",
      " #   Column                                 Non-Null Count  Dtype  \n",
      "---  ------                                 --------------  -----  \n",
      " 0   Bestandskonto                          37407 non-null  float64\n",
      " 1   Bewertungsklasse                       37407 non-null  float64\n",
      " 2   Einzelpostenanzeige moeglich           37407 non-null  float64\n",
      " 3   Erfolgskontentyp                       37407 non-null  float64\n",
      " 4   Geschaeftsbereich                      37407 non-null  float64\n",
      " 5   Gruppenkennzeichen                     37407 non-null  int64  \n",
      " 6   KZ EKBE                                37407 non-null  float64\n",
      " 7   Kennzeichen: Posten nicht kopierbar ?  37407 non-null  float64\n",
      " 8   Kostenstelle                           37407 non-null  float64\n",
      " 9   Kreditkontr_Bereich                    37407 non-null  float64\n",
      " 10  Laufende Kontierung                    37407 non-null  float64\n",
      " 11  PartnerPrctr                           37407 non-null  float64\n",
      " 12  Profitcenter                           37407 non-null  float64\n",
      " 13  Rechnungsbezug                         37407 non-null  float64\n",
      " 14  Soll/Haben-Kennz_                      37407 non-null  float64\n",
      " 15  Sperrgrund Menge                       37407 non-null  float64\n",
      " 16  Steuerkennzeichen                      37407 non-null  float64\n",
      " 17  Bewertungskreis                        37407 non-null  float64\n",
      " 18  Steuerstandort                         37407 non-null  float64\n",
      " 19  Umsatzwirksam                          37407 non-null  float64\n",
      " 20  Verwaltung offener Posten              37407 non-null  float64\n",
      " 21  Werk                                   37407 non-null  float64\n",
      " 22  Zahlungsbedingung                      37407 non-null  float64\n",
      " 23  Zahlungssperre                         37407 non-null  float64\n",
      " 24  Alternative Kontonummer                37407 non-null  float64\n",
      " 25  Basismengeneinheit                     37407 non-null  float64\n",
      " 26  BestPreisMngEinheit                    37407 non-null  float64\n",
      " 27  Bestandsbuchung                        37407 non-null  float64\n",
      " 28  Bestellmengeneinheit                   37407 non-null  float64\n",
      " 29  Buchungsschluessel                     37407 non-null  int64  \n",
      " 30  Buchungszeilen-Id                      37407 non-null  float64\n",
      " 31  ErfassungsMngEinh                      37407 non-null  float64\n",
      " 32  Hauptbuchkonto                         37407 non-null  int64  \n",
      " 33  Kontoart                               37407 non-null  float64\n",
      " 34  Kostenart                              37407 non-null  float64\n",
      " 35  Kreditor                               37407 non-null  float64\n",
      " 36  Material                               37407 non-null  float64\n",
      " 37  Preissteuerung                         37407 non-null  float64\n",
      " 38  Sachkonto                              37407 non-null  float64\n",
      " 39  Vorgang                                37407 non-null  float64\n",
      " 40  Vorgangsart GL                         37407 non-null  float64\n",
      " 41  Wertestring                            37407 non-null  float64\n",
      " 42  Betrag Hauswaehr                       37407 non-null  float64\n",
      " 43  Betrag                                 37407 non-null  float64\n",
      " 44  Betrag_5                               37407 non-null  float64\n",
      " 45  Gesamtbestand                          37407 non-null  float64\n",
      " 46  Gesamtwert                             37407 non-null  float64\n",
      " 47  Kreditkontr_betrag                     37407 non-null  float64\n",
      " 48  Menge in BPME                          37407 non-null  float64\n",
      " 49  Menge in ErfassME                      37407 non-null  float64\n",
      " 50  Menge                                  37407 non-null  float64\n",
      " 51  Skontobasis                            37407 non-null  float64\n",
      " 52  y                                      37407 non-null  int64  \n",
      " 53  Belegnummer                            37407 non-null  int64  \n",
      " 54  Position                               37407 non-null  int64  \n",
      " 55  Transaktionsart                        37407 non-null  float64\n",
      " 56  Erfassungsuhrzeit                      37407 non-null  float64\n",
      "dtypes: float64(51), int64(6)\n",
      "memory usage: 16.3 MB\n"
     ]
    }
   ],
   "source": [
    "data.info()"
   ]
  },
  {
   "cell_type": "markdown",
   "id": "67bd69a7",
   "metadata": {},
   "source": [
    "### Iforest full features"
   ]
  },
  {
   "cell_type": "code",
   "execution_count": 12,
   "id": "e2789843",
   "metadata": {},
   "outputs": [
    {
     "name": "stdout",
     "output_type": "stream",
     "text": [
      "Iteration by tree number: 2\n",
      "  Iteration by contamination: 0.1\n",
      "    Number of featured: 56\n",
      "     Iteration by feat number: 11\n",
      "     Iteration by feat number: 22\n",
      "     Iteration by feat number: 33\n",
      "     Iteration by feat number: 44\n",
      "     Iteration by feat number: 56\n",
      "Iteration by tree number: 3\n",
      "  Iteration by contamination: 0.1\n",
      "    Number of featured: 56\n",
      "     Iteration by feat number: 11\n",
      "     Iteration by feat number: 22\n",
      "     Iteration by feat number: 33\n",
      "     Iteration by feat number: 44\n",
      "     Iteration by feat number: 56\n",
      "Iteration by tree number: 4\n",
      "  Iteration by contamination: 0.1\n",
      "    Number of featured: 56\n",
      "     Iteration by feat number: 11\n",
      "     Iteration by feat number: 22\n",
      "     Iteration by feat number: 33\n",
      "     Iteration by feat number: 44\n",
      "     Iteration by feat number: 56\n",
      "Duration: 0:18:25.842958\n"
     ]
    }
   ],
   "source": [
    "# Capture the start time\n",
    "start_time = datetime.datetime.now()\n",
    "\n",
    "df = train_and_evaluate_iforest(data, dataset_id=dataset_id, hyper=hyper, n_tree_estimators=trees, contamination_percentage=contamination_percentage, excluded_cols=excluded_cols, n_iter_fs=n_iter_fs, n_iter=n_iter)\n",
    "\n",
    "# Capture the finish time\n",
    "finish_time = datetime.datetime.now()\n",
    "\n",
    "# Calculate the duration\n",
    "duration = finish_time - start_time\n",
    "\n",
    "print(f\"Duration: {duration}\")\n"
   ]
  },
  {
   "cell_type": "code",
   "execution_count": 19,
   "id": "98dab893-d86d-49d4-b661-c69314047c69",
   "metadata": {},
   "outputs": [
    {
     "data": {
      "text/html": [
       "<div>\n",
       "<style scoped>\n",
       "    .dataframe tbody tr th:only-of-type {\n",
       "        vertical-align: middle;\n",
       "    }\n",
       "\n",
       "    .dataframe tbody tr th {\n",
       "        vertical-align: top;\n",
       "    }\n",
       "\n",
       "    .dataframe thead th {\n",
       "        text-align: right;\n",
       "    }\n",
       "</style>\n",
       "<table border=\"1\" class=\"dataframe\">\n",
       "  <thead>\n",
       "    <tr style=\"text-align: right;\">\n",
       "      <th></th>\n",
       "      <th>n_estimators</th>\n",
       "      <th>max_feats</th>\n",
       "      <th>contamination</th>\n",
       "      <th>n_feats</th>\n",
       "      <th>n_iter</th>\n",
       "      <th>n_iter_fs</th>\n",
       "      <th>roc_auc</th>\n",
       "      <th>model_stab</th>\n",
       "      <th>model_stab_list</th>\n",
       "      <th>shap_stab</th>\n",
       "      <th>shap_stab_list</th>\n",
       "      <th>shap_stab_ad</th>\n",
       "      <th>f1_median</th>\n",
       "      <th>recall</th>\n",
       "      <th>precision</th>\n",
       "      <th>confusion_matrix</th>\n",
       "    </tr>\n",
       "  </thead>\n",
       "  <tbody>\n",
       "    <tr>\n",
       "      <th>4</th>\n",
       "      <td>2</td>\n",
       "      <td>56</td>\n",
       "      <td>0.1</td>\n",
       "      <td>56</td>\n",
       "      <td>1</td>\n",
       "      <td>1</td>\n",
       "      <td>0.969657</td>\n",
       "      <td>0.716269</td>\n",
       "      <td>[[0.99986256730319, 0.9970438229289682, 0.6896...</td>\n",
       "      <td>[0.39280174158718084, 0.431244665418376, 0.410...</td>\n",
       "      <td>[[0.42916691633914483, 0.696702763927013, 0.12...</td>\n",
       "      <td>[0.4490167322482156, 0.3687922466878193, 0.431...</td>\n",
       "      <td>0.062847</td>\n",
       "      <td>1.000000</td>\n",
       "      <td>0.032443</td>\n",
       "      <td>1</td>\n",
       "    </tr>\n",
       "    <tr>\n",
       "      <th>2</th>\n",
       "      <td>2</td>\n",
       "      <td>33</td>\n",
       "      <td>0.1</td>\n",
       "      <td>56</td>\n",
       "      <td>1</td>\n",
       "      <td>1</td>\n",
       "      <td>0.958927</td>\n",
       "      <td>0.830151</td>\n",
       "      <td>[[0.9999614073241069, 0.9960470967641789, 0.74...</td>\n",
       "      <td>[0.501648459978498, 0.5585001702255933, 0.5334...</td>\n",
       "      <td>[[0.8653286386189984, 0.98750034025187, 0.8056...</td>\n",
       "      <td>[0.5375450447511718, 0.5103155672361686, 0.505...</td>\n",
       "      <td>0.052510</td>\n",
       "      <td>1.000000</td>\n",
       "      <td>0.026963</td>\n",
       "      <td>1</td>\n",
       "    </tr>\n",
       "    <tr>\n",
       "      <th>1</th>\n",
       "      <td>2</td>\n",
       "      <td>22</td>\n",
       "      <td>0.1</td>\n",
       "      <td>56</td>\n",
       "      <td>1</td>\n",
       "      <td>1</td>\n",
       "      <td>0.980547</td>\n",
       "      <td>0.830246</td>\n",
       "      <td>[[0.9999765772921481, 0.8561867541213565, 0.44...</td>\n",
       "      <td>[0.5856192000182594, 0.6140002337055437, 0.646...</td>\n",
       "      <td>[[0.9002105574731415, 0.8851920574629581, 0.11...</td>\n",
       "      <td>[0.6248317398408085, 0.6060713237172727, 0.587...</td>\n",
       "      <td>0.046864</td>\n",
       "      <td>1.000000</td>\n",
       "      <td>0.023994</td>\n",
       "      <td>1</td>\n",
       "    </tr>\n",
       "    <tr>\n",
       "      <th>3</th>\n",
       "      <td>2</td>\n",
       "      <td>44</td>\n",
       "      <td>0.1</td>\n",
       "      <td>56</td>\n",
       "      <td>1</td>\n",
       "      <td>1</td>\n",
       "      <td>0.944789</td>\n",
       "      <td>0.768116</td>\n",
       "      <td>[[0.999999958268199, 0.9801437378262194, 0.721...</td>\n",
       "      <td>[0.44328009624513276, 0.44002748956291104, 0.4...</td>\n",
       "      <td>[[0.9373334944216796, 0.7589479207122194, 0.21...</td>\n",
       "      <td>[0.4857464117979797, 0.4461469494718381, 0.425...</td>\n",
       "      <td>0.037293</td>\n",
       "      <td>0.794118</td>\n",
       "      <td>0.019095</td>\n",
       "      <td>1</td>\n",
       "    </tr>\n",
       "    <tr>\n",
       "      <th>0</th>\n",
       "      <td>2</td>\n",
       "      <td>11</td>\n",
       "      <td>0.1</td>\n",
       "      <td>56</td>\n",
       "      <td>1</td>\n",
       "      <td>1</td>\n",
       "      <td>0.940355</td>\n",
       "      <td>0.870899</td>\n",
       "      <td>[[0.9999999958313649, 0.9912341132775941, 0.99...</td>\n",
       "      <td>[0.7352352037024189, 0.7953175594782302, 0.841...</td>\n",
       "      <td>[[0.691535400087165, 0.9962296656188367, 0.0, ...</td>\n",
       "      <td>[0.7689302668734559, 0.7139897106330999, 0.760...</td>\n",
       "      <td>0.034771</td>\n",
       "      <td>0.794118</td>\n",
       "      <td>0.017775</td>\n",
       "      <td>1</td>\n",
       "    </tr>\n",
       "  </tbody>\n",
       "</table>\n",
       "</div>"
      ],
      "text/plain": [
       "   n_estimators  max_feats  contamination  n_feats  n_iter  n_iter_fs  \\\n",
       "4             2         56            0.1       56       1          1   \n",
       "2             2         33            0.1       56       1          1   \n",
       "1             2         22            0.1       56       1          1   \n",
       "3             2         44            0.1       56       1          1   \n",
       "0             2         11            0.1       56       1          1   \n",
       "\n",
       "    roc_auc  model_stab                                    model_stab_list  \\\n",
       "4  0.969657    0.716269  [[0.99986256730319, 0.9970438229289682, 0.6896...   \n",
       "2  0.958927    0.830151  [[0.9999614073241069, 0.9960470967641789, 0.74...   \n",
       "1  0.980547    0.830246  [[0.9999765772921481, 0.8561867541213565, 0.44...   \n",
       "3  0.944789    0.768116  [[0.999999958268199, 0.9801437378262194, 0.721...   \n",
       "0  0.940355    0.870899  [[0.9999999958313649, 0.9912341132775941, 0.99...   \n",
       "\n",
       "                                           shap_stab  \\\n",
       "4  [0.39280174158718084, 0.431244665418376, 0.410...   \n",
       "2  [0.501648459978498, 0.5585001702255933, 0.5334...   \n",
       "1  [0.5856192000182594, 0.6140002337055437, 0.646...   \n",
       "3  [0.44328009624513276, 0.44002748956291104, 0.4...   \n",
       "0  [0.7352352037024189, 0.7953175594782302, 0.841...   \n",
       "\n",
       "                                      shap_stab_list  \\\n",
       "4  [[0.42916691633914483, 0.696702763927013, 0.12...   \n",
       "2  [[0.8653286386189984, 0.98750034025187, 0.8056...   \n",
       "1  [[0.9002105574731415, 0.8851920574629581, 0.11...   \n",
       "3  [[0.9373334944216796, 0.7589479207122194, 0.21...   \n",
       "0  [[0.691535400087165, 0.9962296656188367, 0.0, ...   \n",
       "\n",
       "                                        shap_stab_ad  f1_median    recall  \\\n",
       "4  [0.4490167322482156, 0.3687922466878193, 0.431...   0.062847  1.000000   \n",
       "2  [0.5375450447511718, 0.5103155672361686, 0.505...   0.052510  1.000000   \n",
       "1  [0.6248317398408085, 0.6060713237172727, 0.587...   0.046864  1.000000   \n",
       "3  [0.4857464117979797, 0.4461469494718381, 0.425...   0.037293  0.794118   \n",
       "0  [0.7689302668734559, 0.7139897106330999, 0.760...   0.034771  0.794118   \n",
       "\n",
       "   precision  confusion_matrix  \n",
       "4   0.032443                 1  \n",
       "2   0.026963                 1  \n",
       "1   0.023994                 1  \n",
       "3   0.019095                 1  \n",
       "0   0.017775                 1  "
      ]
     },
     "execution_count": 19,
     "metadata": {},
     "output_type": "execute_result"
    }
   ],
   "source": [
    "df.head().sort_values('precision', ascending=False)"
   ]
  },
  {
   "cell_type": "code",
   "execution_count": null,
   "id": "555c1aa9-c94b-48de-853b-c7df91756411",
   "metadata": {},
   "outputs": [],
   "source": []
  }
 ],
 "metadata": {
  "environment": {
   "name": "common-cpu.m80",
   "type": "gcloud",
   "uri": "gcr.io/deeplearning-platform-release/base-cpu:m80"
  },
  "kernelspec": {
   "display_name": "Python 3 (ipykernel)",
   "language": "python",
   "name": "python3"
  },
  "language_info": {
   "codemirror_mode": {
    "name": "ipython",
    "version": 3
   },
   "file_extension": ".py",
   "mimetype": "text/x-python",
   "name": "python",
   "nbconvert_exporter": "python",
   "pygments_lexer": "ipython3",
   "version": "3.9.18"
  },
  "vscode": {
   "interpreter": {
    "hash": "c7bb90c4ec68b2a8968b0075ab0b1cb7a78770acf7a7acf2e36e903fa05bac64"
   }
  }
 },
 "nbformat": 4,
 "nbformat_minor": 5
}

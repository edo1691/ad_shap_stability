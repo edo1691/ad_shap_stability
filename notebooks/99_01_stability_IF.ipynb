{
 "cells": [
  {
   "cell_type": "markdown",
   "id": "ee584d58",
   "metadata": {},
   "source": [
    "# Anomaly Detection"
   ]
  },
  {
   "cell_type": "markdown",
   "id": "46c15615",
   "metadata": {},
   "source": [
    "- The project is applied in claims in Motor LoB to detect possible \"fraud\" or anomalies."
   ]
  },
  {
   "cell_type": "markdown",
   "id": "a5283ae8",
   "metadata": {},
   "source": [
    "## Set-up "
   ]
  },
  {
   "cell_type": "markdown",
   "id": "9421acad",
   "metadata": {},
   "source": [
    "### General libraries"
   ]
  },
  {
   "cell_type": "code",
   "execution_count": 1,
   "id": "a3671568",
   "metadata": {},
   "outputs": [],
   "source": [
    "import os\n",
    "import sys\n",
    "import datetime\n",
    "import pandas as pd\n",
    "from pandas import DataFrame\n",
    "import numpy as np\n",
    "from datetime import datetime\n",
    "import matplotlib.pyplot as plt\n",
    "\n",
    "from sklearn.model_selection import train_test_split\n",
    "\n",
    "from os.path import join\n",
    "\n",
    "pd.set_option(\"display.max_columns\", None)\n",
    "pd.options.display.float_format = '{:,.4f}'.format### General libraries"
   ]
  },
  {
   "cell_type": "markdown",
   "id": "4beef1c5",
   "metadata": {},
   "source": [
    "### Logging"
   ]
  },
  {
   "cell_type": "code",
   "execution_count": 2,
   "id": "94848754",
   "metadata": {},
   "outputs": [],
   "source": [
    "import logging\n",
    "\n",
    "logging.basicConfig(format='%(asctime)s - %(message)s', level=logging.INFO)\n",
    "logger = logging.getLogger(__name__)"
   ]
  },
  {
   "cell_type": "markdown",
   "id": "99623e44",
   "metadata": {},
   "source": [
    "### Load enviroment variables"
   ]
  },
  {
   "cell_type": "code",
   "execution_count": 3,
   "id": "62d84bd4",
   "metadata": {},
   "outputs": [
    {
     "ename": "KeyError",
     "evalue": "'CODE_ROOT'",
     "output_type": "error",
     "traceback": [
      "\u001b[0;31m---------------------------------------------------------------------------\u001b[0m",
      "\u001b[0;31mKeyError\u001b[0m                                  Traceback (most recent call last)",
      "Cell \u001b[0;32mIn[3], line 4\u001b[0m\n\u001b[1;32m      1\u001b[0m \u001b[38;5;28;01mfrom\u001b[39;00m \u001b[38;5;21;01mdotenv\u001b[39;00m \u001b[38;5;28;01mimport\u001b[39;00m load_dotenv\n\u001b[1;32m      2\u001b[0m load_dotenv(\u001b[38;5;124m'\u001b[39m\u001b[38;5;124m.env\u001b[39m\u001b[38;5;124m'\u001b[39m)\n\u001b[0;32m----> 4\u001b[0m code_root \u001b[38;5;241m=\u001b[39m \u001b[43mos\u001b[49m\u001b[38;5;241;43m.\u001b[39;49m\u001b[43menviron\u001b[49m\u001b[43m[\u001b[49m\u001b[38;5;124;43m'\u001b[39;49m\u001b[38;5;124;43mCODE_ROOT\u001b[39;49m\u001b[38;5;124;43m'\u001b[39;49m\u001b[43m]\u001b[49m\n\u001b[1;32m      5\u001b[0m cfg_path \u001b[38;5;241m=\u001b[39m os\u001b[38;5;241m.\u001b[39menviron[\u001b[38;5;124m'\u001b[39m\u001b[38;5;124mCFG_PATH\u001b[39m\u001b[38;5;124m'\u001b[39m]\n\u001b[1;32m      6\u001b[0m data_root \u001b[38;5;241m=\u001b[39m os\u001b[38;5;241m.\u001b[39menviron[\u001b[38;5;124m'\u001b[39m\u001b[38;5;124mDATA_ROOT\u001b[39m\u001b[38;5;124m'\u001b[39m]\n",
      "File \u001b[0;32m~/workspace_github_pers/ad_shap_stability/venv/lib/python3.9/os.py:679\u001b[0m, in \u001b[0;36m_Environ.__getitem__\u001b[0;34m(self, key)\u001b[0m\n\u001b[1;32m    676\u001b[0m     value \u001b[38;5;241m=\u001b[39m \u001b[38;5;28mself\u001b[39m\u001b[38;5;241m.\u001b[39m_data[\u001b[38;5;28mself\u001b[39m\u001b[38;5;241m.\u001b[39mencodekey(key)]\n\u001b[1;32m    677\u001b[0m \u001b[38;5;28;01mexcept\u001b[39;00m \u001b[38;5;167;01mKeyError\u001b[39;00m:\n\u001b[1;32m    678\u001b[0m     \u001b[38;5;66;03m# raise KeyError with the original key value\u001b[39;00m\n\u001b[0;32m--> 679\u001b[0m     \u001b[38;5;28;01mraise\u001b[39;00m \u001b[38;5;167;01mKeyError\u001b[39;00m(key) \u001b[38;5;28;01mfrom\u001b[39;00m \u001b[38;5;28;01mNone\u001b[39;00m\n\u001b[1;32m    680\u001b[0m \u001b[38;5;28;01mreturn\u001b[39;00m \u001b[38;5;28mself\u001b[39m\u001b[38;5;241m.\u001b[39mdecodevalue(value)\n",
      "\u001b[0;31mKeyError\u001b[0m: 'CODE_ROOT'"
     ]
    }
   ],
   "source": [
    "from dotenv import load_dotenv\n",
    "load_dotenv('.env')\n",
    "\n",
    "code_root = os.environ['CODE_ROOT']\n",
    "cfg_path = os.environ['CFG_PATH']\n",
    "data_root = os.environ['DATA_ROOT']\n",
    "\n",
    "sys.path.insert(0, code_root)"
   ]
  },
  {
   "cell_type": "markdown",
   "id": "68d35d89",
   "metadata": {},
   "source": [
    "### Specific libraries"
   ]
  },
  {
   "cell_type": "code",
   "execution_count": 4,
   "id": "170ba0eb",
   "metadata": {},
   "outputs": [],
   "source": [
    "from src.model.functions import get_pipeline, get_train_model, save_pipeline\n",
    "from src.model_interpretability.functions import Interpretability\n",
    "\n",
    "from src.feature_selection.functions import get_features\n",
    "from src.prediction.functions import get_scores_if, get_output_data, min_max_normalize_column\n",
    "from src.utils import get_data_dict, get_config_dict\n",
    "from src.stability.functions import stability_measure, create_temp_result_df, create_temp_stab_df, calculate_metrics, get_last_weeks_mondays, separate_datasets\n",
    "from sklearn.metrics import classification_report"
   ]
  },
  {
   "cell_type": "markdown",
   "id": "02ba3dce",
   "metadata": {},
   "source": [
    "### Read data"
   ]
  },
  {
   "cell_type": "code",
   "execution_count": 5,
   "id": "efde466b",
   "metadata": {},
   "outputs": [],
   "source": [
    "is_azure = False\n",
    "date = datetime(2023, 9, 17)\n",
    "run_date = '20230917'\n",
    "conn_id = ''\n",
    "model_type = 'IForest'\n",
    "gamma = 0.05\n",
    "\n",
    "clean_input_path = join(data_root, f'intermediates/data_input_{run_date}.parquet')\n",
    "model_path = join(data_root, f'models/model_{model_type}_{run_date}.pkl')\n",
    "\n",
    "df = pd.read_parquet(clean_input_path)"
   ]
  },
  {
   "cell_type": "markdown",
   "id": "4521b576",
   "metadata": {},
   "source": [
    "### Config"
   ]
  },
  {
   "cell_type": "code",
   "execution_count": 6,
   "id": "95919bfa",
   "metadata": {},
   "outputs": [
    {
     "name": "stderr",
     "output_type": "stream",
     "text": [
      "2023-11-24 18:01:37,757 - Loading parameters from /Users/allianz/workspace_github_pers/Anomaly_detection/conf/param_setup/param_setup_notebooks.yaml\n"
     ]
    },
    {
     "data": {
      "text/plain": [
       "{'close_date': datetime.date(2021, 12, 31),\n",
       " 'code_root': '/Users/allianz/workspace_github_pers/Anomaly_detection'}"
      ]
     },
     "execution_count": 6,
     "metadata": {},
     "output_type": "execute_result"
    }
   ],
   "source": [
    "config = get_config_dict(code_root=code_root, cfg_path=cfg_path, usage=\"general\")\n",
    "config"
   ]
  },
  {
   "cell_type": "code",
   "execution_count": 7,
   "id": "4748a5e6",
   "metadata": {},
   "outputs": [
    {
     "name": "stderr",
     "output_type": "stream",
     "text": [
      "2023-11-24 18:01:37,764 - Using file for data dict.\n"
     ]
    }
   ],
   "source": [
    "data_dict = get_data_dict(config)"
   ]
  },
  {
   "cell_type": "markdown",
   "id": "23a2c42d",
   "metadata": {},
   "source": [
    "### Feature selection"
   ]
  },
  {
   "cell_type": "code",
   "execution_count": 8,
   "id": "9b193af5",
   "metadata": {},
   "outputs": [
    {
     "name": "stderr",
     "output_type": "stream",
     "text": [
      "2023-11-24 18:01:37,770 - Using model None\n",
      "2023-11-24 18:01:37,772 - Features: 20.\n",
      "2023-11-24 18:01:37,772 - Categorical features: 16.\n",
      "2023-11-24 18:01:37,772 - Numerical features: 4.\n"
     ]
    }
   ],
   "source": [
    "feature_columns, categorical_features, numerical_features = get_features(data_dict)"
   ]
  },
  {
   "cell_type": "markdown",
   "id": "bb2f31ac",
   "metadata": {},
   "source": [
    "### Create Fake X_test"
   ]
  },
  {
   "cell_type": "code",
   "execution_count": 9,
   "id": "baca8a19",
   "metadata": {},
   "outputs": [],
   "source": [
    "def fake_data_label(X_train, X_test):\n",
    "    \"\"\"\n",
    "    Generate fake labels for test data based on the trained model.\n",
    "\n",
    "    Parameters:\n",
    "    - X_train: Training dataset.\n",
    "    - X_test: Test dataset.\n",
    "    - feature_columns: List of feature columns.\n",
    "    - categorical_features: List of categorical feature columns.\n",
    "    - numerical_features: List of numerical feature columns.\n",
    "    - model_type: Type of the model to train.\n",
    "\n",
    "    Returns:\n",
    "    - X_test: Test dataset with fake labels.\n",
    "    \"\"\"\n",
    "\n",
    "    # Create a copy of X_test to avoid the warning\n",
    "    X_test = X_test.copy()\n",
    "\n",
    "    # Create binary labels based on the discretized scores\n",
    "    X_test.loc[:, 'y_real'] = 1\n",
    "\n",
    "    return X_test"
   ]
  },
  {
   "cell_type": "markdown",
   "id": "90978899",
   "metadata": {},
   "source": [
    "### Train model"
   ]
  },
  {
   "cell_type": "code",
   "execution_count": 11,
   "id": "05259c6a",
   "metadata": {},
   "outputs": [],
   "source": [
    "def get_feature_selection(X_train, X_test, feature_columns, numerical_features, categorical_features, max_iterations=25, model_type='IForest', date_train=''):\n",
    "    # Initialize DataFrames\n",
    "    result_df = pd.DataFrame(columns=['dates_train', 'name_variable', 'number_iteration', 'ranking', 'value'])\n",
    "    elements_to_remove = set()  # Use a set for efficient removal\n",
    "\n",
    "    # Set the number of iterations\n",
    "    num_iterations = len(feature_columns)\n",
    "    n_iteration = 1\n",
    "    iteration_counter = 0  # Initialize the iteration counter\n",
    "\n",
    "    while feature_columns and iteration_counter < max_iterations:\n",
    "\n",
    "        # Train model\n",
    "        pipeline, model_type = get_train_model(X_train, feature_columns, numerical_features, categorical_features, model_type=model_type)\n",
    "        print(\"OK - train model\")\n",
    "\n",
    "        # SHAP values and feature importance\n",
    "        shap_generator = Interpretability(X_train, pipeline, feature_columns)\n",
    "        shap_values, explainer, feature_importance, pred = shap_generator.explainer_shap_values()\n",
    "        print(\"OK - SHAP\")\n",
    "\n",
    "        # Create a DataFrame for feature importance\n",
    "        data_list = pd.DataFrame(feature_importance, columns=['value'])\n",
    "        print(\"OK - DATA list feature importance\")\n",
    "\n",
    "        # Iterate through the DataFrame and add information to the result DataFrame\n",
    "        dates_train = X_train.dates\n",
    "        temp_result_df = create_temp_result_df(n_iteration, data_list, feature_columns, date_train)\n",
    "        result_df = pd.concat([result_df, temp_result_df], ignore_index=True)\n",
    "        print(\"OK - result_df\")\n",
    "\n",
    "        # Identify elements to remove\n",
    "        max_iteration = result_df['number_iteration'].max()\n",
    "        temp_element_to_remove = result_df[(result_df.number_iteration == max(result_df.number_iteration))]\n",
    "        temp_element_to_remove = temp_element_to_remove[temp_element_to_remove.ranking == max(temp_element_to_remove.ranking)]\n",
    "        temp_element_to_remove = list(temp_element_to_remove.drop_duplicates().name_variable)\n",
    "        elements_to_remove.update(temp_element_to_remove)\n",
    "        print(\"OK - elements_to_remove\")\n",
    "\n",
    "        # Update feature columns\n",
    "        feature_columns = [item for item in feature_columns if item not in elements_to_remove]\n",
    "        categorical_features = [item for item in categorical_features if item not in elements_to_remove]\n",
    "        numerical_features = [item for item in numerical_features if item not in elements_to_remove]\n",
    "        print(\"OK - Update feature columns\")\n",
    "\n",
    "        n_iteration += 1\n",
    "        iteration_counter += 1\n",
    "\n",
    "    return result_df\n",
    "\n",
    "\n",
    "def calculate_stability(X_train, X_test, ft_selection, numerical_features, categorical_features, max_iterations=100, model_type='IForest'):\n",
    "    stab_df = pd.DataFrame(columns=['number_iteration', 'number_variables', 'value_stab', 'value_inst'])\n",
    "    start = 1\n",
    "    end = max(ft_selection.number_iteration)\n",
    "\n",
    "    for num in range(start, end + 1):\n",
    "        # List features selected before by the selected method\n",
    "        feature_columns = list(ft_selection[ft_selection.number_iteration==num].name_variable)\n",
    "\n",
    "        # Update feature columns\n",
    "        feature_columns = [item for item in feature_columns if item in feature_columns]\n",
    "        categorical_features = [item for item in categorical_features if item in feature_columns]\n",
    "        numerical_features = [item for item in numerical_features if item in feature_columns]\n",
    "\n",
    "        # Train the pipeline\n",
    "        pipeline, model_type = get_train_model(X_train, feature_columns, numerical_features, categorical_features, model_type=model_type)\n",
    "\n",
    "        # Stability index calculation\n",
    "        iforest_stab_unif, iforest_inst_unif = stability_measure(X_train[feature_columns], X_test[feature_columns], pipeline, gamma=0.01, unif=True, iterations=max_iterations)\n",
    "\n",
    "        # Create temporary DataFrames for stability values and results\n",
    "        temp_stab_df = create_temp_stab_df(num, feature_columns, iforest_stab_unif, iforest_inst_unif)\n",
    "        stab_df = pd.concat([stab_df, temp_stab_df], ignore_index=True)\n",
    "\n",
    "    # Convert types\n",
    "    stab_df['number_variables'] = stab_df['number_variables'].astype(int)\n",
    "    stab_df['number_iteration'] = stab_df['number_iteration'].astype(int)\n",
    "\n",
    "    return stab_df"
   ]
  },
  {
   "cell_type": "code",
   "execution_count": 12,
   "id": "591a33c1",
   "metadata": {},
   "outputs": [
    {
     "name": "stderr",
     "output_type": "stream",
     "text": [
      "2023-11-24 18:01:57,810 - Using model None\n",
      "2023-11-24 18:01:57,812 - Features: 20.\n",
      "2023-11-24 18:01:57,812 - Categorical features: 16.\n",
      "2023-11-24 18:01:57,812 - Numerical features: 4.\n"
     ]
    }
   ],
   "source": [
    "weeks = get_last_weeks_mondays(df, 4)\n",
    "date_train = weeks[-1]\n",
    "\n",
    "X_test, X_train = separate_datasets(df, date_train)\n",
    "\n",
    "X_test = fake_data_label(X_train, X_test)\n",
    "\n",
    "feature_columns, categorical_features, numerical_features = get_features(data_dict)"
   ]
  },
  {
   "cell_type": "code",
   "execution_count": 13,
   "id": "2d395327",
   "metadata": {},
   "outputs": [
    {
     "data": {
      "text/html": [
       "<div>\n",
       "<style scoped>\n",
       "    .dataframe tbody tr th:only-of-type {\n",
       "        vertical-align: middle;\n",
       "    }\n",
       "\n",
       "    .dataframe tbody tr th {\n",
       "        vertical-align: top;\n",
       "    }\n",
       "\n",
       "    .dataframe thead th {\n",
       "        text-align: right;\n",
       "    }\n",
       "</style>\n",
       "<table border=\"1\" class=\"dataframe\">\n",
       "  <thead>\n",
       "    <tr style=\"text-align: right;\">\n",
       "      <th></th>\n",
       "      <th>C_CAU</th>\n",
       "      <th>C_FAM_PROD</th>\n",
       "      <th>D_SURV_SIN</th>\n",
       "      <th>D_DCL</th>\n",
       "      <th>NO_RSK</th>\n",
       "      <th>C_NAT_SIN</th>\n",
       "      <th>C_ET</th>\n",
       "      <th>C_FORM</th>\n",
       "      <th>D_DEB_EFF</th>\n",
       "      <th>D_FIN_EFF</th>\n",
       "      <th>M_TOT_SIN</th>\n",
       "      <th>NB_GAR</th>\n",
       "      <th>RESP_CIE</th>\n",
       "      <th>IND_EXPE</th>\n",
       "      <th>C_APPLN_MALUS</th>\n",
       "      <th>NB_EXPE</th>\n",
       "      <th>NB_HIST</th>\n",
       "      <th>IND_FORC_SIT</th>\n",
       "      <th>D_CL</th>\n",
       "      <th>D_ROUVT</th>\n",
       "      <th>NO_AVT</th>\n",
       "      <th>NO_MAJ</th>\n",
       "      <th>D_OUVT</th>\n",
       "      <th>C_REVIS</th>\n",
       "      <th>CNT_TY_GES</th>\n",
       "      <th>M_RES_MORAT</th>\n",
       "      <th>IND_PMT_DIR</th>\n",
       "      <th>C_ORGN_OUVT</th>\n",
       "      <th>CPOST</th>\n",
       "      <th>weekday_surv_sin</th>\n",
       "      <th>weekday_declaration</th>\n",
       "      <th>d_surv_sin_is_weekend</th>\n",
       "      <th>d_dcl_is_weekend</th>\n",
       "      <th>reporting_delay_in_days</th>\n",
       "      <th>contract_age_in_days</th>\n",
       "      <th>is_closed</th>\n",
       "      <th>is_serious_sinister</th>\n",
       "      <th>has_judiciary_procedure</th>\n",
       "      <th>IND_GRAV</th>\n",
       "      <th>PROC_JUD</th>\n",
       "      <th>C_PERS_CLI</th>\n",
       "      <th>IMM_SOC</th>\n",
       "      <th>NO_CNT</th>\n",
       "      <th>witness_flag</th>\n",
       "      <th>dates</th>\n",
       "    </tr>\n",
       "    <tr>\n",
       "      <th>NO_SIN</th>\n",
       "      <th></th>\n",
       "      <th></th>\n",
       "      <th></th>\n",
       "      <th></th>\n",
       "      <th></th>\n",
       "      <th></th>\n",
       "      <th></th>\n",
       "      <th></th>\n",
       "      <th></th>\n",
       "      <th></th>\n",
       "      <th></th>\n",
       "      <th></th>\n",
       "      <th></th>\n",
       "      <th></th>\n",
       "      <th></th>\n",
       "      <th></th>\n",
       "      <th></th>\n",
       "      <th></th>\n",
       "      <th></th>\n",
       "      <th></th>\n",
       "      <th></th>\n",
       "      <th></th>\n",
       "      <th></th>\n",
       "      <th></th>\n",
       "      <th></th>\n",
       "      <th></th>\n",
       "      <th></th>\n",
       "      <th></th>\n",
       "      <th></th>\n",
       "      <th></th>\n",
       "      <th></th>\n",
       "      <th></th>\n",
       "      <th></th>\n",
       "      <th></th>\n",
       "      <th></th>\n",
       "      <th></th>\n",
       "      <th></th>\n",
       "      <th></th>\n",
       "      <th></th>\n",
       "      <th></th>\n",
       "      <th></th>\n",
       "      <th></th>\n",
       "      <th></th>\n",
       "      <th></th>\n",
       "      <th></th>\n",
       "    </tr>\n",
       "  </thead>\n",
       "  <tbody>\n",
       "    <tr>\n",
       "      <th>20141061929</th>\n",
       "      <td>61</td>\n",
       "      <td>A01</td>\n",
       "      <td>2014-11-30</td>\n",
       "      <td>2023-06-30</td>\n",
       "      <td>1</td>\n",
       "      <td>M</td>\n",
       "      <td>0</td>\n",
       "      <td>17</td>\n",
       "      <td>2014-05-25</td>\n",
       "      <td>2015-02-17</td>\n",
       "      <td>500.0000</td>\n",
       "      <td>1</td>\n",
       "      <td>2</td>\n",
       "      <td>False</td>\n",
       "      <td>0</td>\n",
       "      <td>0</td>\n",
       "      <td>0</td>\n",
       "      <td>False</td>\n",
       "      <td>NaT</td>\n",
       "      <td>NaT</td>\n",
       "      <td>996.0000</td>\n",
       "      <td>998.0000</td>\n",
       "      <td>2023-06-30</td>\n",
       "      <td>False</td>\n",
       "      <td>P</td>\n",
       "      <td>0.0000</td>\n",
       "      <td>N</td>\n",
       "      <td>C</td>\n",
       "      <td>.</td>\n",
       "      <td>6</td>\n",
       "      <td>4</td>\n",
       "      <td>True</td>\n",
       "      <td>False</td>\n",
       "      <td>3134</td>\n",
       "      <td>189</td>\n",
       "      <td>False</td>\n",
       "      <td>False</td>\n",
       "      <td>False</td>\n",
       "      <td>NaN</td>\n",
       "      <td>NaN</td>\n",
       "      <td>8301860</td>\n",
       "      <td>1BBU843</td>\n",
       "      <td>010602100597137</td>\n",
       "      <td>False</td>\n",
       "      <td>2023-06-30</td>\n",
       "    </tr>\n",
       "    <tr>\n",
       "      <th>20171061326</th>\n",
       "      <td>50</td>\n",
       "      <td>A01</td>\n",
       "      <td>2017-07-03</td>\n",
       "      <td>2023-01-16</td>\n",
       "      <td>1</td>\n",
       "      <td>M</td>\n",
       "      <td>1</td>\n",
       "      <td>12</td>\n",
       "      <td>2007-01-01</td>\n",
       "      <td>NaT</td>\n",
       "      <td>1.0000</td>\n",
       "      <td>1</td>\n",
       "      <td>4</td>\n",
       "      <td>False</td>\n",
       "      <td>0</td>\n",
       "      <td>0</td>\n",
       "      <td>0</td>\n",
       "      <td>False</td>\n",
       "      <td>NaT</td>\n",
       "      <td>NaT</td>\n",
       "      <td>999.0000</td>\n",
       "      <td>999.0000</td>\n",
       "      <td>2023-02-20</td>\n",
       "      <td>False</td>\n",
       "      <td>P</td>\n",
       "      <td>0.0000</td>\n",
       "      <td>N</td>\n",
       "      <td>C</td>\n",
       "      <td>B</td>\n",
       "      <td>0</td>\n",
       "      <td>0</td>\n",
       "      <td>False</td>\n",
       "      <td>False</td>\n",
       "      <td>2023</td>\n",
       "      <td>3836</td>\n",
       "      <td>False</td>\n",
       "      <td>False</td>\n",
       "      <td>False</td>\n",
       "      <td>NaN</td>\n",
       "      <td>NaN</td>\n",
       "      <td>4365118</td>\n",
       "      <td>DQ536DY</td>\n",
       "      <td>010102120000009</td>\n",
       "      <td>False</td>\n",
       "      <td>2023-02-20</td>\n",
       "    </tr>\n",
       "    <tr>\n",
       "      <th>20171061327</th>\n",
       "      <td>70</td>\n",
       "      <td>A01</td>\n",
       "      <td>2017-03-28</td>\n",
       "      <td>2023-02-23</td>\n",
       "      <td>1</td>\n",
       "      <td>C</td>\n",
       "      <td>1</td>\n",
       "      <td>11</td>\n",
       "      <td>2016-08-18</td>\n",
       "      <td>2017-04-08</td>\n",
       "      <td>0.0100</td>\n",
       "      <td>1</td>\n",
       "      <td>9</td>\n",
       "      <td>False</td>\n",
       "      <td>0</td>\n",
       "      <td>0</td>\n",
       "      <td>0</td>\n",
       "      <td>False</td>\n",
       "      <td>NaT</td>\n",
       "      <td>NaT</td>\n",
       "      <td>985.0000</td>\n",
       "      <td>999.0000</td>\n",
       "      <td>2023-03-03</td>\n",
       "      <td>False</td>\n",
       "      <td>P</td>\n",
       "      <td>0.0000</td>\n",
       "      <td>N</td>\n",
       "      <td>C</td>\n",
       "      <td>B</td>\n",
       "      <td>1</td>\n",
       "      <td>3</td>\n",
       "      <td>False</td>\n",
       "      <td>False</td>\n",
       "      <td>2158</td>\n",
       "      <td>222</td>\n",
       "      <td>False</td>\n",
       "      <td>False</td>\n",
       "      <td>False</td>\n",
       "      <td>NaN</td>\n",
       "      <td>NaN</td>\n",
       "      <td>549023</td>\n",
       "      <td>1NLX472</td>\n",
       "      <td>010202100542521</td>\n",
       "      <td>False</td>\n",
       "      <td>2023-03-03</td>\n",
       "    </tr>\n",
       "    <tr>\n",
       "      <th>20171061329</th>\n",
       "      <td>50</td>\n",
       "      <td>A01</td>\n",
       "      <td>2017-12-06</td>\n",
       "      <td>2023-04-07</td>\n",
       "      <td>1</td>\n",
       "      <td>M</td>\n",
       "      <td>2</td>\n",
       "      <td>12</td>\n",
       "      <td>2007-01-01</td>\n",
       "      <td>NaT</td>\n",
       "      <td>0.0000</td>\n",
       "      <td>1</td>\n",
       "      <td>1</td>\n",
       "      <td>False</td>\n",
       "      <td>0</td>\n",
       "      <td>0</td>\n",
       "      <td>1</td>\n",
       "      <td>False</td>\n",
       "      <td>2023-06-02</td>\n",
       "      <td>NaT</td>\n",
       "      <td>999.0000</td>\n",
       "      <td>999.0000</td>\n",
       "      <td>2023-04-07</td>\n",
       "      <td>False</td>\n",
       "      <td>P</td>\n",
       "      <td>0.0000</td>\n",
       "      <td>N</td>\n",
       "      <td>C</td>\n",
       "      <td>.</td>\n",
       "      <td>2</td>\n",
       "      <td>4</td>\n",
       "      <td>False</td>\n",
       "      <td>False</td>\n",
       "      <td>1948</td>\n",
       "      <td>3992</td>\n",
       "      <td>True</td>\n",
       "      <td>False</td>\n",
       "      <td>False</td>\n",
       "      <td>NaN</td>\n",
       "      <td>NaN</td>\n",
       "      <td>3174325</td>\n",
       "      <td>11BDG1</td>\n",
       "      <td>010102120000022</td>\n",
       "      <td>False</td>\n",
       "      <td>2023-04-07</td>\n",
       "    </tr>\n",
       "    <tr>\n",
       "      <th>20181060567</th>\n",
       "      <td>13</td>\n",
       "      <td>A03</td>\n",
       "      <td>2018-11-13</td>\n",
       "      <td>2023-02-18</td>\n",
       "      <td>1</td>\n",
       "      <td>M</td>\n",
       "      <td>1</td>\n",
       "      <td>17</td>\n",
       "      <td>2017-12-31</td>\n",
       "      <td>2018-12-30</td>\n",
       "      <td>5,000.0000</td>\n",
       "      <td>1</td>\n",
       "      <td>4</td>\n",
       "      <td>False</td>\n",
       "      <td>1</td>\n",
       "      <td>0</td>\n",
       "      <td>1</td>\n",
       "      <td>False</td>\n",
       "      <td>NaT</td>\n",
       "      <td>NaT</td>\n",
       "      <td>995.0000</td>\n",
       "      <td>948.0000</td>\n",
       "      <td>2023-02-20</td>\n",
       "      <td>False</td>\n",
       "      <td>E</td>\n",
       "      <td>0.0000</td>\n",
       "      <td>N</td>\n",
       "      <td>C</td>\n",
       "      <td>.</td>\n",
       "      <td>1</td>\n",
       "      <td>5</td>\n",
       "      <td>False</td>\n",
       "      <td>True</td>\n",
       "      <td>1558</td>\n",
       "      <td>317</td>\n",
       "      <td>False</td>\n",
       "      <td>False</td>\n",
       "      <td>False</td>\n",
       "      <td>NaN</td>\n",
       "      <td>NaN</td>\n",
       "      <td>9117642</td>\n",
       "      <td>1JAG823</td>\n",
       "      <td>010502100868347</td>\n",
       "      <td>False</td>\n",
       "      <td>2023-02-20</td>\n",
       "    </tr>\n",
       "  </tbody>\n",
       "</table>\n",
       "</div>"
      ],
      "text/plain": [
       "            C_CAU C_FAM_PROD D_SURV_SIN      D_DCL  NO_RSK C_NAT_SIN C_ET  \\\n",
       "NO_SIN                                                                      \n",
       "20141061929    61        A01 2014-11-30 2023-06-30       1         M    0   \n",
       "20171061326    50        A01 2017-07-03 2023-01-16       1         M    1   \n",
       "20171061327    70        A01 2017-03-28 2023-02-23       1         C    1   \n",
       "20171061329    50        A01 2017-12-06 2023-04-07       1         M    2   \n",
       "20181060567    13        A03 2018-11-13 2023-02-18       1         M    1   \n",
       "\n",
       "            C_FORM  D_DEB_EFF  D_FIN_EFF  M_TOT_SIN  NB_GAR RESP_CIE  \\\n",
       "NO_SIN                                                                 \n",
       "20141061929     17 2014-05-25 2015-02-17   500.0000       1        2   \n",
       "20171061326     12 2007-01-01        NaT     1.0000       1        4   \n",
       "20171061327     11 2016-08-18 2017-04-08     0.0100       1        9   \n",
       "20171061329     12 2007-01-01        NaT     0.0000       1        1   \n",
       "20181060567     17 2017-12-31 2018-12-30 5,000.0000       1        4   \n",
       "\n",
       "             IND_EXPE C_APPLN_MALUS  NB_EXPE  NB_HIST  IND_FORC_SIT  \\\n",
       "NO_SIN                                                                \n",
       "20141061929     False             0        0        0         False   \n",
       "20171061326     False             0        0        0         False   \n",
       "20171061327     False             0        0        0         False   \n",
       "20171061329     False             0        0        1         False   \n",
       "20181060567     False             1        0        1         False   \n",
       "\n",
       "                  D_CL D_ROUVT   NO_AVT   NO_MAJ     D_OUVT  C_REVIS  \\\n",
       "NO_SIN                                                                 \n",
       "20141061929        NaT     NaT 996.0000 998.0000 2023-06-30    False   \n",
       "20171061326        NaT     NaT 999.0000 999.0000 2023-02-20    False   \n",
       "20171061327        NaT     NaT 985.0000 999.0000 2023-03-03    False   \n",
       "20171061329 2023-06-02     NaT 999.0000 999.0000 2023-04-07    False   \n",
       "20181060567        NaT     NaT 995.0000 948.0000 2023-02-20    False   \n",
       "\n",
       "            CNT_TY_GES  M_RES_MORAT IND_PMT_DIR C_ORGN_OUVT CPOST  \\\n",
       "NO_SIN                                                              \n",
       "20141061929          P       0.0000           N           C     .   \n",
       "20171061326          P       0.0000           N           C     B   \n",
       "20171061327          P       0.0000           N           C     B   \n",
       "20171061329          P       0.0000           N           C     .   \n",
       "20181060567          E       0.0000           N           C     .   \n",
       "\n",
       "             weekday_surv_sin  weekday_declaration  d_surv_sin_is_weekend  \\\n",
       "NO_SIN                                                                      \n",
       "20141061929                 6                    4                   True   \n",
       "20171061326                 0                    0                  False   \n",
       "20171061327                 1                    3                  False   \n",
       "20171061329                 2                    4                  False   \n",
       "20181060567                 1                    5                  False   \n",
       "\n",
       "             d_dcl_is_weekend  reporting_delay_in_days  contract_age_in_days  \\\n",
       "NO_SIN                                                                         \n",
       "20141061929             False                     3134                   189   \n",
       "20171061326             False                     2023                  3836   \n",
       "20171061327             False                     2158                   222   \n",
       "20171061329             False                     1948                  3992   \n",
       "20181060567              True                     1558                   317   \n",
       "\n",
       "             is_closed  is_serious_sinister  has_judiciary_procedure IND_GRAV  \\\n",
       "NO_SIN                                                                          \n",
       "20141061929      False                False                    False      NaN   \n",
       "20171061326      False                False                    False      NaN   \n",
       "20171061327      False                False                    False      NaN   \n",
       "20171061329       True                False                    False      NaN   \n",
       "20181060567      False                False                    False      NaN   \n",
       "\n",
       "            PROC_JUD  C_PERS_CLI  IMM_SOC           NO_CNT  witness_flag  \\\n",
       "NO_SIN                                                                     \n",
       "20141061929      NaN     8301860  1BBU843  010602100597137         False   \n",
       "20171061326      NaN     4365118  DQ536DY  010102120000009         False   \n",
       "20171061327      NaN      549023  1NLX472  010202100542521         False   \n",
       "20171061329      NaN     3174325   11BDG1  010102120000022         False   \n",
       "20181060567      NaN     9117642  1JAG823  010502100868347         False   \n",
       "\n",
       "                 dates  \n",
       "NO_SIN                  \n",
       "20141061929 2023-06-30  \n",
       "20171061326 2023-02-20  \n",
       "20171061327 2023-03-03  \n",
       "20171061329 2023-04-07  \n",
       "20181060567 2023-02-20  "
      ]
     },
     "execution_count": 13,
     "metadata": {},
     "output_type": "execute_result"
    }
   ],
   "source": [
    "X_train.head()"
   ]
  },
  {
   "cell_type": "code",
   "execution_count": 14,
   "id": "22cdbca7",
   "metadata": {
    "scrolled": true
   },
   "outputs": [
    {
     "name": "stderr",
     "output_type": "stream",
     "text": [
      "2023-11-24 18:01:59,126 - Creating model_type: IForest with paramerers {'n_estimators': 100, 'max_samples': 256, 'contamination': 0.01, 'max_features': 1.0, 'bootstrap': False, 'n_jobs': None, 'random_state': None, 'verbose': 0}\n",
      "2023-11-24 18:01:59,996 - Start explainer\n",
      "2023-11-24 18:01:59,997 - Tranform data pre-processor\n"
     ]
    },
    {
     "name": "stdout",
     "output_type": "stream",
     "text": [
      "OK - train model\n"
     ]
    },
    {
     "name": "stderr",
     "output_type": "stream",
     "text": [
      "2023-11-24 18:02:15,010 - group shap values\n",
      "2023-11-24 18:02:15,014 - sum column shap values\n",
      "2023-11-24 18:02:15,017 - Get score IF\n",
      "2023-11-24 18:02:15,017 - Start get score\n",
      "2023-11-24 18:02:15,355 - Normalize columns\n",
      "2023-11-24 18:02:15,356 - D score\n",
      "2023-11-24 18:02:15,359 - Get SHAP\n",
      "2023-11-24 18:02:15,360 - Get Base\n",
      "2023-11-24 18:02:15,360 - End Interpretability\n",
      "\n",
      "A value is trying to be set on a copy of a slice from a DataFrame.\n",
      "Try using .loc[row_indexer,col_indexer] = value instead\n",
      "\n",
      "See the caveats in the documentation: https://pandas.pydata.org/pandas-docs/stable/user_guide/indexing.html#returning-a-view-versus-a-copy\n",
      "2023-11-24 18:02:15,497 - Creating model_type: IForest with paramerers {'n_estimators': 100, 'max_samples': 256, 'contamination': 0.01, 'max_features': 1.0, 'bootstrap': False, 'n_jobs': None, 'random_state': None, 'verbose': 0}\n"
     ]
    },
    {
     "name": "stdout",
     "output_type": "stream",
     "text": [
      "OK - SHAP\n",
      "OK - DATA list feature importance\n",
      "OK - result_df\n",
      "OK - elements_to_remove\n",
      "OK - Update feature columns\n"
     ]
    },
    {
     "name": "stderr",
     "output_type": "stream",
     "text": [
      "2023-11-24 18:02:16,002 - Start explainer\n",
      "2023-11-24 18:02:16,002 - Tranform data pre-processor\n"
     ]
    },
    {
     "name": "stdout",
     "output_type": "stream",
     "text": [
      "OK - train model\n"
     ]
    },
    {
     "name": "stderr",
     "output_type": "stream",
     "text": [
      "2023-11-24 18:02:31,544 - group shap values\n",
      "2023-11-24 18:02:31,548 - sum column shap values\n",
      "2023-11-24 18:02:31,550 - Get score IF\n",
      "2023-11-24 18:02:31,550 - Start get score\n",
      "2023-11-24 18:02:31,630 - Normalize columns\n",
      "2023-11-24 18:02:31,631 - D score\n",
      "2023-11-24 18:02:31,634 - Get SHAP\n",
      "2023-11-24 18:02:31,634 - Get Base\n",
      "2023-11-24 18:02:31,635 - End Interpretability\n",
      "\n",
      "A value is trying to be set on a copy of a slice from a DataFrame.\n",
      "Try using .loc[row_indexer,col_indexer] = value instead\n",
      "\n",
      "See the caveats in the documentation: https://pandas.pydata.org/pandas-docs/stable/user_guide/indexing.html#returning-a-view-versus-a-copy\n",
      "2023-11-24 18:02:31,647 - Creating model_type: IForest with paramerers {'n_estimators': 100, 'max_samples': 256, 'contamination': 0.01, 'max_features': 1.0, 'bootstrap': False, 'n_jobs': None, 'random_state': None, 'verbose': 0}\n"
     ]
    },
    {
     "name": "stdout",
     "output_type": "stream",
     "text": [
      "OK - SHAP\n",
      "OK - DATA list feature importance\n",
      "OK - result_df\n",
      "OK - elements_to_remove\n",
      "OK - Update feature columns\n"
     ]
    },
    {
     "name": "stderr",
     "output_type": "stream",
     "text": [
      "2023-11-24 18:02:31,863 - Start explainer\n",
      "2023-11-24 18:02:31,864 - Tranform data pre-processor\n"
     ]
    },
    {
     "name": "stdout",
     "output_type": "stream",
     "text": [
      "OK - train model\n"
     ]
    },
    {
     "name": "stderr",
     "output_type": "stream",
     "text": [
      "2023-11-24 18:02:46,782 - group shap values\n",
      "2023-11-24 18:02:46,785 - sum column shap values\n",
      "2023-11-24 18:02:46,787 - Get score IF\n",
      "2023-11-24 18:02:46,787 - Start get score\n",
      "2023-11-24 18:02:46,866 - Normalize columns\n",
      "2023-11-24 18:02:46,867 - D score\n",
      "2023-11-24 18:02:46,869 - Get SHAP\n",
      "2023-11-24 18:02:46,870 - Get Base\n",
      "2023-11-24 18:02:46,871 - End Interpretability\n",
      "\n",
      "A value is trying to be set on a copy of a slice from a DataFrame.\n",
      "Try using .loc[row_indexer,col_indexer] = value instead\n",
      "\n",
      "See the caveats in the documentation: https://pandas.pydata.org/pandas-docs/stable/user_guide/indexing.html#returning-a-view-versus-a-copy\n",
      "2023-11-24 18:02:46,884 - Creating model_type: IForest with paramerers {'n_estimators': 100, 'max_samples': 256, 'contamination': 0.01, 'max_features': 1.0, 'bootstrap': False, 'n_jobs': None, 'random_state': None, 'verbose': 0}\n"
     ]
    },
    {
     "name": "stdout",
     "output_type": "stream",
     "text": [
      "OK - SHAP\n",
      "OK - DATA list feature importance\n",
      "OK - result_df\n",
      "OK - elements_to_remove\n",
      "OK - Update feature columns\n"
     ]
    },
    {
     "name": "stderr",
     "output_type": "stream",
     "text": [
      "2023-11-24 18:02:47,116 - Start explainer\n",
      "2023-11-24 18:02:47,117 - Tranform data pre-processor\n"
     ]
    },
    {
     "name": "stdout",
     "output_type": "stream",
     "text": [
      "OK - train model\n"
     ]
    },
    {
     "name": "stderr",
     "output_type": "stream",
     "text": [
      "2023-11-24 18:03:01,538 - group shap values\n",
      "2023-11-24 18:03:01,542 - sum column shap values\n",
      "2023-11-24 18:03:01,543 - Get score IF\n",
      "2023-11-24 18:03:01,543 - Start get score\n",
      "2023-11-24 18:03:01,996 - Normalize columns\n",
      "2023-11-24 18:03:01,998 - D score\n",
      "2023-11-24 18:03:02,000 - Get SHAP\n",
      "2023-11-24 18:03:02,000 - Get Base\n",
      "2023-11-24 18:03:02,001 - End Interpretability\n",
      "\n",
      "A value is trying to be set on a copy of a slice from a DataFrame.\n",
      "Try using .loc[row_indexer,col_indexer] = value instead\n",
      "\n",
      "See the caveats in the documentation: https://pandas.pydata.org/pandas-docs/stable/user_guide/indexing.html#returning-a-view-versus-a-copy\n",
      "2023-11-24 18:03:02,013 - Creating model_type: IForest with paramerers {'n_estimators': 100, 'max_samples': 256, 'contamination': 0.01, 'max_features': 1.0, 'bootstrap': False, 'n_jobs': None, 'random_state': None, 'verbose': 0}\n"
     ]
    },
    {
     "name": "stdout",
     "output_type": "stream",
     "text": [
      "OK - SHAP\n",
      "OK - DATA list feature importance\n",
      "OK - result_df\n",
      "OK - elements_to_remove\n",
      "OK - Update feature columns\n"
     ]
    },
    {
     "name": "stderr",
     "output_type": "stream",
     "text": [
      "2023-11-24 18:03:02,243 - Start explainer\n",
      "2023-11-24 18:03:02,244 - Tranform data pre-processor\n"
     ]
    },
    {
     "name": "stdout",
     "output_type": "stream",
     "text": [
      "OK - train model\n"
     ]
    },
    {
     "name": "stderr",
     "output_type": "stream",
     "text": [
      "2023-11-24 18:03:18,224 - group shap values\n",
      "2023-11-24 18:03:18,228 - sum column shap values\n",
      "2023-11-24 18:03:18,229 - Get score IF\n",
      "2023-11-24 18:03:18,229 - Start get score\n",
      "2023-11-24 18:03:18,309 - Normalize columns\n",
      "2023-11-24 18:03:18,311 - D score\n",
      "2023-11-24 18:03:18,313 - Get SHAP\n",
      "2023-11-24 18:03:18,313 - Get Base\n",
      "2023-11-24 18:03:18,314 - End Interpretability\n",
      "\n",
      "A value is trying to be set on a copy of a slice from a DataFrame.\n",
      "Try using .loc[row_indexer,col_indexer] = value instead\n",
      "\n",
      "See the caveats in the documentation: https://pandas.pydata.org/pandas-docs/stable/user_guide/indexing.html#returning-a-view-versus-a-copy\n",
      "2023-11-24 18:03:18,328 - Creating model_type: IForest with paramerers {'n_estimators': 100, 'max_samples': 256, 'contamination': 0.01, 'max_features': 1.0, 'bootstrap': False, 'n_jobs': None, 'random_state': None, 'verbose': 0}\n"
     ]
    },
    {
     "name": "stdout",
     "output_type": "stream",
     "text": [
      "OK - SHAP\n",
      "OK - DATA list feature importance\n",
      "OK - result_df\n",
      "OK - elements_to_remove\n",
      "OK - Update feature columns\n"
     ]
    },
    {
     "name": "stderr",
     "output_type": "stream",
     "text": [
      "2023-11-24 18:03:18,545 - Start explainer\n",
      "2023-11-24 18:03:18,546 - Tranform data pre-processor\n"
     ]
    },
    {
     "name": "stdout",
     "output_type": "stream",
     "text": [
      "OK - train model\n"
     ]
    },
    {
     "name": "stderr",
     "output_type": "stream",
     "text": [
      "2023-11-24 18:03:33,531 - group shap values\n",
      "2023-11-24 18:03:33,534 - sum column shap values\n",
      "2023-11-24 18:03:33,536 - Get score IF\n",
      "2023-11-24 18:03:33,536 - Start get score\n",
      "2023-11-24 18:03:33,639 - Normalize columns\n",
      "2023-11-24 18:03:33,640 - D score\n",
      "2023-11-24 18:03:33,642 - Get SHAP\n",
      "2023-11-24 18:03:33,643 - Get Base\n",
      "2023-11-24 18:03:33,643 - End Interpretability\n",
      "\n",
      "A value is trying to be set on a copy of a slice from a DataFrame.\n",
      "Try using .loc[row_indexer,col_indexer] = value instead\n",
      "\n",
      "See the caveats in the documentation: https://pandas.pydata.org/pandas-docs/stable/user_guide/indexing.html#returning-a-view-versus-a-copy\n",
      "2023-11-24 18:03:33,655 - Creating model_type: IForest with paramerers {'n_estimators': 100, 'max_samples': 256, 'contamination': 0.01, 'max_features': 1.0, 'bootstrap': False, 'n_jobs': None, 'random_state': None, 'verbose': 0}\n"
     ]
    },
    {
     "name": "stdout",
     "output_type": "stream",
     "text": [
      "OK - SHAP\n",
      "OK - DATA list feature importance\n",
      "OK - result_df\n",
      "OK - elements_to_remove\n",
      "OK - Update feature columns\n"
     ]
    },
    {
     "name": "stderr",
     "output_type": "stream",
     "text": [
      "2023-11-24 18:03:33,870 - Start explainer\n",
      "2023-11-24 18:03:33,871 - Tranform data pre-processor\n"
     ]
    },
    {
     "name": "stdout",
     "output_type": "stream",
     "text": [
      "OK - train model\n"
     ]
    },
    {
     "name": "stderr",
     "output_type": "stream",
     "text": [
      "2023-11-24 18:03:48,731 - group shap values\n",
      "2023-11-24 18:03:48,734 - sum column shap values\n",
      "2023-11-24 18:03:48,736 - Get score IF\n",
      "2023-11-24 18:03:48,736 - Start get score\n",
      "2023-11-24 18:03:48,815 - Normalize columns\n",
      "2023-11-24 18:03:48,816 - D score\n",
      "2023-11-24 18:03:48,818 - Get SHAP\n",
      "2023-11-24 18:03:48,819 - Get Base\n",
      "2023-11-24 18:03:48,819 - End Interpretability\n",
      "\n",
      "A value is trying to be set on a copy of a slice from a DataFrame.\n",
      "Try using .loc[row_indexer,col_indexer] = value instead\n",
      "\n",
      "See the caveats in the documentation: https://pandas.pydata.org/pandas-docs/stable/user_guide/indexing.html#returning-a-view-versus-a-copy\n",
      "2023-11-24 18:03:48,833 - Creating model_type: IForest with paramerers {'n_estimators': 100, 'max_samples': 256, 'contamination': 0.01, 'max_features': 1.0, 'bootstrap': False, 'n_jobs': None, 'random_state': None, 'verbose': 0}\n"
     ]
    },
    {
     "name": "stdout",
     "output_type": "stream",
     "text": [
      "OK - SHAP\n",
      "OK - DATA list feature importance\n",
      "OK - result_df\n",
      "OK - elements_to_remove\n",
      "OK - Update feature columns\n"
     ]
    },
    {
     "name": "stderr",
     "output_type": "stream",
     "text": [
      "2023-11-24 18:03:49,053 - Start explainer\n",
      "2023-11-24 18:03:49,054 - Tranform data pre-processor\n"
     ]
    },
    {
     "name": "stdout",
     "output_type": "stream",
     "text": [
      "OK - train model\n"
     ]
    },
    {
     "name": "stderr",
     "output_type": "stream",
     "text": [
      "2023-11-24 18:04:04,712 - group shap values\n",
      "2023-11-24 18:04:04,715 - sum column shap values\n",
      "2023-11-24 18:04:04,717 - Get score IF\n",
      "2023-11-24 18:04:04,717 - Start get score\n",
      "2023-11-24 18:04:04,797 - Normalize columns\n",
      "2023-11-24 18:04:04,799 - D score\n",
      "2023-11-24 18:04:04,801 - Get SHAP\n",
      "2023-11-24 18:04:04,802 - Get Base\n",
      "2023-11-24 18:04:04,802 - End Interpretability\n",
      "\n",
      "A value is trying to be set on a copy of a slice from a DataFrame.\n",
      "Try using .loc[row_indexer,col_indexer] = value instead\n",
      "\n",
      "See the caveats in the documentation: https://pandas.pydata.org/pandas-docs/stable/user_guide/indexing.html#returning-a-view-versus-a-copy\n",
      "2023-11-24 18:04:04,816 - Creating model_type: IForest with paramerers {'n_estimators': 100, 'max_samples': 256, 'contamination': 0.01, 'max_features': 1.0, 'bootstrap': False, 'n_jobs': None, 'random_state': None, 'verbose': 0}\n"
     ]
    },
    {
     "name": "stdout",
     "output_type": "stream",
     "text": [
      "OK - SHAP\n",
      "OK - DATA list feature importance\n",
      "OK - result_df\n",
      "OK - elements_to_remove\n",
      "OK - Update feature columns\n"
     ]
    },
    {
     "name": "stderr",
     "output_type": "stream",
     "text": [
      "2023-11-24 18:04:05,036 - Start explainer\n",
      "2023-11-24 18:04:05,037 - Tranform data pre-processor\n"
     ]
    },
    {
     "name": "stdout",
     "output_type": "stream",
     "text": [
      "OK - train model\n"
     ]
    },
    {
     "name": "stderr",
     "output_type": "stream",
     "text": [
      "2023-11-24 18:04:20,878 - group shap values\n",
      "2023-11-24 18:04:20,881 - sum column shap values\n",
      "2023-11-24 18:04:20,883 - Get score IF\n",
      "2023-11-24 18:04:20,883 - Start get score\n",
      "2023-11-24 18:04:20,962 - Normalize columns\n",
      "2023-11-24 18:04:20,964 - D score\n",
      "2023-11-24 18:04:20,966 - Get SHAP\n",
      "2023-11-24 18:04:20,966 - Get Base\n",
      "2023-11-24 18:04:20,967 - End Interpretability\n",
      "\n",
      "A value is trying to be set on a copy of a slice from a DataFrame.\n",
      "Try using .loc[row_indexer,col_indexer] = value instead\n",
      "\n",
      "See the caveats in the documentation: https://pandas.pydata.org/pandas-docs/stable/user_guide/indexing.html#returning-a-view-versus-a-copy\n",
      "2023-11-24 18:04:20,980 - Creating model_type: IForest with paramerers {'n_estimators': 100, 'max_samples': 256, 'contamination': 0.01, 'max_features': 1.0, 'bootstrap': False, 'n_jobs': None, 'random_state': None, 'verbose': 0}\n"
     ]
    },
    {
     "name": "stdout",
     "output_type": "stream",
     "text": [
      "OK - SHAP\n",
      "OK - DATA list feature importance\n",
      "OK - result_df\n",
      "OK - elements_to_remove\n",
      "OK - Update feature columns\n"
     ]
    },
    {
     "name": "stderr",
     "output_type": "stream",
     "text": [
      "2023-11-24 18:04:21,193 - Start explainer\n",
      "2023-11-24 18:04:21,194 - Tranform data pre-processor\n"
     ]
    },
    {
     "name": "stdout",
     "output_type": "stream",
     "text": [
      "OK - train model\n"
     ]
    },
    {
     "name": "stderr",
     "output_type": "stream",
     "text": [
      "2023-11-24 18:04:33,733 - group shap values\n",
      "2023-11-24 18:04:33,736 - sum column shap values\n",
      "2023-11-24 18:04:33,738 - Get score IF\n",
      "2023-11-24 18:04:33,738 - Start get score\n",
      "2023-11-24 18:04:33,815 - Normalize columns\n",
      "2023-11-24 18:04:33,816 - D score\n",
      "2023-11-24 18:04:33,818 - Get SHAP\n",
      "2023-11-24 18:04:33,819 - Get Base\n",
      "2023-11-24 18:04:33,819 - End Interpretability\n",
      "\n",
      "A value is trying to be set on a copy of a slice from a DataFrame.\n",
      "Try using .loc[row_indexer,col_indexer] = value instead\n",
      "\n",
      "See the caveats in the documentation: https://pandas.pydata.org/pandas-docs/stable/user_guide/indexing.html#returning-a-view-versus-a-copy\n",
      "2023-11-24 18:04:33,831 - Creating model_type: IForest with paramerers {'n_estimators': 100, 'max_samples': 256, 'contamination': 0.01, 'max_features': 1.0, 'bootstrap': False, 'n_jobs': None, 'random_state': None, 'verbose': 0}\n"
     ]
    },
    {
     "name": "stdout",
     "output_type": "stream",
     "text": [
      "OK - SHAP\n",
      "OK - DATA list feature importance\n",
      "OK - result_df\n",
      "OK - elements_to_remove\n",
      "OK - Update feature columns\n"
     ]
    },
    {
     "name": "stderr",
     "output_type": "stream",
     "text": [
      "2023-11-24 18:04:34,047 - Start explainer\n",
      "2023-11-24 18:04:34,048 - Tranform data pre-processor\n"
     ]
    },
    {
     "name": "stdout",
     "output_type": "stream",
     "text": [
      "OK - train model\n"
     ]
    },
    {
     "name": "stderr",
     "output_type": "stream",
     "text": [
      "2023-11-24 18:04:47,571 - group shap values\n",
      "2023-11-24 18:04:47,574 - sum column shap values\n",
      "2023-11-24 18:04:47,576 - Get score IF\n",
      "2023-11-24 18:04:47,576 - Start get score\n",
      "2023-11-24 18:04:47,644 - Normalize columns\n",
      "2023-11-24 18:04:47,645 - D score\n",
      "2023-11-24 18:04:47,647 - Get SHAP\n",
      "2023-11-24 18:04:47,648 - Get Base\n",
      "2023-11-24 18:04:47,648 - End Interpretability\n",
      "\n",
      "A value is trying to be set on a copy of a slice from a DataFrame.\n",
      "Try using .loc[row_indexer,col_indexer] = value instead\n",
      "\n",
      "See the caveats in the documentation: https://pandas.pydata.org/pandas-docs/stable/user_guide/indexing.html#returning-a-view-versus-a-copy\n",
      "2023-11-24 18:04:47,659 - Creating model_type: IForest with paramerers {'n_estimators': 100, 'max_samples': 256, 'contamination': 0.01, 'max_features': 1.0, 'bootstrap': False, 'n_jobs': None, 'random_state': None, 'verbose': 0}\n"
     ]
    },
    {
     "name": "stdout",
     "output_type": "stream",
     "text": [
      "OK - SHAP\n",
      "OK - DATA list feature importance\n",
      "OK - result_df\n",
      "OK - elements_to_remove\n",
      "OK - Update feature columns\n"
     ]
    },
    {
     "name": "stderr",
     "output_type": "stream",
     "text": [
      "2023-11-24 18:04:47,864 - Start explainer\n",
      "2023-11-24 18:04:47,865 - Tranform data pre-processor\n"
     ]
    },
    {
     "name": "stdout",
     "output_type": "stream",
     "text": [
      "OK - train model\n"
     ]
    },
    {
     "name": "stderr",
     "output_type": "stream",
     "text": [
      "2023-11-24 18:05:00,787 - group shap values\n",
      "2023-11-24 18:05:00,790 - sum column shap values\n",
      "2023-11-24 18:05:00,791 - Get score IF\n",
      "2023-11-24 18:05:00,791 - Start get score\n",
      "2023-11-24 18:05:00,858 - Normalize columns\n",
      "2023-11-24 18:05:00,859 - D score\n",
      "2023-11-24 18:05:00,861 - Get SHAP\n",
      "2023-11-24 18:05:00,862 - Get Base\n",
      "2023-11-24 18:05:00,862 - End Interpretability\n",
      "\n",
      "A value is trying to be set on a copy of a slice from a DataFrame.\n",
      "Try using .loc[row_indexer,col_indexer] = value instead\n",
      "\n",
      "See the caveats in the documentation: https://pandas.pydata.org/pandas-docs/stable/user_guide/indexing.html#returning-a-view-versus-a-copy\n",
      "2023-11-24 18:05:00,876 - Creating model_type: IForest with paramerers {'n_estimators': 100, 'max_samples': 256, 'contamination': 0.01, 'max_features': 1.0, 'bootstrap': False, 'n_jobs': None, 'random_state': None, 'verbose': 0}\n",
      "2023-11-24 18:05:01,067 - Start explainer\n",
      "2023-11-24 18:05:01,067 - Tranform data pre-processor\n"
     ]
    },
    {
     "name": "stdout",
     "output_type": "stream",
     "text": [
      "OK - SHAP\n",
      "OK - DATA list feature importance\n",
      "OK - result_df\n",
      "OK - elements_to_remove\n",
      "OK - Update feature columns\n",
      "OK - train model\n"
     ]
    },
    {
     "name": "stderr",
     "output_type": "stream",
     "text": [
      "2023-11-24 18:05:09,583 - group shap values\n",
      "2023-11-24 18:05:09,585 - sum column shap values\n",
      "2023-11-24 18:05:09,587 - Get score IF\n",
      "2023-11-24 18:05:09,587 - Start get score\n",
      "2023-11-24 18:05:09,646 - Normalize columns\n",
      "2023-11-24 18:05:09,647 - D score\n",
      "2023-11-24 18:05:09,649 - Get SHAP\n",
      "2023-11-24 18:05:09,650 - Get Base\n",
      "2023-11-24 18:05:09,651 - End Interpretability\n",
      "\n",
      "A value is trying to be set on a copy of a slice from a DataFrame.\n",
      "Try using .loc[row_indexer,col_indexer] = value instead\n",
      "\n",
      "See the caveats in the documentation: https://pandas.pydata.org/pandas-docs/stable/user_guide/indexing.html#returning-a-view-versus-a-copy\n",
      "2023-11-24 18:05:09,664 - Creating model_type: IForest with paramerers {'n_estimators': 100, 'max_samples': 256, 'contamination': 0.01, 'max_features': 1.0, 'bootstrap': False, 'n_jobs': None, 'random_state': None, 'verbose': 0}\n",
      "2023-11-24 18:05:09,838 - Start explainer\n",
      "2023-11-24 18:05:09,839 - Tranform data pre-processor\n"
     ]
    },
    {
     "name": "stdout",
     "output_type": "stream",
     "text": [
      "OK - SHAP\n",
      "OK - DATA list feature importance\n",
      "OK - result_df\n",
      "OK - elements_to_remove\n",
      "OK - Update feature columns\n",
      "OK - train model\n"
     ]
    },
    {
     "name": "stderr",
     "output_type": "stream",
     "text": [
      "2023-11-24 18:05:16,303 - group shap values\n",
      "2023-11-24 18:05:16,306 - sum column shap values\n",
      "2023-11-24 18:05:16,307 - Get score IF\n",
      "2023-11-24 18:05:16,307 - Start get score\n",
      "2023-11-24 18:05:16,365 - Normalize columns\n",
      "2023-11-24 18:05:16,367 - D score\n",
      "2023-11-24 18:05:16,369 - Get SHAP\n",
      "2023-11-24 18:05:16,369 - Get Base\n",
      "2023-11-24 18:05:16,370 - End Interpretability\n",
      "\n",
      "A value is trying to be set on a copy of a slice from a DataFrame.\n",
      "Try using .loc[row_indexer,col_indexer] = value instead\n",
      "\n",
      "See the caveats in the documentation: https://pandas.pydata.org/pandas-docs/stable/user_guide/indexing.html#returning-a-view-versus-a-copy\n",
      "2023-11-24 18:05:16,381 - Creating model_type: IForest with paramerers {'n_estimators': 100, 'max_samples': 256, 'contamination': 0.01, 'max_features': 1.0, 'bootstrap': False, 'n_jobs': None, 'random_state': None, 'verbose': 0}\n",
      "2023-11-24 18:05:16,538 - Start explainer\n",
      "2023-11-24 18:05:16,539 - Tranform data pre-processor\n"
     ]
    },
    {
     "name": "stdout",
     "output_type": "stream",
     "text": [
      "OK - SHAP\n",
      "OK - DATA list feature importance\n",
      "OK - result_df\n",
      "OK - elements_to_remove\n",
      "OK - Update feature columns\n",
      "OK - train model\n"
     ]
    },
    {
     "name": "stderr",
     "output_type": "stream",
     "text": [
      "2023-11-24 18:05:19,153 - group shap values\n",
      "2023-11-24 18:05:19,156 - sum column shap values\n",
      "2023-11-24 18:05:19,157 - Get score IF\n",
      "2023-11-24 18:05:19,157 - Start get score\n",
      "2023-11-24 18:05:19,206 - Normalize columns\n",
      "2023-11-24 18:05:19,207 - D score\n",
      "2023-11-24 18:05:19,209 - Get SHAP\n",
      "2023-11-24 18:05:19,210 - Get Base\n",
      "2023-11-24 18:05:19,211 - End Interpretability\n",
      "\n",
      "A value is trying to be set on a copy of a slice from a DataFrame.\n",
      "Try using .loc[row_indexer,col_indexer] = value instead\n",
      "\n",
      "See the caveats in the documentation: https://pandas.pydata.org/pandas-docs/stable/user_guide/indexing.html#returning-a-view-versus-a-copy\n",
      "2023-11-24 18:05:19,222 - Creating model_type: IForest with paramerers {'n_estimators': 100, 'max_samples': 256, 'contamination': 0.01, 'max_features': 1.0, 'bootstrap': False, 'n_jobs': None, 'random_state': None, 'verbose': 0}\n",
      "2023-11-24 18:05:19,345 - Start explainer\n",
      "2023-11-24 18:05:19,346 - Tranform data pre-processor\n"
     ]
    },
    {
     "name": "stdout",
     "output_type": "stream",
     "text": [
      "OK - SHAP\n",
      "OK - DATA list feature importance\n",
      "OK - result_df\n",
      "OK - elements_to_remove\n",
      "OK - Update feature columns\n",
      "OK - train model\n"
     ]
    },
    {
     "name": "stderr",
     "output_type": "stream",
     "text": [
      "2023-11-24 18:05:20,100 - group shap values\n",
      "2023-11-24 18:05:20,103 - sum column shap values\n",
      "2023-11-24 18:05:20,104 - Get score IF\n",
      "2023-11-24 18:05:20,105 - Start get score\n",
      "2023-11-24 18:05:20,142 - Normalize columns\n",
      "2023-11-24 18:05:20,143 - D score\n",
      "2023-11-24 18:05:20,145 - Get SHAP\n",
      "2023-11-24 18:05:20,146 - Get Base\n",
      "2023-11-24 18:05:20,147 - End Interpretability\n",
      "\n",
      "A value is trying to be set on a copy of a slice from a DataFrame.\n",
      "Try using .loc[row_indexer,col_indexer] = value instead\n",
      "\n",
      "See the caveats in the documentation: https://pandas.pydata.org/pandas-docs/stable/user_guide/indexing.html#returning-a-view-versus-a-copy\n",
      "2023-11-24 18:05:20,159 - Creating model_type: IForest with paramerers {'n_estimators': 100, 'max_samples': 256, 'contamination': 0.01, 'max_features': 1.0, 'bootstrap': False, 'n_jobs': None, 'random_state': None, 'verbose': 0}\n",
      "2023-11-24 18:05:20,268 - Start explainer\n",
      "2023-11-24 18:05:20,269 - Tranform data pre-processor\n"
     ]
    },
    {
     "name": "stdout",
     "output_type": "stream",
     "text": [
      "OK - SHAP\n",
      "OK - DATA list feature importance\n",
      "OK - result_df\n",
      "OK - elements_to_remove\n",
      "OK - Update feature columns\n",
      "OK - train model\n"
     ]
    },
    {
     "name": "stderr",
     "output_type": "stream",
     "text": [
      "2023-11-24 18:05:20,612 - group shap values\n",
      "2023-11-24 18:05:20,614 - sum column shap values\n",
      "2023-11-24 18:05:20,615 - Get score IF\n",
      "2023-11-24 18:05:20,615 - Start get score\n",
      "2023-11-24 18:05:20,647 - Normalize columns\n",
      "2023-11-24 18:05:20,649 - D score\n",
      "2023-11-24 18:05:20,650 - Get SHAP\n",
      "2023-11-24 18:05:20,651 - Get Base\n",
      "2023-11-24 18:05:20,651 - End Interpretability\n",
      "\n",
      "A value is trying to be set on a copy of a slice from a DataFrame.\n",
      "Try using .loc[row_indexer,col_indexer] = value instead\n",
      "\n",
      "See the caveats in the documentation: https://pandas.pydata.org/pandas-docs/stable/user_guide/indexing.html#returning-a-view-versus-a-copy\n",
      "2023-11-24 18:05:20,664 - Creating model_type: IForest with paramerers {'n_estimators': 100, 'max_samples': 256, 'contamination': 0.01, 'max_features': 1.0, 'bootstrap': False, 'n_jobs': None, 'random_state': None, 'verbose': 0}\n",
      "2023-11-24 18:05:20,761 - Start explainer\n",
      "2023-11-24 18:05:20,762 - Tranform data pre-processor\n"
     ]
    },
    {
     "name": "stdout",
     "output_type": "stream",
     "text": [
      "OK - SHAP\n",
      "OK - DATA list feature importance\n",
      "OK - result_df\n",
      "OK - elements_to_remove\n",
      "OK - Update feature columns\n",
      "OK - train model\n"
     ]
    },
    {
     "name": "stderr",
     "output_type": "stream",
     "text": [
      "2023-11-24 18:05:20,928 - group shap values\n",
      "2023-11-24 18:05:20,930 - sum column shap values\n",
      "2023-11-24 18:05:20,931 - Get score IF\n",
      "2023-11-24 18:05:20,931 - Start get score\n",
      "2023-11-24 18:05:20,958 - Normalize columns\n",
      "2023-11-24 18:05:20,960 - D score\n",
      "2023-11-24 18:05:20,961 - Get SHAP\n",
      "2023-11-24 18:05:20,962 - Get Base\n",
      "2023-11-24 18:05:20,963 - End Interpretability\n",
      "\n",
      "A value is trying to be set on a copy of a slice from a DataFrame.\n",
      "Try using .loc[row_indexer,col_indexer] = value instead\n",
      "\n",
      "See the caveats in the documentation: https://pandas.pydata.org/pandas-docs/stable/user_guide/indexing.html#returning-a-view-versus-a-copy\n",
      "2023-11-24 18:05:20,974 - Creating model_type: IForest with paramerers {'n_estimators': 100, 'max_samples': 256, 'contamination': 0.01, 'max_features': 1.0, 'bootstrap': False, 'n_jobs': None, 'random_state': None, 'verbose': 0}\n"
     ]
    },
    {
     "name": "stdout",
     "output_type": "stream",
     "text": [
      "OK - SHAP\n",
      "OK - DATA list feature importance\n",
      "OK - result_df\n",
      "OK - elements_to_remove\n",
      "OK - Update feature columns\n"
     ]
    },
    {
     "name": "stderr",
     "output_type": "stream",
     "text": [
      "2023-11-24 18:05:37,208 - Creating model_type: IForest with paramerers {'n_estimators': 100, 'max_samples': 256, 'contamination': 0.01, 'max_features': 1.0, 'bootstrap': False, 'n_jobs': None, 'random_state': None, 'verbose': 0}\n",
      "2023-11-24 18:05:53,250 - Creating model_type: IForest with paramerers {'n_estimators': 100, 'max_samples': 256, 'contamination': 0.01, 'max_features': 1.0, 'bootstrap': False, 'n_jobs': None, 'random_state': None, 'verbose': 0}\n",
      "2023-11-24 18:06:09,213 - Creating model_type: IForest with paramerers {'n_estimators': 100, 'max_samples': 256, 'contamination': 0.01, 'max_features': 1.0, 'bootstrap': False, 'n_jobs': None, 'random_state': None, 'verbose': 0}\n",
      "2023-11-24 18:06:25,029 - Creating model_type: IForest with paramerers {'n_estimators': 100, 'max_samples': 256, 'contamination': 0.01, 'max_features': 1.0, 'bootstrap': False, 'n_jobs': None, 'random_state': None, 'verbose': 0}\n",
      "2023-11-24 18:06:40,992 - Creating model_type: IForest with paramerers {'n_estimators': 100, 'max_samples': 256, 'contamination': 0.01, 'max_features': 1.0, 'bootstrap': False, 'n_jobs': None, 'random_state': None, 'verbose': 0}\n",
      "2023-11-24 18:06:56,854 - Creating model_type: IForest with paramerers {'n_estimators': 100, 'max_samples': 256, 'contamination': 0.01, 'max_features': 1.0, 'bootstrap': False, 'n_jobs': None, 'random_state': None, 'verbose': 0}\n",
      "2023-11-24 18:07:12,440 - Creating model_type: IForest with paramerers {'n_estimators': 100, 'max_samples': 256, 'contamination': 0.01, 'max_features': 1.0, 'bootstrap': False, 'n_jobs': None, 'random_state': None, 'verbose': 0}\n",
      "2023-11-24 18:07:28,269 - Creating model_type: IForest with paramerers {'n_estimators': 100, 'max_samples': 256, 'contamination': 0.01, 'max_features': 1.0, 'bootstrap': False, 'n_jobs': None, 'random_state': None, 'verbose': 0}\n",
      "2023-11-24 18:07:44,585 - Creating model_type: IForest with paramerers {'n_estimators': 100, 'max_samples': 256, 'contamination': 0.01, 'max_features': 1.0, 'bootstrap': False, 'n_jobs': None, 'random_state': None, 'verbose': 0}\n",
      "2023-11-24 18:07:59,968 - Creating model_type: IForest with paramerers {'n_estimators': 100, 'max_samples': 256, 'contamination': 0.01, 'max_features': 1.0, 'bootstrap': False, 'n_jobs': None, 'random_state': None, 'verbose': 0}\n",
      "2023-11-24 18:08:15,146 - Creating model_type: IForest with paramerers {'n_estimators': 100, 'max_samples': 256, 'contamination': 0.01, 'max_features': 1.0, 'bootstrap': False, 'n_jobs': None, 'random_state': None, 'verbose': 0}\n",
      "2023-11-24 18:08:30,116 - Creating model_type: IForest with paramerers {'n_estimators': 100, 'max_samples': 256, 'contamination': 0.01, 'max_features': 1.0, 'bootstrap': False, 'n_jobs': None, 'random_state': None, 'verbose': 0}\n",
      "2023-11-24 18:08:44,131 - Creating model_type: IForest with paramerers {'n_estimators': 100, 'max_samples': 256, 'contamination': 0.01, 'max_features': 1.0, 'bootstrap': False, 'n_jobs': None, 'random_state': None, 'verbose': 0}\n",
      "2023-11-24 18:08:57,602 - Creating model_type: IForest with paramerers {'n_estimators': 100, 'max_samples': 256, 'contamination': 0.01, 'max_features': 1.0, 'bootstrap': False, 'n_jobs': None, 'random_state': None, 'verbose': 0}\n",
      "2023-11-24 18:09:09,452 - Creating model_type: IForest with paramerers {'n_estimators': 100, 'max_samples': 256, 'contamination': 0.01, 'max_features': 1.0, 'bootstrap': False, 'n_jobs': None, 'random_state': None, 'verbose': 0}\n",
      "2023-11-24 18:09:19,959 - Creating model_type: IForest with paramerers {'n_estimators': 100, 'max_samples': 256, 'contamination': 0.01, 'max_features': 1.0, 'bootstrap': False, 'n_jobs': None, 'random_state': None, 'verbose': 0}\n",
      "2023-11-24 18:09:29,919 - Creating model_type: IForest with paramerers {'n_estimators': 100, 'max_samples': 256, 'contamination': 0.01, 'max_features': 1.0, 'bootstrap': False, 'n_jobs': None, 'random_state': None, 'verbose': 0}\n"
     ]
    }
   ],
   "source": [
    "# Feature selection by SHAP\n",
    "ft_selection = get_feature_selection(X_train, X_test, feature_columns, numerical_features, categorical_features, max_iterations=25, model_type='IForest')\n",
    "\n",
    "# Example usage:\n",
    "result_stability = calculate_stability(X_train, X_test, ft_selection, numerical_features, categorical_features, max_iterations=100, model_type='IForest')"
   ]
  },
  {
   "cell_type": "code",
   "execution_count": 15,
   "id": "5fbf2f15",
   "metadata": {},
   "outputs": [
    {
     "data": {
      "text/html": [
       "<div>\n",
       "<style scoped>\n",
       "    .dataframe tbody tr th:only-of-type {\n",
       "        vertical-align: middle;\n",
       "    }\n",
       "\n",
       "    .dataframe tbody tr th {\n",
       "        vertical-align: top;\n",
       "    }\n",
       "\n",
       "    .dataframe thead th {\n",
       "        text-align: right;\n",
       "    }\n",
       "</style>\n",
       "<table border=\"1\" class=\"dataframe\">\n",
       "  <thead>\n",
       "    <tr style=\"text-align: right;\">\n",
       "      <th></th>\n",
       "      <th>dates_train</th>\n",
       "      <th>name_variable</th>\n",
       "      <th>number_iteration</th>\n",
       "      <th>ranking</th>\n",
       "      <th>value</th>\n",
       "    </tr>\n",
       "  </thead>\n",
       "  <tbody>\n",
       "    <tr>\n",
       "      <th>0</th>\n",
       "      <td></td>\n",
       "      <td>d_surv_sin_is_weekend</td>\n",
       "      <td>1</td>\n",
       "      <td>1</td>\n",
       "      <td>5,424.6215</td>\n",
       "    </tr>\n",
       "    <tr>\n",
       "      <th>1</th>\n",
       "      <td></td>\n",
       "      <td>C_CAU</td>\n",
       "      <td>1</td>\n",
       "      <td>2</td>\n",
       "      <td>5,175.5883</td>\n",
       "    </tr>\n",
       "    <tr>\n",
       "      <th>2</th>\n",
       "      <td></td>\n",
       "      <td>IND_PMT_DIR</td>\n",
       "      <td>1</td>\n",
       "      <td>3</td>\n",
       "      <td>3,933.9823</td>\n",
       "    </tr>\n",
       "    <tr>\n",
       "      <th>3</th>\n",
       "      <td></td>\n",
       "      <td>C_FAM_PROD</td>\n",
       "      <td>1</td>\n",
       "      <td>4</td>\n",
       "      <td>3,457.0552</td>\n",
       "    </tr>\n",
       "    <tr>\n",
       "      <th>4</th>\n",
       "      <td></td>\n",
       "      <td>C_APPLN_MALUS</td>\n",
       "      <td>1</td>\n",
       "      <td>5</td>\n",
       "      <td>3,192.9617</td>\n",
       "    </tr>\n",
       "    <tr>\n",
       "      <th>...</th>\n",
       "      <td>...</td>\n",
       "      <td>...</td>\n",
       "      <td>...</td>\n",
       "      <td>...</td>\n",
       "      <td>...</td>\n",
       "    </tr>\n",
       "    <tr>\n",
       "      <th>168</th>\n",
       "      <td></td>\n",
       "      <td>d_surv_sin_is_weekend</td>\n",
       "      <td>16</td>\n",
       "      <td>2</td>\n",
       "      <td>11,037.6299</td>\n",
       "    </tr>\n",
       "    <tr>\n",
       "      <th>169</th>\n",
       "      <td></td>\n",
       "      <td>IND_PMT_DIR</td>\n",
       "      <td>16</td>\n",
       "      <td>3</td>\n",
       "      <td>10,499.4861</td>\n",
       "    </tr>\n",
       "    <tr>\n",
       "      <th>170</th>\n",
       "      <td></td>\n",
       "      <td>C_CAU</td>\n",
       "      <td>17</td>\n",
       "      <td>1</td>\n",
       "      <td>13,431.2556</td>\n",
       "    </tr>\n",
       "    <tr>\n",
       "      <th>171</th>\n",
       "      <td></td>\n",
       "      <td>d_surv_sin_is_weekend</td>\n",
       "      <td>17</td>\n",
       "      <td>2</td>\n",
       "      <td>11,298.1816</td>\n",
       "    </tr>\n",
       "    <tr>\n",
       "      <th>172</th>\n",
       "      <td></td>\n",
       "      <td>C_CAU</td>\n",
       "      <td>18</td>\n",
       "      <td>1</td>\n",
       "      <td>12,724.3952</td>\n",
       "    </tr>\n",
       "  </tbody>\n",
       "</table>\n",
       "<p>173 rows × 5 columns</p>\n",
       "</div>"
      ],
      "text/plain": [
       "    dates_train          name_variable number_iteration ranking       value\n",
       "0                d_surv_sin_is_weekend                1       1  5,424.6215\n",
       "1                                C_CAU                1       2  5,175.5883\n",
       "2                          IND_PMT_DIR                1       3  3,933.9823\n",
       "3                           C_FAM_PROD                1       4  3,457.0552\n",
       "4                        C_APPLN_MALUS                1       5  3,192.9617\n",
       "..          ...                    ...              ...     ...         ...\n",
       "168              d_surv_sin_is_weekend               16       2 11,037.6299\n",
       "169                        IND_PMT_DIR               16       3 10,499.4861\n",
       "170                              C_CAU               17       1 13,431.2556\n",
       "171              d_surv_sin_is_weekend               17       2 11,298.1816\n",
       "172                              C_CAU               18       1 12,724.3952\n",
       "\n",
       "[173 rows x 5 columns]"
      ]
     },
     "execution_count": 15,
     "metadata": {},
     "output_type": "execute_result"
    }
   ],
   "source": [
    "ft_selection"
   ]
  },
  {
   "cell_type": "code",
   "execution_count": 16,
   "id": "41079f23",
   "metadata": {},
   "outputs": [
    {
     "data": {
      "text/html": [
       "<div>\n",
       "<style scoped>\n",
       "    .dataframe tbody tr th:only-of-type {\n",
       "        vertical-align: middle;\n",
       "    }\n",
       "\n",
       "    .dataframe tbody tr th {\n",
       "        vertical-align: top;\n",
       "    }\n",
       "\n",
       "    .dataframe thead th {\n",
       "        text-align: right;\n",
       "    }\n",
       "</style>\n",
       "<table border=\"1\" class=\"dataframe\">\n",
       "  <thead>\n",
       "    <tr style=\"text-align: right;\">\n",
       "      <th></th>\n",
       "      <th>number_iteration</th>\n",
       "      <th>number_variables</th>\n",
       "      <th>value_stab</th>\n",
       "      <th>value_inst</th>\n",
       "    </tr>\n",
       "  </thead>\n",
       "  <tbody>\n",
       "    <tr>\n",
       "      <th>0</th>\n",
       "      <td>1</td>\n",
       "      <td>20</td>\n",
       "      <td>0.9979</td>\n",
       "      <td>0.0021</td>\n",
       "    </tr>\n",
       "    <tr>\n",
       "      <th>1</th>\n",
       "      <td>2</td>\n",
       "      <td>17</td>\n",
       "      <td>0.9981</td>\n",
       "      <td>0.0019</td>\n",
       "    </tr>\n",
       "    <tr>\n",
       "      <th>2</th>\n",
       "      <td>3</td>\n",
       "      <td>16</td>\n",
       "      <td>0.9983</td>\n",
       "      <td>0.0017</td>\n",
       "    </tr>\n",
       "    <tr>\n",
       "      <th>3</th>\n",
       "      <td>4</td>\n",
       "      <td>15</td>\n",
       "      <td>0.9979</td>\n",
       "      <td>0.0021</td>\n",
       "    </tr>\n",
       "    <tr>\n",
       "      <th>4</th>\n",
       "      <td>5</td>\n",
       "      <td>14</td>\n",
       "      <td>0.9975</td>\n",
       "      <td>0.0025</td>\n",
       "    </tr>\n",
       "    <tr>\n",
       "      <th>5</th>\n",
       "      <td>6</td>\n",
       "      <td>13</td>\n",
       "      <td>0.9975</td>\n",
       "      <td>0.0025</td>\n",
       "    </tr>\n",
       "    <tr>\n",
       "      <th>6</th>\n",
       "      <td>7</td>\n",
       "      <td>12</td>\n",
       "      <td>0.9982</td>\n",
       "      <td>0.0018</td>\n",
       "    </tr>\n",
       "    <tr>\n",
       "      <th>7</th>\n",
       "      <td>8</td>\n",
       "      <td>11</td>\n",
       "      <td>0.9988</td>\n",
       "      <td>0.0012</td>\n",
       "    </tr>\n",
       "    <tr>\n",
       "      <th>8</th>\n",
       "      <td>9</td>\n",
       "      <td>10</td>\n",
       "      <td>0.9989</td>\n",
       "      <td>0.0011</td>\n",
       "    </tr>\n",
       "    <tr>\n",
       "      <th>9</th>\n",
       "      <td>10</td>\n",
       "      <td>9</td>\n",
       "      <td>0.9992</td>\n",
       "      <td>0.0008</td>\n",
       "    </tr>\n",
       "    <tr>\n",
       "      <th>10</th>\n",
       "      <td>11</td>\n",
       "      <td>8</td>\n",
       "      <td>0.9990</td>\n",
       "      <td>0.0010</td>\n",
       "    </tr>\n",
       "    <tr>\n",
       "      <th>11</th>\n",
       "      <td>12</td>\n",
       "      <td>7</td>\n",
       "      <td>0.9980</td>\n",
       "      <td>0.0020</td>\n",
       "    </tr>\n",
       "    <tr>\n",
       "      <th>12</th>\n",
       "      <td>13</td>\n",
       "      <td>6</td>\n",
       "      <td>0.9987</td>\n",
       "      <td>0.0013</td>\n",
       "    </tr>\n",
       "    <tr>\n",
       "      <th>13</th>\n",
       "      <td>14</td>\n",
       "      <td>5</td>\n",
       "      <td>0.9976</td>\n",
       "      <td>0.0024</td>\n",
       "    </tr>\n",
       "    <tr>\n",
       "      <th>14</th>\n",
       "      <td>15</td>\n",
       "      <td>4</td>\n",
       "      <td>0.9980</td>\n",
       "      <td>0.0020</td>\n",
       "    </tr>\n",
       "    <tr>\n",
       "      <th>15</th>\n",
       "      <td>16</td>\n",
       "      <td>3</td>\n",
       "      <td>0.9990</td>\n",
       "      <td>0.0010</td>\n",
       "    </tr>\n",
       "    <tr>\n",
       "      <th>16</th>\n",
       "      <td>17</td>\n",
       "      <td>2</td>\n",
       "      <td>0.9984</td>\n",
       "      <td>0.0016</td>\n",
       "    </tr>\n",
       "    <tr>\n",
       "      <th>17</th>\n",
       "      <td>18</td>\n",
       "      <td>1</td>\n",
       "      <td>0.9841</td>\n",
       "      <td>0.0159</td>\n",
       "    </tr>\n",
       "  </tbody>\n",
       "</table>\n",
       "</div>"
      ],
      "text/plain": [
       "    number_iteration  number_variables value_stab value_inst\n",
       "0                  1                20     0.9979     0.0021\n",
       "1                  2                17     0.9981     0.0019\n",
       "2                  3                16     0.9983     0.0017\n",
       "3                  4                15     0.9979     0.0021\n",
       "4                  5                14     0.9975     0.0025\n",
       "5                  6                13     0.9975     0.0025\n",
       "6                  7                12     0.9982     0.0018\n",
       "7                  8                11     0.9988     0.0012\n",
       "8                  9                10     0.9989     0.0011\n",
       "9                 10                 9     0.9992     0.0008\n",
       "10                11                 8     0.9990     0.0010\n",
       "11                12                 7     0.9980     0.0020\n",
       "12                13                 6     0.9987     0.0013\n",
       "13                14                 5     0.9976     0.0024\n",
       "14                15                 4     0.9980     0.0020\n",
       "15                16                 3     0.9990     0.0010\n",
       "16                17                 2     0.9984     0.0016\n",
       "17                18                 1     0.9841     0.0159"
      ]
     },
     "execution_count": 16,
     "metadata": {},
     "output_type": "execute_result"
    }
   ],
   "source": [
    "result_stability"
   ]
  },
  {
   "cell_type": "code",
   "execution_count": 17,
   "id": "41e5e6f7",
   "metadata": {},
   "outputs": [
    {
     "data": {
      "image/png": "[encoded data removed]",
      "text/plain": [
       "<Figure size 640x480 with 1 Axes>"
      ]
     },
     "metadata": {},
     "output_type": "display_data"
    }
   ],
   "source": [
    "df_plot = result_stability.copy()\n",
    "\n",
    "\n",
    "# Plotting the data\n",
    "ax = df_plot.plot(x='number_variables', y='value_stab', marker='o', linestyle='-', color='b', label='Stability Values')\n",
    "\n",
    "# Adding labels and title\n",
    "plt.xlabel('Number of Variables')\n",
    "plt.ylabel('Stability Values')\n",
    "plt.title('Stability Values vs Number of Variables')\n",
    "\n",
    "# Set x-axis ticks to match 'number_variables'\n",
    "ax.set_xticks(df_plot['number_variables'])\n",
    "\n",
    "# Display the plot\n",
    "plt.show()"
   ]
  },
  {
   "cell_type": "code",
   "execution_count": 18,
   "id": "50230f70",
   "metadata": {},
   "outputs": [
    {
     "ename": "NameError",
     "evalue": "name 'a' is not defined",
     "output_type": "error",
     "traceback": [
      "\u001b[0;31m---------------------------------------------------------------------------\u001b[0m",
      "\u001b[0;31mNameError\u001b[0m                                 Traceback (most recent call last)",
      "Cell \u001b[0;32mIn[18], line 1\u001b[0m\n\u001b[0;32m----> 1\u001b[0m \u001b[43ma\u001b[49m\n",
      "\u001b[0;31mNameError\u001b[0m: name 'a' is not defined"
     ]
    }
   ],
   "source": [
    "a"
   ]
  },
  {
   "cell_type": "code",
   "execution_count": null,
   "id": "ba878b6c",
   "metadata": {
    "scrolled": true
   },
   "outputs": [],
   "source": [
    "import pandas as pd\n",
    "\n",
    "# Initialize an empty DataFrame for stab_df\n",
    "stab_df = pd.DataFrame(columns=['date_week', 'number_iteration', 'number_variables', 'value_stab', 'value_inst', 'Precision', 'Recall', 'F1_Score'])\n",
    "\n",
    "weeks = get_last_weeks_mondays(df)\n",
    "    \n",
    "X_test, X_train = separate_datasets(df, weeks[0])\n",
    "\n",
    "X_test = fake_data_label(X_train, X_test, feature_columns, categorical_features, numerical_features, model_type=model_type)\n",
    "\n",
    "start_stab_df, start_result_df = get_stability_model(X_train, X_test, feature_columns, categorical_features, numerical_features, max_iterations=25, model_type=model_type)\n",
    "# Need to choose start_result_df and create a vector to use it in the next iteration to calculate stability\n",
    "# Take care about which dataset im using to train first the model. \n",
    "\n",
    "\n",
    "for week in weeks:\n",
    "    \n",
    "    X_test, X_train = separate_datasets(df, week)\n",
    "\n",
    "    X_test = fake_data_label(X_train, X_test, feature_columns, categorical_features, numerical_features, model_type=model_type)\n",
    "\n",
    "    # I need some code which follow the rules of the variables as before\n",
    "    temp_stab_df, temp_result_df = get_stability_model(X_train, X_test, feature_columns, categorical_features, numerical_features, max_iterations=25, model_type=model_type)\n",
    "    \n",
    "    # Add 'date_week' column to temp_stab_df\n",
    "    temp_stab_df['date_week'] = week\n",
    "    \n",
    "    stab_df = pd.concat([stab_df, temp_stab_df], ignore_index=True)\n",
    "\n",
    "\n",
    "stab_df['number_iteration'] = stab_df['number_iteration'].astype(int)\n",
    "stab_df['number_variables'] = stab_df['number_variables'].astype(int)\n",
    "stab_df['value_stab'] = stab_df['value_stab'].astype(float)"
   ]
  },
  {
   "cell_type": "code",
   "execution_count": null,
   "id": "268d7323",
   "metadata": {},
   "outputs": [],
   "source": [
    "import matplotlib.pyplot as plt\n",
    "\n",
    "# Get unique dates\n",
    "unique_dates = stab_df['date_week'].unique()\n",
    "\n",
    "# Plotting the data for each unique date\n",
    "plt.figure(figsize=(10, 6))  # Adjust the figure size as needed\n",
    "\n",
    "for date in unique_dates:\n",
    "    df_plot = stab_df[stab_df['date_week'] == date].copy()\n",
    "    \n",
    "    # Plotting the data\n",
    "    plt.plot(df_plot['number_variables'], df_plot['value_stab'], marker='o', linestyle='-', label=f'Stability Values - {date}')\n",
    "\n",
    "# Adding labels and title\n",
    "plt.xlabel('Number of Variables')\n",
    "plt.ylabel('Stability Values')\n",
    "plt.title('Stability Values vs Number of Variables')\n",
    "\n",
    "# Display a legend to distinguish lines for each date\n",
    "plt.legend()\n",
    "\n",
    "# Show the plot\n",
    "plt.show()"
   ]
  },
  {
   "cell_type": "code",
   "execution_count": null,
   "id": "6012f634",
   "metadata": {},
   "outputs": [],
   "source": [
    "df_plot = stab_df[stab_df.date_week == weeks[0]].copy()\n",
    "\n",
    "\n",
    "# Plotting the data\n",
    "ax = df_plot.plot(x='number_variables', y='value_stab', marker='o', linestyle='-', color='b', label='Stability Values')\n",
    "\n",
    "# Adding labels and title\n",
    "plt.xlabel('Number of Variables')\n",
    "plt.ylabel('Stability Values')\n",
    "plt.title('Stability Values vs Number of Variables')\n",
    "\n",
    "# Set x-axis ticks to match 'number_variables'\n",
    "ax.set_xticks(df_plot['number_variables'])\n",
    "\n",
    "# Display the plot\n",
    "plt.show()"
   ]
  },
  {
   "cell_type": "code",
   "execution_count": null,
   "id": "cd17dbcd",
   "metadata": {},
   "outputs": [],
   "source": [
    "# Assuming df is your DataFrame\n",
    "df = stab_df.copy()\n",
    "\n",
    "# Convert 'number_variables' to integers\n",
    "df['number_variables'] = df['number_variables'].astype(int)\n",
    "\n",
    "# Plotting the first y-axis\n",
    "fig, ax1 = plt.subplots()\n",
    "\n",
    "ax1.set_xlabel('Number of Variables')\n",
    "ax1.set_ylabel('Stability Values', color='b')\n",
    "ax1.plot(df['number_variables'], df['value_stab'], marker='o', linestyle='-', color='b', label='Stability Values')\n",
    "ax1.tick_params(axis='y', labelcolor='b')\n",
    "\n",
    "# Creating the second y-axis\n",
    "ax2 = ax1.twinx()\n",
    "ax2.set_ylabel('Recall & Precision', color='g')\n",
    "\n",
    "# Adding the new variable to the second y-axis\n",
    "ax2.plot(df['number_variables'], df['Recall'], marker='s', linestyle='--', color='g', label='Recall')\n",
    "ax2.tick_params(axis='y', labelcolor='r')\n",
    "\n",
    "# Adding the new variable to the second y-axis\n",
    "ax2.plot(df['number_variables'], df['Precision'], marker='^', linestyle=':', color='g', label='Precision')\n",
    "ax2.tick_params(axis='y', labelcolor='g')\n",
    "\n",
    "# Set x-axis ticks to be integers\n",
    "ax1.set_xticks(df['number_variables'])\n",
    "\n",
    "# Adding a legend\n",
    "ax1.legend(loc='upper left')\n",
    "ax2.legend(loc='upper right')\n",
    "\n",
    "plt.title('Stability Values and Recall vs Number of Variables')\n",
    "\n",
    "# Display the plot\n",
    "plt.show()"
   ]
  },
  {
   "cell_type": "code",
   "execution_count": null,
   "id": "e412a8c6",
   "metadata": {},
   "outputs": [],
   "source": []
  }
 ],
 "metadata": {
  "kernelspec": {
   "display_name": "Python 3 (ipykernel)",
   "language": "python",
   "name": "python3"
  },
  "language_info": {
   "codemirror_mode": {
    "name": "ipython",
    "version": 3
   },
   "file_extension": ".py",
   "mimetype": "text/x-python",
   "name": "python",
   "nbconvert_exporter": "python",
   "pygments_lexer": "ipython3",
   "version": "3.9.18"
  }
 },
 "nbformat": 4,
 "nbformat_minor": 5
}

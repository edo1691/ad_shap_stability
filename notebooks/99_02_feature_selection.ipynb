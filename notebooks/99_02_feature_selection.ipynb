{
 "cells": [
  {
   "cell_type": "markdown",
   "id": "ee584d58",
   "metadata": {},
   "source": [
    "# Anomaly Detection"
   ]
  },
  {
   "cell_type": "markdown",
   "id": "46c15615",
   "metadata": {},
   "source": [
    "- The project is applied in claims in Motor LoB to detect possible \"fraud\" or anomalies."
   ]
  },
  {
   "cell_type": "markdown",
   "id": "a5283ae8",
   "metadata": {},
   "source": [
    "## Set-up "
   ]
  },
  {
   "cell_type": "markdown",
   "id": "9421acad",
   "metadata": {},
   "source": [
    "### General libraries"
   ]
  },
  {
   "cell_type": "code",
   "execution_count": 1,
   "id": "a3671568",
   "metadata": {},
   "outputs": [],
   "source": [
    "import os\n",
    "import sys\n",
    "import datetime\n",
    "import pandas as pd\n",
    "import numpy as np\n",
    "\n",
    "from os.path import join\n",
    "\n",
    "pd.set_option(\"display.max_columns\", None)\n",
    "pd.options.display.float_format = '{:,.2f}'.format### General libraries"
   ]
  },
  {
   "cell_type": "markdown",
   "id": "4beef1c5",
   "metadata": {},
   "source": [
    "### Logging"
   ]
  },
  {
   "cell_type": "code",
   "execution_count": 2,
   "id": "94848754",
   "metadata": {},
   "outputs": [],
   "source": [
    "import logging\n",
    "\n",
    "logging.basicConfig(format='%(asctime)s - %(message)s', level=logging.INFO)\n",
    "logger = logging.getLogger(__name__)"
   ]
  },
  {
   "cell_type": "markdown",
   "id": "99623e44",
   "metadata": {},
   "source": [
    "### Load enviroment variables"
   ]
  },
  {
   "cell_type": "code",
   "execution_count": 3,
   "id": "62d84bd4",
   "metadata": {},
   "outputs": [],
   "source": [
    "from dotenv import load_dotenv\n",
    "load_dotenv('.env')\n",
    "\n",
    "code_root = os.environ['CODE_ROOT']\n",
    "cfg_path = os.environ['CFG_PATH']\n",
    "data_root = os.environ['DATA_ROOT']\n",
    "\n",
    "sys.path.insert(0, code_root)"
   ]
  },
  {
   "cell_type": "markdown",
   "id": "68d35d89",
   "metadata": {},
   "source": [
    "### Specific libraries"
   ]
  },
  {
   "cell_type": "code",
   "execution_count": 4,
   "id": "f193400b",
   "metadata": {},
   "outputs": [],
   "source": [
    "from src.utils import get_data_dict, get_config_dict\n",
    "from src.feature_selection.functions import get_features"
   ]
  },
  {
   "cell_type": "markdown",
   "id": "2c6e7d66",
   "metadata": {},
   "source": [
    "### Environment"
   ]
  },
  {
   "cell_type": "markdown",
   "id": "89e4c915",
   "metadata": {},
   "source": [
    "from src.auxiliar.blob import DataBackupExporter\n",
    "\n",
    "CONNECTION_STRING = os.environ.get(\"CONNECTION_STRING\", None) \n",
    "is_azure = True if CONNECTION_STRING is not None else False\n",
    "\n",
    "if is_azure:\n",
    "    client = DataBackupExporter()\n",
    "else:\n",
    "    pass"
   ]
  },
  {
   "cell_type": "markdown",
   "id": "4521b576",
   "metadata": {},
   "source": [
    "### Read data"
   ]
  },
  {
   "cell_type": "code",
   "execution_count": 5,
   "id": "1ee27a05",
   "metadata": {},
   "outputs": [
    {
     "name": "stderr",
     "output_type": "stream",
     "text": [
      "2023-11-09 15:13:00,613 - Loading parameters from /Users/allianz/workspace_github_pers/Anomaly_detection/conf/param_setup/param_setup_notebooks.yaml\n"
     ]
    },
    {
     "data": {
      "text/plain": [
       "{'close_date': datetime.date(2021, 12, 31),\n",
       " 'code_root': '/Users/allianz/workspace_github_pers/Anomaly_detection'}"
      ]
     },
     "execution_count": 5,
     "metadata": {},
     "output_type": "execute_result"
    }
   ],
   "source": [
    "config = get_config_dict(code_root=code_root, cfg_path=cfg_path, usage=\"general\")\n",
    "config"
   ]
  },
  {
   "cell_type": "code",
   "execution_count": 6,
   "id": "3d0b3ef9",
   "metadata": {},
   "outputs": [
    {
     "name": "stderr",
     "output_type": "stream",
     "text": [
      "2023-11-09 15:13:00,620 - Using file for data dict.\n"
     ]
    }
   ],
   "source": [
    "data_dict = get_data_dict(config)"
   ]
  },
  {
   "cell_type": "code",
   "execution_count": 7,
   "id": "9c0eeb25",
   "metadata": {},
   "outputs": [
    {
     "name": "stderr",
     "output_type": "stream",
     "text": [
      "2023-11-09 15:13:00,628 - Using model None\n",
      "2023-11-09 15:13:00,630 - Features: 20.\n",
      "2023-11-09 15:13:00,631 - Categorical features: 16.\n",
      "2023-11-09 15:13:00,631 - Numerical features: 4.\n"
     ]
    }
   ],
   "source": [
    "feature_columns, categorical_features, numerical_features = get_features(data_dict)"
   ]
  },
  {
   "cell_type": "code",
   "execution_count": 8,
   "id": "6b598699",
   "metadata": {},
   "outputs": [
    {
     "data": {
      "text/plain": [
       "['weekday_surv_sin',\n",
       " 'weekday_declaration',\n",
       " 'd_surv_sin_is_weekend',\n",
       " 'd_dcl_is_weekend',\n",
       " 'reporting_delay_in_days',\n",
       " 'contract_age_in_days',\n",
       " 'is_closed',\n",
       " 'is_serious_sinister',\n",
       " 'has_judiciary_procedure',\n",
       " 'witness_flag',\n",
       " 'C_CAU',\n",
       " 'C_FAM_PROD',\n",
       " 'C_NAT_SIN',\n",
       " 'C_ET',\n",
       " 'C_FORM',\n",
       " 'RESP_CIE',\n",
       " 'C_APPLN_MALUS',\n",
       " 'CNT_TY_GES',\n",
       " 'IND_PMT_DIR',\n",
       " 'C_ORGN_OUVT']"
      ]
     },
     "execution_count": 8,
     "metadata": {},
     "output_type": "execute_result"
    }
   ],
   "source": [
    "feature_columns"
   ]
  },
  {
   "cell_type": "code",
   "execution_count": 9,
   "id": "26003de4",
   "metadata": {},
   "outputs": [
    {
     "data": {
      "text/plain": [
       "['d_surv_sin_is_weekend',\n",
       " 'd_dcl_is_weekend',\n",
       " 'is_closed',\n",
       " 'is_serious_sinister',\n",
       " 'has_judiciary_procedure',\n",
       " 'witness_flag',\n",
       " 'C_CAU',\n",
       " 'C_FAM_PROD',\n",
       " 'C_NAT_SIN',\n",
       " 'C_ET',\n",
       " 'C_FORM',\n",
       " 'RESP_CIE',\n",
       " 'C_APPLN_MALUS',\n",
       " 'CNT_TY_GES',\n",
       " 'IND_PMT_DIR',\n",
       " 'C_ORGN_OUVT']"
      ]
     },
     "execution_count": 9,
     "metadata": {},
     "output_type": "execute_result"
    }
   ],
   "source": [
    "categorical_features"
   ]
  },
  {
   "cell_type": "code",
   "execution_count": 10,
   "id": "50cd2d04",
   "metadata": {},
   "outputs": [
    {
     "data": {
      "text/plain": [
       "['weekday_surv_sin',\n",
       " 'weekday_declaration',\n",
       " 'reporting_delay_in_days',\n",
       " 'contract_age_in_days']"
      ]
     },
     "execution_count": 10,
     "metadata": {},
     "output_type": "execute_result"
    }
   ],
   "source": [
    "numerical_features"
   ]
  },
  {
   "cell_type": "code",
   "execution_count": null,
   "id": "e70b4ac9",
   "metadata": {},
   "outputs": [],
   "source": []
  }
 ],
 "metadata": {
  "kernelspec": {
   "display_name": "Python 3 (ipykernel)",
   "language": "python",
   "name": "python3"
  },
  "language_info": {
   "codemirror_mode": {
    "name": "ipython",
    "version": 3
   },
   "file_extension": ".py",
   "mimetype": "text/x-python",
   "name": "python",
   "nbconvert_exporter": "python",
   "pygments_lexer": "ipython3",
   "version": "3.9.18"
  }
 },
 "nbformat": 4,
 "nbformat_minor": 5
}

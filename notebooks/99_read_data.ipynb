{
 "cells": [
  {
   "cell_type": "markdown",
   "id": "ee584d58",
   "metadata": {},
   "source": [
    "# Anomaly Detection"
   ]
  },
  {
   "cell_type": "markdown",
   "id": "46c15615",
   "metadata": {},
   "source": [
    "- The project is applied in claims in Motor LoB to detect possible \"fraud\" or anomalies."
   ]
  },
  {
   "cell_type": "markdown",
   "id": "a5283ae8",
   "metadata": {},
   "source": [
    "## Set-up "
   ]
  },
  {
   "cell_type": "markdown",
   "id": "9421acad",
   "metadata": {},
   "source": [
    "### General libraries"
   ]
  },
  {
   "cell_type": "code",
   "execution_count": 1,
   "id": "a3671568",
   "metadata": {},
   "outputs": [],
   "source": [
    "import os\n",
    "import sys\n",
    "import datetime\n",
    "import pandas as pd\n",
    "import numpy as np\n",
    "\n",
    "from os.path import join\n",
    "\n",
    "pd.set_option(\"display.max_columns\", None)\n",
    "pd.options.display.float_format = '{:,.2f}'.format### General libraries"
   ]
  },
  {
   "cell_type": "markdown",
   "id": "4beef1c5",
   "metadata": {},
   "source": [
    "### Logging"
   ]
  },
  {
   "cell_type": "code",
   "execution_count": 2,
   "id": "94848754",
   "metadata": {},
   "outputs": [],
   "source": [
    "import logging\n",
    "\n",
    "logging.basicConfig(format='%(asctime)s - %(message)s', level=logging.INFO)\n",
    "logger = logging.getLogger(__name__)"
   ]
  },
  {
   "cell_type": "markdown",
   "id": "99623e44",
   "metadata": {},
   "source": [
    "### Load enviroment variables"
   ]
  },
  {
   "cell_type": "code",
   "execution_count": 3,
   "id": "62d84bd4",
   "metadata": {},
   "outputs": [],
   "source": [
    "from dotenv import load_dotenv\n",
    "load_dotenv('.env')\n",
    "\n",
    "code_root = os.environ['CODE_ROOT']\n",
    "cfg_path = os.environ['CFG_PATH']\n",
    "data_root = os.environ['DATA_ROOT']\n",
    "\n",
    "sys.path.insert(0, code_root)"
   ]
  },
  {
   "cell_type": "markdown",
   "id": "68d35d89",
   "metadata": {},
   "source": [
    "### Specific libraries"
   ]
  },
  {
   "cell_type": "code",
   "execution_count": 4,
   "id": "f193400b",
   "metadata": {},
   "outputs": [],
   "source": [
    "from src.load.execute import LoadProcessData"
   ]
  },
  {
   "cell_type": "markdown",
   "id": "2c6e7d66",
   "metadata": {},
   "source": [
    "### Environment"
   ]
  },
  {
   "cell_type": "markdown",
   "id": "89e4c915",
   "metadata": {},
   "source": [
    "from src.auxiliar.blob import DataBackupExporter\n",
    "\n",
    "CONNECTION_STRING = os.environ.get(\"CONNECTION_STRING\", None) \n",
    "is_azure = True if CONNECTION_STRING is not None else False\n",
    "\n",
    "if is_azure:\n",
    "    client = DataBackupExporter()\n",
    "else:\n",
    "    pass"
   ]
  },
  {
   "cell_type": "markdown",
   "id": "4521b576",
   "metadata": {},
   "source": [
    "### Read data"
   ]
  },
  {
   "cell_type": "code",
   "execution_count": 5,
   "id": "efde466b",
   "metadata": {},
   "outputs": [],
   "source": [
    "is_azure = False\n",
    "run_date = '20230917'\n",
    "conn_id = ''\n",
    "\n",
    "clean_input_path = join(data_root, f'intermediates/data_input_{run_date}.parquet')"
   ]
  },
  {
   "cell_type": "code",
   "execution_count": 6,
   "id": "9b3ab677",
   "metadata": {},
   "outputs": [
    {
     "name": "stderr",
     "output_type": "stream",
     "text": [
      "2023-10-25 14:36:29,281 - LOADING STIB01\n",
      "2023-10-25 14:36:29,297 - Preprocessing Done\n",
      "2023-10-25 14:36:29,801 - Processing Chunk: 1\n",
      "2023-10-25 14:36:29,801 - Shape BEFORE cleaner (50000, 37)\n"
     ]
    },
    {
     "name": "stdout",
     "output_type": "stream",
     "text": [
      "Setting new type for column NB_EXPE as type int8\n",
      "Setting new type for column NB_HIST as type int8\n",
      "Setting new type for column NB_GAR as type int8\n",
      "Setting new type for column NO_RSK as type Int8\n",
      "Setting new type for column C_PERS_CLI as type int32\n"
     ]
    },
    {
     "name": "stderr",
     "output_type": "stream",
     "text": [
      "/Users/allianz/workspace_github_pers/Anomaly_detection/venv/lib/python3.9/site-packages/pandas/core/tools/datetimes.py:1229: RuntimeWarning: invalid value encountered in cast\n",
      "  masked_result = calc(carg[mask].astype(np.float64).astype(np.int64))\n",
      "/Users/allianz/workspace_github_pers/Anomaly_detection/venv/lib/python3.9/site-packages/pandas/core/tools/datetimes.py:1229: RuntimeWarning: invalid value encountered in cast\n",
      "  masked_result = calc(carg[mask].astype(np.float64).astype(np.int64))\n",
      "/Users/allianz/workspace_github_pers/Anomaly_detection/venv/lib/python3.9/site-packages/pandas/core/tools/datetimes.py:1229: RuntimeWarning: invalid value encountered in cast\n",
      "  masked_result = calc(carg[mask].astype(np.float64).astype(np.int64))\n",
      "/Users/allianz/workspace_github_pers/Anomaly_detection/venv/lib/python3.9/site-packages/pandas/core/tools/datetimes.py:1229: RuntimeWarning: invalid value encountered in cast\n",
      "  masked_result = calc(carg[mask].astype(np.float64).astype(np.int64))\n",
      "2023-10-25 14:36:30,745 - Shape AFTER cleaner (50000, 37)\n",
      "2023-10-25 14:36:30,748 - Shape after date filter (0, 37)\n",
      "2023-10-25 14:36:30,749 - Shape after IND_IRD filter (0, 37)\n",
      "2023-10-25 14:36:30,750 - Shape after C_CAU filter (0, 37)\n",
      "2023-10-25 14:36:30,755 - Processed Chunk Shape: (0, 47)\n",
      "2023-10-25 14:36:31,172 - Processing Chunk: 2\n",
      "2023-10-25 14:36:31,173 - Shape BEFORE cleaner (50000, 37)\n",
      "2023-10-25 14:36:32,028 - Shape AFTER cleaner (50000, 37)\n",
      "2023-10-25 14:36:32,030 - Shape after date filter (0, 37)\n",
      "2023-10-25 14:36:32,030 - Shape after IND_IRD filter (0, 37)\n",
      "2023-10-25 14:36:32,031 - Shape after C_CAU filter (0, 37)\n",
      "2023-10-25 14:36:32,035 - Processed Chunk Shape: (0, 47)\n"
     ]
    },
    {
     "name": "stdout",
     "output_type": "stream",
     "text": [
      "Setting new type for column NB_EXPE as type int8\n",
      "Setting new type for column NB_HIST as type int8\n",
      "Setting new type for column NB_GAR as type int8\n",
      "Setting new type for column NO_RSK as type int8\n",
      "Setting new type for column C_PERS_CLI as type int32\n"
     ]
    },
    {
     "name": "stderr",
     "output_type": "stream",
     "text": [
      "2023-10-25 14:36:32,492 - Processing Chunk: 3\n",
      "2023-10-25 14:36:32,493 - Shape BEFORE cleaner (50000, 37)\n",
      "2023-10-25 14:36:33,321 - Shape AFTER cleaner (50000, 37)\n",
      "2023-10-25 14:36:33,323 - Shape after date filter (0, 37)\n",
      "2023-10-25 14:36:33,323 - Shape after IND_IRD filter (0, 37)\n",
      "2023-10-25 14:36:33,324 - Shape after C_CAU filter (0, 37)\n",
      "2023-10-25 14:36:33,328 - Processed Chunk Shape: (0, 47)\n"
     ]
    },
    {
     "name": "stdout",
     "output_type": "stream",
     "text": [
      "Setting new type for column NB_EXPE as type int8\n",
      "Setting new type for column NB_HIST as type int8\n",
      "Setting new type for column NB_GAR as type int8\n",
      "Setting new type for column NO_RSK as type int8\n",
      "Setting new type for column C_PERS_CLI as type int32\n"
     ]
    },
    {
     "name": "stderr",
     "output_type": "stream",
     "text": [
      "2023-10-25 14:36:33,778 - Processing Chunk: 4\n",
      "2023-10-25 14:36:33,778 - Shape BEFORE cleaner (50000, 37)\n",
      "2023-10-25 14:36:34,518 - Shape AFTER cleaner (50000, 37)\n",
      "2023-10-25 14:36:34,520 - Shape after date filter (0, 37)\n",
      "2023-10-25 14:36:34,521 - Shape after IND_IRD filter (0, 37)\n",
      "2023-10-25 14:36:34,521 - Shape after C_CAU filter (0, 37)\n",
      "2023-10-25 14:36:34,525 - Processed Chunk Shape: (0, 47)\n"
     ]
    },
    {
     "name": "stdout",
     "output_type": "stream",
     "text": [
      "Setting new type for column NB_EXPE as type int8\n",
      "Setting new type for column NB_HIST as type int8\n",
      "Setting new type for column NB_GAR as type int8\n",
      "Setting new type for column NO_RSK as type int8\n",
      "Setting new type for column C_PERS_CLI as type int32\n"
     ]
    },
    {
     "name": "stderr",
     "output_type": "stream",
     "text": [
      "2023-10-25 14:36:34,951 - Processing Chunk: 5\n",
      "2023-10-25 14:36:34,952 - Shape BEFORE cleaner (50000, 37)\n",
      "2023-10-25 14:36:35,686 - Shape AFTER cleaner (50000, 37)\n",
      "2023-10-25 14:36:35,689 - Shape after date filter (0, 37)\n",
      "2023-10-25 14:36:35,689 - Shape after IND_IRD filter (0, 37)\n",
      "2023-10-25 14:36:35,690 - Shape after C_CAU filter (0, 37)\n",
      "2023-10-25 14:36:35,693 - Processed Chunk Shape: (0, 47)\n"
     ]
    },
    {
     "name": "stdout",
     "output_type": "stream",
     "text": [
      "Setting new type for column NB_EXPE as type int8\n",
      "Setting new type for column NB_HIST as type int8\n",
      "Setting new type for column NB_GAR as type int8\n",
      "Setting new type for column NO_RSK as type int8\n",
      "Setting new type for column C_PERS_CLI as type int32\n"
     ]
    },
    {
     "name": "stderr",
     "output_type": "stream",
     "text": [
      "2023-10-25 14:36:36,134 - Processing Chunk: 6\n",
      "2023-10-25 14:36:36,134 - Shape BEFORE cleaner (50000, 37)\n",
      "2023-10-25 14:36:36,780 - Shape AFTER cleaner (50000, 37)\n",
      "2023-10-25 14:36:36,783 - Shape after date filter (0, 37)\n",
      "2023-10-25 14:36:36,784 - Shape after IND_IRD filter (0, 37)\n",
      "2023-10-25 14:36:36,785 - Shape after C_CAU filter (0, 37)\n",
      "2023-10-25 14:36:36,789 - Processed Chunk Shape: (0, 47)\n"
     ]
    },
    {
     "name": "stdout",
     "output_type": "stream",
     "text": [
      "Setting new type for column NB_EXPE as type int8\n",
      "Setting new type for column NB_HIST as type int8\n",
      "Setting new type for column NB_GAR as type int8\n",
      "Setting new type for column NO_RSK as type int8\n",
      "Setting new type for column C_PERS_CLI as type int32\n"
     ]
    },
    {
     "name": "stderr",
     "output_type": "stream",
     "text": [
      "2023-10-25 14:36:37,198 - Processing Chunk: 7\n",
      "2023-10-25 14:36:37,199 - Shape BEFORE cleaner (50000, 37)\n",
      "2023-10-25 14:36:37,889 - Shape AFTER cleaner (50000, 37)\n",
      "2023-10-25 14:36:37,891 - Shape after date filter (0, 37)\n",
      "2023-10-25 14:36:37,891 - Shape after IND_IRD filter (0, 37)\n",
      "2023-10-25 14:36:37,892 - Shape after C_CAU filter (0, 37)\n",
      "2023-10-25 14:36:37,895 - Processed Chunk Shape: (0, 47)\n"
     ]
    },
    {
     "name": "stdout",
     "output_type": "stream",
     "text": [
      "Setting new type for column NB_EXPE as type int8\n",
      "Setting new type for column NB_HIST as type int8\n",
      "Setting new type for column NB_GAR as type int8\n",
      "Setting new type for column NO_RSK as type int8\n",
      "Setting new type for column C_PERS_CLI as type int32\n"
     ]
    },
    {
     "name": "stderr",
     "output_type": "stream",
     "text": [
      "2023-10-25 14:36:38,318 - Processing Chunk: 8\n",
      "2023-10-25 14:36:38,319 - Shape BEFORE cleaner (50000, 37)\n",
      "2023-10-25 14:36:39,058 - Shape AFTER cleaner (50000, 37)\n",
      "2023-10-25 14:36:39,061 - Shape after date filter (0, 37)\n",
      "2023-10-25 14:36:39,062 - Shape after IND_IRD filter (0, 37)\n",
      "2023-10-25 14:36:39,063 - Shape after C_CAU filter (0, 37)\n",
      "2023-10-25 14:36:39,066 - Processed Chunk Shape: (0, 47)\n"
     ]
    },
    {
     "name": "stdout",
     "output_type": "stream",
     "text": [
      "Setting new type for column NB_EXPE as type int8\n",
      "Setting new type for column NB_HIST as type int8\n",
      "Setting new type for column NB_GAR as type int8\n",
      "Setting new type for column NO_RSK as type int8\n",
      "Setting new type for column C_PERS_CLI as type int32\n"
     ]
    },
    {
     "name": "stderr",
     "output_type": "stream",
     "text": [
      "2023-10-25 14:36:39,494 - Processing Chunk: 9\n",
      "2023-10-25 14:36:39,494 - Shape BEFORE cleaner (50000, 37)\n",
      "2023-10-25 14:36:40,166 - Shape AFTER cleaner (50000, 37)\n",
      "2023-10-25 14:36:40,168 - Shape after date filter (0, 37)\n",
      "2023-10-25 14:36:40,169 - Shape after IND_IRD filter (0, 37)\n",
      "2023-10-25 14:36:40,170 - Shape after C_CAU filter (0, 37)\n",
      "2023-10-25 14:36:40,175 - Processed Chunk Shape: (0, 47)\n"
     ]
    },
    {
     "name": "stdout",
     "output_type": "stream",
     "text": [
      "Setting new type for column NB_EXPE as type int8\n",
      "Setting new type for column NB_HIST as type int8\n",
      "Setting new type for column NB_GAR as type int8\n",
      "Setting new type for column NO_RSK as type int8\n",
      "Setting new type for column C_PERS_CLI as type int32\n"
     ]
    },
    {
     "name": "stderr",
     "output_type": "stream",
     "text": [
      "2023-10-25 14:36:40,594 - Processing Chunk: 10\n",
      "2023-10-25 14:36:40,594 - Shape BEFORE cleaner (50000, 37)\n",
      "2023-10-25 14:36:41,311 - Shape AFTER cleaner (50000, 37)\n",
      "2023-10-25 14:36:41,313 - Shape after date filter (0, 37)\n",
      "2023-10-25 14:36:41,313 - Shape after IND_IRD filter (0, 37)\n",
      "2023-10-25 14:36:41,314 - Shape after C_CAU filter (0, 37)\n",
      "2023-10-25 14:36:41,317 - Processed Chunk Shape: (0, 47)\n"
     ]
    },
    {
     "name": "stdout",
     "output_type": "stream",
     "text": [
      "Setting new type for column NB_EXPE as type int8\n",
      "Setting new type for column NB_HIST as type int8\n",
      "Setting new type for column NB_GAR as type int8\n",
      "Setting new type for column NO_RSK as type int8\n",
      "Setting new type for column C_PERS_CLI as type int32\n"
     ]
    },
    {
     "name": "stderr",
     "output_type": "stream",
     "text": [
      "2023-10-25 14:36:41,754 - Processing Chunk: 11\n",
      "2023-10-25 14:36:41,755 - Shape BEFORE cleaner (50000, 37)\n",
      "2023-10-25 14:36:42,489 - Shape AFTER cleaner (50000, 37)\n",
      "2023-10-25 14:36:42,491 - Shape after date filter (0, 37)\n",
      "2023-10-25 14:36:42,492 - Shape after IND_IRD filter (0, 37)\n",
      "2023-10-25 14:36:42,492 - Shape after C_CAU filter (0, 37)\n",
      "2023-10-25 14:36:42,495 - Processed Chunk Shape: (0, 47)\n"
     ]
    },
    {
     "name": "stdout",
     "output_type": "stream",
     "text": [
      "Setting new type for column NB_EXPE as type int8\n",
      "Setting new type for column NB_HIST as type int8\n",
      "Setting new type for column NB_GAR as type int8\n",
      "Setting new type for column NO_RSK as type int8\n",
      "Setting new type for column C_PERS_CLI as type int32\n"
     ]
    },
    {
     "name": "stderr",
     "output_type": "stream",
     "text": [
      "2023-10-25 14:36:42,921 - Processing Chunk: 12\n",
      "2023-10-25 14:36:42,921 - Shape BEFORE cleaner (50000, 37)\n",
      "2023-10-25 14:36:43,597 - Shape AFTER cleaner (50000, 37)\n",
      "2023-10-25 14:36:43,600 - Shape after date filter (0, 37)\n",
      "2023-10-25 14:36:43,600 - Shape after IND_IRD filter (0, 37)\n",
      "2023-10-25 14:36:43,601 - Shape after C_CAU filter (0, 37)\n",
      "2023-10-25 14:36:43,604 - Processed Chunk Shape: (0, 47)\n"
     ]
    },
    {
     "name": "stdout",
     "output_type": "stream",
     "text": [
      "Setting new type for column NB_EXPE as type int8\n",
      "Setting new type for column NB_HIST as type int8\n",
      "Setting new type for column NB_GAR as type int8\n",
      "Setting new type for column NO_RSK as type int8\n",
      "Setting new type for column C_PERS_CLI as type int32\n"
     ]
    },
    {
     "name": "stderr",
     "output_type": "stream",
     "text": [
      "2023-10-25 14:36:44,000 - Processing Chunk: 13\n",
      "2023-10-25 14:36:44,000 - Shape BEFORE cleaner (50000, 37)\n",
      "2023-10-25 14:36:44,700 - Shape AFTER cleaner (50000, 37)\n",
      "2023-10-25 14:36:44,703 - Shape after date filter (1, 37)\n",
      "2023-10-25 14:36:44,705 - Shape after IND_IRD filter (0, 37)\n",
      "2023-10-25 14:36:44,705 - Shape after C_CAU filter (0, 37)\n",
      "2023-10-25 14:36:44,708 - Processed Chunk Shape: (0, 47)\n"
     ]
    },
    {
     "name": "stdout",
     "output_type": "stream",
     "text": [
      "Setting new type for column NB_EXPE as type int8\n",
      "Setting new type for column NB_HIST as type int8\n",
      "Setting new type for column NB_GAR as type int8\n",
      "Setting new type for column NO_RSK as type int8\n",
      "Setting new type for column C_PERS_CLI as type int32\n"
     ]
    },
    {
     "name": "stderr",
     "output_type": "stream",
     "text": [
      "2023-10-25 14:36:45,100 - Processing Chunk: 14\n",
      "2023-10-25 14:36:45,100 - Shape BEFORE cleaner (50000, 37)\n",
      "2023-10-25 14:36:45,845 - Shape AFTER cleaner (50000, 37)\n",
      "2023-10-25 14:36:45,847 - Shape after date filter (0, 37)\n",
      "2023-10-25 14:36:45,847 - Shape after IND_IRD filter (0, 37)\n",
      "2023-10-25 14:36:45,848 - Shape after C_CAU filter (0, 37)\n",
      "2023-10-25 14:36:45,851 - Processed Chunk Shape: (0, 47)\n"
     ]
    },
    {
     "name": "stdout",
     "output_type": "stream",
     "text": [
      "Setting new type for column NB_EXPE as type int8\n",
      "Setting new type for column NB_HIST as type int8\n",
      "Setting new type for column NB_GAR as type int8\n",
      "Setting new type for column NO_RSK as type int8\n",
      "Setting new type for column C_PERS_CLI as type int32\n"
     ]
    },
    {
     "name": "stderr",
     "output_type": "stream",
     "text": [
      "2023-10-25 14:36:46,241 - Processing Chunk: 15\n",
      "2023-10-25 14:36:46,241 - Shape BEFORE cleaner (50000, 37)\n",
      "2023-10-25 14:36:46,938 - Shape AFTER cleaner (50000, 37)\n",
      "2023-10-25 14:36:46,941 - Shape after date filter (0, 37)\n",
      "2023-10-25 14:36:46,941 - Shape after IND_IRD filter (0, 37)\n",
      "2023-10-25 14:36:46,942 - Shape after C_CAU filter (0, 37)\n",
      "2023-10-25 14:36:46,945 - Processed Chunk Shape: (0, 47)\n"
     ]
    },
    {
     "name": "stdout",
     "output_type": "stream",
     "text": [
      "Setting new type for column NB_EXPE as type int8\n",
      "Setting new type for column NB_HIST as type int8\n",
      "Setting new type for column NB_GAR as type int8\n",
      "Setting new type for column NO_RSK as type int8\n",
      "Setting new type for column C_PERS_CLI as type int32\n"
     ]
    },
    {
     "name": "stderr",
     "output_type": "stream",
     "text": [
      "2023-10-25 14:36:47,401 - Processing Chunk: 16\n",
      "2023-10-25 14:36:47,402 - Shape BEFORE cleaner (50000, 37)\n",
      "2023-10-25 14:36:48,203 - Shape AFTER cleaner (50000, 37)\n",
      "2023-10-25 14:36:48,206 - Shape after date filter (0, 37)\n",
      "2023-10-25 14:36:48,207 - Shape after IND_IRD filter (0, 37)\n",
      "2023-10-25 14:36:48,207 - Shape after C_CAU filter (0, 37)\n",
      "2023-10-25 14:36:48,211 - Processed Chunk Shape: (0, 47)\n"
     ]
    },
    {
     "name": "stdout",
     "output_type": "stream",
     "text": [
      "Setting new type for column NB_EXPE as type int8\n",
      "Setting new type for column NB_HIST as type int8\n",
      "Setting new type for column NB_GAR as type int8\n",
      "Setting new type for column NO_RSK as type int8\n",
      "Setting new type for column C_PERS_CLI as type int32\n"
     ]
    },
    {
     "name": "stderr",
     "output_type": "stream",
     "text": [
      "2023-10-25 14:36:48,635 - Processing Chunk: 17\n",
      "2023-10-25 14:36:48,635 - Shape BEFORE cleaner (50000, 37)\n",
      "2023-10-25 14:36:49,340 - Shape AFTER cleaner (50000, 37)\n",
      "2023-10-25 14:36:49,343 - Shape after date filter (0, 37)\n",
      "2023-10-25 14:36:49,344 - Shape after IND_IRD filter (0, 37)\n",
      "2023-10-25 14:36:49,344 - Shape after C_CAU filter (0, 37)\n",
      "2023-10-25 14:36:49,348 - Processed Chunk Shape: (0, 47)\n"
     ]
    },
    {
     "name": "stdout",
     "output_type": "stream",
     "text": [
      "Setting new type for column NB_EXPE as type int8\n",
      "Setting new type for column NB_HIST as type int8\n",
      "Setting new type for column NB_GAR as type int8\n",
      "Setting new type for column NO_RSK as type int8\n",
      "Setting new type for column C_PERS_CLI as type int32\n"
     ]
    },
    {
     "name": "stderr",
     "output_type": "stream",
     "text": [
      "2023-10-25 14:36:49,734 - Processing Chunk: 18\n",
      "2023-10-25 14:36:49,734 - Shape BEFORE cleaner (50000, 37)\n",
      "2023-10-25 14:36:50,401 - Shape AFTER cleaner (50000, 37)\n",
      "2023-10-25 14:36:50,402 - Shape after date filter (0, 37)\n",
      "2023-10-25 14:36:50,403 - Shape after IND_IRD filter (0, 37)\n",
      "2023-10-25 14:36:50,404 - Shape after C_CAU filter (0, 37)\n",
      "2023-10-25 14:36:50,407 - Processed Chunk Shape: (0, 47)\n"
     ]
    },
    {
     "name": "stdout",
     "output_type": "stream",
     "text": [
      "Setting new type for column NB_EXPE as type int8\n",
      "Setting new type for column NB_HIST as type int8\n",
      "Setting new type for column NB_GAR as type int8\n",
      "Setting new type for column NO_RSK as type int8\n",
      "Setting new type for column C_PERS_CLI as type int32\n"
     ]
    },
    {
     "name": "stderr",
     "output_type": "stream",
     "text": [
      "2023-10-25 14:36:50,796 - Processing Chunk: 19\n",
      "2023-10-25 14:36:50,797 - Shape BEFORE cleaner (50000, 37)\n",
      "2023-10-25 14:36:51,511 - Shape AFTER cleaner (50000, 37)\n",
      "2023-10-25 14:36:51,513 - Shape after date filter (0, 37)\n",
      "2023-10-25 14:36:51,513 - Shape after IND_IRD filter (0, 37)\n",
      "2023-10-25 14:36:51,514 - Shape after C_CAU filter (0, 37)\n",
      "2023-10-25 14:36:51,517 - Processed Chunk Shape: (0, 47)\n"
     ]
    },
    {
     "name": "stdout",
     "output_type": "stream",
     "text": [
      "Setting new type for column NB_EXPE as type int8\n",
      "Setting new type for column NB_HIST as type int8\n",
      "Setting new type for column NB_GAR as type int8\n",
      "Setting new type for column NO_RSK as type int8\n",
      "Setting new type for column C_PERS_CLI as type int32\n"
     ]
    },
    {
     "name": "stderr",
     "output_type": "stream",
     "text": [
      "2023-10-25 14:36:51,918 - Processing Chunk: 20\n",
      "2023-10-25 14:36:51,918 - Shape BEFORE cleaner (50000, 37)\n",
      "2023-10-25 14:36:52,685 - Shape AFTER cleaner (50000, 37)\n",
      "2023-10-25 14:36:52,687 - Shape after date filter (0, 37)\n",
      "2023-10-25 14:36:52,688 - Shape after IND_IRD filter (0, 37)\n",
      "2023-10-25 14:36:52,688 - Shape after C_CAU filter (0, 37)\n",
      "2023-10-25 14:36:52,692 - Processed Chunk Shape: (0, 47)\n"
     ]
    },
    {
     "name": "stdout",
     "output_type": "stream",
     "text": [
      "Setting new type for column NB_EXPE as type int8\n",
      "Setting new type for column NB_HIST as type int8\n",
      "Setting new type for column NB_GAR as type int8\n",
      "Setting new type for column NO_RSK as type int8\n",
      "Setting new type for column C_PERS_CLI as type int32\n"
     ]
    },
    {
     "name": "stderr",
     "output_type": "stream",
     "text": [
      "2023-10-25 14:36:53,091 - Processing Chunk: 21\n",
      "2023-10-25 14:36:53,091 - Shape BEFORE cleaner (50000, 37)\n",
      "2023-10-25 14:36:53,823 - Shape AFTER cleaner (50000, 37)\n",
      "2023-10-25 14:36:53,824 - Shape after date filter (0, 37)\n",
      "2023-10-25 14:36:53,825 - Shape after IND_IRD filter (0, 37)\n",
      "2023-10-25 14:36:53,826 - Shape after C_CAU filter (0, 37)\n",
      "2023-10-25 14:36:53,830 - Processed Chunk Shape: (0, 47)\n"
     ]
    },
    {
     "name": "stdout",
     "output_type": "stream",
     "text": [
      "Setting new type for column NB_EXPE as type int8\n",
      "Setting new type for column NB_HIST as type int8\n",
      "Setting new type for column NB_GAR as type int8\n",
      "Setting new type for column NO_RSK as type int8\n",
      "Setting new type for column C_PERS_CLI as type int32\n"
     ]
    },
    {
     "name": "stderr",
     "output_type": "stream",
     "text": [
      "2023-10-25 14:36:54,230 - Processing Chunk: 22\n",
      "2023-10-25 14:36:54,230 - Shape BEFORE cleaner (50000, 37)\n",
      "2023-10-25 14:36:54,970 - Shape AFTER cleaner (50000, 37)\n",
      "2023-10-25 14:36:54,973 - Shape after date filter (0, 37)\n",
      "2023-10-25 14:36:54,973 - Shape after IND_IRD filter (0, 37)\n",
      "2023-10-25 14:36:54,974 - Shape after C_CAU filter (0, 37)\n",
      "2023-10-25 14:36:54,977 - Processed Chunk Shape: (0, 47)\n"
     ]
    },
    {
     "name": "stdout",
     "output_type": "stream",
     "text": [
      "Setting new type for column NB_EXPE as type int8\n",
      "Setting new type for column NB_HIST as type int8\n",
      "Setting new type for column NB_GAR as type int8\n",
      "Setting new type for column NO_RSK as type int8\n",
      "Setting new type for column C_PERS_CLI as type int32\n"
     ]
    },
    {
     "name": "stderr",
     "output_type": "stream",
     "text": [
      "2023-10-25 14:36:55,385 - Processing Chunk: 23\n",
      "2023-10-25 14:36:55,386 - Shape BEFORE cleaner (50000, 37)\n",
      "2023-10-25 14:36:56,120 - Shape AFTER cleaner (50000, 37)\n",
      "2023-10-25 14:36:56,122 - Shape after date filter (0, 37)\n",
      "2023-10-25 14:36:56,123 - Shape after IND_IRD filter (0, 37)\n",
      "2023-10-25 14:36:56,123 - Shape after C_CAU filter (0, 37)\n",
      "2023-10-25 14:36:56,127 - Processed Chunk Shape: (0, 47)\n"
     ]
    },
    {
     "name": "stdout",
     "output_type": "stream",
     "text": [
      "Setting new type for column NB_EXPE as type int8\n",
      "Setting new type for column NB_HIST as type int8\n",
      "Setting new type for column NB_GAR as type int8\n",
      "Setting new type for column NO_RSK as type Int8\n",
      "Setting new type for column C_PERS_CLI as type int32\n"
     ]
    },
    {
     "name": "stderr",
     "output_type": "stream",
     "text": [
      "2023-10-25 14:36:56,553 - Processing Chunk: 24\n",
      "2023-10-25 14:36:56,553 - Shape BEFORE cleaner (50000, 37)\n",
      "2023-10-25 14:36:57,376 - Shape AFTER cleaner (50000, 37)\n",
      "2023-10-25 14:36:57,378 - Shape after date filter (0, 37)\n",
      "2023-10-25 14:36:57,379 - Shape after IND_IRD filter (0, 37)\n",
      "2023-10-25 14:36:57,379 - Shape after C_CAU filter (0, 37)\n",
      "2023-10-25 14:36:57,383 - Processed Chunk Shape: (0, 47)\n"
     ]
    },
    {
     "name": "stdout",
     "output_type": "stream",
     "text": [
      "Setting new type for column NB_EXPE as type int8\n",
      "Setting new type for column NB_HIST as type int8\n",
      "Setting new type for column NB_GAR as type Int8\n",
      "Setting new type for column NO_RSK as type int8\n",
      "Setting new type for column C_PERS_CLI as type int32\n"
     ]
    },
    {
     "name": "stderr",
     "output_type": "stream",
     "text": [
      "2023-10-25 14:36:57,821 - Processing Chunk: 25\n",
      "2023-10-25 14:36:57,822 - Shape BEFORE cleaner (50000, 37)\n",
      "2023-10-25 14:36:58,579 - Shape AFTER cleaner (50000, 37)\n",
      "2023-10-25 14:36:58,581 - Shape after date filter (0, 37)\n",
      "2023-10-25 14:36:58,581 - Shape after IND_IRD filter (0, 37)\n",
      "2023-10-25 14:36:58,582 - Shape after C_CAU filter (0, 37)\n",
      "2023-10-25 14:36:58,585 - Processed Chunk Shape: (0, 47)\n"
     ]
    },
    {
     "name": "stdout",
     "output_type": "stream",
     "text": [
      "Setting new type for column NB_EXPE as type int8\n",
      "Setting new type for column NB_HIST as type int8\n",
      "Setting new type for column NB_GAR as type int8\n",
      "Setting new type for column NO_RSK as type int8\n",
      "Setting new type for column C_PERS_CLI as type int32\n"
     ]
    },
    {
     "name": "stderr",
     "output_type": "stream",
     "text": [
      "2023-10-25 14:36:59,001 - Processing Chunk: 26\n",
      "2023-10-25 14:36:59,002 - Shape BEFORE cleaner (50000, 37)\n",
      "2023-10-25 14:36:59,823 - Shape AFTER cleaner (50000, 37)\n",
      "2023-10-25 14:36:59,825 - Shape after date filter (3, 37)\n",
      "2023-10-25 14:36:59,826 - Shape after IND_IRD filter (0, 37)\n",
      "2023-10-25 14:36:59,827 - Shape after C_CAU filter (0, 37)\n",
      "2023-10-25 14:36:59,830 - Processed Chunk Shape: (0, 47)\n"
     ]
    },
    {
     "name": "stdout",
     "output_type": "stream",
     "text": [
      "Setting new type for column NB_EXPE as type int8\n",
      "Setting new type for column NB_HIST as type int8\n",
      "Setting new type for column NB_GAR as type Int8\n",
      "Setting new type for column NO_RSK as type Int8\n",
      "Setting new type for column C_PERS_CLI as type int32\n"
     ]
    },
    {
     "name": "stderr",
     "output_type": "stream",
     "text": [
      "2023-10-25 14:37:00,244 - Processing Chunk: 27\n",
      "2023-10-25 14:37:00,244 - Shape BEFORE cleaner (50000, 37)\n",
      "2023-10-25 14:37:01,004 - Shape AFTER cleaner (50000, 37)\n",
      "2023-10-25 14:37:01,006 - Shape after date filter (0, 37)\n",
      "2023-10-25 14:37:01,006 - Shape after IND_IRD filter (0, 37)\n",
      "2023-10-25 14:37:01,007 - Shape after C_CAU filter (0, 37)\n",
      "2023-10-25 14:37:01,010 - Processed Chunk Shape: (0, 47)\n"
     ]
    },
    {
     "name": "stdout",
     "output_type": "stream",
     "text": [
      "Setting new type for column NB_EXPE as type int8\n",
      "Setting new type for column NB_HIST as type int8\n",
      "Setting new type for column NB_GAR as type Int8\n",
      "Setting new type for column NO_RSK as type Int8\n",
      "Setting new type for column C_PERS_CLI as type int32\n"
     ]
    },
    {
     "name": "stderr",
     "output_type": "stream",
     "text": [
      "2023-10-25 14:37:01,414 - Processing Chunk: 28\n",
      "2023-10-25 14:37:01,414 - Shape BEFORE cleaner (50000, 37)\n",
      "2023-10-25 14:37:02,177 - Shape AFTER cleaner (50000, 37)\n",
      "2023-10-25 14:37:02,178 - Shape after date filter (1, 37)\n",
      "2023-10-25 14:37:02,179 - Shape after IND_IRD filter (0, 37)\n",
      "2023-10-25 14:37:02,180 - Shape after C_CAU filter (0, 37)\n",
      "2023-10-25 14:37:02,183 - Processed Chunk Shape: (0, 47)\n"
     ]
    },
    {
     "name": "stdout",
     "output_type": "stream",
     "text": [
      "Setting new type for column NB_EXPE as type int8\n",
      "Setting new type for column NB_HIST as type int8\n",
      "Setting new type for column NB_GAR as type Int8\n",
      "Setting new type for column NO_RSK as type int8\n",
      "Setting new type for column C_PERS_CLI as type int32\n"
     ]
    },
    {
     "name": "stderr",
     "output_type": "stream",
     "text": [
      "2023-10-25 14:37:02,587 - Processing Chunk: 29\n",
      "2023-10-25 14:37:02,587 - Shape BEFORE cleaner (50000, 37)\n",
      "2023-10-25 14:37:03,310 - Shape AFTER cleaner (50000, 37)\n",
      "2023-10-25 14:37:03,312 - Shape after date filter (0, 37)\n",
      "2023-10-25 14:37:03,313 - Shape after IND_IRD filter (0, 37)\n",
      "2023-10-25 14:37:03,313 - Shape after C_CAU filter (0, 37)\n",
      "2023-10-25 14:37:03,316 - Processed Chunk Shape: (0, 47)\n"
     ]
    },
    {
     "name": "stdout",
     "output_type": "stream",
     "text": [
      "Setting new type for column NB_EXPE as type int8\n",
      "Setting new type for column NB_HIST as type int8\n",
      "Setting new type for column NB_GAR as type Int8\n",
      "Setting new type for column NO_RSK as type int8\n",
      "Setting new type for column C_PERS_CLI as type int32\n"
     ]
    },
    {
     "name": "stderr",
     "output_type": "stream",
     "text": [
      "2023-10-25 14:37:03,718 - Processing Chunk: 30\n",
      "2023-10-25 14:37:03,718 - Shape BEFORE cleaner (50000, 37)\n",
      "2023-10-25 14:37:04,479 - Shape AFTER cleaner (50000, 37)\n",
      "2023-10-25 14:37:04,481 - Shape after date filter (0, 37)\n",
      "2023-10-25 14:37:04,482 - Shape after IND_IRD filter (0, 37)\n",
      "2023-10-25 14:37:04,482 - Shape after C_CAU filter (0, 37)\n",
      "2023-10-25 14:37:04,486 - Processed Chunk Shape: (0, 47)\n"
     ]
    },
    {
     "name": "stdout",
     "output_type": "stream",
     "text": [
      "Setting new type for column NB_EXPE as type int8\n",
      "Setting new type for column NB_HIST as type int8\n",
      "Setting new type for column NB_GAR as type Int8\n",
      "Setting new type for column NO_RSK as type int8\n",
      "Setting new type for column C_PERS_CLI as type int32\n"
     ]
    },
    {
     "name": "stderr",
     "output_type": "stream",
     "text": [
      "2023-10-25 14:37:04,888 - Processing Chunk: 31\n",
      "2023-10-25 14:37:04,888 - Shape BEFORE cleaner (50000, 37)\n",
      "2023-10-25 14:37:05,634 - Shape AFTER cleaner (50000, 37)\n",
      "2023-10-25 14:37:05,637 - Shape after date filter (2, 37)\n",
      "2023-10-25 14:37:05,638 - Shape after IND_IRD filter (2, 37)\n",
      "2023-10-25 14:37:05,639 - Shape after C_CAU filter (1, 37)\n",
      "2023-10-25 14:37:05,644 - Processed Chunk Shape: (1, 47)\n"
     ]
    },
    {
     "name": "stdout",
     "output_type": "stream",
     "text": [
      "Setting new type for column NB_EXPE as type int8\n",
      "Setting new type for column NB_HIST as type int8\n",
      "Setting new type for column NB_GAR as type Int8\n",
      "Setting new type for column NO_RSK as type int8\n",
      "Setting new type for column C_PERS_CLI as type int32\n"
     ]
    },
    {
     "name": "stderr",
     "output_type": "stream",
     "text": [
      "2023-10-25 14:37:06,056 - Processing Chunk: 32\n",
      "2023-10-25 14:37:06,056 - Shape BEFORE cleaner (50000, 37)\n",
      "2023-10-25 14:37:06,848 - Shape AFTER cleaner (50000, 37)\n",
      "2023-10-25 14:37:06,850 - Shape after date filter (2, 37)\n",
      "2023-10-25 14:37:06,850 - Shape after IND_IRD filter (0, 37)\n",
      "2023-10-25 14:37:06,851 - Shape after C_CAU filter (0, 37)\n",
      "2023-10-25 14:37:06,855 - Processed Chunk Shape: (0, 47)\n"
     ]
    },
    {
     "name": "stdout",
     "output_type": "stream",
     "text": [
      "Setting new type for column NB_EXPE as type int8\n",
      "Setting new type for column NB_HIST as type int8\n",
      "Setting new type for column NB_GAR as type Int8\n",
      "Setting new type for column NO_RSK as type int8\n",
      "Setting new type for column C_PERS_CLI as type int32\n"
     ]
    },
    {
     "name": "stderr",
     "output_type": "stream",
     "text": [
      "2023-10-25 14:37:07,285 - Processing Chunk: 33\n",
      "2023-10-25 14:37:07,286 - Shape BEFORE cleaner (50000, 37)\n",
      "2023-10-25 14:37:08,024 - Shape AFTER cleaner (50000, 37)\n",
      "2023-10-25 14:37:08,026 - Shape after date filter (2, 37)\n",
      "2023-10-25 14:37:08,027 - Shape after IND_IRD filter (2, 37)\n",
      "2023-10-25 14:37:08,028 - Shape after C_CAU filter (0, 37)\n",
      "2023-10-25 14:37:08,031 - Processed Chunk Shape: (0, 47)\n"
     ]
    },
    {
     "name": "stdout",
     "output_type": "stream",
     "text": [
      "Setting new type for column NB_EXPE as type int8\n",
      "Setting new type for column NB_HIST as type int8\n",
      "Setting new type for column NB_GAR as type Int8\n",
      "Setting new type for column NO_RSK as type int8\n",
      "Setting new type for column C_PERS_CLI as type int32\n"
     ]
    },
    {
     "name": "stderr",
     "output_type": "stream",
     "text": [
      "2023-10-25 14:37:08,429 - Processing Chunk: 34\n",
      "2023-10-25 14:37:08,430 - Shape BEFORE cleaner (50000, 37)\n",
      "2023-10-25 14:37:09,156 - Shape AFTER cleaner (50000, 37)\n",
      "2023-10-25 14:37:09,157 - Shape after date filter (1, 37)\n",
      "2023-10-25 14:37:09,158 - Shape after IND_IRD filter (0, 37)\n",
      "2023-10-25 14:37:09,159 - Shape after C_CAU filter (0, 37)\n",
      "2023-10-25 14:37:09,162 - Processed Chunk Shape: (0, 47)\n"
     ]
    },
    {
     "name": "stdout",
     "output_type": "stream",
     "text": [
      "Setting new type for column NB_EXPE as type int8\n",
      "Setting new type for column NB_HIST as type int8\n",
      "Setting new type for column NB_GAR as type int8\n",
      "Setting new type for column NO_RSK as type int8\n",
      "Setting new type for column C_PERS_CLI as type int32\n"
     ]
    },
    {
     "name": "stderr",
     "output_type": "stream",
     "text": [
      "2023-10-25 14:37:09,583 - Processing Chunk: 35\n",
      "2023-10-25 14:37:09,583 - Shape BEFORE cleaner (50000, 37)\n",
      "2023-10-25 14:37:10,322 - Shape AFTER cleaner (50000, 37)\n",
      "2023-10-25 14:37:10,324 - Shape after date filter (2, 37)\n",
      "2023-10-25 14:37:10,325 - Shape after IND_IRD filter (2, 37)\n",
      "2023-10-25 14:37:10,326 - Shape after C_CAU filter (1, 37)\n",
      "2023-10-25 14:37:10,330 - Processed Chunk Shape: (1, 47)\n"
     ]
    },
    {
     "name": "stdout",
     "output_type": "stream",
     "text": [
      "Setting new type for column NB_EXPE as type int8\n",
      "Setting new type for column NB_HIST as type int8\n",
      "Setting new type for column NB_GAR as type Int8\n",
      "Setting new type for column NO_RSK as type int8\n",
      "Setting new type for column C_PERS_CLI as type int32\n"
     ]
    },
    {
     "name": "stderr",
     "output_type": "stream",
     "text": [
      "2023-10-25 14:37:10,740 - Processing Chunk: 36\n",
      "2023-10-25 14:37:10,741 - Shape BEFORE cleaner (50000, 37)\n",
      "2023-10-25 14:37:11,541 - Shape AFTER cleaner (50000, 37)\n",
      "2023-10-25 14:37:11,543 - Shape after date filter (8, 37)\n",
      "2023-10-25 14:37:11,543 - Shape after IND_IRD filter (0, 37)\n",
      "2023-10-25 14:37:11,544 - Shape after C_CAU filter (0, 37)\n",
      "2023-10-25 14:37:11,548 - Processed Chunk Shape: (0, 47)\n"
     ]
    },
    {
     "name": "stdout",
     "output_type": "stream",
     "text": [
      "Setting new type for column NB_EXPE as type int8\n",
      "Setting new type for column NB_HIST as type int8\n",
      "Setting new type for column NB_GAR as type int8\n",
      "Setting new type for column NO_RSK as type int8\n",
      "Setting new type for column C_PERS_CLI as type int32\n"
     ]
    },
    {
     "name": "stderr",
     "output_type": "stream",
     "text": [
      "2023-10-25 14:37:11,972 - Processing Chunk: 37\n",
      "2023-10-25 14:37:11,973 - Shape BEFORE cleaner (50000, 37)\n",
      "2023-10-25 14:37:12,672 - Shape AFTER cleaner (50000, 37)\n",
      "2023-10-25 14:37:12,674 - Shape after date filter (11, 37)\n",
      "2023-10-25 14:37:12,675 - Shape after IND_IRD filter (3, 37)\n",
      "2023-10-25 14:37:12,675 - Shape after C_CAU filter (2, 37)\n",
      "2023-10-25 14:37:12,679 - Processed Chunk Shape: (2, 47)\n"
     ]
    },
    {
     "name": "stdout",
     "output_type": "stream",
     "text": [
      "Setting new type for column NB_EXPE as type int8\n",
      "Setting new type for column NB_HIST as type int8\n",
      "Setting new type for column NB_GAR as type int8\n",
      "Setting new type for column NO_RSK as type int8\n",
      "Setting new type for column C_PERS_CLI as type int32\n"
     ]
    },
    {
     "name": "stderr",
     "output_type": "stream",
     "text": [
      "2023-10-25 14:37:13,072 - Processing Chunk: 38\n",
      "2023-10-25 14:37:13,073 - Shape BEFORE cleaner (50000, 37)\n",
      "2023-10-25 14:37:13,796 - Shape AFTER cleaner (50000, 37)\n",
      "2023-10-25 14:37:13,798 - Shape after date filter (2, 37)\n",
      "2023-10-25 14:37:13,799 - Shape after IND_IRD filter (0, 37)\n",
      "2023-10-25 14:37:13,799 - Shape after C_CAU filter (0, 37)\n",
      "2023-10-25 14:37:13,804 - Processed Chunk Shape: (0, 47)\n"
     ]
    },
    {
     "name": "stdout",
     "output_type": "stream",
     "text": [
      "Setting new type for column NB_EXPE as type int8\n",
      "Setting new type for column NB_HIST as type int8\n",
      "Setting new type for column NB_GAR as type int8\n",
      "Setting new type for column NO_RSK as type int8\n",
      "Setting new type for column C_PERS_CLI as type int32\n"
     ]
    },
    {
     "name": "stderr",
     "output_type": "stream",
     "text": [
      "2023-10-25 14:37:14,190 - Processing Chunk: 39\n",
      "2023-10-25 14:37:14,190 - Shape BEFORE cleaner (50000, 37)\n",
      "2023-10-25 14:37:14,886 - Shape AFTER cleaner (50000, 37)\n",
      "2023-10-25 14:37:14,889 - Shape after date filter (15, 37)\n",
      "2023-10-25 14:37:14,889 - Shape after IND_IRD filter (8, 37)\n",
      "2023-10-25 14:37:14,890 - Shape after C_CAU filter (0, 37)\n",
      "2023-10-25 14:37:14,894 - Processed Chunk Shape: (0, 47)\n"
     ]
    },
    {
     "name": "stdout",
     "output_type": "stream",
     "text": [
      "Setting new type for column NB_EXPE as type int8\n",
      "Setting new type for column NB_HIST as type int8\n",
      "Setting new type for column NB_GAR as type int8\n",
      "Setting new type for column NO_RSK as type int8\n",
      "Setting new type for column C_PERS_CLI as type int32\n"
     ]
    },
    {
     "name": "stderr",
     "output_type": "stream",
     "text": [
      "2023-10-25 14:37:15,310 - Processing Chunk: 40\n",
      "2023-10-25 14:37:15,311 - Shape BEFORE cleaner (50000, 37)\n",
      "2023-10-25 14:37:16,068 - Shape AFTER cleaner (50000, 37)\n",
      "2023-10-25 14:37:16,070 - Shape after date filter (8, 37)\n",
      "2023-10-25 14:37:16,071 - Shape after IND_IRD filter (0, 37)\n",
      "2023-10-25 14:37:16,072 - Shape after C_CAU filter (0, 37)\n",
      "2023-10-25 14:37:16,076 - Processed Chunk Shape: (0, 47)\n"
     ]
    },
    {
     "name": "stdout",
     "output_type": "stream",
     "text": [
      "Setting new type for column NB_EXPE as type int8\n",
      "Setting new type for column NB_HIST as type int8\n",
      "Setting new type for column NB_GAR as type int8\n",
      "Setting new type for column NO_RSK as type int8\n",
      "Setting new type for column C_PERS_CLI as type int32\n"
     ]
    },
    {
     "name": "stderr",
     "output_type": "stream",
     "text": [
      "2023-10-25 14:37:16,525 - Processing Chunk: 41\n",
      "2023-10-25 14:37:16,525 - Shape BEFORE cleaner (50000, 37)\n",
      "2023-10-25 14:37:17,302 - Shape AFTER cleaner (50000, 37)\n",
      "2023-10-25 14:37:17,304 - Shape after date filter (56, 37)\n",
      "2023-10-25 14:37:17,305 - Shape after IND_IRD filter (23, 37)\n",
      "2023-10-25 14:37:17,306 - Shape after C_CAU filter (10, 37)\n",
      "2023-10-25 14:37:17,311 - Processed Chunk Shape: (10, 47)\n"
     ]
    },
    {
     "name": "stdout",
     "output_type": "stream",
     "text": [
      "Setting new type for column NB_EXPE as type int8\n",
      "Setting new type for column NB_HIST as type int8\n",
      "Setting new type for column NB_GAR as type int8\n",
      "Setting new type for column NO_RSK as type int8\n",
      "Setting new type for column C_PERS_CLI as type int32\n"
     ]
    },
    {
     "name": "stderr",
     "output_type": "stream",
     "text": [
      "2023-10-25 14:37:17,755 - Processing Chunk: 42\n",
      "2023-10-25 14:37:17,756 - Shape BEFORE cleaner (50000, 37)\n",
      "2023-10-25 14:37:18,540 - Shape AFTER cleaner (50000, 37)\n",
      "2023-10-25 14:37:18,543 - Shape after date filter (0, 37)\n",
      "2023-10-25 14:37:18,543 - Shape after IND_IRD filter (0, 37)\n",
      "2023-10-25 14:37:18,544 - Shape after C_CAU filter (0, 37)\n",
      "2023-10-25 14:37:18,549 - Processed Chunk Shape: (0, 47)\n"
     ]
    },
    {
     "name": "stdout",
     "output_type": "stream",
     "text": [
      "Setting new type for column NB_EXPE as type int8\n",
      "Setting new type for column NB_HIST as type int8\n",
      "Setting new type for column NB_GAR as type int8\n",
      "Setting new type for column NO_RSK as type int8\n",
      "Setting new type for column C_PERS_CLI as type int32\n"
     ]
    },
    {
     "name": "stderr",
     "output_type": "stream",
     "text": [
      "2023-10-25 14:37:18,957 - Processing Chunk: 43\n",
      "2023-10-25 14:37:18,958 - Shape BEFORE cleaner (50000, 37)\n",
      "2023-10-25 14:37:19,688 - Shape AFTER cleaner (50000, 37)\n",
      "2023-10-25 14:37:19,690 - Shape after date filter (128, 37)\n",
      "2023-10-25 14:37:19,691 - Shape after IND_IRD filter (58, 37)\n",
      "2023-10-25 14:37:19,691 - Shape after C_CAU filter (14, 37)\n",
      "2023-10-25 14:37:19,695 - Processed Chunk Shape: (14, 47)\n"
     ]
    },
    {
     "name": "stdout",
     "output_type": "stream",
     "text": [
      "Setting new type for column NB_EXPE as type int8\n",
      "Setting new type for column NB_HIST as type int8\n",
      "Setting new type for column NB_GAR as type int8\n",
      "Setting new type for column NO_RSK as type int8\n",
      "Setting new type for column C_PERS_CLI as type int32\n"
     ]
    },
    {
     "name": "stderr",
     "output_type": "stream",
     "text": [
      "2023-10-25 14:37:20,128 - Processing Chunk: 44\n",
      "2023-10-25 14:37:20,128 - Shape BEFORE cleaner (50000, 37)\n",
      "2023-10-25 14:37:20,775 - Shape AFTER cleaner (50000, 37)\n",
      "2023-10-25 14:37:20,777 - Shape after date filter (0, 37)\n",
      "2023-10-25 14:37:20,778 - Shape after IND_IRD filter (0, 37)\n",
      "2023-10-25 14:37:20,778 - Shape after C_CAU filter (0, 37)\n",
      "2023-10-25 14:37:20,782 - Processed Chunk Shape: (0, 47)\n"
     ]
    },
    {
     "name": "stdout",
     "output_type": "stream",
     "text": [
      "Setting new type for column NB_EXPE as type int8\n",
      "Setting new type for column NB_HIST as type int8\n",
      "Setting new type for column NB_GAR as type int8\n",
      "Setting new type for column NO_RSK as type int8\n",
      "Setting new type for column C_PERS_CLI as type int32\n"
     ]
    },
    {
     "name": "stderr",
     "output_type": "stream",
     "text": [
      "2023-10-25 14:37:21,186 - Processing Chunk: 45\n",
      "2023-10-25 14:37:21,186 - Shape BEFORE cleaner (50000, 37)\n",
      "2023-10-25 14:37:21,904 - Shape AFTER cleaner (50000, 37)\n",
      "2023-10-25 14:37:21,906 - Shape after date filter (344, 37)\n",
      "2023-10-25 14:37:21,907 - Shape after IND_IRD filter (183, 37)\n",
      "2023-10-25 14:37:21,908 - Shape after C_CAU filter (50, 37)\n",
      "2023-10-25 14:37:21,911 - Processed Chunk Shape: (50, 47)\n"
     ]
    },
    {
     "name": "stdout",
     "output_type": "stream",
     "text": [
      "Setting new type for column NB_EXPE as type int8\n",
      "Setting new type for column NB_HIST as type int8\n",
      "Setting new type for column NB_GAR as type int8\n",
      "Setting new type for column NO_RSK as type int8\n",
      "Setting new type for column C_PERS_CLI as type int32\n"
     ]
    },
    {
     "name": "stderr",
     "output_type": "stream",
     "text": [
      "2023-10-25 14:37:22,311 - Processing Chunk: 46\n",
      "2023-10-25 14:37:22,312 - Shape BEFORE cleaner (50000, 37)\n",
      "2023-10-25 14:37:23,026 - Shape AFTER cleaner (50000, 37)\n",
      "2023-10-25 14:37:23,027 - Shape after date filter (760, 37)\n",
      "2023-10-25 14:37:23,028 - Shape after IND_IRD filter (364, 37)\n",
      "2023-10-25 14:37:23,029 - Shape after C_CAU filter (105, 37)\n",
      "2023-10-25 14:37:23,032 - Processed Chunk Shape: (105, 47)\n"
     ]
    },
    {
     "name": "stdout",
     "output_type": "stream",
     "text": [
      "Setting new type for column NB_EXPE as type int8\n",
      "Setting new type for column NB_HIST as type int8\n",
      "Setting new type for column NB_GAR as type int8\n",
      "Setting new type for column NO_RSK as type int8\n",
      "Setting new type for column C_PERS_CLI as type int32\n"
     ]
    },
    {
     "name": "stderr",
     "output_type": "stream",
     "text": [
      "2023-10-25 14:37:23,428 - Processing Chunk: 47\n",
      "2023-10-25 14:37:23,428 - Shape BEFORE cleaner (50000, 37)\n",
      "2023-10-25 14:37:24,101 - Shape AFTER cleaner (50000, 37)\n",
      "2023-10-25 14:37:24,103 - Shape after date filter (5105, 37)\n",
      "2023-10-25 14:37:24,105 - Shape after IND_IRD filter (2826, 37)\n",
      "2023-10-25 14:37:24,107 - Shape after C_CAU filter (1423, 37)\n",
      "2023-10-25 14:37:24,111 - Processed Chunk Shape: (1423, 47)\n"
     ]
    },
    {
     "name": "stdout",
     "output_type": "stream",
     "text": [
      "Setting new type for column NB_EXPE as type int8\n",
      "Setting new type for column NB_HIST as type int8\n",
      "Setting new type for column NB_GAR as type int8\n",
      "Setting new type for column NO_RSK as type int8\n",
      "Setting new type for column C_PERS_CLI as type int32\n"
     ]
    },
    {
     "name": "stderr",
     "output_type": "stream",
     "text": [
      "2023-10-25 14:37:24,527 - Processing Chunk: 48\n",
      "2023-10-25 14:37:24,528 - Shape BEFORE cleaner (50000, 37)\n",
      "2023-10-25 14:37:25,262 - Shape AFTER cleaner (50000, 37)\n",
      "2023-10-25 14:37:25,269 - Shape after date filter (47147, 37)\n",
      "2023-10-25 14:37:25,273 - Shape after IND_IRD filter (31828, 37)\n",
      "2023-10-25 14:37:25,277 - Shape after C_CAU filter (24188, 37)\n",
      "2023-10-25 14:37:25,283 - Processed Chunk Shape: (24188, 47)\n"
     ]
    },
    {
     "name": "stdout",
     "output_type": "stream",
     "text": [
      "Setting new type for column NB_EXPE as type int8\n",
      "Setting new type for column NB_HIST as type int8\n",
      "Setting new type for column NB_GAR as type int8\n",
      "Setting new type for column NO_RSK as type int8\n",
      "Setting new type for column C_PERS_CLI as type int32\n"
     ]
    },
    {
     "name": "stderr",
     "output_type": "stream",
     "text": [
      "2023-10-25 14:37:25,581 - Processing Chunk: 49\n",
      "2023-10-25 14:37:25,581 - Shape BEFORE cleaner (38653, 37)\n",
      "2023-10-25 14:37:26,224 - Shape AFTER cleaner (38653, 37)\n",
      "2023-10-25 14:37:26,229 - Shape after date filter (38653, 37)\n",
      "2023-10-25 14:37:26,233 - Shape after IND_IRD filter (21199, 37)\n",
      "2023-10-25 14:37:26,236 - Shape after C_CAU filter (16564, 37)\n",
      "2023-10-25 14:37:26,241 - Processed Chunk Shape: (16564, 47)\n",
      "2023-10-25 14:37:26,260 - Data Loaded in Pandas with Shape: (42358, 47)\n",
      "2023-10-25 14:37:26,282 - LOADING STIB13\n"
     ]
    },
    {
     "name": "stdout",
     "output_type": "stream",
     "text": [
      "Setting new type for column NB_EXPE as type int8\n",
      "Setting new type for column NB_HIST as type int8\n",
      "Setting new type for column NB_GAR as type int8\n",
      "Setting new type for column NO_RSK as type int8\n",
      "Setting new type for column C_PERS_CLI as type int32\n"
     ]
    },
    {
     "name": "stderr",
     "output_type": "stream",
     "text": [
      "2023-10-25 14:37:26,419 - Processing Chunk: 1\n",
      "2023-10-25 14:37:26,446 - Processed Chunk Shape: (2, 3)\n",
      "2023-10-25 14:37:26,571 - Processing Chunk: 2\n",
      "2023-10-25 14:37:26,598 - Processed Chunk Shape: (6, 3)\n",
      "2023-10-25 14:37:26,723 - Processing Chunk: 3\n",
      "2023-10-25 14:37:26,751 - Processed Chunk Shape: (12, 3)\n",
      "2023-10-25 14:37:26,874 - Processing Chunk: 4\n",
      "2023-10-25 14:37:26,901 - Processed Chunk Shape: (5, 3)\n",
      "2023-10-25 14:37:27,020 - Processing Chunk: 5\n",
      "2023-10-25 14:37:27,048 - Processed Chunk Shape: (9, 3)\n",
      "2023-10-25 14:37:27,158 - Processing Chunk: 6\n",
      "2023-10-25 14:37:27,185 - Processed Chunk Shape: (16, 3)\n",
      "2023-10-25 14:37:27,303 - Processing Chunk: 7\n",
      "2023-10-25 14:37:27,331 - Processed Chunk Shape: (4, 3)\n",
      "2023-10-25 14:37:27,450 - Processing Chunk: 8\n",
      "2023-10-25 14:37:27,477 - Processed Chunk Shape: (8, 3)\n",
      "2023-10-25 14:37:27,590 - Processing Chunk: 9\n",
      "2023-10-25 14:37:27,618 - Processed Chunk Shape: (7, 3)\n",
      "2023-10-25 14:37:27,727 - Processing Chunk: 10\n",
      "2023-10-25 14:37:27,755 - Processed Chunk Shape: (6, 3)\n",
      "2023-10-25 14:37:27,872 - Processing Chunk: 11\n",
      "2023-10-25 14:37:27,899 - Processed Chunk Shape: (7, 3)\n",
      "2023-10-25 14:37:28,013 - Processing Chunk: 12\n",
      "2023-10-25 14:37:28,040 - Processed Chunk Shape: (7, 3)\n",
      "2023-10-25 14:37:28,149 - Processing Chunk: 13\n",
      "2023-10-25 14:37:28,176 - Processed Chunk Shape: (6, 3)\n",
      "2023-10-25 14:37:28,285 - Processing Chunk: 14\n",
      "2023-10-25 14:37:28,312 - Processed Chunk Shape: (2, 3)\n",
      "2023-10-25 14:37:28,426 - Processing Chunk: 15\n",
      "2023-10-25 14:37:28,453 - Processed Chunk Shape: (4, 3)\n",
      "2023-10-25 14:37:28,565 - Processing Chunk: 16\n",
      "2023-10-25 14:37:28,592 - Processed Chunk Shape: (1, 3)\n",
      "2023-10-25 14:37:28,707 - Processing Chunk: 17\n",
      "2023-10-25 14:37:28,734 - Processed Chunk Shape: (9, 3)\n",
      "2023-10-25 14:37:28,847 - Processing Chunk: 18\n",
      "2023-10-25 14:37:28,874 - Processed Chunk Shape: (1, 3)\n",
      "2023-10-25 14:37:28,985 - Processing Chunk: 19\n",
      "2023-10-25 14:37:29,012 - Processed Chunk Shape: (3, 3)\n",
      "2023-10-25 14:37:29,127 - Processing Chunk: 20\n",
      "2023-10-25 14:37:29,154 - Processed Chunk Shape: (4, 3)\n",
      "2023-10-25 14:37:29,267 - Processing Chunk: 21\n",
      "2023-10-25 14:37:29,295 - Processed Chunk Shape: (2, 3)\n",
      "2023-10-25 14:37:29,403 - Processing Chunk: 22\n",
      "2023-10-25 14:37:29,432 - Processed Chunk Shape: (5, 3)\n",
      "2023-10-25 14:37:29,546 - Processing Chunk: 23\n",
      "2023-10-25 14:37:29,576 - Processed Chunk Shape: (7, 3)\n",
      "2023-10-25 14:37:29,687 - Processing Chunk: 24\n",
      "2023-10-25 14:37:29,718 - Processed Chunk Shape: (1, 3)\n",
      "2023-10-25 14:37:29,829 - Processing Chunk: 25\n",
      "2023-10-25 14:37:29,860 - Processed Chunk Shape: (3, 3)\n",
      "2023-10-25 14:37:29,971 - Processing Chunk: 26\n",
      "2023-10-25 14:37:30,001 - Processed Chunk Shape: (1, 3)\n",
      "2023-10-25 14:37:30,115 - Processing Chunk: 27\n",
      "2023-10-25 14:37:30,145 - Processed Chunk Shape: (6, 3)\n",
      "2023-10-25 14:37:30,260 - Processing Chunk: 28\n",
      "2023-10-25 14:37:30,290 - Processed Chunk Shape: (3, 3)\n",
      "2023-10-25 14:37:30,406 - Processing Chunk: 29\n",
      "2023-10-25 14:37:30,438 - Processed Chunk Shape: (1, 3)\n",
      "2023-10-25 14:37:30,553 - Processing Chunk: 30\n",
      "2023-10-25 14:37:30,583 - Processed Chunk Shape: (0, 3)\n",
      "2023-10-25 14:37:30,701 - Processing Chunk: 31\n",
      "2023-10-25 14:37:30,731 - Processed Chunk Shape: (0, 3)\n",
      "2023-10-25 14:37:30,848 - Processing Chunk: 32\n",
      "2023-10-25 14:37:30,878 - Processed Chunk Shape: (1, 3)\n",
      "2023-10-25 14:37:30,997 - Processing Chunk: 33\n",
      "2023-10-25 14:37:31,027 - Processed Chunk Shape: (1, 3)\n",
      "2023-10-25 14:37:31,138 - Processing Chunk: 34\n",
      "2023-10-25 14:37:31,169 - Processed Chunk Shape: (1, 3)\n",
      "2023-10-25 14:37:31,280 - Processing Chunk: 35\n",
      "2023-10-25 14:37:31,310 - Processed Chunk Shape: (0, 3)\n",
      "2023-10-25 14:37:31,430 - Processing Chunk: 36\n",
      "2023-10-25 14:37:31,460 - Processed Chunk Shape: (0, 3)\n",
      "2023-10-25 14:37:31,579 - Processing Chunk: 37\n",
      "2023-10-25 14:37:31,608 - Processed Chunk Shape: (2, 3)\n",
      "2023-10-25 14:37:31,730 - Processing Chunk: 38\n",
      "2023-10-25 14:37:31,760 - Processed Chunk Shape: (2, 3)\n",
      "2023-10-25 14:37:31,872 - Processing Chunk: 39\n",
      "2023-10-25 14:37:31,901 - Processed Chunk Shape: (1, 3)\n",
      "2023-10-25 14:37:32,019 - Processing Chunk: 40\n",
      "2023-10-25 14:37:32,049 - Processed Chunk Shape: (1, 3)\n",
      "2023-10-25 14:37:32,164 - Processing Chunk: 41\n",
      "2023-10-25 14:37:32,191 - Processed Chunk Shape: (6, 3)\n",
      "2023-10-25 14:37:32,305 - Processing Chunk: 42\n",
      "2023-10-25 14:37:32,335 - Processed Chunk Shape: (19, 3)\n",
      "2023-10-25 14:37:32,449 - Processing Chunk: 43\n",
      "2023-10-25 14:37:32,479 - Processed Chunk Shape: (4, 3)\n",
      "2023-10-25 14:37:32,594 - Processing Chunk: 44\n",
      "2023-10-25 14:37:32,622 - Processed Chunk Shape: (15, 3)\n",
      "2023-10-25 14:37:32,737 - Processing Chunk: 45\n",
      "2023-10-25 14:37:32,765 - Processed Chunk Shape: (11, 3)\n",
      "2023-10-25 14:37:32,879 - Processing Chunk: 46\n",
      "2023-10-25 14:37:32,907 - Processed Chunk Shape: (11, 3)\n",
      "2023-10-25 14:37:33,023 - Processing Chunk: 47\n",
      "2023-10-25 14:37:33,052 - Processed Chunk Shape: (10, 3)\n",
      "2023-10-25 14:37:33,181 - Processing Chunk: 48\n",
      "2023-10-25 14:37:33,211 - Processed Chunk Shape: (7, 3)\n",
      "2023-10-25 14:37:33,327 - Processing Chunk: 49\n",
      "2023-10-25 14:37:33,355 - Processed Chunk Shape: (7, 3)\n",
      "2023-10-25 14:37:33,477 - Processing Chunk: 50\n",
      "2023-10-25 14:37:33,504 - Processed Chunk Shape: (1, 3)\n",
      "2023-10-25 14:37:33,627 - Processing Chunk: 51\n",
      "2023-10-25 14:37:33,657 - Processed Chunk Shape: (2, 3)\n",
      "2023-10-25 14:37:33,786 - Processing Chunk: 52\n",
      "2023-10-25 14:37:33,814 - Processed Chunk Shape: (4, 3)\n",
      "2023-10-25 14:37:33,946 - Processing Chunk: 53\n",
      "2023-10-25 14:37:33,974 - Processed Chunk Shape: (5, 3)\n",
      "2023-10-25 14:37:34,085 - Processing Chunk: 54\n",
      "2023-10-25 14:37:34,115 - Processed Chunk Shape: (1, 3)\n",
      "2023-10-25 14:37:34,246 - Processing Chunk: 55\n",
      "2023-10-25 14:37:34,274 - Processed Chunk Shape: (1, 3)\n",
      "2023-10-25 14:37:34,403 - Processing Chunk: 56\n",
      "2023-10-25 14:37:34,431 - Processed Chunk Shape: (2, 3)\n",
      "2023-10-25 14:37:34,550 - Processing Chunk: 57\n",
      "2023-10-25 14:37:34,579 - Processed Chunk Shape: (0, 3)\n",
      "2023-10-25 14:37:34,696 - Processing Chunk: 58\n",
      "2023-10-25 14:37:34,725 - Processed Chunk Shape: (1, 3)\n",
      "2023-10-25 14:37:34,841 - Processing Chunk: 59\n",
      "2023-10-25 14:37:34,870 - Processed Chunk Shape: (0, 3)\n",
      "2023-10-25 14:37:34,980 - Processing Chunk: 60\n",
      "2023-10-25 14:37:35,008 - Processed Chunk Shape: (0, 3)\n",
      "2023-10-25 14:37:35,122 - Processing Chunk: 61\n",
      "2023-10-25 14:37:35,152 - Processed Chunk Shape: (0, 3)\n",
      "2023-10-25 14:37:35,266 - Processing Chunk: 62\n",
      "2023-10-25 14:37:35,296 - Processed Chunk Shape: (3, 3)\n",
      "2023-10-25 14:37:35,408 - Processing Chunk: 63\n",
      "2023-10-25 14:37:35,437 - Processed Chunk Shape: (3, 3)\n",
      "2023-10-25 14:37:35,546 - Processing Chunk: 64\n",
      "2023-10-25 14:37:35,575 - Processed Chunk Shape: (3, 3)\n",
      "2023-10-25 14:37:35,687 - Processing Chunk: 65\n",
      "2023-10-25 14:37:35,716 - Processed Chunk Shape: (2, 3)\n",
      "2023-10-25 14:37:35,827 - Processing Chunk: 66\n",
      "2023-10-25 14:37:35,854 - Processed Chunk Shape: (1, 3)\n",
      "2023-10-25 14:37:35,963 - Processing Chunk: 67\n",
      "2023-10-25 14:37:35,992 - Processed Chunk Shape: (0, 3)\n",
      "2023-10-25 14:37:36,104 - Processing Chunk: 68\n",
      "2023-10-25 14:37:36,134 - Processed Chunk Shape: (4, 3)\n",
      "2023-10-25 14:37:36,246 - Processing Chunk: 69\n",
      "2023-10-25 14:37:36,275 - Processed Chunk Shape: (0, 3)\n",
      "2023-10-25 14:37:36,385 - Processing Chunk: 70\n",
      "2023-10-25 14:37:36,414 - Processed Chunk Shape: (4, 3)\n",
      "2023-10-25 14:37:36,527 - Processing Chunk: 71\n",
      "2023-10-25 14:37:36,555 - Processed Chunk Shape: (1, 3)\n",
      "2023-10-25 14:37:36,670 - Processing Chunk: 72\n",
      "2023-10-25 14:37:36,699 - Processed Chunk Shape: (0, 3)\n",
      "2023-10-25 14:37:36,812 - Processing Chunk: 73\n",
      "2023-10-25 14:37:36,842 - Processed Chunk Shape: (0, 3)\n",
      "2023-10-25 14:37:36,951 - Processing Chunk: 74\n",
      "2023-10-25 14:37:36,981 - Processed Chunk Shape: (1, 3)\n",
      "2023-10-25 14:37:37,094 - Processing Chunk: 75\n",
      "2023-10-25 14:37:37,124 - Processed Chunk Shape: (6, 3)\n",
      "2023-10-25 14:37:37,236 - Processing Chunk: 76\n",
      "2023-10-25 14:37:37,266 - Processed Chunk Shape: (10, 3)\n",
      "2023-10-25 14:37:37,378 - Processing Chunk: 77\n",
      "2023-10-25 14:37:37,407 - Processed Chunk Shape: (1, 3)\n",
      "2023-10-25 14:37:37,518 - Processing Chunk: 78\n",
      "2023-10-25 14:37:37,548 - Processed Chunk Shape: (7, 3)\n",
      "2023-10-25 14:37:37,658 - Processing Chunk: 79\n",
      "2023-10-25 14:37:37,687 - Processed Chunk Shape: (2, 3)\n",
      "2023-10-25 14:37:37,797 - Processing Chunk: 80\n",
      "2023-10-25 14:37:37,825 - Processed Chunk Shape: (0, 3)\n"
     ]
    },
    {
     "name": "stderr",
     "output_type": "stream",
     "text": [
      "2023-10-25 14:37:37,936 - Processing Chunk: 81\n",
      "2023-10-25 14:37:37,966 - Processed Chunk Shape: (1, 3)\n",
      "2023-10-25 14:37:38,081 - Processing Chunk: 82\n",
      "2023-10-25 14:37:38,111 - Processed Chunk Shape: (0, 3)\n",
      "2023-10-25 14:37:38,222 - Processing Chunk: 83\n",
      "2023-10-25 14:37:38,250 - Processed Chunk Shape: (3, 3)\n",
      "2023-10-25 14:37:38,359 - Processing Chunk: 84\n",
      "2023-10-25 14:37:38,387 - Processed Chunk Shape: (5, 3)\n",
      "2023-10-25 14:37:38,495 - Processing Chunk: 85\n",
      "2023-10-25 14:37:38,522 - Processed Chunk Shape: (1, 3)\n",
      "2023-10-25 14:37:38,629 - Processing Chunk: 86\n",
      "2023-10-25 14:37:38,657 - Processed Chunk Shape: (4, 3)\n",
      "2023-10-25 14:37:38,767 - Processing Chunk: 87\n",
      "2023-10-25 14:37:38,794 - Processed Chunk Shape: (4, 3)\n",
      "2023-10-25 14:37:38,902 - Processing Chunk: 88\n",
      "2023-10-25 14:37:38,930 - Processed Chunk Shape: (0, 3)\n",
      "2023-10-25 14:37:39,042 - Processing Chunk: 89\n",
      "2023-10-25 14:37:39,070 - Processed Chunk Shape: (11, 3)\n",
      "2023-10-25 14:37:39,182 - Processing Chunk: 90\n",
      "2023-10-25 14:37:39,209 - Processed Chunk Shape: (8, 3)\n",
      "2023-10-25 14:37:39,318 - Processing Chunk: 91\n",
      "2023-10-25 14:37:39,346 - Processed Chunk Shape: (3, 3)\n",
      "2023-10-25 14:37:39,454 - Processing Chunk: 92\n",
      "2023-10-25 14:37:39,481 - Processed Chunk Shape: (7, 3)\n",
      "2023-10-25 14:37:39,589 - Processing Chunk: 93\n",
      "2023-10-25 14:37:39,617 - Processed Chunk Shape: (5, 3)\n",
      "2023-10-25 14:37:39,732 - Processing Chunk: 94\n",
      "2023-10-25 14:37:39,763 - Processed Chunk Shape: (8, 3)\n",
      "2023-10-25 14:37:39,874 - Processing Chunk: 95\n",
      "2023-10-25 14:37:39,905 - Processed Chunk Shape: (4, 3)\n",
      "2023-10-25 14:37:40,020 - Processing Chunk: 96\n",
      "2023-10-25 14:37:40,050 - Processed Chunk Shape: (3, 3)\n",
      "2023-10-25 14:37:40,165 - Processing Chunk: 97\n",
      "2023-10-25 14:37:40,196 - Processed Chunk Shape: (5, 3)\n",
      "2023-10-25 14:37:40,308 - Processing Chunk: 98\n",
      "2023-10-25 14:37:40,341 - Processed Chunk Shape: (0, 3)\n",
      "2023-10-25 14:37:40,467 - Processing Chunk: 99\n",
      "2023-10-25 14:37:40,529 - Processed Chunk Shape: (0, 3)\n",
      "2023-10-25 14:37:40,648 - Processing Chunk: 100\n",
      "2023-10-25 14:37:40,676 - Processed Chunk Shape: (0, 3)\n",
      "2023-10-25 14:37:40,790 - Processing Chunk: 101\n",
      "2023-10-25 14:37:40,821 - Processed Chunk Shape: (0, 3)\n",
      "2023-10-25 14:37:40,844 - Processing Chunk: 102\n",
      "2023-10-25 14:37:40,867 - Processed Chunk Shape: (0, 3)\n",
      "2023-10-25 14:37:40,873 - Data Loaded in Pandas with Shape: (384, 3)\n",
      "2023-10-25 14:37:40,989 - Saving output file in: /Users/allianz/workspace_github_pers/Anomaly_detection/test/data/intermediates/data_input_20230917.parquet\n"
     ]
    }
   ],
   "source": [
    "df_out = LoadProcessData(conn_id=conn_id, run_date=run_date, is_azure=is_azure)\n",
    "\n",
    "if is_azure:\n",
    "    pass\n",
    "else:\n",
    "    df_out.data.to_parquet(clean_input_path)\n",
    "\n",
    "logger.info(f\"Saving output file in: {clean_input_path}\")"
   ]
  },
  {
   "cell_type": "code",
   "execution_count": 7,
   "id": "6e8f26b4",
   "metadata": {},
   "outputs": [
    {
     "data": {
      "text/plain": [
       "(42358, 44)"
      ]
     },
     "execution_count": 7,
     "metadata": {},
     "output_type": "execute_result"
    }
   ],
   "source": [
    "df_out.data.shape"
   ]
  },
  {
   "cell_type": "code",
   "execution_count": 9,
   "id": "47bb7862",
   "metadata": {},
   "outputs": [
    {
     "name": "stdout",
     "output_type": "stream",
     "text": [
      "<class 'pandas.core.frame.DataFrame'>\n",
      "Int64Index: 42358 entries, 20121062512 to 20231021199\n",
      "Data columns (total 44 columns):\n",
      " #   Column                   Non-Null Count  Dtype         \n",
      "---  ------                   --------------  -----         \n",
      " 0   C_CAU                    42358 non-null  category      \n",
      " 1   C_FAM_PROD               42358 non-null  category      \n",
      " 2   D_SURV_SIN               42358 non-null  datetime64[ns]\n",
      " 3   D_DCL                    42358 non-null  datetime64[ns]\n",
      " 4   NO_RSK                   42358 non-null  int8          \n",
      " 5   C_NAT_SIN                42358 non-null  category      \n",
      " 6   C_ET                     42358 non-null  category      \n",
      " 7   C_FORM                   42358 non-null  category      \n",
      " 8   D_DEB_EFF                42358 non-null  datetime64[ns]\n",
      " 9   D_FIN_EFF                6370 non-null   datetime64[ns]\n",
      " 10  M_TOT_SIN                42358 non-null  float32       \n",
      " 11  NB_GAR                   42358 non-null  Int8          \n",
      " 12  RESP_CIE                 42358 non-null  category      \n",
      " 13  IND_EXPE                 42358 non-null  boolean       \n",
      " 14  C_APPLN_MALUS            42358 non-null  category      \n",
      " 15  NB_EXPE                  42358 non-null  int8          \n",
      " 16  NB_HIST                  42358 non-null  int8          \n",
      " 17  IND_FORC_SIT             42358 non-null  boolean       \n",
      " 18  D_CL                     26117 non-null  datetime64[ns]\n",
      " 19  D_ROUVT                  3335 non-null   datetime64[ns]\n",
      " 20  NO_AVT                   42358 non-null  float32       \n",
      " 21  NO_MAJ                   42358 non-null  float32       \n",
      " 22  D_OUVT                   42358 non-null  datetime64[ns]\n",
      " 23  C_REVIS                  42358 non-null  boolean       \n",
      " 24  CNT_TY_GES               42358 non-null  category      \n",
      " 25  M_RES_MORAT              42358 non-null  float32       \n",
      " 26  IND_PMT_DIR              42358 non-null  category      \n",
      " 27  C_ORGN_OUVT              42358 non-null  category      \n",
      " 28  CPOST                    29485 non-null  object        \n",
      " 29  weekday_surv_sin         42358 non-null  int64         \n",
      " 30  weekday_declaration      42358 non-null  int64         \n",
      " 31  d_surv_sin_is_weekend    42358 non-null  bool          \n",
      " 32  d_dcl_is_weekend         42358 non-null  bool          \n",
      " 33  reporting_delay_in_days  42358 non-null  int64         \n",
      " 34  contract_age_in_days     42358 non-null  int64         \n",
      " 35  is_closed                42358 non-null  bool          \n",
      " 36  is_serious_sinister      42358 non-null  bool          \n",
      " 37  has_judiciary_procedure  42358 non-null  bool          \n",
      " 38  IND_GRAV                 1 non-null      category      \n",
      " 39  PROC_JUD                 204 non-null    category      \n",
      " 40  C_PERS_CLI               42358 non-null  int32         \n",
      " 41  IMM_SOC                  42310 non-null  object        \n",
      " 42  NO_CNT                   42358 non-null  object        \n",
      " 43  witness_flag             42358 non-null  bool          \n",
      "dtypes: Int8(1), bool(6), boolean(3), category(12), datetime64[ns](7), float32(4), int32(1), int64(4), int8(3), object(3)\n",
      "memory usage: 6.8+ MB\n"
     ]
    }
   ],
   "source": [
    "df_out.data.info()"
   ]
  },
  {
   "cell_type": "code",
   "execution_count": 1,
   "id": "8e6bef1b",
   "metadata": {},
   "outputs": [],
   "source": [
    "blob_url = 'https://dpbentfraudprodrtwd.blob.core.windows.net/'\n",
    "blob_container = 'claims'\n",
    "sas_token = '?sv=2021-08-06&ss=btqf&srt=sco&st=2023-04-16T17%3A08%3A12Z&se=2024-04-17T17%3A08%3A00Z&sp=rwl&sig=Sm04g8rGIXSocBCNX3%2BoSkNhcyMp7WWGNJalrR9Uikc%3D'"
   ]
  },
  {
   "cell_type": "code",
   "execution_count": 5,
   "id": "d530205c",
   "metadata": {},
   "outputs": [],
   "source": [
    "df = pd.read_csv(os.path.join(blob_url, blob_container, \"CIRIARD/SITB13_columns.csv\") + sas_token)"
   ]
  }
 ],
 "metadata": {
  "kernelspec": {
   "display_name": "Python 3 (ipykernel)",
   "language": "python",
   "name": "python3"
  },
  "language_info": {
   "codemirror_mode": {
    "name": "ipython",
    "version": 3
   },
   "file_extension": ".py",
   "mimetype": "text/x-python",
   "name": "python",
   "nbconvert_exporter": "python",
   "pygments_lexer": "ipython3",
   "version": "3.9.18"
  }
 },
 "nbformat": 4,
 "nbformat_minor": 5
}
